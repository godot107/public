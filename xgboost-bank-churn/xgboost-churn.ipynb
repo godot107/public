{
 "cells": [
  {
   "cell_type": "markdown",
   "id": "d502844c-394a-4973-920b-ed27bcbb550d",
   "metadata": {},
   "source": [
    "## Motivation:\n",
    "\n",
    "Retaining employee in an organization or keeping customers happy is a common use-case and valuable to know in an organization. The cost in rehiring or procuring customers vary from industry and organization. In both cases, the cheaper option is to offer incentives before employee or customer attrition.\n"
   ]
  },
  {
   "cell_type": "markdown",
   "id": "1ffd7356-d5c5-42dc-93d6-547780386c2a",
   "metadata": {},
   "source": [
    "## Scenario: Based on an Individual's Profile, Predict Customer Churn\n",
    "\n",
    "Using [public data from Kaggle](https://www.kaggle.com/datasets/mathchi/churn-for-bank-customers), predict customer churn or 'Exited' based on the Features provided.\n",
    "\n",
    "Features: \n",
    "\n",
    "- RowNumber—corresponds to the record (row) number and has no effect on the output.\n",
    "- CustomerId—contains random values and has no effect on customer leaving the bank.\n",
    "- Surname—the surname of a customer has no impact on their decision to leave the bank.\n",
    "- CreditScore—can have an effect on customer churn, since a customer with a higher credit score is less likely to leave the bank.\n",
    "- Geography—a customer’s location can affect their decision to leave the bank.\n",
    "- Gender—it’s interesting to explore whether gender plays a role in a customer leaving the bank.\n",
    "- Age—this is certainly relevant, since older customers are less likely to leave their bank than younger ones.\n",
    "- Tenure—refers to the number of years that the customer has been a client of the bank. Normally, older clients are more loyal and less likely to leave a bank.\n",
    "- Balance—also a very good indicator of customer churn, as people with a higher balance in their accounts are less likely to leave the bank compared to those with lower balances.\n",
    "- NumOfProducts—refers to the number of products that a customer has purchased through the bank.\n",
    "- HasCrCard—denotes whether or not a customer has a credit card. This column is also relevant, since people with a credit card are less likely to leave the bank.\n",
    "- IsActiveMember—active customers are less likely to leave the bank.\n",
    "- EstimatedSalary—as with balance, people with lower salaries are more likely to leave the bank compared to those with higher salaries.\n",
    "\n",
    "Target: \n",
    "- Exited—whether or not the customer left the bank.\n",
    "\n"
   ]
  },
  {
   "cell_type": "markdown",
   "id": "4d77f9db-107b-48b8-aec2-b19895482ba8",
   "metadata": {},
   "source": [
    "## Strategy\n",
    "\n",
    "For this scenario, I will be using [XGBoost Algorithm](https://xgboost.readthedocs.io/en/stable/#).  It uses an ensemble of decision trees that essentially corrects itself with each iteration. By descending down on a gradient based on a learning rate, the goal of the algorithm is to minimize the error.  For intuition on the algorithm, I highly recommend checking this [video from StatQuest](https://www.youtube.com/watch?v=OtD8wVaFm6E). Hyperparameter tuning job will be inlisted."
   ]
  },
  {
   "cell_type": "code",
   "execution_count": 177,
   "id": "bcd33142-d98f-4000-b9b6-6bdd1fbc264f",
   "metadata": {
    "tags": []
   },
   "outputs": [
    {
     "name": "stdout",
     "output_type": "stream",
     "text": [
      "Collecting package metadata (current_repodata.json): done\n",
      "Solving environment: done\n",
      "\n",
      "# All requested packages already installed.\n",
      "\n",
      "Retrieving notices: ...working... done\n"
     ]
    }
   ],
   "source": [
    "!conda update scikit-learn --yes # Need to upgrade sklearn to allow SMOTE "
   ]
  },
  {
   "cell_type": "code",
   "execution_count": 178,
   "id": "87e51b25-44d6-4a2a-b277-950644597452",
   "metadata": {
    "tags": []
   },
   "outputs": [
    {
     "name": "stdout",
     "output_type": "stream",
     "text": [
      "Keyring is skipped due to an exception: 'keyring.backends'\n",
      "Requirement already satisfied: seaborn in /opt/conda/lib/python3.7/site-packages (0.12.1)\n",
      "Requirement already satisfied: numpy>=1.17 in /opt/conda/lib/python3.7/site-packages (from seaborn) (1.21.6)\n",
      "Requirement already satisfied: typing_extensions in /opt/conda/lib/python3.7/site-packages (from seaborn) (4.4.0)\n",
      "Requirement already satisfied: matplotlib!=3.6.1,>=3.1 in /opt/conda/lib/python3.7/site-packages (from seaborn) (3.1.3)\n",
      "Requirement already satisfied: pandas>=0.25 in /opt/conda/lib/python3.7/site-packages (from seaborn) (1.3.5)\n",
      "Requirement already satisfied: pyparsing!=2.0.4,!=2.1.2,!=2.1.6,>=2.0.1 in /opt/conda/lib/python3.7/site-packages (from matplotlib!=3.6.1,>=3.1->seaborn) (2.4.6)\n",
      "Requirement already satisfied: kiwisolver>=1.0.1 in /opt/conda/lib/python3.7/site-packages (from matplotlib!=3.6.1,>=3.1->seaborn) (1.1.0)\n",
      "Requirement already satisfied: python-dateutil>=2.1 in /opt/conda/lib/python3.7/site-packages (from matplotlib!=3.6.1,>=3.1->seaborn) (2.8.2)\n",
      "Requirement already satisfied: cycler>=0.10 in /opt/conda/lib/python3.7/site-packages (from matplotlib!=3.6.1,>=3.1->seaborn) (0.10.0)\n",
      "Requirement already satisfied: pytz>=2017.3 in /opt/conda/lib/python3.7/site-packages (from pandas>=0.25->seaborn) (2019.3)\n",
      "Requirement already satisfied: six in /opt/conda/lib/python3.7/site-packages (from cycler>=0.10->matplotlib!=3.6.1,>=3.1->seaborn) (1.14.0)\n",
      "Requirement already satisfied: setuptools in /opt/conda/lib/python3.7/site-packages (from kiwisolver>=1.0.1->matplotlib!=3.6.1,>=3.1->seaborn) (65.5.0)\n",
      "\u001b[33mWARNING: Running pip as the 'root' user can result in broken permissions and conflicting behaviour with the system package manager. It is recommended to use a virtual environment instead: https://pip.pypa.io/warnings/venv\u001b[0m\u001b[33m\n",
      "\u001b[0mKeyring is skipped due to an exception: 'keyring.backends'\n",
      "Requirement already satisfied: altair in /opt/conda/lib/python3.7/site-packages (4.2.0)\n",
      "Requirement already satisfied: numpy in /opt/conda/lib/python3.7/site-packages (from altair) (1.21.6)\n",
      "Requirement already satisfied: jsonschema>=3.0 in /opt/conda/lib/python3.7/site-packages (from altair) (3.2.0)\n",
      "Requirement already satisfied: jinja2 in /opt/conda/lib/python3.7/site-packages (from altair) (3.1.2)\n",
      "Requirement already satisfied: toolz in /opt/conda/lib/python3.7/site-packages (from altair) (0.12.0)\n",
      "Requirement already satisfied: pandas>=0.18 in /opt/conda/lib/python3.7/site-packages (from altair) (1.3.5)\n",
      "Requirement already satisfied: entrypoints in /opt/conda/lib/python3.7/site-packages (from altair) (0.3)\n",
      "Requirement already satisfied: importlib-metadata in /opt/conda/lib/python3.7/site-packages (from jsonschema>=3.0->altair) (5.1.0)\n",
      "Requirement already satisfied: setuptools in /opt/conda/lib/python3.7/site-packages (from jsonschema>=3.0->altair) (65.5.0)\n",
      "Requirement already satisfied: six>=1.11.0 in /opt/conda/lib/python3.7/site-packages (from jsonschema>=3.0->altair) (1.14.0)\n",
      "Requirement already satisfied: attrs>=17.4.0 in /opt/conda/lib/python3.7/site-packages (from jsonschema>=3.0->altair) (22.1.0)\n",
      "Requirement already satisfied: pyrsistent>=0.14.0 in /opt/conda/lib/python3.7/site-packages (from jsonschema>=3.0->altair) (0.15.7)\n",
      "Requirement already satisfied: pytz>=2017.3 in /opt/conda/lib/python3.7/site-packages (from pandas>=0.18->altair) (2019.3)\n",
      "Requirement already satisfied: python-dateutil>=2.7.3 in /opt/conda/lib/python3.7/site-packages (from pandas>=0.18->altair) (2.8.2)\n",
      "Requirement already satisfied: MarkupSafe>=2.0 in /opt/conda/lib/python3.7/site-packages (from jinja2->altair) (2.1.1)\n",
      "Requirement already satisfied: typing-extensions>=3.6.4 in /opt/conda/lib/python3.7/site-packages (from importlib-metadata->jsonschema>=3.0->altair) (4.4.0)\n",
      "Requirement already satisfied: zipp>=0.5 in /opt/conda/lib/python3.7/site-packages (from importlib-metadata->jsonschema>=3.0->altair) (3.11.0)\n",
      "\u001b[33mWARNING: Running pip as the 'root' user can result in broken permissions and conflicting behaviour with the system package manager. It is recommended to use a virtual environment instead: https://pip.pypa.io/warnings/venv\u001b[0m\u001b[33m\n",
      "\u001b[0mKeyring is skipped due to an exception: 'keyring.backends'\n",
      "Requirement already satisfied: imblearn in /opt/conda/lib/python3.7/site-packages (0.0)\n",
      "Requirement already satisfied: imbalanced-learn in /opt/conda/lib/python3.7/site-packages (from imblearn) (0.10.0)\n",
      "Requirement already satisfied: joblib>=1.1.1 in /opt/conda/lib/python3.7/site-packages (from imbalanced-learn->imblearn) (1.2.0)\n",
      "Requirement already satisfied: scikit-learn>=1.0.2 in /opt/conda/lib/python3.7/site-packages (from imbalanced-learn->imblearn) (1.0.2)\n",
      "Requirement already satisfied: threadpoolctl>=2.0.0 in /opt/conda/lib/python3.7/site-packages (from imbalanced-learn->imblearn) (3.1.0)\n",
      "Requirement already satisfied: scipy>=1.3.2 in /opt/conda/lib/python3.7/site-packages (from imbalanced-learn->imblearn) (1.4.1)\n",
      "Requirement already satisfied: numpy>=1.17.3 in /opt/conda/lib/python3.7/site-packages (from imbalanced-learn->imblearn) (1.21.6)\n",
      "\u001b[33mWARNING: Running pip as the 'root' user can result in broken permissions and conflicting behaviour with the system package manager. It is recommended to use a virtual environment instead: https://pip.pypa.io/warnings/venv\u001b[0m\u001b[33m\n",
      "\u001b[0m"
     ]
    }
   ],
   "source": [
    "!pip install seaborn --upgrade\n",
    "!pip install altair\n",
    "!pip install imblearn"
   ]
  },
  {
   "cell_type": "code",
   "execution_count": 179,
   "id": "504253d9-2c90-4509-87f4-0ab42bcdfad3",
   "metadata": {
    "tags": []
   },
   "outputs": [],
   "source": [
    "import sagemaker\n",
    "\n",
    "sess = sagemaker.Session()\n",
    "bucket = sess.default_bucket()\n",
    "prefix = \"sagemaker/bank-churn\"\n",
    "\n",
    "# Define IAM role\n",
    "import boto3\n",
    "import re\n",
    "from sagemaker import get_execution_role\n",
    "\n",
    "role = get_execution_role()"
   ]
  },
  {
   "cell_type": "code",
   "execution_count": 180,
   "id": "8e665310-46a3-4cf4-b012-8776bbe60930",
   "metadata": {
    "tags": []
   },
   "outputs": [],
   "source": [
    "import pandas as pd\n",
    "import numpy as np\n",
    "import matplotlib.pyplot as plt\n",
    "import seaborn as sns\n",
    "from sklearn.model_selection import train_test_split\n",
    "from sklearn.dummy import DummyClassifier\n",
    "from imblearn.over_sampling import SMOTE\n",
    "from sklearn.metrics import precision_score, recall_score, accuracy_score\n",
    "from sklearn.metrics import roc_auc_score\n",
    "import altair as alt\n",
    "import io\n",
    "import os\n",
    "import sys\n",
    "import time\n",
    "import json\n",
    "from IPython.display import display\n",
    "from time import strftime, gmtime\n",
    "from sagemaker.inputs import TrainingInput\n",
    "from sagemaker.serializers import CSVSerializer"
   ]
  },
  {
   "cell_type": "code",
   "execution_count": 181,
   "id": "750e716c-bcad-4216-8607-e77dae819465",
   "metadata": {
    "tags": []
   },
   "outputs": [],
   "source": [
    "start_time = time.time()"
   ]
  },
  {
   "cell_type": "code",
   "execution_count": 182,
   "id": "ec0a6660-3b29-48af-9a51-53b8a80fe4e0",
   "metadata": {
    "tags": []
   },
   "outputs": [],
   "source": [
    "# Load Data\n",
    "\n",
    "data = pd.read_csv('churn.csv')"
   ]
  },
  {
   "cell_type": "code",
   "execution_count": 183,
   "id": "71f16108-44e8-468e-8ae5-d273f3069584",
   "metadata": {
    "tags": []
   },
   "outputs": [
    {
     "data": {
      "text/plain": [
       "(10000, 14)"
      ]
     },
     "execution_count": 183,
     "metadata": {},
     "output_type": "execute_result"
    }
   ],
   "source": [
    "# 10000 bank customers\n",
    "data.shape"
   ]
  },
  {
   "cell_type": "code",
   "execution_count": 184,
   "id": "8b59c1bb-dfd5-49b2-bc28-ce0c022f69e1",
   "metadata": {},
   "outputs": [
    {
     "data": {
      "text/html": [
       "<div>\n",
       "<style scoped>\n",
       "    .dataframe tbody tr th:only-of-type {\n",
       "        vertical-align: middle;\n",
       "    }\n",
       "\n",
       "    .dataframe tbody tr th {\n",
       "        vertical-align: top;\n",
       "    }\n",
       "\n",
       "    .dataframe thead th {\n",
       "        text-align: right;\n",
       "    }\n",
       "</style>\n",
       "<table border=\"1\" class=\"dataframe\">\n",
       "  <thead>\n",
       "    <tr style=\"text-align: right;\">\n",
       "      <th></th>\n",
       "      <th>RowNumber</th>\n",
       "      <th>CustomerId</th>\n",
       "      <th>Surname</th>\n",
       "      <th>CreditScore</th>\n",
       "      <th>Geography</th>\n",
       "      <th>Gender</th>\n",
       "      <th>Age</th>\n",
       "      <th>Tenure</th>\n",
       "      <th>Balance</th>\n",
       "      <th>NumOfProducts</th>\n",
       "      <th>HasCrCard</th>\n",
       "      <th>IsActiveMember</th>\n",
       "      <th>EstimatedSalary</th>\n",
       "      <th>Exited</th>\n",
       "    </tr>\n",
       "  </thead>\n",
       "  <tbody>\n",
       "    <tr>\n",
       "      <th>0</th>\n",
       "      <td>1</td>\n",
       "      <td>15634602</td>\n",
       "      <td>Hargrave</td>\n",
       "      <td>619</td>\n",
       "      <td>France</td>\n",
       "      <td>Female</td>\n",
       "      <td>42</td>\n",
       "      <td>2</td>\n",
       "      <td>0.00</td>\n",
       "      <td>1</td>\n",
       "      <td>1</td>\n",
       "      <td>1</td>\n",
       "      <td>101348.88</td>\n",
       "      <td>1</td>\n",
       "    </tr>\n",
       "    <tr>\n",
       "      <th>1</th>\n",
       "      <td>2</td>\n",
       "      <td>15647311</td>\n",
       "      <td>Hill</td>\n",
       "      <td>608</td>\n",
       "      <td>Spain</td>\n",
       "      <td>Female</td>\n",
       "      <td>41</td>\n",
       "      <td>1</td>\n",
       "      <td>83807.86</td>\n",
       "      <td>1</td>\n",
       "      <td>0</td>\n",
       "      <td>1</td>\n",
       "      <td>112542.58</td>\n",
       "      <td>0</td>\n",
       "    </tr>\n",
       "    <tr>\n",
       "      <th>2</th>\n",
       "      <td>3</td>\n",
       "      <td>15619304</td>\n",
       "      <td>Onio</td>\n",
       "      <td>502</td>\n",
       "      <td>France</td>\n",
       "      <td>Female</td>\n",
       "      <td>42</td>\n",
       "      <td>8</td>\n",
       "      <td>159660.80</td>\n",
       "      <td>3</td>\n",
       "      <td>1</td>\n",
       "      <td>0</td>\n",
       "      <td>113931.57</td>\n",
       "      <td>1</td>\n",
       "    </tr>\n",
       "    <tr>\n",
       "      <th>3</th>\n",
       "      <td>4</td>\n",
       "      <td>15701354</td>\n",
       "      <td>Boni</td>\n",
       "      <td>699</td>\n",
       "      <td>France</td>\n",
       "      <td>Female</td>\n",
       "      <td>39</td>\n",
       "      <td>1</td>\n",
       "      <td>0.00</td>\n",
       "      <td>2</td>\n",
       "      <td>0</td>\n",
       "      <td>0</td>\n",
       "      <td>93826.63</td>\n",
       "      <td>0</td>\n",
       "    </tr>\n",
       "    <tr>\n",
       "      <th>4</th>\n",
       "      <td>5</td>\n",
       "      <td>15737888</td>\n",
       "      <td>Mitchell</td>\n",
       "      <td>850</td>\n",
       "      <td>Spain</td>\n",
       "      <td>Female</td>\n",
       "      <td>43</td>\n",
       "      <td>2</td>\n",
       "      <td>125510.82</td>\n",
       "      <td>1</td>\n",
       "      <td>1</td>\n",
       "      <td>1</td>\n",
       "      <td>79084.10</td>\n",
       "      <td>0</td>\n",
       "    </tr>\n",
       "  </tbody>\n",
       "</table>\n",
       "</div>"
      ],
      "text/plain": [
       "   RowNumber  CustomerId   Surname  CreditScore Geography  Gender  Age  \\\n",
       "0          1    15634602  Hargrave          619    France  Female   42   \n",
       "1          2    15647311      Hill          608     Spain  Female   41   \n",
       "2          3    15619304      Onio          502    France  Female   42   \n",
       "3          4    15701354      Boni          699    France  Female   39   \n",
       "4          5    15737888  Mitchell          850     Spain  Female   43   \n",
       "\n",
       "   Tenure    Balance  NumOfProducts  HasCrCard  IsActiveMember  \\\n",
       "0       2       0.00              1          1               1   \n",
       "1       1   83807.86              1          0               1   \n",
       "2       8  159660.80              3          1               0   \n",
       "3       1       0.00              2          0               0   \n",
       "4       2  125510.82              1          1               1   \n",
       "\n",
       "   EstimatedSalary  Exited  \n",
       "0        101348.88       1  \n",
       "1        112542.58       0  \n",
       "2        113931.57       1  \n",
       "3         93826.63       0  \n",
       "4         79084.10       0  "
      ]
     },
     "execution_count": 184,
     "metadata": {},
     "output_type": "execute_result"
    }
   ],
   "source": [
    "data.head()"
   ]
  },
  {
   "cell_type": "markdown",
   "id": "408a71c9-f6e1-407f-a77e-313d6565733a",
   "metadata": {},
   "source": [
    "## Exploratory Data Analysis"
   ]
  },
  {
   "cell_type": "markdown",
   "id": "e7e831bd-e24a-426c-b502-1d50e4e3e178",
   "metadata": {},
   "source": [
    "Customers were pooled from three countries. "
   ]
  },
  {
   "cell_type": "code",
   "execution_count": 185,
   "id": "8145a181-8afc-429d-b2b6-21a061807914",
   "metadata": {
    "tags": []
   },
   "outputs": [
    {
     "data": {
      "text/plain": [
       "Geography\n",
       "France     5014\n",
       "Germany    2509\n",
       "Spain      2477\n",
       "Name: CustomerId, dtype: int64"
      ]
     },
     "execution_count": 185,
     "metadata": {},
     "output_type": "execute_result"
    }
   ],
   "source": [
    "data.groupby('Geography')['CustomerId'].count()"
   ]
  },
  {
   "cell_type": "markdown",
   "id": "b1a97871-a6ff-4a6d-8239-0174675e0336",
   "metadata": {},
   "source": [
    "Observing counts, we noticed that the ratio between staying as a customer and leaving is 4:1.  Meaning, most customers stay with the bank. That's good! However, this is an imbalance in our data and our model may not be able to pick up the patterns and feature to predict a customer leaving a bank. To address the issue, I will use SMOTE. "
   ]
  },
  {
   "cell_type": "code",
   "execution_count": 186,
   "id": "5da1a67a-894e-459e-8e85-1b3849e95c06",
   "metadata": {},
   "outputs": [
    {
     "data": {
      "text/plain": [
       "Exited\n",
       "0    7963\n",
       "1    2037\n",
       "Name: CustomerId, dtype: int64"
      ]
     },
     "execution_count": 186,
     "metadata": {},
     "output_type": "execute_result"
    }
   ],
   "source": [
    "data.groupby('Exited')['CustomerId'].count()"
   ]
  },
  {
   "cell_type": "markdown",
   "id": "35b86d55-9270-4e01-8b2f-3c8b013d67e3",
   "metadata": {},
   "source": [
    "From the plots, they are mostly gaussian distribution. That's good, so we don't need to do some transformations."
   ]
  },
  {
   "cell_type": "code",
   "execution_count": 187,
   "id": "2c089f7b-cf80-448e-b2e9-89adf0d5ed37",
   "metadata": {
    "tags": []
   },
   "outputs": [
    {
     "data": {
      "image/png": "[encoded data removed]",
      "text/plain": [
       "<Figure size 2000x2000 with 6 Axes>"
      ]
     },
     "metadata": {},
     "output_type": "display_data"
    }
   ],
   "source": [
    "fig, axes = plt.subplots(3,2, figsize=(20,20)) \n",
    "sns.histplot(ax = axes[0][0], x=data.CreditScore).set(title = 'Credit Score Distribution')\n",
    "sns.histplot(ax = axes[1][0], x=data.Age).set(title = 'Age Distribution')\n",
    "sns.histplot(ax = axes[2][0], x=data.Balance).set(title = 'Balance Distribution')\n",
    "sns.histplot(ax = axes[0][1], x=data.EstimatedSalary).set(title = 'Estimated Salary Distribution')\n",
    "sns.histplot(ax = axes[1][1], x=data.NumOfProducts).set(title = 'Number of Product Distribution')\n",
    "sns.histplot(ax = axes[2][1], x=data.Tenure).set(title = 'Tenure Distribution')\n",
    "plt.show()"
   ]
  },
  {
   "cell_type": "markdown",
   "id": "2fb9052e-da7b-4ed5-8348-b6528b628cae",
   "metadata": {},
   "source": [
    "## Feature Engineering"
   ]
  },
  {
   "cell_type": "markdown",
   "id": "799dbddd-89af-4341-9f41-8e4dd0165e57",
   "metadata": {},
   "source": [
    "It is not sufficient to convert categorical labels to numerical on a single column. For example, if we convert Geography from France, Germany, and Spain to 0,1,2, it implies there is ordering which introduce bias in the model. Therefore, need to utilize onehot encoding transformation to Country and also, Gender."
   ]
  },
  {
   "cell_type": "code",
   "execution_count": 188,
   "id": "6330be59-5daa-443c-80e7-f945a52e3cac",
   "metadata": {
    "tags": []
   },
   "outputs": [],
   "source": [
    "## Perform One Hot Encoding for Geography and Gender\n",
    "\n",
    "data = pd.concat([data,pd.get_dummies(data.Geography, prefix='Country')], axis = 1)\n",
    "data.drop(['Geography'], axis = 1, inplace = True)\n",
    "\n",
    "data = pd.concat([data,pd.get_dummies(data.Gender, prefix='Gender')], axis = 1)\n",
    "data.drop(['Gender'], axis = 1, inplace = True)\n"
   ]
  },
  {
   "cell_type": "code",
   "execution_count": 189,
   "id": "d10207be-18a6-4c18-9af9-a4b48f4b1fc8",
   "metadata": {
    "tags": []
   },
   "outputs": [],
   "source": [
    "# Remove RowNumber, CustomerId, and Surname based on knowledge/domain experience.\n",
    "data.drop(['RowNumber','CustomerId','Surname'], axis = 1, inplace = True)"
   ]
  },
  {
   "cell_type": "code",
   "execution_count": 190,
   "id": "b65d79d3-0ea8-482d-8397-889973c57832",
   "metadata": {
    "tags": []
   },
   "outputs": [],
   "source": [
    "# Reformatting so it can be accepted in xgboost.\n",
    "#Note: For CSV training, the algorithm assumes that the target variable is in the first column and that the CSV does not have a header record.\n",
    "# See: https://docs.aws.amazon.com/sagemaker/latest/dg/xgboost.html\n",
    "\n",
    "features = ['CreditScore',\t'Age',\t'Tenure',\t'Balance',\t'NumOfProducts',\t'HasCrCard',\t'IsActiveMember',\t'EstimatedSalary',\t\t'Country_France',\t'Country_Germany',\t'Country_Spain',\t'Country_France',\t'Country_Germany',\t'Country_Spain',\t'Gender_Female',\t'Gender_Male']\n",
    "\n",
    "data = pd.concat((data['Exited'], data[features]), axis = 1)"
   ]
  },
  {
   "cell_type": "code",
   "execution_count": 191,
   "id": "5cd1a573-879e-4959-931e-17ed169ec8a7",
   "metadata": {
    "tags": []
   },
   "outputs": [
    {
     "data": {
      "text/html": [
       "<div>\n",
       "<style scoped>\n",
       "    .dataframe tbody tr th:only-of-type {\n",
       "        vertical-align: middle;\n",
       "    }\n",
       "\n",
       "    .dataframe tbody tr th {\n",
       "        vertical-align: top;\n",
       "    }\n",
       "\n",
       "    .dataframe thead th {\n",
       "        text-align: right;\n",
       "    }\n",
       "</style>\n",
       "<table border=\"1\" class=\"dataframe\">\n",
       "  <thead>\n",
       "    <tr style=\"text-align: right;\">\n",
       "      <th></th>\n",
       "      <th>Exited</th>\n",
       "      <th>CreditScore</th>\n",
       "      <th>Age</th>\n",
       "      <th>Tenure</th>\n",
       "      <th>Balance</th>\n",
       "      <th>NumOfProducts</th>\n",
       "      <th>HasCrCard</th>\n",
       "      <th>IsActiveMember</th>\n",
       "      <th>EstimatedSalary</th>\n",
       "      <th>Country_France</th>\n",
       "      <th>Country_Germany</th>\n",
       "      <th>Country_Spain</th>\n",
       "      <th>Country_France</th>\n",
       "      <th>Country_Germany</th>\n",
       "      <th>Country_Spain</th>\n",
       "      <th>Gender_Female</th>\n",
       "      <th>Gender_Male</th>\n",
       "    </tr>\n",
       "  </thead>\n",
       "  <tbody>\n",
       "    <tr>\n",
       "      <th>0</th>\n",
       "      <td>1</td>\n",
       "      <td>619</td>\n",
       "      <td>42</td>\n",
       "      <td>2</td>\n",
       "      <td>0.00</td>\n",
       "      <td>1</td>\n",
       "      <td>1</td>\n",
       "      <td>1</td>\n",
       "      <td>101348.88</td>\n",
       "      <td>1</td>\n",
       "      <td>0</td>\n",
       "      <td>0</td>\n",
       "      <td>1</td>\n",
       "      <td>0</td>\n",
       "      <td>0</td>\n",
       "      <td>1</td>\n",
       "      <td>0</td>\n",
       "    </tr>\n",
       "    <tr>\n",
       "      <th>1</th>\n",
       "      <td>0</td>\n",
       "      <td>608</td>\n",
       "      <td>41</td>\n",
       "      <td>1</td>\n",
       "      <td>83807.86</td>\n",
       "      <td>1</td>\n",
       "      <td>0</td>\n",
       "      <td>1</td>\n",
       "      <td>112542.58</td>\n",
       "      <td>0</td>\n",
       "      <td>0</td>\n",
       "      <td>1</td>\n",
       "      <td>0</td>\n",
       "      <td>0</td>\n",
       "      <td>1</td>\n",
       "      <td>1</td>\n",
       "      <td>0</td>\n",
       "    </tr>\n",
       "    <tr>\n",
       "      <th>2</th>\n",
       "      <td>1</td>\n",
       "      <td>502</td>\n",
       "      <td>42</td>\n",
       "      <td>8</td>\n",
       "      <td>159660.80</td>\n",
       "      <td>3</td>\n",
       "      <td>1</td>\n",
       "      <td>0</td>\n",
       "      <td>113931.57</td>\n",
       "      <td>1</td>\n",
       "      <td>0</td>\n",
       "      <td>0</td>\n",
       "      <td>1</td>\n",
       "      <td>0</td>\n",
       "      <td>0</td>\n",
       "      <td>1</td>\n",
       "      <td>0</td>\n",
       "    </tr>\n",
       "    <tr>\n",
       "      <th>3</th>\n",
       "      <td>0</td>\n",
       "      <td>699</td>\n",
       "      <td>39</td>\n",
       "      <td>1</td>\n",
       "      <td>0.00</td>\n",
       "      <td>2</td>\n",
       "      <td>0</td>\n",
       "      <td>0</td>\n",
       "      <td>93826.63</td>\n",
       "      <td>1</td>\n",
       "      <td>0</td>\n",
       "      <td>0</td>\n",
       "      <td>1</td>\n",
       "      <td>0</td>\n",
       "      <td>0</td>\n",
       "      <td>1</td>\n",
       "      <td>0</td>\n",
       "    </tr>\n",
       "    <tr>\n",
       "      <th>4</th>\n",
       "      <td>0</td>\n",
       "      <td>850</td>\n",
       "      <td>43</td>\n",
       "      <td>2</td>\n",
       "      <td>125510.82</td>\n",
       "      <td>1</td>\n",
       "      <td>1</td>\n",
       "      <td>1</td>\n",
       "      <td>79084.10</td>\n",
       "      <td>0</td>\n",
       "      <td>0</td>\n",
       "      <td>1</td>\n",
       "      <td>0</td>\n",
       "      <td>0</td>\n",
       "      <td>1</td>\n",
       "      <td>1</td>\n",
       "      <td>0</td>\n",
       "    </tr>\n",
       "  </tbody>\n",
       "</table>\n",
       "</div>"
      ],
      "text/plain": [
       "   Exited  CreditScore  Age  Tenure    Balance  NumOfProducts  HasCrCard  \\\n",
       "0       1          619   42       2       0.00              1          1   \n",
       "1       0          608   41       1   83807.86              1          0   \n",
       "2       1          502   42       8  159660.80              3          1   \n",
       "3       0          699   39       1       0.00              2          0   \n",
       "4       0          850   43       2  125510.82              1          1   \n",
       "\n",
       "   IsActiveMember  EstimatedSalary  Country_France  Country_Germany  \\\n",
       "0               1        101348.88               1                0   \n",
       "1               1        112542.58               0                0   \n",
       "2               0        113931.57               1                0   \n",
       "3               0         93826.63               1                0   \n",
       "4               1         79084.10               0                0   \n",
       "\n",
       "   Country_Spain  Country_France  Country_Germany  Country_Spain  \\\n",
       "0              0               1                0              0   \n",
       "1              1               0                0              1   \n",
       "2              0               1                0              0   \n",
       "3              0               1                0              0   \n",
       "4              1               0                0              1   \n",
       "\n",
       "   Gender_Female  Gender_Male  \n",
       "0              1            0  \n",
       "1              1            0  \n",
       "2              1            0  \n",
       "3              1            0  \n",
       "4              1            0  "
      ]
     },
     "execution_count": 191,
     "metadata": {},
     "output_type": "execute_result"
    }
   ],
   "source": [
    "data.head()"
   ]
  },
  {
   "cell_type": "code",
   "execution_count": 192,
   "id": "32cf46ee-8c61-4e62-8722-0f9ef0cc9dff",
   "metadata": {
    "tags": []
   },
   "outputs": [
    {
     "data": {
      "text/plain": [
       "(10000, 17)"
      ]
     },
     "execution_count": 192,
     "metadata": {},
     "output_type": "execute_result"
    }
   ],
   "source": [
    "data.shape"
   ]
  },
  {
   "cell_type": "code",
   "execution_count": 193,
   "id": "a4a774b4-2d7f-43a8-812b-92711fef3cae",
   "metadata": {
    "tags": []
   },
   "outputs": [
    {
     "data": {
      "text/plain": [
       "\"\\n## WIP: Resampling\\nsm = SMOTE(random_state=42)\\nX_res, y_res = sm.fit_resample(np.array(data[features]), np.array(data['Exited']))\\ndata_resampled = np.concatenate((y_res.reshape(-1,1), X_res), axis = 1)\\ndata_resampled.shape\\n\\n\\n# Use this block for the resampled dataset\\ntrain_data, validation_data, test_data = np.split(\\n    data_resampled,\\n    [int(0.7 * len(data_resampled)), int(0.9 * len(data_resampled))],\\n)\\n\\ntrain_data, validation_data, test_data = pd.DataFrame(train_data), pd.DataFrame(validation_data), pd.DataFrame(test_data)\\n\\n\\n\""
      ]
     },
     "execution_count": 193,
     "metadata": {},
     "output_type": "execute_result"
    }
   ],
   "source": [
    "\"\"\"\n",
    "## WIP: Resampling\n",
    "sm = SMOTE(random_state=42)\n",
    "X_res, y_res = sm.fit_resample(np.array(data[features]), np.array(data['Exited']))\n",
    "data_resampled = np.concatenate((y_res.reshape(-1,1), X_res), axis = 1)\n",
    "data_resampled.shape\n",
    "\n",
    "\n",
    "# Use this block for the resampled dataset\n",
    "train_data, validation_data, test_data = np.split(\n",
    "    data_resampled,\n",
    "    [int(0.7 * len(data_resampled)), int(0.9 * len(data_resampled))],\n",
    ")\n",
    "\n",
    "train_data, validation_data, test_data = pd.DataFrame(train_data), pd.DataFrame(validation_data), pd.DataFrame(test_data)\n",
    "\n",
    "\n",
    "\"\"\""
   ]
  },
  {
   "cell_type": "markdown",
   "id": "bc31ff8d-66c8-41e1-82c1-ec0efa06f599",
   "metadata": {},
   "source": [
    "## Split to Train, Validation, and Test Set"
   ]
  },
  {
   "cell_type": "code",
   "execution_count": 194,
   "id": "f983cc9d-a025-4439-92db-4adec98914ab",
   "metadata": {
    "tags": []
   },
   "outputs": [
    {
     "name": "stdout",
     "output_type": "stream",
     "text": [
      "(11148, 23)\n",
      "(3185, 23)\n",
      "(1593, 23)\n"
     ]
    }
   ],
   "source": [
    "print(train_data.shape)\n",
    "print(validation_data.shape)\n",
    "print(test_data.shape)"
   ]
  },
  {
   "cell_type": "code",
   "execution_count": 195,
   "id": "0aa2007a-fffc-474b-84d2-951b6bb0a058",
   "metadata": {
    "tags": []
   },
   "outputs": [
    {
     "name": "stdout",
     "output_type": "stream",
     "text": [
      "(7000, 17)\n",
      "(2000, 17)\n",
      "(1000, 17)\n"
     ]
    }
   ],
   "source": [
    "# code borrowed from sagemaker notebook: xgboost_customer_churn.ipynb\n",
    "\n",
    "train_data, validation_data, test_data = np.split(\n",
    "    data.sample(frac=1, random_state=42),\n",
    "    [int(0.7 * len(data)), int(0.9 * len(data))],\n",
    ")\n",
    "\n",
    "print(train_data.shape)\n",
    "print(validation_data.shape)\n",
    "print(test_data.shape)\n"
   ]
  },
  {
   "cell_type": "code",
   "execution_count": 196,
   "id": "54b6898e-6c8d-48d8-bd0e-1e3a1f37aff1",
   "metadata": {},
   "outputs": [],
   "source": [
    "train_data.to_csv(\"train.csv\", header=False, index=False)\n",
    "validation_data.to_csv(\"validation.csv\", header=False, index=False)"
   ]
  },
  {
   "cell_type": "code",
   "execution_count": 197,
   "id": "90f1e92a-a767-479d-8180-ea5d24411466",
   "metadata": {
    "tags": []
   },
   "outputs": [],
   "source": [
    "# Upload data to our bucket.\n",
    "\n",
    "boto3.Session().resource(\"s3\").Bucket(bucket).Object(\n",
    "    os.path.join(prefix, \"train/train.csv\")\n",
    ").upload_file(\"train.csv\")\n",
    "boto3.Session().resource(\"s3\").Bucket(bucket).Object(\n",
    "    os.path.join(prefix, \"validation/validation.csv\")\n",
    ").upload_file(\"validation.csv\")"
   ]
  },
  {
   "cell_type": "markdown",
   "id": "30db84f5-7a11-4f7d-aad8-cbafc21e76fc",
   "metadata": {},
   "source": [
    "Note: Typically, we would perform scaling after data is split. We don't want to leak out information to the test set when performing the scaling. It is supposed to be unseen data. Howerver, for Decision Tree and Ensemble Techniques like XGBoost this is not required.\n",
    "\n",
    "See [article](https://medium.com/codex/feature-scaling-in-machine-learning-e86b360d1c31#:~:text=Important%20Points%20to%20Remember%3A,data%20into%20training%20and%20testing)"
   ]
  },
  {
   "cell_type": "markdown",
   "id": "1ebd7cbe-7492-47c1-bc23-e6d9516a72e7",
   "metadata": {},
   "source": [
    "## Train the Model"
   ]
  },
  {
   "cell_type": "code",
   "execution_count": 198,
   "id": "84b89b42-c104-45e0-9e7a-0d4e13929693",
   "metadata": {},
   "outputs": [],
   "source": [
    "container = sagemaker.image_uris.retrieve(\"xgboost\", sess.boto_region_name, \"1.5-1\")"
   ]
  },
  {
   "cell_type": "code",
   "execution_count": 199,
   "id": "a039bf57-0d4f-4110-8e88-e0f001f92601",
   "metadata": {
    "tags": []
   },
   "outputs": [],
   "source": [
    "s3_input_train = TrainingInput(\n",
    "    s3_data=\"s3://{}/{}/train\".format(bucket, prefix), content_type=\"csv\"\n",
    ")\n",
    "s3_input_validation = TrainingInput(\n",
    "    s3_data=\"s3://{}/{}/validation/\".format(bucket, prefix), content_type=\"csv\"\n",
    ")"
   ]
  },
  {
   "cell_type": "code",
   "execution_count": 200,
   "id": "94bd2a96-9724-4d85-a2c8-c866fdedb31d",
   "metadata": {
    "tags": []
   },
   "outputs": [],
   "source": [
    "sess = sagemaker.Session()\n",
    "\n",
    "xgb = sagemaker.estimator.Estimator(\n",
    "    container,\n",
    "    role,\n",
    "    instance_count=1,\n",
    "    instance_type=\"ml.m4.xlarge\",\n",
    "    output_path=\"s3://{}/{}/output\".format(bucket, prefix),\n",
    "    sagemaker_session=sess,\n",
    ")\n",
    "xgb.set_hyperparameters(\n",
    "    eval_metric=\"auc\",\n",
    "    max_depth=5,\n",
    "    objective=\"binary:logistic\",\n",
    "    num_round=10,\n",
    ")\n",
    "\n"
   ]
  },
  {
   "cell_type": "code",
   "execution_count": 201,
   "id": "e714d3f2-8c09-449c-b56a-6c5eaac2aa2c",
   "metadata": {
    "tags": []
   },
   "outputs": [],
   "source": [
    "from sagemaker.tuner import (\n",
    "    ContinuousParameter,\n",
    "    HyperparameterTuner,\n",
    ")\n",
    "\n",
    "# https://docs.aws.amazon.com/sagemaker/latest/dg/xgboost_hyperparameters.html\n",
    "# Setting up Hyperparamters and job\n",
    "\n",
    "objective_metric_name = \"validation:auc\"\n",
    "\n",
    "\n",
    "hyperparameter_ranges = {\n",
    "    \"alpha\": ContinuousParameter(0.01, 10, scaling_type=\"Logarithmic\"),\n",
    "    \"lambda\": ContinuousParameter(0.01, 10, scaling_type=\"Logarithmic\"),\n",
    "    \"gamma\": ContinuousParameter(0.01, 10, scaling_type=\"Logarithmic\")\n",
    "}\n"
   ]
  },
  {
   "cell_type": "code",
   "execution_count": 202,
   "id": "16b8010b-41ce-4c42-b8c3-3a2e52cccf28",
   "metadata": {
    "tags": []
   },
   "outputs": [
    {
     "name": "stderr",
     "output_type": "stream",
     "text": [
      "No finished training job found associated with this estimator. Please make sure this estimator is only used for building workflow config\n",
      "No finished training job found associated with this estimator. Please make sure this estimator is only used for building workflow config\n"
     ]
    },
    {
     "name": "stdout",
     "output_type": "stream",
     "text": [
      ".................................................................!\n"
     ]
    }
   ],
   "source": [
    "tuner_log = HyperparameterTuner(\n",
    "    xgb,\n",
    "    objective_metric_name,\n",
    "    hyperparameter_ranges,\n",
    "    max_jobs=5,\n",
    "    max_parallel_jobs=5,\n",
    ")\n",
    "\n",
    "# Train the Model\n",
    "tuner_log.fit({\"train\": s3_input_train, \"validation\": s3_input_validation})"
   ]
  },
  {
   "cell_type": "markdown",
   "id": "1c62fdb1-c3c6-4b89-af7d-c52897006677",
   "metadata": {},
   "source": [
    "## Make the Endpoint"
   ]
  },
  {
   "cell_type": "code",
   "execution_count": 203,
   "id": "5feb7d83-f555-43d1-9eb9-b48220dae39e",
   "metadata": {
    "tags": []
   },
   "outputs": [
    {
     "name": "stdout",
     "output_type": "stream",
     "text": [
      "\n",
      "2022-12-17 18:05:24 Starting - Preparing the instances for training\n",
      "2022-12-17 18:05:24 Downloading - Downloading input data\n",
      "2022-12-17 18:05:24 Training - Training image download completed. Training in progress.\n",
      "2022-12-17 18:05:24 Uploading - Uploading generated training model\n",
      "2022-12-17 18:05:24 Completed - Resource retained for reuse\n",
      "--------!"
     ]
    }
   ],
   "source": [
    "\n",
    "xgb_predictor = tuner_log.deploy(\n",
    "    initial_instance_count=1, instance_type=\"ml.m4.xlarge\", serializer=CSVSerializer()\n",
    ")"
   ]
  },
  {
   "cell_type": "markdown",
   "id": "4a8feba7-07b8-45ae-868f-1683d0a31537",
   "metadata": {},
   "source": [
    "## Make Inferences"
   ]
  },
  {
   "cell_type": "markdown",
   "id": "3d446a64-1502-4025-ba64-e85837d8ce8a",
   "metadata": {},
   "source": [
    "For CSV inference, the algorithm assumes that CSV input does not have the label column.\n",
    "See: https://docs.aws.amazon.com/sagemaker/latest/dg/xgboost.html"
   ]
  },
  {
   "cell_type": "code",
   "execution_count": 204,
   "id": "0bd4b3d6-0478-447c-968d-a423e770cca2",
   "metadata": {
    "tags": []
   },
   "outputs": [],
   "source": [
    "def predict(data, rows=500):\n",
    "    split_array = np.array_split(data, int(data.shape[0] / float(rows) + 1))\n",
    "    predictions = \"\"\n",
    "    for array in split_array:\n",
    "        predictions = \"\".join([predictions, xgb_predictor.predict(array).decode(\"utf-8\")])\n",
    "\n",
    "    return predictions.split(\"\\n\")[:-1]\n",
    "\n",
    "\n",
    "predictions = predict(test_data.to_numpy()[:, 1:])"
   ]
  },
  {
   "cell_type": "code",
   "execution_count": 205,
   "id": "c9bfccda-7670-4768-9201-144c1405c7b1",
   "metadata": {
    "tags": []
   },
   "outputs": [],
   "source": [
    "predictions = np.array([float(num) for num in predictions])\n",
    "#print(predictions)"
   ]
  },
  {
   "cell_type": "markdown",
   "id": "a8483aad-b5be-45ff-b0fe-c0b98db89865",
   "metadata": {
    "tags": []
   },
   "source": [
    "## Evaluation\n"
   ]
  },
  {
   "attachments": {
    "1a465d50-7c2e-4e99-afa1-5751c9c56049.png": {
     "image/png": "[encoded data removed]"
    }
   },
   "cell_type": "markdown",
   "id": "5fa51082-9905-485b-9302-c080f7941b1a",
   "metadata": {},
   "source": [
    "\n",
    "In context to this scenario, we want to balance between recall and precision. If we maximize recall and reduce churn, the number of incentives must be increased. However, precision will inevitably decrease because more false-positives will occur. Eventually, the cost of incentives will outweigh the churn prevented. In economics, the theory behind this is the law of diminishing return or what my co-worker says, \"having too many chefs in the kitchen\". \n",
    "\n",
    "Let's assume the cost of someone leaving is 100 dollars and the cost of incentives is 20 dollars. The cost function to minimize is:\n",
    "\n",
    "![image.png](attachment:1a465d50-7c2e-4e99-afa1-5751c9c56049.png)\n"
   ]
  },
  {
   "cell_type": "markdown",
   "id": "e686c524-4d54-48b6-9793-c3b06a667b20",
   "metadata": {},
   "source": [
    "\n",
    "False Positive is when the customer is predicted to leave, but they ended up staying.\n",
    "False Negative is when a customer is predicted to stay, but they ended up leaving.\n",
    "True Positive is when the customer is predicted to leave, and they indeed left.\n",
    "True Negative is when the customer is predicted to stay, and they indeed stay.\n",
    "\n",
    "Precision is a measurement to test how well the model performs when predicting the signal, customer churn. \n",
    "\n",
    "See [article](https://towardsdatascience.com/predicting-and-preventing-the-churn-of-high-value-customers-using-machine-learning-adbb4a61095d) and [article](https://www.vidora.com/ml-in-business/reducing-user-churn-with-machine-learning-precision-and-recall/)"
   ]
  },
  {
   "cell_type": "code",
   "execution_count": 206,
   "id": "534665c8-08bf-4777-97b2-554ca639711b",
   "metadata": {},
   "outputs": [
    {
     "data": {
      "text/html": [
       "<div>\n",
       "<style scoped>\n",
       "    .dataframe tbody tr th:only-of-type {\n",
       "        vertical-align: middle;\n",
       "    }\n",
       "\n",
       "    .dataframe tbody tr th {\n",
       "        vertical-align: top;\n",
       "    }\n",
       "\n",
       "    .dataframe thead th {\n",
       "        text-align: right;\n",
       "    }\n",
       "</style>\n",
       "<table border=\"1\" class=\"dataframe\">\n",
       "  <thead>\n",
       "    <tr style=\"text-align: right;\">\n",
       "      <th>predictions</th>\n",
       "      <th>0.0</th>\n",
       "      <th>1.0</th>\n",
       "    </tr>\n",
       "    <tr>\n",
       "      <th>actual</th>\n",
       "      <th></th>\n",
       "      <th></th>\n",
       "    </tr>\n",
       "  </thead>\n",
       "  <tbody>\n",
       "    <tr>\n",
       "      <th>0</th>\n",
       "      <td>768</td>\n",
       "      <td>28</td>\n",
       "    </tr>\n",
       "    <tr>\n",
       "      <th>1</th>\n",
       "      <td>122</td>\n",
       "      <td>82</td>\n",
       "    </tr>\n",
       "  </tbody>\n",
       "</table>\n",
       "</div>"
      ],
      "text/plain": [
       "predictions  0.0  1.0\n",
       "actual               \n",
       "0            768   28\n",
       "1            122   82"
      ]
     },
     "execution_count": 206,
     "metadata": {},
     "output_type": "execute_result"
    }
   ],
   "source": [
    "# Confusion Matrix\n",
    "\n",
    "pd.crosstab(\n",
    "    index=test_data.iloc[:, 0],\n",
    "    columns=np.round(predictions),\n",
    "    rownames=[\"actual\"],\n",
    "    colnames=[\"predictions\"],\n",
    ")\n"
   ]
  },
  {
   "cell_type": "code",
   "execution_count": 207,
   "id": "72c99d9d-5a45-450c-8816-9b152b0bc2dd",
   "metadata": {
    "tags": []
   },
   "outputs": [
    {
     "name": "stdout",
     "output_type": "stream",
     "text": [
      "The Accuracy Score is: 0.85\n",
      "The Precision Score is: 0.7454545454545455\n",
      "The Recall Score is: 0.4019607843137255\n",
      "The ROC AUC Score is: 0.6833924524583702\n"
     ]
    }
   ],
   "source": [
    "print(f\"The Accuracy Score is: {accuracy_score(test_data.iloc[:, 0],np.round(predictions))}\")\n",
    "print(f\"The Precision Score is: {precision_score(test_data.iloc[:, 0],np.round(predictions))}\")\n",
    "print(f\"The Recall Score is: {recall_score(test_data.iloc[:, 0],np.round(predictions))}\")\n",
    "print(f\"The ROC AUC Score is: {roc_auc_score(test_data.iloc[:, 0],np.round(predictions))}\")\n"
   ]
  },
  {
   "cell_type": "code",
   "execution_count": 208,
   "id": "91aa3216-b7e3-40d4-8e50-d567c7bffe47",
   "metadata": {
    "tags": []
   },
   "outputs": [
    {
     "name": "stdout",
     "output_type": "stream",
     "text": [
      "(9.58075954914093) minutes have elapsed.\n"
     ]
    }
   ],
   "source": [
    "end_time = time.time()\n",
    "print(f\"({(end_time-start_time)/60}) minutes have elapsed.\")"
   ]
  },
  {
   "cell_type": "markdown",
   "id": "f58fc680-55a8-4ebd-ab20-ca197bba3583",
   "metadata": {},
   "source": [
    "## Delete the Endpoint\n",
    "When we're done making inferences"
   ]
  },
  {
   "cell_type": "code",
   "execution_count": 209,
   "id": "556f6b10-57e2-48d5-8b0d-2ec0d17da1e8",
   "metadata": {
    "tags": []
   },
   "outputs": [],
   "source": [
    "sess.delete_endpoint(endpoint_name=xgb_predictor.endpoint_name)\n"
   ]
  },
  {
   "cell_type": "markdown",
   "id": "0d1cb854-c8f1-49ef-985f-3a2104594ada",
   "metadata": {},
   "source": [
    "# Looking Ahead"
   ]
  },
  {
   "cell_type": "markdown",
   "id": "58b2470e-61c3-4d55-9691-66a6585d8cb6",
   "metadata": {},
   "source": [
    "1. Train with protobuf format and compare time between csv format.\n",
    "2. Add DescribeTrainingJob into the notebook\n",
    "3. SMOTE Implementation"
   ]
  },
  {
   "cell_type": "markdown",
   "id": "e87db7b5-2765-44d9-a6d7-ce8a200de819",
   "metadata": {},
   "source": [
    "## Resources:\n",
    "\n",
    "1. https://sagemaker-examples.readthedocs.io/en/latest/introduction_to_applying_machine_learning/xgboost_customer_churn/xgboost_customer_churn.html\n",
    "2. https://github.com/Kaggle/kaggle-api\n",
    "   - to download files from kaggle\n",
    "3. https://dev.to/thalesbruno/subplotting-with-matplotlib-and-seaborn-5ei8\n",
    "   - subplots for seaborn\n",
    "4. https://stackabuse.com/one-hot-encoding-in-python-with-pandas-and-scikit-learn/\n",
    "   - one-hot encoding implementation\n",
    "5. https://docs.aws.amazon.com/sagemaker/latest/dg/xgboost.html\n",
    "   - SageMaker Documentation for XGBoost\n",
    "6. https://medium.com/codex/feature-scaling-in-machine-learning-e86b360d1c31#:~:text=Important%20Points%20to%20Remember%3A,data%20into%20training%20and%20testing\n",
    "   - why you don't to scale data for xgboost\n",
    "7. https://github.com/aws/amazon-sagemaker-examples/blob/main/hyperparameter_tuning/xgboost_random_log/hpo_xgboost_random_log.ipynb\n",
    "   - Hyperparameter tuning\n",
    "8. https://towardsdatascience.com/predict-customer-churn-with-precision-56932ae0e5e3\n",
    "   - Reference and Inspiration"
   ]
  },
  {
   "cell_type": "code",
   "execution_count": null,
   "id": "12b084a6-f2d9-4b12-a820-1d5319377c06",
   "metadata": {},
   "outputs": [],
   "source": []
  }
 ],
 "metadata": {
  "instance_type": "ml.t3.medium",
  "kernelspec": {
   "display_name": "Python 3 (Data Science)",
   "language": "python",
   "name": "python3__SAGEMAKER_INTERNAL__arn:aws:sagemaker:us-east-1:081325390199:image/datascience-1.0"
  },
  "language_info": {
   "codemirror_mode": {
    "name": "ipython",
    "version": 3
   },
   "file_extension": ".py",
   "mimetype": "text/x-python",
   "name": "python",
   "nbconvert_exporter": "python",
   "pygments_lexer": "ipython3",
   "version": "3.7.10"
  }
 },
 "nbformat": 4,
 "nbformat_minor": 5
}
