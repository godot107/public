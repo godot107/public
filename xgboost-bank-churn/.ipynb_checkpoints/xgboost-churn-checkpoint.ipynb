{
 "cells": [
  {
   "cell_type": "markdown",
   "id": "d502844c-394a-4973-920b-ed27bcbb550d",
   "metadata": {},
   "source": [
    "## Motivation:\n",
    "\n",
    "Retaining employee in an organization or keeping customers happy is a common use-case and valuable to know in an organization. The cost in rehiring or procuring customers vary from industry and organization. In both cases, the cheaper option is to offer incentives before employee or customer attrition.\n"
   ]
  },
  {
   "cell_type": "markdown",
   "id": "1ffd7356-d5c5-42dc-93d6-547780386c2a",
   "metadata": {},
   "source": [
    "## Scenario: Based on an Individual's Profile, Predict Customer Churn\n",
    "\n",
    "Using [public data from Kaggle](https://www.kaggle.com/datasets/mathchi/churn-for-bank-customers), predict customer churn or 'Exited' based on the Features provided.\n",
    "\n",
    "Features: \n",
    "\n",
    "- RowNumber—corresponds to the record (row) number and has no effect on the output.\n",
    "- CustomerId—contains random values and has no effect on customer leaving the bank.\n",
    "- Surname—the surname of a customer has no impact on their decision to leave the bank.\n",
    "- CreditScore—can have an effect on customer churn, since a customer with a higher credit score is less likely to leave the bank.\n",
    "- Geography—a customer’s location can affect their decision to leave the bank.\n",
    "- Gender—it’s interesting to explore whether gender plays a role in a customer leaving the bank.\n",
    "- Age—this is certainly relevant, since older customers are less likely to leave their bank than younger ones.\n",
    "- Tenure—refers to the number of years that the customer has been a client of the bank. Normally, older clients are more loyal and less likely to leave a bank.\n",
    "- Balance—also a very good indicator of customer churn, as people with a higher balance in their accounts are less likely to leave the bank compared to those with lower balances.\n",
    "- NumOfProducts—refers to the number of products that a customer has purchased through the bank.\n",
    "- HasCrCard—denotes whether or not a customer has a credit card. This column is also relevant, since people with a credit card are less likely to leave the bank.\n",
    "- IsActiveMember—active customers are less likely to leave the bank.\n",
    "- EstimatedSalary—as with balance, people with lower salaries are more likely to leave the bank compared to those with higher salaries.\n",
    "\n",
    "Target: \n",
    "- Exited—whether or not the customer left the bank.\n",
    "\n"
   ]
  },
  {
   "cell_type": "markdown",
   "id": "4d77f9db-107b-48b8-aec2-b19895482ba8",
   "metadata": {},
   "source": [
    "## Strategy\n",
    "\n",
    "For this scenario, I will be using [XGBoost Algorithm](https://xgboost.readthedocs.io/en/stable/#).  It uses an ensemble of decision trees that essentially corrects itself with each iteration. By descending down on a gradient based on a learning rate, the goal of the algorithm is to minimize the error.  For intuition on the algorithm, I highly recommend checking this [video from StatQuest](https://www.youtube.com/watch?v=OtD8wVaFm6E).\n",
    "\n",
    "For objective metric, we want to maximize precision \n"
   ]
  },
  {
   "cell_type": "code",
   "execution_count": 18,
   "id": "87e51b25-44d6-4a2a-b277-950644597452",
   "metadata": {
    "tags": []
   },
   "outputs": [
    {
     "name": "stdout",
     "output_type": "stream",
     "text": [
      "Requirement already satisfied: seaborn in /home/studio-lab-user/.conda/envs/default/lib/python3.9/site-packages (0.12.1)\n",
      "Requirement already satisfied: matplotlib!=3.6.1,>=3.1 in /home/studio-lab-user/.conda/envs/default/lib/python3.9/site-packages (from seaborn) (3.5.1)\n",
      "Requirement already satisfied: numpy>=1.17 in /home/studio-lab-user/.conda/envs/default/lib/python3.9/site-packages (from seaborn) (1.22.3)\n",
      "Requirement already satisfied: pandas>=0.25 in /home/studio-lab-user/.conda/envs/default/lib/python3.9/site-packages (from seaborn) (1.4.2)\n",
      "Requirement already satisfied: kiwisolver>=1.0.1 in /home/studio-lab-user/.conda/envs/default/lib/python3.9/site-packages (from matplotlib!=3.6.1,>=3.1->seaborn) (1.4.2)\n",
      "Requirement already satisfied: cycler>=0.10 in /home/studio-lab-user/.conda/envs/default/lib/python3.9/site-packages (from matplotlib!=3.6.1,>=3.1->seaborn) (0.11.0)\n",
      "Requirement already satisfied: python-dateutil>=2.7 in /home/studio-lab-user/.conda/envs/default/lib/python3.9/site-packages (from matplotlib!=3.6.1,>=3.1->seaborn) (2.8.2)\n",
      "Requirement already satisfied: fonttools>=4.22.0 in /home/studio-lab-user/.conda/envs/default/lib/python3.9/site-packages (from matplotlib!=3.6.1,>=3.1->seaborn) (4.31.2)\n",
      "Requirement already satisfied: packaging>=20.0 in /home/studio-lab-user/.conda/envs/default/lib/python3.9/site-packages (from matplotlib!=3.6.1,>=3.1->seaborn) (21.3)\n",
      "Requirement already satisfied: pillow>=6.2.0 in /home/studio-lab-user/.conda/envs/default/lib/python3.9/site-packages (from matplotlib!=3.6.1,>=3.1->seaborn) (9.1.0)\n",
      "Requirement already satisfied: pyparsing>=2.2.1 in /home/studio-lab-user/.conda/envs/default/lib/python3.9/site-packages (from matplotlib!=3.6.1,>=3.1->seaborn) (3.0.6)\n",
      "Requirement already satisfied: pytz>=2020.1 in /home/studio-lab-user/.conda/envs/default/lib/python3.9/site-packages (from pandas>=0.25->seaborn) (2022.1)\n",
      "Requirement already satisfied: six>=1.5 in /home/studio-lab-user/.conda/envs/default/lib/python3.9/site-packages (from python-dateutil>=2.7->matplotlib!=3.6.1,>=3.1->seaborn) (1.16.0)\n",
      "Collecting altair\n",
      "  Downloading altair-4.2.0-py3-none-any.whl (812 kB)\n",
      "\u001b[K     |████████████████████████████████| 812 kB 1.6 MB/s eta 0:00:01\n",
      "\u001b[?25hRequirement already satisfied: jinja2 in /home/studio-lab-user/.conda/envs/default/lib/python3.9/site-packages (from altair) (3.0.3)\n",
      "Requirement already satisfied: pandas>=0.18 in /home/studio-lab-user/.conda/envs/default/lib/python3.9/site-packages (from altair) (1.4.2)\n",
      "Collecting toolz\n",
      "  Downloading toolz-0.12.0-py3-none-any.whl (55 kB)\n",
      "\u001b[K     |████████████████████████████████| 55 kB 9.3 MB/s  eta 0:00:01\n",
      "\u001b[?25hRequirement already satisfied: entrypoints in /home/studio-lab-user/.conda/envs/default/lib/python3.9/site-packages (from altair) (0.3)\n",
      "Requirement already satisfied: numpy in /home/studio-lab-user/.conda/envs/default/lib/python3.9/site-packages (from altair) (1.22.3)\n",
      "Requirement already satisfied: jsonschema>=3.0 in /home/studio-lab-user/.conda/envs/default/lib/python3.9/site-packages (from altair) (4.2.1)\n",
      "Requirement already satisfied: pyrsistent!=0.17.0,!=0.17.1,!=0.17.2,>=0.14.0 in /home/studio-lab-user/.conda/envs/default/lib/python3.9/site-packages (from jsonschema>=3.0->altair) (0.18.0)\n",
      "Requirement already satisfied: attrs>=17.4.0 in /home/studio-lab-user/.conda/envs/default/lib/python3.9/site-packages (from jsonschema>=3.0->altair) (21.2.0)\n",
      "Requirement already satisfied: pytz>=2020.1 in /home/studio-lab-user/.conda/envs/default/lib/python3.9/site-packages (from pandas>=0.18->altair) (2022.1)\n",
      "Requirement already satisfied: python-dateutil>=2.8.1 in /home/studio-lab-user/.conda/envs/default/lib/python3.9/site-packages (from pandas>=0.18->altair) (2.8.2)\n",
      "Requirement already satisfied: six>=1.5 in /home/studio-lab-user/.conda/envs/default/lib/python3.9/site-packages (from python-dateutil>=2.8.1->pandas>=0.18->altair) (1.16.0)\n",
      "Requirement already satisfied: MarkupSafe>=2.0 in /home/studio-lab-user/.conda/envs/default/lib/python3.9/site-packages (from jinja2->altair) (2.0.1)\n",
      "Installing collected packages: toolz, altair\n",
      "Successfully installed altair-4.2.0 toolz-0.12.0\n"
     ]
    }
   ],
   "source": [
    "!pip install seaborn --upgrade\n",
    "!pip install altair"
   ]
  },
  {
   "cell_type": "code",
   "execution_count": 2,
   "id": "504253d9-2c90-4509-87f4-0ab42bcdfad3",
   "metadata": {},
   "outputs": [
    {
     "ename": "KeyError",
     "evalue": "'ResourceName'",
     "output_type": "error",
     "traceback": [
      "\u001b[0;31m---------------------------------------------------------------------------\u001b[0m",
      "\u001b[0;31mKeyError\u001b[0m                                  Traceback (most recent call last)",
      "\u001b[0;32m/tmp/ipykernel_202/3210227464.py\u001b[0m in \u001b[0;36m<module>\u001b[0;34m\u001b[0m\n\u001b[1;32m     10\u001b[0m \u001b[0;32mfrom\u001b[0m \u001b[0msagemaker\u001b[0m \u001b[0;32mimport\u001b[0m \u001b[0mget_execution_role\u001b[0m\u001b[0;34m\u001b[0m\u001b[0;34m\u001b[0m\u001b[0m\n\u001b[1;32m     11\u001b[0m \u001b[0;34m\u001b[0m\u001b[0m\n\u001b[0;32m---> 12\u001b[0;31m \u001b[0mrole\u001b[0m \u001b[0;34m=\u001b[0m \u001b[0mget_execution_role\u001b[0m\u001b[0;34m(\u001b[0m\u001b[0;34m)\u001b[0m\u001b[0;34m\u001b[0m\u001b[0;34m\u001b[0m\u001b[0m\n\u001b[0m",
      "\u001b[0;32m~/.conda/envs/default/lib/python3.9/site-packages/sagemaker/session.py\u001b[0m in \u001b[0;36mget_execution_role\u001b[0;34m(sagemaker_session)\u001b[0m\n\u001b[1;32m   4671\u001b[0m     \u001b[0;32mif\u001b[0m \u001b[0;32mnot\u001b[0m \u001b[0msagemaker_session\u001b[0m\u001b[0;34m:\u001b[0m\u001b[0;34m\u001b[0m\u001b[0;34m\u001b[0m\u001b[0m\n\u001b[1;32m   4672\u001b[0m         \u001b[0msagemaker_session\u001b[0m \u001b[0;34m=\u001b[0m \u001b[0mSession\u001b[0m\u001b[0;34m(\u001b[0m\u001b[0;34m)\u001b[0m\u001b[0;34m\u001b[0m\u001b[0;34m\u001b[0m\u001b[0m\n\u001b[0;32m-> 4673\u001b[0;31m     \u001b[0marn\u001b[0m \u001b[0;34m=\u001b[0m \u001b[0msagemaker_session\u001b[0m\u001b[0;34m.\u001b[0m\u001b[0mget_caller_identity_arn\u001b[0m\u001b[0;34m(\u001b[0m\u001b[0;34m)\u001b[0m\u001b[0;34m\u001b[0m\u001b[0;34m\u001b[0m\u001b[0m\n\u001b[0m\u001b[1;32m   4674\u001b[0m \u001b[0;34m\u001b[0m\u001b[0m\n\u001b[1;32m   4675\u001b[0m     \u001b[0;32mif\u001b[0m \u001b[0;34m\":role/\"\u001b[0m \u001b[0;32min\u001b[0m \u001b[0marn\u001b[0m\u001b[0;34m:\u001b[0m\u001b[0;34m\u001b[0m\u001b[0;34m\u001b[0m\u001b[0m\n",
      "\u001b[0;32m~/.conda/envs/default/lib/python3.9/site-packages/sagemaker/session.py\u001b[0m in \u001b[0;36mget_caller_identity_arn\u001b[0;34m(self)\u001b[0m\n\u001b[1;32m   3669\u001b[0m             \u001b[0;32mwith\u001b[0m \u001b[0mopen\u001b[0m\u001b[0;34m(\u001b[0m\u001b[0mNOTEBOOK_METADATA_FILE\u001b[0m\u001b[0;34m,\u001b[0m \u001b[0;34m\"rb\"\u001b[0m\u001b[0;34m)\u001b[0m \u001b[0;32mas\u001b[0m \u001b[0mf\u001b[0m\u001b[0;34m:\u001b[0m\u001b[0;34m\u001b[0m\u001b[0;34m\u001b[0m\u001b[0m\n\u001b[1;32m   3670\u001b[0m                 \u001b[0mmetadata\u001b[0m \u001b[0;34m=\u001b[0m \u001b[0mjson\u001b[0m\u001b[0;34m.\u001b[0m\u001b[0mloads\u001b[0m\u001b[0;34m(\u001b[0m\u001b[0mf\u001b[0m\u001b[0;34m.\u001b[0m\u001b[0mread\u001b[0m\u001b[0;34m(\u001b[0m\u001b[0;34m)\u001b[0m\u001b[0;34m)\u001b[0m\u001b[0;34m\u001b[0m\u001b[0;34m\u001b[0m\u001b[0m\n\u001b[0;32m-> 3671\u001b[0;31m                 \u001b[0minstance_name\u001b[0m \u001b[0;34m=\u001b[0m \u001b[0mmetadata\u001b[0m\u001b[0;34m[\u001b[0m\u001b[0;34m\"ResourceName\"\u001b[0m\u001b[0;34m]\u001b[0m\u001b[0;34m\u001b[0m\u001b[0;34m\u001b[0m\u001b[0m\n\u001b[0m\u001b[1;32m   3672\u001b[0m                 \u001b[0mdomain_id\u001b[0m \u001b[0;34m=\u001b[0m \u001b[0mmetadata\u001b[0m\u001b[0;34m.\u001b[0m\u001b[0mget\u001b[0m\u001b[0;34m(\u001b[0m\u001b[0;34m\"DomainId\"\u001b[0m\u001b[0;34m)\u001b[0m\u001b[0;34m\u001b[0m\u001b[0;34m\u001b[0m\u001b[0m\n\u001b[1;32m   3673\u001b[0m                 \u001b[0muser_profile_name\u001b[0m \u001b[0;34m=\u001b[0m \u001b[0mmetadata\u001b[0m\u001b[0;34m.\u001b[0m\u001b[0mget\u001b[0m\u001b[0;34m(\u001b[0m\u001b[0;34m\"UserProfileName\"\u001b[0m\u001b[0;34m)\u001b[0m\u001b[0;34m\u001b[0m\u001b[0;34m\u001b[0m\u001b[0m\n",
      "\u001b[0;31mKeyError\u001b[0m: 'ResourceName'"
     ]
    }
   ],
   "source": [
    "import sagemaker\n",
    "\n",
    "sess = sagemaker.Session()\n",
    "bucket = sess.default_bucket()\n",
    "prefix = \"sagemaker/bank-churn\"\n",
    "\n",
    "# Define IAM role\n",
    "import boto3\n",
    "import re\n",
    "from sagemaker import get_execution_role\n",
    "\n",
    "role = get_execution_role()"
   ]
  },
  {
   "cell_type": "code",
   "execution_count": 2,
   "id": "8e665310-46a3-4cf4-b012-8776bbe60930",
   "metadata": {},
   "outputs": [],
   "source": [
    "import pandas as pd\n",
    "import numpy as np\n",
    "import matplotlib.pyplot as plt\n",
    "import seaborn as sns\n",
    "from sklearn.model_selection import train_test_split\n",
    "from sklearn.dummy import DummyClassifier\n",
    "from imblearn.over_sampling import SMOTE \n",
    "import altair as alt\n",
    "import io\n",
    "import os\n",
    "import sys\n",
    "import time\n",
    "import json\n",
    "from IPython.display import display\n",
    "from time import strftime, gmtime\n",
    "from sagemaker.inputs import TrainingInput\n",
    "from sagemaker.serializers import CSVSerializer"
   ]
  },
  {
   "cell_type": "code",
   "execution_count": 7,
   "id": "750e716c-bcad-4216-8607-e77dae819465",
   "metadata": {
    "tags": []
   },
   "outputs": [],
   "source": [
    "start_time = time.time()"
   ]
  },
  {
   "cell_type": "code",
   "execution_count": 3,
   "id": "ec0a6660-3b29-48af-9a51-53b8a80fe4e0",
   "metadata": {},
   "outputs": [],
   "source": [
    "# Load Data\n",
    "\n",
    "data = pd.read_csv('churn.csv')"
   ]
  },
  {
   "cell_type": "code",
   "execution_count": 9,
   "id": "71f16108-44e8-468e-8ae5-d273f3069584",
   "metadata": {
    "tags": []
   },
   "outputs": [
    {
     "data": {
      "text/plain": [
       "(10000, 14)"
      ]
     },
     "execution_count": 9,
     "metadata": {},
     "output_type": "execute_result"
    }
   ],
   "source": [
    "# 10000 bank customers\n",
    "data.shape"
   ]
  },
  {
   "cell_type": "code",
   "execution_count": 10,
   "id": "8b59c1bb-dfd5-49b2-bc28-ce0c022f69e1",
   "metadata": {},
   "outputs": [
    {
     "data": {
      "text/html": [
       "<div>\n",
       "<style scoped>\n",
       "    .dataframe tbody tr th:only-of-type {\n",
       "        vertical-align: middle;\n",
       "    }\n",
       "\n",
       "    .dataframe tbody tr th {\n",
       "        vertical-align: top;\n",
       "    }\n",
       "\n",
       "    .dataframe thead th {\n",
       "        text-align: right;\n",
       "    }\n",
       "</style>\n",
       "<table border=\"1\" class=\"dataframe\">\n",
       "  <thead>\n",
       "    <tr style=\"text-align: right;\">\n",
       "      <th></th>\n",
       "      <th>RowNumber</th>\n",
       "      <th>CustomerId</th>\n",
       "      <th>Surname</th>\n",
       "      <th>CreditScore</th>\n",
       "      <th>Geography</th>\n",
       "      <th>Gender</th>\n",
       "      <th>Age</th>\n",
       "      <th>Tenure</th>\n",
       "      <th>Balance</th>\n",
       "      <th>NumOfProducts</th>\n",
       "      <th>HasCrCard</th>\n",
       "      <th>IsActiveMember</th>\n",
       "      <th>EstimatedSalary</th>\n",
       "      <th>Exited</th>\n",
       "    </tr>\n",
       "  </thead>\n",
       "  <tbody>\n",
       "    <tr>\n",
       "      <th>0</th>\n",
       "      <td>1</td>\n",
       "      <td>15634602</td>\n",
       "      <td>Hargrave</td>\n",
       "      <td>619</td>\n",
       "      <td>France</td>\n",
       "      <td>Female</td>\n",
       "      <td>42</td>\n",
       "      <td>2</td>\n",
       "      <td>0.00</td>\n",
       "      <td>1</td>\n",
       "      <td>1</td>\n",
       "      <td>1</td>\n",
       "      <td>101348.88</td>\n",
       "      <td>1</td>\n",
       "    </tr>\n",
       "    <tr>\n",
       "      <th>1</th>\n",
       "      <td>2</td>\n",
       "      <td>15647311</td>\n",
       "      <td>Hill</td>\n",
       "      <td>608</td>\n",
       "      <td>Spain</td>\n",
       "      <td>Female</td>\n",
       "      <td>41</td>\n",
       "      <td>1</td>\n",
       "      <td>83807.86</td>\n",
       "      <td>1</td>\n",
       "      <td>0</td>\n",
       "      <td>1</td>\n",
       "      <td>112542.58</td>\n",
       "      <td>0</td>\n",
       "    </tr>\n",
       "    <tr>\n",
       "      <th>2</th>\n",
       "      <td>3</td>\n",
       "      <td>15619304</td>\n",
       "      <td>Onio</td>\n",
       "      <td>502</td>\n",
       "      <td>France</td>\n",
       "      <td>Female</td>\n",
       "      <td>42</td>\n",
       "      <td>8</td>\n",
       "      <td>159660.80</td>\n",
       "      <td>3</td>\n",
       "      <td>1</td>\n",
       "      <td>0</td>\n",
       "      <td>113931.57</td>\n",
       "      <td>1</td>\n",
       "    </tr>\n",
       "    <tr>\n",
       "      <th>3</th>\n",
       "      <td>4</td>\n",
       "      <td>15701354</td>\n",
       "      <td>Boni</td>\n",
       "      <td>699</td>\n",
       "      <td>France</td>\n",
       "      <td>Female</td>\n",
       "      <td>39</td>\n",
       "      <td>1</td>\n",
       "      <td>0.00</td>\n",
       "      <td>2</td>\n",
       "      <td>0</td>\n",
       "      <td>0</td>\n",
       "      <td>93826.63</td>\n",
       "      <td>0</td>\n",
       "    </tr>\n",
       "    <tr>\n",
       "      <th>4</th>\n",
       "      <td>5</td>\n",
       "      <td>15737888</td>\n",
       "      <td>Mitchell</td>\n",
       "      <td>850</td>\n",
       "      <td>Spain</td>\n",
       "      <td>Female</td>\n",
       "      <td>43</td>\n",
       "      <td>2</td>\n",
       "      <td>125510.82</td>\n",
       "      <td>1</td>\n",
       "      <td>1</td>\n",
       "      <td>1</td>\n",
       "      <td>79084.10</td>\n",
       "      <td>0</td>\n",
       "    </tr>\n",
       "  </tbody>\n",
       "</table>\n",
       "</div>"
      ],
      "text/plain": [
       "   RowNumber  CustomerId   Surname  CreditScore Geography  Gender  Age  \\\n",
       "0          1    15634602  Hargrave          619    France  Female   42   \n",
       "1          2    15647311      Hill          608     Spain  Female   41   \n",
       "2          3    15619304      Onio          502    France  Female   42   \n",
       "3          4    15701354      Boni          699    France  Female   39   \n",
       "4          5    15737888  Mitchell          850     Spain  Female   43   \n",
       "\n",
       "   Tenure    Balance  NumOfProducts  HasCrCard  IsActiveMember  \\\n",
       "0       2       0.00              1          1               1   \n",
       "1       1   83807.86              1          0               1   \n",
       "2       8  159660.80              3          1               0   \n",
       "3       1       0.00              2          0               0   \n",
       "4       2  125510.82              1          1               1   \n",
       "\n",
       "   EstimatedSalary  Exited  \n",
       "0        101348.88       1  \n",
       "1        112542.58       0  \n",
       "2        113931.57       1  \n",
       "3         93826.63       0  \n",
       "4         79084.10       0  "
      ]
     },
     "execution_count": 10,
     "metadata": {},
     "output_type": "execute_result"
    }
   ],
   "source": [
    "data.head()"
   ]
  },
  {
   "cell_type": "markdown",
   "id": "408a71c9-f6e1-407f-a77e-313d6565733a",
   "metadata": {},
   "source": [
    "## Exploratory Data Analysis"
   ]
  },
  {
   "cell_type": "markdown",
   "id": "e7e831bd-e24a-426c-b502-1d50e4e3e178",
   "metadata": {},
   "source": [
    "Customers were pooled from three countries. "
   ]
  },
  {
   "cell_type": "code",
   "execution_count": 8,
   "id": "8145a181-8afc-429d-b2b6-21a061807914",
   "metadata": {
    "tags": []
   },
   "outputs": [
    {
     "data": {
      "text/plain": [
       "Geography\n",
       "France     5014\n",
       "Germany    2509\n",
       "Spain      2477\n",
       "Name: CustomerId, dtype: int64"
      ]
     },
     "execution_count": 8,
     "metadata": {},
     "output_type": "execute_result"
    }
   ],
   "source": [
    "data.groupby('Geography')['CustomerId'].count()"
   ]
  },
  {
   "cell_type": "markdown",
   "id": "b1a97871-a6ff-4a6d-8239-0174675e0336",
   "metadata": {},
   "source": [
    "Observing counts, we noticed that the ratio between staying as a customer and leaving is 4:1.  Meaning, most customers stay with the bank. That's good! However, this is an imbalance in our data and our model may not be able to pick up the pattern to predict a customer leaving a bank. To address the issue, I will use SMOTE. "
   ]
  },
  {
   "cell_type": "code",
   "execution_count": 14,
   "id": "5da1a67a-894e-459e-8e85-1b3849e95c06",
   "metadata": {},
   "outputs": [
    {
     "data": {
      "text/plain": [
       "Exited\n",
       "0    7963\n",
       "1    2037\n",
       "Name: CustomerId, dtype: int64"
      ]
     },
     "execution_count": 14,
     "metadata": {},
     "output_type": "execute_result"
    }
   ],
   "source": [
    "data.groupby('Exited')['CustomerId'].count()"
   ]
  },
  {
   "cell_type": "markdown",
   "id": "35b86d55-9270-4e01-8b2f-3c8b013d67e3",
   "metadata": {},
   "source": [
    "From the plots, they are mostly gaussian distribution. That's good, so we don't need to do some transformations."
   ]
  },
  {
   "cell_type": "code",
   "execution_count": 9,
   "id": "2c089f7b-cf80-448e-b2e9-89adf0d5ed37",
   "metadata": {
    "tags": []
   },
   "outputs": [
    {
     "data": {
      "image/png": "[encoded data removed]",
      "text/plain": [
       "<Figure size 1440x1440 with 6 Axes>"
      ]
     },
     "metadata": {
      "needs_background": "light"
     },
     "output_type": "display_data"
    }
   ],
   "source": [
    "fig, axes = plt.subplots(3,2, figsize=(20,20)) \n",
    "sns.histplot(ax = axes[0][0], x=data.CreditScore).set(title = 'Credit Score Distribution')\n",
    "sns.histplot(ax = axes[1][0], x=data.Age).set(title = 'Age Distribution')\n",
    "sns.histplot(ax = axes[2][0], x=data.Balance).set(title = 'Balance Distribution')\n",
    "sns.histplot(ax = axes[0][1], x=data.EstimatedSalary).set(title = 'Estimated Salary Distribution')\n",
    "sns.histplot(ax = axes[1][1], x=data.NumOfProducts).set(title = 'Number of Product Distribution')\n",
    "sns.histplot(ax = axes[2][1], x=data.Tenure).set(title = 'Tenure Distribution')\n",
    "plt.show()"
   ]
  },
  {
   "cell_type": "markdown",
   "id": "2fb9052e-da7b-4ed5-8348-b6528b628cae",
   "metadata": {},
   "source": [
    "## Feature Engineering"
   ]
  },
  {
   "cell_type": "markdown",
   "id": "799dbddd-89af-4341-9f41-8e4dd0165e57",
   "metadata": {},
   "source": [
    "It is not sufficient to convert categorical labels to numerical on a single column. For example, if we convert Geography from France, Germany, and Spain to 0,1,2, it implies there is ordering which introduce bias in the model. Therefore, need to utilize onehot encoding transformation to Country and also, Gender."
   ]
  },
  {
   "cell_type": "code",
   "execution_count": 10,
   "id": "6330be59-5daa-443c-80e7-f945a52e3cac",
   "metadata": {
    "tags": []
   },
   "outputs": [],
   "source": [
    "## Perform One Hot Encoding for Geography and Gender\n",
    "\n",
    "data = pd.concat([data,pd.get_dummies(data.Geography, prefix='Country')], axis = 1)\n",
    "data.drop(['Geography'], axis = 1, inplace = True)\n",
    "\n",
    "data = pd.concat([data,pd.get_dummies(data.Gender, prefix='Gender')], axis = 1)\n",
    "data.drop(['Gender'], axis = 1, inplace = True)\n"
   ]
  },
  {
   "cell_type": "code",
   "execution_count": 11,
   "id": "d10207be-18a6-4c18-9af9-a4b48f4b1fc8",
   "metadata": {
    "tags": []
   },
   "outputs": [],
   "source": [
    "# Remove RowNumber, CustomerId, and Surname based on knowledge/domain experience.\n",
    "data.drop(['RowNumber','CustomerId','Surname'], axis = 1, inplace = True)"
   ]
  },
  {
   "cell_type": "code",
   "execution_count": 12,
   "id": "b65d79d3-0ea8-482d-8397-889973c57832",
   "metadata": {
    "tags": []
   },
   "outputs": [],
   "source": [
    "# Reformatting so it can be accepted in xgboost.\n",
    "#Note: For CSV training, the algorithm assumes that the target variable is in the first column and that the CSV does not have a header record.\n",
    "# See: https://docs.aws.amazon.com/sagemaker/latest/dg/xgboost.html\n",
    "\n",
    "features = ['CreditScore',\t'Age',\t'Tenure',\t'Balance',\t'NumOfProducts',\t'HasCrCard',\t'IsActiveMember',\t'EstimatedSalary',\t\t'Country_France',\t'Country_Germany',\t'Country_Spain',\t'Country_France',\t'Country_Germany',\t'Country_Spain',\t'Gender_Female',\t'Gender_Male']\n",
    "\n",
    "data = pd.concat((data['Exited'], data[features]), axis = 1)"
   ]
  },
  {
   "cell_type": "code",
   "execution_count": 13,
   "id": "5cd1a573-879e-4959-931e-17ed169ec8a7",
   "metadata": {
    "tags": []
   },
   "outputs": [
    {
     "data": {
      "text/html": [
       "<div>\n",
       "<style scoped>\n",
       "    .dataframe tbody tr th:only-of-type {\n",
       "        vertical-align: middle;\n",
       "    }\n",
       "\n",
       "    .dataframe tbody tr th {\n",
       "        vertical-align: top;\n",
       "    }\n",
       "\n",
       "    .dataframe thead th {\n",
       "        text-align: right;\n",
       "    }\n",
       "</style>\n",
       "<table border=\"1\" class=\"dataframe\">\n",
       "  <thead>\n",
       "    <tr style=\"text-align: right;\">\n",
       "      <th></th>\n",
       "      <th>Exited</th>\n",
       "      <th>CreditScore</th>\n",
       "      <th>Age</th>\n",
       "      <th>Tenure</th>\n",
       "      <th>Balance</th>\n",
       "      <th>NumOfProducts</th>\n",
       "      <th>HasCrCard</th>\n",
       "      <th>IsActiveMember</th>\n",
       "      <th>EstimatedSalary</th>\n",
       "      <th>Country_France</th>\n",
       "      <th>Country_Germany</th>\n",
       "      <th>Country_Spain</th>\n",
       "      <th>Country_France</th>\n",
       "      <th>Country_Germany</th>\n",
       "      <th>Country_Spain</th>\n",
       "      <th>Gender_Female</th>\n",
       "      <th>Gender_Male</th>\n",
       "    </tr>\n",
       "  </thead>\n",
       "  <tbody>\n",
       "    <tr>\n",
       "      <th>0</th>\n",
       "      <td>1</td>\n",
       "      <td>619</td>\n",
       "      <td>42</td>\n",
       "      <td>2</td>\n",
       "      <td>0.00</td>\n",
       "      <td>1</td>\n",
       "      <td>1</td>\n",
       "      <td>1</td>\n",
       "      <td>101348.88</td>\n",
       "      <td>1</td>\n",
       "      <td>0</td>\n",
       "      <td>0</td>\n",
       "      <td>1</td>\n",
       "      <td>0</td>\n",
       "      <td>0</td>\n",
       "      <td>1</td>\n",
       "      <td>0</td>\n",
       "    </tr>\n",
       "    <tr>\n",
       "      <th>1</th>\n",
       "      <td>0</td>\n",
       "      <td>608</td>\n",
       "      <td>41</td>\n",
       "      <td>1</td>\n",
       "      <td>83807.86</td>\n",
       "      <td>1</td>\n",
       "      <td>0</td>\n",
       "      <td>1</td>\n",
       "      <td>112542.58</td>\n",
       "      <td>0</td>\n",
       "      <td>0</td>\n",
       "      <td>1</td>\n",
       "      <td>0</td>\n",
       "      <td>0</td>\n",
       "      <td>1</td>\n",
       "      <td>1</td>\n",
       "      <td>0</td>\n",
       "    </tr>\n",
       "    <tr>\n",
       "      <th>2</th>\n",
       "      <td>1</td>\n",
       "      <td>502</td>\n",
       "      <td>42</td>\n",
       "      <td>8</td>\n",
       "      <td>159660.80</td>\n",
       "      <td>3</td>\n",
       "      <td>1</td>\n",
       "      <td>0</td>\n",
       "      <td>113931.57</td>\n",
       "      <td>1</td>\n",
       "      <td>0</td>\n",
       "      <td>0</td>\n",
       "      <td>1</td>\n",
       "      <td>0</td>\n",
       "      <td>0</td>\n",
       "      <td>1</td>\n",
       "      <td>0</td>\n",
       "    </tr>\n",
       "    <tr>\n",
       "      <th>3</th>\n",
       "      <td>0</td>\n",
       "      <td>699</td>\n",
       "      <td>39</td>\n",
       "      <td>1</td>\n",
       "      <td>0.00</td>\n",
       "      <td>2</td>\n",
       "      <td>0</td>\n",
       "      <td>0</td>\n",
       "      <td>93826.63</td>\n",
       "      <td>1</td>\n",
       "      <td>0</td>\n",
       "      <td>0</td>\n",
       "      <td>1</td>\n",
       "      <td>0</td>\n",
       "      <td>0</td>\n",
       "      <td>1</td>\n",
       "      <td>0</td>\n",
       "    </tr>\n",
       "    <tr>\n",
       "      <th>4</th>\n",
       "      <td>0</td>\n",
       "      <td>850</td>\n",
       "      <td>43</td>\n",
       "      <td>2</td>\n",
       "      <td>125510.82</td>\n",
       "      <td>1</td>\n",
       "      <td>1</td>\n",
       "      <td>1</td>\n",
       "      <td>79084.10</td>\n",
       "      <td>0</td>\n",
       "      <td>0</td>\n",
       "      <td>1</td>\n",
       "      <td>0</td>\n",
       "      <td>0</td>\n",
       "      <td>1</td>\n",
       "      <td>1</td>\n",
       "      <td>0</td>\n",
       "    </tr>\n",
       "    <tr>\n",
       "      <th>...</th>\n",
       "      <td>...</td>\n",
       "      <td>...</td>\n",
       "      <td>...</td>\n",
       "      <td>...</td>\n",
       "      <td>...</td>\n",
       "      <td>...</td>\n",
       "      <td>...</td>\n",
       "      <td>...</td>\n",
       "      <td>...</td>\n",
       "      <td>...</td>\n",
       "      <td>...</td>\n",
       "      <td>...</td>\n",
       "      <td>...</td>\n",
       "      <td>...</td>\n",
       "      <td>...</td>\n",
       "      <td>...</td>\n",
       "      <td>...</td>\n",
       "    </tr>\n",
       "    <tr>\n",
       "      <th>9995</th>\n",
       "      <td>0</td>\n",
       "      <td>771</td>\n",
       "      <td>39</td>\n",
       "      <td>5</td>\n",
       "      <td>0.00</td>\n",
       "      <td>2</td>\n",
       "      <td>1</td>\n",
       "      <td>0</td>\n",
       "      <td>96270.64</td>\n",
       "      <td>1</td>\n",
       "      <td>0</td>\n",
       "      <td>0</td>\n",
       "      <td>1</td>\n",
       "      <td>0</td>\n",
       "      <td>0</td>\n",
       "      <td>0</td>\n",
       "      <td>1</td>\n",
       "    </tr>\n",
       "    <tr>\n",
       "      <th>9996</th>\n",
       "      <td>0</td>\n",
       "      <td>516</td>\n",
       "      <td>35</td>\n",
       "      <td>10</td>\n",
       "      <td>57369.61</td>\n",
       "      <td>1</td>\n",
       "      <td>1</td>\n",
       "      <td>1</td>\n",
       "      <td>101699.77</td>\n",
       "      <td>1</td>\n",
       "      <td>0</td>\n",
       "      <td>0</td>\n",
       "      <td>1</td>\n",
       "      <td>0</td>\n",
       "      <td>0</td>\n",
       "      <td>0</td>\n",
       "      <td>1</td>\n",
       "    </tr>\n",
       "    <tr>\n",
       "      <th>9997</th>\n",
       "      <td>1</td>\n",
       "      <td>709</td>\n",
       "      <td>36</td>\n",
       "      <td>7</td>\n",
       "      <td>0.00</td>\n",
       "      <td>1</td>\n",
       "      <td>0</td>\n",
       "      <td>1</td>\n",
       "      <td>42085.58</td>\n",
       "      <td>1</td>\n",
       "      <td>0</td>\n",
       "      <td>0</td>\n",
       "      <td>1</td>\n",
       "      <td>0</td>\n",
       "      <td>0</td>\n",
       "      <td>1</td>\n",
       "      <td>0</td>\n",
       "    </tr>\n",
       "    <tr>\n",
       "      <th>9998</th>\n",
       "      <td>1</td>\n",
       "      <td>772</td>\n",
       "      <td>42</td>\n",
       "      <td>3</td>\n",
       "      <td>75075.31</td>\n",
       "      <td>2</td>\n",
       "      <td>1</td>\n",
       "      <td>0</td>\n",
       "      <td>92888.52</td>\n",
       "      <td>0</td>\n",
       "      <td>1</td>\n",
       "      <td>0</td>\n",
       "      <td>0</td>\n",
       "      <td>1</td>\n",
       "      <td>0</td>\n",
       "      <td>0</td>\n",
       "      <td>1</td>\n",
       "    </tr>\n",
       "    <tr>\n",
       "      <th>9999</th>\n",
       "      <td>0</td>\n",
       "      <td>792</td>\n",
       "      <td>28</td>\n",
       "      <td>4</td>\n",
       "      <td>130142.79</td>\n",
       "      <td>1</td>\n",
       "      <td>1</td>\n",
       "      <td>0</td>\n",
       "      <td>38190.78</td>\n",
       "      <td>1</td>\n",
       "      <td>0</td>\n",
       "      <td>0</td>\n",
       "      <td>1</td>\n",
       "      <td>0</td>\n",
       "      <td>0</td>\n",
       "      <td>1</td>\n",
       "      <td>0</td>\n",
       "    </tr>\n",
       "  </tbody>\n",
       "</table>\n",
       "<p>10000 rows × 17 columns</p>\n",
       "</div>"
      ],
      "text/plain": [
       "      Exited  CreditScore  Age  Tenure    Balance  NumOfProducts  HasCrCard  \\\n",
       "0          1          619   42       2       0.00              1          1   \n",
       "1          0          608   41       1   83807.86              1          0   \n",
       "2          1          502   42       8  159660.80              3          1   \n",
       "3          0          699   39       1       0.00              2          0   \n",
       "4          0          850   43       2  125510.82              1          1   \n",
       "...      ...          ...  ...     ...        ...            ...        ...   \n",
       "9995       0          771   39       5       0.00              2          1   \n",
       "9996       0          516   35      10   57369.61              1          1   \n",
       "9997       1          709   36       7       0.00              1          0   \n",
       "9998       1          772   42       3   75075.31              2          1   \n",
       "9999       0          792   28       4  130142.79              1          1   \n",
       "\n",
       "      IsActiveMember  EstimatedSalary  Country_France  Country_Germany  \\\n",
       "0                  1        101348.88               1                0   \n",
       "1                  1        112542.58               0                0   \n",
       "2                  0        113931.57               1                0   \n",
       "3                  0         93826.63               1                0   \n",
       "4                  1         79084.10               0                0   \n",
       "...              ...              ...             ...              ...   \n",
       "9995               0         96270.64               1                0   \n",
       "9996               1        101699.77               1                0   \n",
       "9997               1         42085.58               1                0   \n",
       "9998               0         92888.52               0                1   \n",
       "9999               0         38190.78               1                0   \n",
       "\n",
       "      Country_Spain  Country_France  Country_Germany  Country_Spain  \\\n",
       "0                 0               1                0              0   \n",
       "1                 1               0                0              1   \n",
       "2                 0               1                0              0   \n",
       "3                 0               1                0              0   \n",
       "4                 1               0                0              1   \n",
       "...             ...             ...              ...            ...   \n",
       "9995              0               1                0              0   \n",
       "9996              0               1                0              0   \n",
       "9997              0               1                0              0   \n",
       "9998              0               0                1              0   \n",
       "9999              0               1                0              0   \n",
       "\n",
       "      Gender_Female  Gender_Male  \n",
       "0                 1            0  \n",
       "1                 1            0  \n",
       "2                 1            0  \n",
       "3                 1            0  \n",
       "4                 1            0  \n",
       "...             ...          ...  \n",
       "9995              0            1  \n",
       "9996              0            1  \n",
       "9997              1            0  \n",
       "9998              0            1  \n",
       "9999              1            0  \n",
       "\n",
       "[10000 rows x 17 columns]"
      ]
     },
     "execution_count": 13,
     "metadata": {},
     "output_type": "execute_result"
    }
   ],
   "source": [
    "data"
   ]
  },
  {
   "cell_type": "markdown",
   "id": "bc31ff8d-66c8-41e1-82c1-ec0efa06f599",
   "metadata": {},
   "source": [
    "## Split to Train, Validation, and Test Set"
   ]
  },
  {
   "cell_type": "code",
   "execution_count": 14,
   "id": "0aa2007a-fffc-474b-84d2-951b6bb0a058",
   "metadata": {
    "tags": []
   },
   "outputs": [],
   "source": [
    "# code borrowed from sagemaker notebook: xgboost_customer_churn.ipynb\n",
    "train_data, validation_data, test_data = np.split(\n",
    "    data.sample(frac=1, random_state=42),\n",
    "    [int(0.7 * len(data)), int(0.9 * len(data))],\n",
    ")\n",
    "\n",
    "train_data.to_csv(\"train.csv\", header=False, index=False)\n",
    "validation_data.to_csv(\"validation.csv\", header=False, index=False)"
   ]
  },
  {
   "cell_type": "code",
   "execution_count": 15,
   "id": "90f1e92a-a767-479d-8180-ea5d24411466",
   "metadata": {
    "tags": []
   },
   "outputs": [],
   "source": [
    "# Upload data to our bucket.\n",
    "\n",
    "boto3.Session().resource(\"s3\").Bucket(bucket).Object(\n",
    "    os.path.join(prefix, \"train/train.csv\")\n",
    ").upload_file(\"train.csv\")\n",
    "boto3.Session().resource(\"s3\").Bucket(bucket).Object(\n",
    "    os.path.join(prefix, \"validation/validation.csv\")\n",
    ").upload_file(\"validation.csv\")"
   ]
  },
  {
   "cell_type": "markdown",
   "id": "30db84f5-7a11-4f7d-aad8-cbafc21e76fc",
   "metadata": {},
   "source": [
    "Note: Typically, we would perform scaling after data is split. We don't want to leak out information to the test set when performing the scaling. It is supposed to be unseen data. Howerver, for Decision Tree and Ensemble Techniques like XGBoost this is not required.\n",
    "\n",
    "See [article](https://medium.com/codex/feature-scaling-in-machine-learning-e86b360d1c31#:~:text=Important%20Points%20to%20Remember%3A,data%20into%20training%20and%20testing)"
   ]
  },
  {
   "cell_type": "markdown",
   "id": "1ebd7cbe-7492-47c1-bc23-e6d9516a72e7",
   "metadata": {},
   "source": [
    "## Train the Model"
   ]
  },
  {
   "cell_type": "code",
   "execution_count": 17,
   "id": "84b89b42-c104-45e0-9e7a-0d4e13929693",
   "metadata": {},
   "outputs": [],
   "source": [
    "container = sagemaker.image_uris.retrieve(\"xgboost\", sess.boto_region_name, \"1.5-1\")"
   ]
  },
  {
   "cell_type": "code",
   "execution_count": 18,
   "id": "a039bf57-0d4f-4110-8e88-e0f001f92601",
   "metadata": {
    "tags": []
   },
   "outputs": [],
   "source": [
    "s3_input_train = TrainingInput(\n",
    "    s3_data=\"s3://{}/{}/train\".format(bucket, prefix), content_type=\"csv\"\n",
    ")\n",
    "s3_input_validation = TrainingInput(\n",
    "    s3_data=\"s3://{}/{}/validation/\".format(bucket, prefix), content_type=\"csv\"\n",
    ")"
   ]
  },
  {
   "cell_type": "code",
   "execution_count": 25,
   "id": "94bd2a96-9724-4d85-a2c8-c866fdedb31d",
   "metadata": {
    "tags": []
   },
   "outputs": [],
   "source": [
    "sess = sagemaker.Session()\n",
    "\n",
    "xgb = sagemaker.estimator.Estimator(\n",
    "    container,\n",
    "    role,\n",
    "    instance_count=1,\n",
    "    instance_type=\"ml.m4.xlarge\",\n",
    "    output_path=\"s3://{}/{}/output\".format(bucket, prefix),\n",
    "    sagemaker_session=sess,\n",
    ")\n",
    "xgb.set_hyperparameters(\n",
    "    eval_metric=\"auc\",\n",
    "    max_depth=5,\n",
    "    objective=\"binary:logistic\",\n",
    "    num_round=10,\n",
    ")\n",
    "\n"
   ]
  },
  {
   "cell_type": "code",
   "execution_count": 26,
   "id": "e714d3f2-8c09-449c-b56a-6c5eaac2aa2c",
   "metadata": {
    "tags": []
   },
   "outputs": [],
   "source": [
    "from sagemaker.tuner import (\n",
    "    ContinuousParameter,\n",
    "    HyperparameterTuner,\n",
    ")\n",
    "\n",
    "# https://docs.aws.amazon.com/sagemaker/latest/dg/xgboost_hyperparameters.html\n",
    "# Setting up Hyperparamters and job\n",
    "\n",
    "objective_metric_name = \"validation:auc\"\n",
    "\n",
    "\n",
    "hyperparameter_ranges = {\n",
    "    \"alpha\": ContinuousParameter(0.01, 10, scaling_type=\"Logarithmic\"),\n",
    "    \"lambda\": ContinuousParameter(0.01, 10, scaling_type=\"Logarithmic\"),\n",
    "    \"gamma\": ContinuousParameter(0.01, 10, scaling_type=\"Logarithmic\")\n",
    "}\n"
   ]
  },
  {
   "cell_type": "code",
   "execution_count": 27,
   "id": "16b8010b-41ce-4c42-b8c3-3a2e52cccf28",
   "metadata": {
    "tags": []
   },
   "outputs": [
    {
     "name": "stderr",
     "output_type": "stream",
     "text": [
      "No finished training job found associated with this estimator. Please make sure this estimator is only used for building workflow config\n",
      "No finished training job found associated with this estimator. Please make sure this estimator is only used for building workflow config\n"
     ]
    },
    {
     "name": "stdout",
     "output_type": "stream",
     "text": [
      ".................................................................!\n"
     ]
    }
   ],
   "source": [
    "tuner_log = HyperparameterTuner(\n",
    "    xgb,\n",
    "    objective_metric_name,\n",
    "    hyperparameter_ranges,\n",
    "    max_jobs=5,\n",
    "    max_parallel_jobs=5,\n",
    ")\n",
    "\n",
    "# Train the Model\n",
    "tuner_log.fit({\"train\": s3_input_train, \"validation\": s3_input_validation})"
   ]
  },
  {
   "cell_type": "markdown",
   "id": "1c62fdb1-c3c6-4b89-af7d-c52897006677",
   "metadata": {},
   "source": [
    "## Make the Endpoint"
   ]
  },
  {
   "cell_type": "code",
   "execution_count": 28,
   "id": "5feb7d83-f555-43d1-9eb9-b48220dae39e",
   "metadata": {
    "tags": []
   },
   "outputs": [
    {
     "name": "stdout",
     "output_type": "stream",
     "text": [
      "\n",
      "2022-12-04 19:59:57 Starting - Preparing the instances for training\n",
      "2022-12-04 19:59:57 Downloading - Downloading input data\n",
      "2022-12-04 19:59:57 Training - Training image download completed. Training in progress.\n",
      "2022-12-04 19:59:57 Uploading - Uploading generated training model\n",
      "2022-12-04 19:59:57 Completed - Resource retained for reuse\n",
      "-------!"
     ]
    }
   ],
   "source": [
    "\n",
    "xgb_predictor = tuner_log.deploy(\n",
    "    initial_instance_count=1, instance_type=\"ml.m4.xlarge\", serializer=CSVSerializer()\n",
    ")"
   ]
  },
  {
   "cell_type": "markdown",
   "id": "4a8feba7-07b8-45ae-868f-1683d0a31537",
   "metadata": {},
   "source": [
    "## Make Inferences"
   ]
  },
  {
   "cell_type": "markdown",
   "id": "3d446a64-1502-4025-ba64-e85837d8ce8a",
   "metadata": {},
   "source": [
    "For CSV inference, the algorithm assumes that CSV input does not have the label column.\n",
    "See: https://docs.aws.amazon.com/sagemaker/latest/dg/xgboost.html"
   ]
  },
  {
   "cell_type": "code",
   "execution_count": 29,
   "id": "0bd4b3d6-0478-447c-968d-a423e770cca2",
   "metadata": {
    "tags": []
   },
   "outputs": [],
   "source": [
    "def predict(data, rows=500):\n",
    "    split_array = np.array_split(data, int(data.shape[0] / float(rows) + 1))\n",
    "    predictions = \"\"\n",
    "    for array in split_array:\n",
    "        predictions = \"\".join([predictions, xgb_predictor.predict(array).decode(\"utf-8\")])\n",
    "\n",
    "    return predictions.split(\"\\n\")[:-1]\n",
    "\n",
    "\n",
    "predictions = predict(test_data.to_numpy()[:, 1:])"
   ]
  },
  {
   "cell_type": "code",
   "execution_count": 30,
   "id": "c9bfccda-7670-4768-9201-144c1405c7b1",
   "metadata": {
    "collapsed": true,
    "jupyter": {
     "outputs_hidden": true
    },
    "tags": []
   },
   "outputs": [
    {
     "name": "stdout",
     "output_type": "stream",
     "text": [
      "[0.04751325 0.07079252 0.04532289 0.10755198 0.24770755 0.04366031\n",
      " 0.51697034 0.0562619  0.11353371 0.92949408 0.27352089 0.67257702\n",
      " 0.08485536 0.1277363  0.18645319 0.67395329 0.19991206 0.03821642\n",
      " 0.04900043 0.16270427 0.19765382 0.16772442 0.11363258 0.03821642\n",
      " 0.18645319 0.93869632 0.19108482 0.36235419 0.03798985 0.14398846\n",
      " 0.70625848 0.11363258 0.4027068  0.13515076 0.16418144 0.23648231\n",
      " 0.0464488  0.35673702 0.18171403 0.03732501 0.1338391  0.04346482\n",
      " 0.77420807 0.71473205 0.08485536 0.59337813 0.11855917 0.09604938\n",
      " 0.08724353 0.06523094 0.08481106 0.35579419 0.05509522 0.1277363\n",
      " 0.07061758 0.12936921 0.10059627 0.06110755 0.34429178 0.0562619\n",
      " 0.40794638 0.17532206 0.43964538 0.36235419 0.72185832 0.6223402\n",
      " 0.15299229 0.25845879 0.31940088 0.09604938 0.291042   0.10439139\n",
      " 0.07317394 0.82749909 0.10262727 0.20399669 0.23645574 0.27223954\n",
      " 0.07518623 0.16341145 0.04053403 0.06416917 0.90563792 0.14241204\n",
      " 0.20738205 0.94421858 0.07410982 0.1440759  0.03903994 0.93588054\n",
      " 0.13994211 0.36126611 0.05265898 0.27562889 0.14982784 0.26591942\n",
      " 0.03770472 0.42752752 0.04317874 0.04532289 0.14488703 0.18645319\n",
      " 0.2433306  0.06416917 0.05494318 0.10966873 0.08156469 0.7174744\n",
      " 0.59337813 0.08655285 0.14070582 0.0763583  0.63520724 0.07413872\n",
      " 0.13933645 0.05740735 0.19740982 0.04252017 0.03903994 0.04900043\n",
      " 0.35391167 0.04737455 0.16885057 0.03903994 0.19168693 0.11730127\n",
      " 0.36219966 0.42829669 0.07016762 0.47007486 0.10689855 0.163872\n",
      " 0.08172526 0.92424107 0.38860047 0.11576499 0.20335361 0.19740982\n",
      " 0.34135678 0.03798985 0.09582566 0.12536438 0.55484879 0.40813008\n",
      " 0.06610694 0.42102244 0.04252017 0.2396863  0.12757823 0.08017722\n",
      " 0.22148617 0.87570667 0.07054602 0.03821642 0.89172029 0.12313774\n",
      " 0.13515076 0.11981535 0.48608905 0.31644756 0.07016762 0.43468055\n",
      " 0.1277363  0.04493218 0.35391489 0.20399669 0.04528835 0.09024348\n",
      " 0.03903994 0.05535917 0.49817124 0.03798985 0.13515076 0.50292146\n",
      " 0.83815116 0.84701383 0.05265898 0.09604938 0.47007486 0.08595285\n",
      " 0.03668918 0.16501139 0.05265898 0.06330278 0.14378184 0.03479606\n",
      " 0.63447303 0.10107397 0.20413999 0.08081675 0.26591942 0.06945816\n",
      " 0.56082308 0.11149485 0.11598783 0.18047841 0.17126584 0.16233717\n",
      " 0.48608905 0.06026448 0.08995675 0.11074113 0.0763566  0.19312353\n",
      " 0.03798985 0.86697382 0.10618762 0.07948303 0.80191755 0.27312404\n",
      " 0.45824564 0.0476337  0.08586515 0.09701177 0.09604938 0.23031501\n",
      " 0.14241204 0.09604938 0.05301989 0.16885057 0.03668918 0.14378184\n",
      " 0.43964538 0.13410376 0.2377256  0.06026448 0.04016961 0.04528835\n",
      " 0.1292911  0.15993662 0.36235419 0.0562619  0.16141464 0.10998031\n",
      " 0.04528835 0.29266852 0.05509522 0.25367281 0.11981535 0.32153413\n",
      " 0.03821642 0.08931049 0.042174   0.75874335 0.11029177 0.13811703\n",
      " 0.13933645 0.23648231 0.08758178 0.07783499 0.42718962 0.06705626\n",
      " 0.06429192 0.04807819 0.21041852 0.05504674 0.07939477 0.12094153\n",
      " 0.05042098 0.18791413 0.34429178 0.67098814 0.84701383 0.37423876\n",
      " 0.06541499 0.04366031 0.51697034 0.10689855 0.03798985 0.39670303\n",
      " 0.06016841 0.1039791  0.81984669 0.16373114 0.0763566  0.56082308\n",
      " 0.04366031 0.04366031 0.91317409 0.11205074 0.07684297 0.11981535\n",
      " 0.1081346  0.78493357 0.05296599 0.43930325 0.14982784 0.04252017\n",
      " 0.05504674 0.042174   0.08172526 0.09580832 0.12313774 0.20668682\n",
      " 0.11430445 0.13666919 0.04252017 0.1035643  0.24495627 0.09770776\n",
      " 0.05109325 0.74751598 0.05750895 0.19137776 0.04641546 0.4561508\n",
      " 0.11981535 0.05474652 0.291042   0.24385664 0.16885057 0.26591942\n",
      " 0.04053403 0.51681644 0.13572595 0.12536438 0.03821642 0.50867331\n",
      " 0.24746835 0.41019157 0.74499661 0.07684297 0.27073157 0.10107397\n",
      " 0.12787838 0.03798985 0.4027068  0.24149786 0.16131665 0.06217112\n",
      " 0.1522665  0.06026448 0.05109325 0.39498776 0.90919507 0.83497012\n",
      " 0.04745819 0.19108482 0.10157369 0.07363912 0.11756857 0.95064896\n",
      " 0.04252017 0.04223748 0.50292146 0.67257702 0.10948768 0.08655285\n",
      " 0.11580952 0.0921321  0.19578119 0.14398846 0.56954682 0.05504674\n",
      " 0.20139493 0.163872   0.18190138 0.04981293 0.31259599 0.08655285\n",
      " 0.40889847 0.12536438 0.19740982 0.03821642 0.34135678 0.40340015\n",
      " 0.28406033 0.04053403 0.07722908 0.05275735 0.07785171 0.31155565\n",
      " 0.04317874 0.54287899 0.06945816 0.66463697 0.13515076 0.10262749\n",
      " 0.7416321  0.03732501 0.04053403 0.12064826 0.32401505 0.71034825\n",
      " 0.11580952 0.91671914 0.16141464 0.04317874 0.0763566  0.03732501\n",
      " 0.04998847 0.38860047 0.11393952 0.07079252 0.06803304 0.32018712\n",
      " 0.37210992 0.22148617 0.23193088 0.93869632 0.28341511 0.14508739\n",
      " 0.04807819 0.10618762 0.84381348 0.03770472 0.03903994 0.90563792\n",
      " 0.22414829 0.06931376 0.04252017 0.14100315 0.08515111 0.16131665\n",
      " 0.06363659 0.042174   0.49202922 0.11806913 0.11518545 0.0463616\n",
      " 0.04053403 0.30017152 0.37282446 0.88414735 0.08995675 0.81320727\n",
      " 0.06377088 0.15873796 0.57989633 0.10759025 0.0763566  0.36013627\n",
      " 0.17532206 0.08403947 0.06573625 0.89346498 0.09604938 0.18247859\n",
      " 0.09687865 0.61865681 0.18737452 0.23521352 0.12978634 0.14366776\n",
      " 0.03798985 0.42102244 0.07413872 0.03770472 0.12202258 0.71263087\n",
      " 0.10107397 0.07016762 0.12345539 0.22751424 0.18904179 0.06807736\n",
      " 0.03903994 0.85117191 0.12543683 0.1013737  0.06377088 0.4561508\n",
      " 0.14612018 0.03903994 0.05929296 0.18556519 0.06523094 0.06573625\n",
      " 0.1774478  0.04053403 0.50411427 0.09751558 0.75197625 0.03798985\n",
      " 0.83404022 0.06803304 0.7174744  0.22020483 0.25572509 0.05514437\n",
      " 0.43736899 0.2632452  0.08913558 0.12341311 0.06945816 0.33393404\n",
      " 0.04999974 0.14567821 0.06705626 0.04900043 0.05181237 0.14070582\n",
      " 0.08842786 0.21994777 0.6223402  0.26656029 0.05504674 0.26591942\n",
      " 0.11580952 0.8054921  0.04532289 0.09687865 0.06357914 0.20738205\n",
      " 0.45824564 0.07054602 0.03903994 0.03798985 0.16834079 0.07411539\n",
      " 0.13410376 0.04366031 0.07411539 0.6223402  0.26591942 0.1008364\n",
      " 0.0476337  0.08351381 0.57988    0.03821642 0.09701177 0.22809595\n",
      " 0.26591942 0.13342872 0.22314163 0.24053632 0.44928345 0.74751598\n",
      " 0.03903994 0.09604938 0.04366031 0.17425591 0.04252017 0.18737452\n",
      " 0.12188997 0.06016841 0.17670198 0.15527439 0.08586515 0.16885057\n",
      " 0.05494318 0.26591942 0.03668918 0.05584907 0.04317874 0.77479583\n",
      " 0.12239093 0.05431239 0.19918783 0.44605279 0.22033907 0.39993814\n",
      " 0.07881781 0.11029177 0.04826434 0.042174   0.03903994 0.04532289\n",
      " 0.07054602 0.90563792 0.03798985 0.79665756 0.05229562 0.24440576\n",
      " 0.07016762 0.03821642 0.09604938 0.13572595 0.59373766 0.23977149\n",
      " 0.03479606 0.11743548 0.0769783  0.17596833 0.04528835 0.03903994\n",
      " 0.0763566  0.3479591  0.86581302 0.06932546 0.1522665  0.03798985\n",
      " 0.04234991 0.03821642 0.39572787 0.03903994 0.21622162 0.04053403\n",
      " 0.27912611 0.09604938 0.26591942 0.11759311 0.69613022 0.1748229\n",
      " 0.20413999 0.2154862  0.20754606 0.21041852 0.18645319 0.04532289\n",
      " 0.06593139 0.06931376 0.04745819 0.75197625 0.04317874 0.82110435\n",
      " 0.18410687 0.03668918 0.30611545 0.05535917 0.05991746 0.14488703\n",
      " 0.13410376 0.14861961 0.16141464 0.03798985 0.232344   0.30270162\n",
      " 0.22573362 0.12239093 0.16378607 0.03798985 0.24256885 0.100528\n",
      " 0.11743548 0.042174   0.11393952 0.12306226 0.18016373 0.05929296\n",
      " 0.1370163  0.21000968 0.93978012 0.10291117 0.19227795 0.13810924\n",
      " 0.08774503 0.3276585  0.1774478  0.14979582 0.0476337  0.26009226\n",
      " 0.08758178 0.03668918 0.45824564 0.0940735  0.0638241  0.20738205\n",
      " 0.14048138 0.08091848 0.81633031 0.04252017 0.04053403 0.2949529\n",
      " 0.06110755 0.09024348 0.05823375 0.75197625 0.10618762 0.33298665\n",
      " 0.81933635 0.06026531 0.23600838 0.23521352 0.11205074 0.03668918\n",
      " 0.55699068 0.84455538 0.74917829 0.26591942 0.11688586 0.0763566\n",
      " 0.56082308 0.35281    0.14363492 0.12239093 0.50659806 0.08172526\n",
      " 0.1440222  0.15000685 0.49972478 0.03479606 0.04571632 0.05504674\n",
      " 0.04528835 0.37282446 0.21510912 0.04252017 0.05188563 0.04252017\n",
      " 0.12760736 0.04366031 0.54857814 0.78493357 0.05109325 0.50217354\n",
      " 0.57988    0.042174   0.0921321  0.27676851 0.76215136 0.2632452\n",
      " 0.12836464 0.25007454 0.0769783  0.11946831 0.14932241 0.1277363\n",
      " 0.09433858 0.34135678 0.15243977 0.30441087 0.08586515 0.11363258\n",
      " 0.04053403 0.03732501 0.12856366 0.23197244 0.07233649 0.0718798\n",
      " 0.71034825 0.21989611 0.1292911  0.06021358 0.20714748 0.43930325\n",
      " 0.59337813 0.04366031 0.11205074 0.06610694 0.03821642 0.05494318\n",
      " 0.08091848 0.18370232 0.94156712 0.3291367  0.18645319 0.9103601\n",
      " 0.22148617 0.32045665 0.04366031 0.13713254 0.18242045 0.03903994\n",
      " 0.14838517 0.10724998 0.03798985 0.50217354 0.13515076 0.09604938\n",
      " 0.11696697 0.03732501 0.09751558 0.04317874 0.03903994 0.37210992\n",
      " 0.89113969 0.08208127 0.06377088 0.04053403 0.12923256 0.35066876\n",
      " 0.08403947 0.40340015 0.05702236 0.08471196 0.04745819 0.26591942\n",
      " 0.09604938 0.41019157 0.31950486 0.08403947 0.07939477 0.06573625\n",
      " 0.291042   0.15050063 0.14982784 0.18047841 0.07055584 0.05265898\n",
      " 0.04053403 0.15361898 0.03798985 0.24746835 0.09604938 0.83958501\n",
      " 0.16493912 0.24602897 0.0932563  0.93832356 0.08703825 0.05229562\n",
      " 0.09604938 0.08156469 0.18826996 0.14488703 0.15235676 0.13434625\n",
      " 0.04252017 0.06241799 0.1277363  0.11631348 0.94664526 0.05109325\n",
      " 0.16869004 0.23977149 0.03821642 0.28311148 0.03798985 0.04528835\n",
      " 0.06108437 0.81386089 0.10107397 0.06085249 0.06932546 0.03798985\n",
      " 0.07621581 0.16952002 0.07079252 0.06416917 0.33393404 0.05838948\n",
      " 0.08699685 0.11981535 0.07016762 0.09834597 0.03903994 0.13085711\n",
      " 0.13922222 0.26781613 0.07411539 0.20139493 0.07016762 0.04252017\n",
      " 0.11576499 0.10759025 0.07684297 0.07016762 0.04532289 0.06409144\n",
      " 0.03668918 0.05394027 0.0763566  0.16885057 0.22020483 0.05229562\n",
      " 0.08403947 0.05838948 0.11363258 0.36126611 0.32667375 0.15873796\n",
      " 0.05646516 0.1440222  0.08758178 0.13515076 0.23648231 0.09361978\n",
      " 0.04053403 0.20139493 0.18645319 0.1026554  0.05641812 0.13342872\n",
      " 0.13087161 0.07061758 0.05740735 0.56670171 0.06108437 0.05229562\n",
      " 0.03798985 0.04252017 0.03903994 0.06738132 0.10262749 0.36126611\n",
      " 0.06289421 0.30441087 0.06416917 0.08931049 0.1277363  0.34308562\n",
      " 0.32966366 0.51681644 0.08971947 0.06541499 0.1277363  0.08995675\n",
      " 0.03798985 0.11576499 0.86022508 0.47007486 0.13515076 0.7111659\n",
      " 0.86017913 0.05394027 0.08103766 0.66757315 0.291042   0.03770472\n",
      " 0.11074113 0.08308019 0.21319982 0.42829669 0.05497364 0.07061758\n",
      " 0.4050121  0.03668918 0.08017722 0.04252017 0.08595285 0.05189044\n",
      " 0.15407583 0.03668918 0.10157369 0.05229562 0.08172233 0.14100315\n",
      " 0.06110755 0.10291117 0.94453657 0.65675932 0.04346482 0.08403947\n",
      " 0.05504674 0.06108437 0.4027068  0.03798985 0.0769783  0.14662294\n",
      " 0.19083974 0.06610694 0.05180178 0.05936874 0.31098068 0.76492977\n",
      " 0.04745819 0.14488703 0.06870238 0.06416917 0.53702492 0.11975061\n",
      " 0.81529105 0.37282446 0.18381734 0.23648231 0.16772442 0.20384392\n",
      " 0.042174   0.95182067 0.06108437 0.05751684 0.10107397 0.7174744\n",
      " 0.06108437 0.07911297 0.82809573 0.30459705 0.17532206 0.09926043\n",
      " 0.26591942 0.06360224 0.39551264 0.10689855 0.05504674 0.08931049\n",
      " 0.26202112 0.03903994 0.09361978 0.27519366 0.03903994 0.05301989\n",
      " 0.1748229  0.89358914 0.22070663 0.18465441 0.0771433  0.55962849\n",
      " 0.67974538 0.06945816 0.05474652 0.05709169 0.05750895 0.16141464\n",
      " 0.07225289 0.05504674 0.17929226 0.2503739  0.04317874 0.11747686\n",
      " 0.33298665 0.092214   0.05181237 0.10759025 0.36110249 0.29791343\n",
      " 0.06363659 0.22861259 0.05535917 0.07058375]\n"
     ]
    }
   ],
   "source": [
    "predictions = np.array([float(num) for num in predictions])\n",
    "print(predictions)"
   ]
  },
  {
   "cell_type": "markdown",
   "id": "a8483aad-b5be-45ff-b0fe-c0b98db89865",
   "metadata": {},
   "source": [
    "## Evaluation\n",
    "Compare against Dummy Classifier. This is to see if our model is useful or is not better than guessing."
   ]
  },
  {
   "cell_type": "code",
   "execution_count": 31,
   "id": "74dc38b7-c1b5-4609-adf0-f5a4b4c34b6c",
   "metadata": {
    "tags": []
   },
   "outputs": [
    {
     "data": {
      "text/plain": [
       "0.663"
      ]
     },
     "execution_count": 31,
     "metadata": {},
     "output_type": "execute_result"
    }
   ],
   "source": [
    "dummy_clf = DummyClassifier(strategy=\"stratified\")\n",
    "dummy_clf.fit(test_data.iloc[:,1:], test_data['Exited'])\n",
    "\n",
    "dummy_clf.predict(test_data.iloc[:,1:])\n",
    "dummy_clf.score(test_data.iloc[:,1:], test_data['Exited'])"
   ]
  },
  {
   "attachments": {
    "1a465d50-7c2e-4e99-afa1-5751c9c56049.png": {
     "image/png": "[encoded data removed]"
    }
   },
   "cell_type": "markdown",
   "id": "5fa51082-9905-485b-9302-c080f7941b1a",
   "metadata": {},
   "source": [
    "\n",
    "In context to this scenario, we want to balance between recall and precision. If we maximize recall and reduce churn, the number of incentives must be increased. However, precision will inevitably decrease because more false-positives will occur. Eventually, the cost of incentives will outweigh the churn prevented. In economics, the theory behind this is the law of diminishing return or what my co-worker says, \"having too many chefs in the kitchen\". \n",
    "\n",
    "Let's assume the cost of someone leaving is 100 dollars and the cost of incentives is 20 dollars. The cost function to minimize is:\n",
    "\n",
    "![image.png](attachment:1a465d50-7c2e-4e99-afa1-5751c9c56049.png)\n"
   ]
  },
  {
   "cell_type": "code",
   "execution_count": 1,
   "id": "534665c8-08bf-4777-97b2-554ca639711b",
   "metadata": {},
   "outputs": [
    {
     "ename": "NameError",
     "evalue": "name 'pd' is not defined",
     "output_type": "error",
     "traceback": [
      "\u001b[0;31m---------------------------------------------------------------------------\u001b[0m",
      "\u001b[0;31mNameError\u001b[0m                                 Traceback (most recent call last)",
      "\u001b[0;32m/tmp/ipykernel_81/1603236719.py\u001b[0m in \u001b[0;36m<module>\u001b[0;34m\u001b[0m\n\u001b[1;32m      1\u001b[0m \u001b[0;31m# Confusion Matrix\u001b[0m\u001b[0;34m\u001b[0m\u001b[0;34m\u001b[0m\u001b[0m\n\u001b[1;32m      2\u001b[0m \u001b[0;34m\u001b[0m\u001b[0m\n\u001b[0;32m----> 3\u001b[0;31m pd.crosstab(\n\u001b[0m\u001b[1;32m      4\u001b[0m     \u001b[0mindex\u001b[0m\u001b[0;34m=\u001b[0m\u001b[0mtest_data\u001b[0m\u001b[0;34m.\u001b[0m\u001b[0miloc\u001b[0m\u001b[0;34m[\u001b[0m\u001b[0;34m:\u001b[0m\u001b[0;34m,\u001b[0m \u001b[0;36m0\u001b[0m\u001b[0;34m]\u001b[0m\u001b[0;34m,\u001b[0m\u001b[0;34m\u001b[0m\u001b[0;34m\u001b[0m\u001b[0m\n\u001b[1;32m      5\u001b[0m     \u001b[0mcolumns\u001b[0m\u001b[0;34m=\u001b[0m\u001b[0mnp\u001b[0m\u001b[0;34m.\u001b[0m\u001b[0mround\u001b[0m\u001b[0;34m(\u001b[0m\u001b[0mpredictions\u001b[0m\u001b[0;34m)\u001b[0m\u001b[0;34m,\u001b[0m\u001b[0;34m\u001b[0m\u001b[0;34m\u001b[0m\u001b[0m\n",
      "\u001b[0;31mNameError\u001b[0m: name 'pd' is not defined"
     ]
    }
   ],
   "source": [
    "# Confusion Matrix\n",
    "\n",
    "pd.crosstab(\n",
    "    index=test_data.iloc[:, 0],\n",
    "    columns=np.round(predictions),\n",
    "    rownames=[\"actual\"],\n",
    "    colnames=[\"predictions\"],\n",
    ")\n",
    "\n",
    "# Accuracy is 84.9%\n",
    "# Precision is at 79%\n",
    "# Recall is at 78% too"
   ]
  },
  {
   "cell_type": "markdown",
   "id": "e686c524-4d54-48b6-9793-c3b06a667b20",
   "metadata": {},
   "source": [
    "\n",
    "False Positive is when the customer is predicted to leave, but they ended up staying.\n",
    "False Negative is when a customer is predicted to stay, but they ended up leaving.\n",
    "True Positive is when the customer is predicted to leave, and they indeed left.\n",
    "True Negative is when the customer is predicted to stay, and they indeed stay.\n",
    "\n",
    "Precision is a measurement to test how well the model performs when predicting the signal, customer churn. \n",
    "\n",
    "\n",
    "\n",
    "See [article](https://towardsdatascience.com/predicting-and-preventing-the-churn-of-high-value-customers-using-machine-learning-adbb4a61095d) and [article](https://www.vidora.com/ml-in-business/reducing-user-churn-with-machine-learning-precision-and-recall/)\n",
    "\n",
    "Through, Hyperparameter Tunign with \"HyperparameterTuner\", we're maximizing this trade-off. "
   ]
  },
  {
   "cell_type": "code",
   "execution_count": 33,
   "id": "91aa3216-b7e3-40d4-8e50-d567c7bffe47",
   "metadata": {
    "tags": []
   },
   "outputs": [
    {
     "name": "stdout",
     "output_type": "stream",
     "text": [
      "713.0360727310181\n"
     ]
    }
   ],
   "source": [
    "end_time = time.time()\n",
    "print(f\"({(end_time-start_time)/60}) minutes have elapsed.\")"
   ]
  },
  {
   "cell_type": "markdown",
   "id": "f58fc680-55a8-4ebd-ab20-ca197bba3583",
   "metadata": {},
   "source": [
    "## Delete the Endpoint\n",
    "When we're done making inferences"
   ]
  },
  {
   "cell_type": "code",
   "execution_count": 35,
   "id": "556f6b10-57e2-48d5-8b0d-2ec0d17da1e8",
   "metadata": {
    "collapsed": true,
    "jupyter": {
     "outputs_hidden": true
    },
    "tags": []
   },
   "outputs": [
    {
     "ename": "ClientError",
     "evalue": "An error occurred (ValidationException) when calling the DeleteEndpoint operation: Could not find endpoint \"arn:aws:sagemaker:us-east-1:258532878709:endpoint/sagemaker-xgboost-221204-1955-004-7e84e614\".",
     "output_type": "error",
     "traceback": [
      "\u001b[0;31m---------------------------------------------------------------------------\u001b[0m",
      "\u001b[0;31mClientError\u001b[0m                               Traceback (most recent call last)",
      "\u001b[0;32m<ipython-input-35-29f4c99589db>\u001b[0m in \u001b[0;36m<module>\u001b[0;34m\u001b[0m\n\u001b[0;32m----> 1\u001b[0;31m \u001b[0msess\u001b[0m\u001b[0;34m.\u001b[0m\u001b[0mdelete_endpoint\u001b[0m\u001b[0;34m(\u001b[0m\u001b[0mendpoint_name\u001b[0m\u001b[0;34m=\u001b[0m\u001b[0mxgb_predictor\u001b[0m\u001b[0;34m.\u001b[0m\u001b[0mendpoint_name\u001b[0m\u001b[0;34m)\u001b[0m\u001b[0;34m\u001b[0m\u001b[0;34m\u001b[0m\u001b[0m\n\u001b[0m",
      "\u001b[0;32m/opt/conda/lib/python3.7/site-packages/sagemaker/session.py\u001b[0m in \u001b[0;36mdelete_endpoint\u001b[0;34m(self, endpoint_name)\u001b[0m\n\u001b[1;32m   3197\u001b[0m         \"\"\"\n\u001b[1;32m   3198\u001b[0m         \u001b[0mLOGGER\u001b[0m\u001b[0;34m.\u001b[0m\u001b[0minfo\u001b[0m\u001b[0;34m(\u001b[0m\u001b[0;34m\"Deleting endpoint with name: %s\"\u001b[0m\u001b[0;34m,\u001b[0m \u001b[0mendpoint_name\u001b[0m\u001b[0;34m)\u001b[0m\u001b[0;34m\u001b[0m\u001b[0;34m\u001b[0m\u001b[0m\n\u001b[0;32m-> 3199\u001b[0;31m         \u001b[0mself\u001b[0m\u001b[0;34m.\u001b[0m\u001b[0msagemaker_client\u001b[0m\u001b[0;34m.\u001b[0m\u001b[0mdelete_endpoint\u001b[0m\u001b[0;34m(\u001b[0m\u001b[0mEndpointName\u001b[0m\u001b[0;34m=\u001b[0m\u001b[0mendpoint_name\u001b[0m\u001b[0;34m)\u001b[0m\u001b[0;34m\u001b[0m\u001b[0;34m\u001b[0m\u001b[0m\n\u001b[0m\u001b[1;32m   3200\u001b[0m \u001b[0;34m\u001b[0m\u001b[0m\n\u001b[1;32m   3201\u001b[0m     \u001b[0;32mdef\u001b[0m \u001b[0mdelete_endpoint_config\u001b[0m\u001b[0;34m(\u001b[0m\u001b[0mself\u001b[0m\u001b[0;34m,\u001b[0m \u001b[0mendpoint_config_name\u001b[0m\u001b[0;34m)\u001b[0m\u001b[0;34m:\u001b[0m\u001b[0;34m\u001b[0m\u001b[0;34m\u001b[0m\u001b[0m\n",
      "\u001b[0;32m/opt/conda/lib/python3.7/site-packages/botocore/client.py\u001b[0m in \u001b[0;36m_api_call\u001b[0;34m(self, *args, **kwargs)\u001b[0m\n\u001b[1;32m    513\u001b[0m                 )\n\u001b[1;32m    514\u001b[0m             \u001b[0;31m# The \"self\" in this scope is referring to the BaseClient.\u001b[0m\u001b[0;34m\u001b[0m\u001b[0;34m\u001b[0m\u001b[0;34m\u001b[0m\u001b[0m\n\u001b[0;32m--> 515\u001b[0;31m             \u001b[0;32mreturn\u001b[0m \u001b[0mself\u001b[0m\u001b[0;34m.\u001b[0m\u001b[0m_make_api_call\u001b[0m\u001b[0;34m(\u001b[0m\u001b[0moperation_name\u001b[0m\u001b[0;34m,\u001b[0m \u001b[0mkwargs\u001b[0m\u001b[0;34m)\u001b[0m\u001b[0;34m\u001b[0m\u001b[0;34m\u001b[0m\u001b[0m\n\u001b[0m\u001b[1;32m    516\u001b[0m \u001b[0;34m\u001b[0m\u001b[0m\n\u001b[1;32m    517\u001b[0m         \u001b[0m_api_call\u001b[0m\u001b[0;34m.\u001b[0m\u001b[0m__name__\u001b[0m \u001b[0;34m=\u001b[0m \u001b[0mstr\u001b[0m\u001b[0;34m(\u001b[0m\u001b[0mpy_operation_name\u001b[0m\u001b[0;34m)\u001b[0m\u001b[0;34m\u001b[0m\u001b[0;34m\u001b[0m\u001b[0m\n",
      "\u001b[0;32m/opt/conda/lib/python3.7/site-packages/botocore/client.py\u001b[0m in \u001b[0;36m_make_api_call\u001b[0;34m(self, operation_name, api_params)\u001b[0m\n\u001b[1;32m    932\u001b[0m             \u001b[0merror_code\u001b[0m \u001b[0;34m=\u001b[0m \u001b[0mparsed_response\u001b[0m\u001b[0;34m.\u001b[0m\u001b[0mget\u001b[0m\u001b[0;34m(\u001b[0m\u001b[0;34m\"Error\"\u001b[0m\u001b[0;34m,\u001b[0m \u001b[0;34m{\u001b[0m\u001b[0;34m}\u001b[0m\u001b[0;34m)\u001b[0m\u001b[0;34m.\u001b[0m\u001b[0mget\u001b[0m\u001b[0;34m(\u001b[0m\u001b[0;34m\"Code\"\u001b[0m\u001b[0;34m)\u001b[0m\u001b[0;34m\u001b[0m\u001b[0;34m\u001b[0m\u001b[0m\n\u001b[1;32m    933\u001b[0m             \u001b[0merror_class\u001b[0m \u001b[0;34m=\u001b[0m \u001b[0mself\u001b[0m\u001b[0;34m.\u001b[0m\u001b[0mexceptions\u001b[0m\u001b[0;34m.\u001b[0m\u001b[0mfrom_code\u001b[0m\u001b[0;34m(\u001b[0m\u001b[0merror_code\u001b[0m\u001b[0;34m)\u001b[0m\u001b[0;34m\u001b[0m\u001b[0;34m\u001b[0m\u001b[0m\n\u001b[0;32m--> 934\u001b[0;31m             \u001b[0;32mraise\u001b[0m \u001b[0merror_class\u001b[0m\u001b[0;34m(\u001b[0m\u001b[0mparsed_response\u001b[0m\u001b[0;34m,\u001b[0m \u001b[0moperation_name\u001b[0m\u001b[0;34m)\u001b[0m\u001b[0;34m\u001b[0m\u001b[0;34m\u001b[0m\u001b[0m\n\u001b[0m\u001b[1;32m    935\u001b[0m         \u001b[0;32melse\u001b[0m\u001b[0;34m:\u001b[0m\u001b[0;34m\u001b[0m\u001b[0;34m\u001b[0m\u001b[0m\n\u001b[1;32m    936\u001b[0m             \u001b[0;32mreturn\u001b[0m \u001b[0mparsed_response\u001b[0m\u001b[0;34m\u001b[0m\u001b[0;34m\u001b[0m\u001b[0m\n",
      "\u001b[0;31mClientError\u001b[0m: An error occurred (ValidationException) when calling the DeleteEndpoint operation: Could not find endpoint \"arn:aws:sagemaker:us-east-1:258532878709:endpoint/sagemaker-xgboost-221204-1955-004-7e84e614\"."
     ]
    }
   ],
   "source": [
    "sess.delete_endpoint(endpoint_name=xgb_predictor.endpoint_name)\n"
   ]
  },
  {
   "cell_type": "markdown",
   "id": "0d1cb854-c8f1-49ef-985f-3a2104594ada",
   "metadata": {},
   "source": [
    "# Looking Ahead"
   ]
  },
  {
   "cell_type": "markdown",
   "id": "58b2470e-61c3-4d55-9691-66a6585d8cb6",
   "metadata": {},
   "source": [
    "1. Train with protobuf format and compare time between csv format.\n",
    "2. Add DescribeTrainingJob into the notebook\n",
    "3. Perform HyperparameterTuning"
   ]
  },
  {
   "cell_type": "markdown",
   "id": "e87db7b5-2765-44d9-a6d7-ce8a200de819",
   "metadata": {},
   "source": [
    "## Resources:\n",
    "\n",
    "1. https://sagemaker-examples.readthedocs.io/en/latest/introduction_to_applying_machine_learning/xgboost_customer_churn/xgboost_customer_churn.html\n",
    "2. https://github.com/Kaggle/kaggle-api\n",
    "   - to download files from kaggle\n",
    "3. https://dev.to/thalesbruno/subplotting-with-matplotlib-and-seaborn-5ei8\n",
    "   - subplots for seaborn\n",
    "4. https://stackabuse.com/one-hot-encoding-in-python-with-pandas-and-scikit-learn/\n",
    "   - one-hot encoding implementation\n",
    "5. https://docs.aws.amazon.com/sagemaker/latest/dg/xgboost.html\n",
    "   - SageMaker Documentation for XGBoost\n",
    "6. https://medium.com/codex/feature-scaling-in-machine-learning-e86b360d1c31#:~:text=Important%20Points%20to%20Remember%3A,data%20into%20training%20and%20testing\n",
    "   - why you don't to scale data for xgboost\n",
    "7. https://github.com/aws/amazon-sagemaker-examples/blob/main/hyperparameter_tuning/xgboost_random_log/hpo_xgboost_random_log.ipynb\n",
    "   - Hyperparameter tuning\n",
    "8. https://towardsdatascience.com/predict-customer-churn-with-precision-56932ae0e5e3\n",
    "   - Reference and Inspiration"
   ]
  },
  {
   "cell_type": "code",
   "execution_count": null,
   "id": "12b084a6-f2d9-4b12-a820-1d5319377c06",
   "metadata": {},
   "outputs": [],
   "source": []
  }
 ],
 "metadata": {
  "instance_type": "ml.t3.medium",
  "kernelspec": {
   "display_name": "default:Python",
   "language": "python",
   "name": "conda-env-default-py"
  },
  "language_info": {
   "codemirror_mode": {
    "name": "ipython",
    "version": 3
   },
   "file_extension": ".py",
   "mimetype": "text/x-python",
   "name": "python",
   "nbconvert_exporter": "python",
   "pygments_lexer": "ipython3",
   "version": "3.9.7"
  }
 },
 "nbformat": 4,
 "nbformat_minor": 5
}
