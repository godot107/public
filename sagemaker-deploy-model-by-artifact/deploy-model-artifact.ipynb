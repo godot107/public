{
 "cells": [
  {
   "cell_type": "markdown",
   "id": "b241e5b0-9738-42da-a437-1c82fd8aabf9",
   "metadata": {},
   "source": [
    "## Deploying a Model Artifact"
   ]
  },
  {
   "cell_type": "markdown",
   "id": "37dd1ad4-3953-406a-8919-e31918abd6c4",
   "metadata": {},
   "source": [
    "Goal: \n",
    "\n",
    "1. Fetch an existing model from an s3 bucket,\n",
    "2. Deploy as an endpoint\n",
    "3. Run a few inferences\n",
    "\n",
    "Motivation:\n",
    "I would expect models and its pre-trained weights out packaged in an archived format. It would be time consuming and expensive to retrain models over the same data, so why not pull the models and load it. This is also useful when deploying model variants to an endpoint for a/b testing.\n",
    "\n",
    "Approach:\n",
    "Pull a model from Iris built from <a href= 'https://d-ihiviskybupf.studio.us-east-1.sagemaker.aws/jupyter/default/files/personal-learning/xgboost.ipynb?_xsrf=2%7Cda7544ab%7C6a8008a35911ebe3deecbd30672e9abb%7C1667655706'>xgboost.ipynb </a> "
   ]
  },
  {
   "cell_type": "markdown",
   "id": "9df6e3b8-f9f6-4374-aa1a-d2534dadc18d",
   "metadata": {},
   "source": [
    "References:\n",
    "\n",
    "https://docs.aws.amazon.com/sagemaker/latest/APIReference/API_CreateModel.html\n",
    "\n",
    "https://docs.aws.amazon.com/sagemaker/latest/dg/realtime-endpoints-deployment.html#realtime-endpoints-deployment-create-model"
   ]
  },
  {
   "cell_type": "code",
   "execution_count": 30,
   "id": "a5c8ebcf-8ff5-4b04-a49d-74897c21a8e6",
   "metadata": {},
   "outputs": [],
   "source": [
    "# load packages\n",
    "import boto3\n",
    "import sagemaker\n",
    "from sagemaker import get_execution_role\n",
    "from sagemaker.image_uris import retrieve\n",
    "from sagemaker.model import Model\n",
    "from datetime import datetime\n",
    "import sys\n",
    "import json\n",
    "\n"
   ]
  },
  {
   "cell_type": "code",
   "execution_count": 19,
   "id": "edda5042-0f3f-4deb-9a5b-db1de6a108b5",
   "metadata": {},
   "outputs": [],
   "source": [
    "role = get_execution_role()\n",
    "\n",
    "region = boto3.Session().region_name\n",
    "\n",
    "sess = sagemaker.Session()\n",
    "\n",
    "bucket = sess.default_bucket()\n",
    "prefix = 'iris'"
   ]
  },
  {
   "cell_type": "code",
   "execution_count": 20,
   "id": "1cdcacaa-bdeb-4f55-87fa-e918b7173209",
   "metadata": {},
   "outputs": [],
   "source": [
    "model_url = f's3://{bucket}/{prefix}/xgboost-single/xgboost-classification2022-09-13-03-47-19/output/model.tar.gz'"
   ]
  },
  {
   "cell_type": "code",
   "execution_count": 21,
   "id": "7a191594-81b1-4f37-ab99-2a2472aa8ef6",
   "metadata": {},
   "outputs": [],
   "source": [
    "container = retrieve(framework=\"xgboost\", region=region, version=\"1.5-1\")\n",
    "\n",
    "model = Model(image_uri = container, \n",
    "              model_data = model_url, \n",
    "              role = role)"
   ]
  },
  {
   "cell_type": "code",
   "execution_count": 22,
   "id": "17871b18-a5fb-4e9c-9306-2d0aa2222c11",
   "metadata": {},
   "outputs": [
    {
     "name": "stdout",
     "output_type": "stream",
     "text": [
      "EndpointName = xgboost-from-artifact-2022-11-07-2150\n",
      "-------!"
     ]
    }
   ],
   "source": [
    "# Deploy Endpoint\n",
    "\n",
    "endpoint_name = f\"xgboost-from-artifact-{datetime.utcnow():%Y-%m-%d-%H%M}\"\n",
    "print(\"EndpointName =\", endpoint_name)\n",
    "\n",
    "model.deploy(\n",
    "    initial_instance_count= 1,\n",
    "    instance_type= 'ml.m4.xlarge',\n",
    "    endpoint_name=endpoint_name\n",
    ")"
   ]
  },
  {
   "cell_type": "markdown",
   "id": "22e1c5df-66ab-4656-bff0-07951db4fd66",
   "metadata": {},
   "source": [
    "# Make Inferences"
   ]
  },
  {
   "cell_type": "code",
   "execution_count": 23,
   "id": "9c2fef67-82ef-4fb5-aebf-6ba68df2aa5f",
   "metadata": {},
   "outputs": [
    {
     "name": "stdout",
     "output_type": "stream",
     "text": [
      "1 1:6.1 2:2.8 3:4.7 4:1.2\n",
      "0 1:5.4 2:3.4 3:1.5 4:0.4\n"
     ]
    }
   ],
   "source": [
    "!head -2 iris_test"
   ]
  },
  {
   "cell_type": "code",
   "execution_count": 27,
   "id": "4cbb5217-efb2-4ab0-af2c-d42e33b21268",
   "metadata": {},
   "outputs": [
    {
     "name": "stdout",
     "output_type": "stream",
     "text": [
      "Predicted label is 1.0\n",
      ".\n",
      "CPU times: user 17.7 ms, sys: 0 ns, total: 17.7 ms\n",
      "Wall time: 142 ms\n"
     ]
    }
   ],
   "source": [
    "%%time\n",
    "\n",
    "# Single Record\n",
    "runtime_client = boto3.client(\"runtime.sagemaker\", region_name=region)\n",
    "\n",
    "\n",
    "file_name = (\n",
    "    \"iris_test\"  # customize to your test file 'mnist.single.test' if use the data above\n",
    ")\n",
    "\n",
    "with open(file_name, \"r\") as f:\n",
    "    payload = f.read()\n",
    "    single_record_payload = payload.split('\\n')[0]\n",
    "    \n",
    "\n",
    "response = runtime_client.invoke_endpoint(\n",
    "    EndpointName=endpoint_name, ContentType=\"text/x-libsvm\", Body=single_record_payload\n",
    ")\n",
    "result = response[\"Body\"].read().decode(\"ascii\")\n",
    "print(f\"Predicted label is {result}.\")"
   ]
  },
  {
   "cell_type": "code",
   "execution_count": 31,
   "id": "29b64895-7ed2-422e-b568-e568d9e4f164",
   "metadata": {},
   "outputs": [],
   "source": [
    "## Helper functions for batch\n",
    "\n",
    "def do_predict(data, endpoint_name, content_type):\n",
    "    payload = \"\\n\".join(data)\n",
    "    response = runtime_client.invoke_endpoint(\n",
    "        EndpointName=endpoint_name, ContentType=content_type, Body=payload\n",
    "    )\n",
    "    result = response[\"Body\"].read().decode(\"ascii\")\n",
    "    preds = [float(num) for num in result.split(\"\\n\")[:-1]]\n",
    "    return preds\n",
    "\n",
    "def batch_predict(data, batch_size, endpoint_name, content_type):\n",
    "    items = len(data)\n",
    "    arrs = []\n",
    "    for offset in range(0, items, batch_size):\n",
    "        arrs.extend(\n",
    "            do_predict(data[offset : min(offset + batch_size, items)], endpoint_name, content_type)\n",
    "        )\n",
    "        sys.stdout.write(\".\")\n",
    "    return arrs\n"
   ]
  },
  {
   "cell_type": "code",
   "execution_count": 33,
   "id": "f657e756-d611-4b44-958a-b5f9f90bcb1e",
   "metadata": {},
   "outputs": [
    {
     "name": "stdout",
     "output_type": "stream",
     "text": [
      "......\n",
      "error rate=0.033333\n",
      "CPU times: user 17.7 ms, sys: 0 ns, total: 17.7 ms\n",
      "Wall time: 106 ms\n"
     ]
    }
   ],
   "source": [
    "%%time\n",
    "# run as a batch\n",
    "\n",
    "file_name = \"iris_test\"\n",
    "with open(file_name, \"r\") as f:\n",
    "    payload = f.read().strip()\n",
    "\n",
    "labels = [float(line.split(\" \")[0]) for line in payload.split(\"\\n\")]\n",
    "test_data = payload.split(\"\\n\")\n",
    "preds = batch_predict(test_data, 5, endpoint_name, \"text/x-libsvm\")\n",
    "\n",
    "print(\n",
    "    \"\\nerror rate=%f\"\n",
    "    % (sum(1 for i in range(len(preds)) if preds[i] != labels[i]) / float(len(preds)))\n",
    ")"
   ]
  },
  {
   "cell_type": "code",
   "execution_count": 34,
   "id": "5f52cf40-689d-44bc-9772-f65ec0b827d7",
   "metadata": {},
   "outputs": [
    {
     "data": {
      "text/plain": [
       "{'ResponseMetadata': {'RequestId': '53337f10-baae-4394-b46d-f76c521b79ee',\n",
       "  'HTTPStatusCode': 200,\n",
       "  'HTTPHeaders': {'x-amzn-requestid': '53337f10-baae-4394-b46d-f76c521b79ee',\n",
       "   'content-type': 'application/x-amz-json-1.1',\n",
       "   'content-length': '0',\n",
       "   'date': 'Mon, 07 Nov 2022 22:12:41 GMT'},\n",
       "  'RetryAttempts': 0}}"
      ]
     },
     "execution_count": 34,
     "metadata": {},
     "output_type": "execute_result"
    }
   ],
   "source": [
    "# Delete Endpoint when done\n",
    "sm = boto3.Session(region_name=region).client(\"sagemaker\")\n",
    "sm.delete_endpoint(EndpointName=endpoint_name)"
   ]
  },
  {
   "cell_type": "markdown",
   "id": "c4c2b7fa-174b-4356-b207-1a14102fb540",
   "metadata": {},
   "source": [
    "## Summary - what did I learn?"
   ]
  },
  {
   "cell_type": "code",
   "execution_count": null,
   "id": "faae2364-6c1b-4ee1-9f1d-010bef416b2a",
   "metadata": {},
   "outputs": [],
   "source": []
  }
 ],
 "metadata": {
  "instance_type": "ml.t3.medium",
  "kernelspec": {
   "display_name": "Python 3 (Data Science)",
   "language": "python",
   "name": "python3__SAGEMAKER_INTERNAL__arn:aws:sagemaker:us-east-1:081325390199:image/datascience-1.0"
  },
  "language_info": {
   "codemirror_mode": {
    "name": "ipython",
    "version": 3
   },
   "file_extension": ".py",
   "mimetype": "text/x-python",
   "name": "python",
   "nbconvert_exporter": "python",
   "pygments_lexer": "ipython3",
   "version": "3.7.10"
  }
 },
 "nbformat": 4,
 "nbformat_minor": 5
}
