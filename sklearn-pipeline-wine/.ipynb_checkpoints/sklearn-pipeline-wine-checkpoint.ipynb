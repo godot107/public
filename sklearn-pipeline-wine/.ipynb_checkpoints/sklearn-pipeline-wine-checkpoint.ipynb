{
 "cells": [
  {
   "cell_type": "markdown",
   "metadata": {
    "cell_id": "aa8dcde043e84d3b979d8bf7204dd168",
    "deepnote_cell_type": "text-cell-h1",
    "formattedRanges": [],
    "is_collapsed": false,
    "tags": []
   },
   "source": [
    "# Building a Pipeline with Sklearn"
   ]
  },
  {
   "cell_type": "markdown",
   "metadata": {
    "cell_id": "8344c719c4b74140b57dde5e1a544f41",
    "deepnote_cell_type": "text-cell-p",
    "formattedRanges": [
     {
      "fromCodePoint": 240,
      "ranges": [],
      "toCodePoint": 262,
      "type": "link",
      "url": "https://scikit-learn.org/0.16/modules/generated/sklearn.pipeline.Pipeline.html"
     }
    ],
    "is_collapsed": false,
    "tags": []
   },
   "source": [
    "A pipeline is a functionality that builds workflows into your machine-learning application. It is not required to deploy your application, but it offers many benefits to a machine learning application or project. You can read more from the [official documentation](https://scikit-learn.org/0.16/modules/generated/sklearn.pipeline.Pipeline.html). A pipeline is similar to workflow orchestration and offered in various frameworks such as airflow and Amazon SageMaker offers Pipeline as part of CI/CD (Continuous Improvement/Continous Development framework."
   ]
  },
  {
   "cell_type": "markdown",
   "metadata": {
    "cell_id": "961cb7636987409085beabee0ab0bf18",
    "deepnote_cell_type": "text-cell-h2",
    "formattedRanges": [],
    "is_collapsed": false,
    "tags": []
   },
   "source": [
    "## Motivation"
   ]
  },
  {
   "cell_type": "markdown",
   "metadata": {
    "cell_id": "8aa624efbf794c99b053c794fd232398",
    "deepnote_cell_type": "text-cell-p",
    "formattedRanges": [],
    "is_collapsed": false,
    "tags": []
   },
   "source": [
    "Imagine you're working as a machine learning engineer and a business decision from your organization requires you to make modifications to your machine learning application. I won't go into tech stacks and frameworks, but for simplicity, let's imagine it is deployed in python. "
   ]
  },
  {
   "cell_type": "markdown",
   "metadata": {
    "cell_id": "82b447b6-f8df-44c4-a486-66dad60fa677",
    "deepnote_cell_type": "text-cell-p",
    "formattedRanges": [],
    "is_collapsed": false,
    "tags": []
   },
   "source": [
    "There are many business reasons to modify an application such as marketing, contracts, business acquisition, and available technology. There could be technical related reasons to modify the application such as concept drifts, data drifts, model degradation, and software updates."
   ]
  },
  {
   "cell_type": "markdown",
   "metadata": {
    "cell_id": "d07a2d12-7b5f-4f06-898f-466287c1e56c",
    "deepnote_cell_type": "text-cell-p",
    "formattedRanges": [],
    "is_collapsed": false,
    "tags": []
   },
   "source": [
    "Whatever that might be a well-planned pipeline can offer many benefits such as:"
   ]
  },
  {
   "cell_type": "markdown",
   "metadata": {
    "cell_id": "e8507a67-07b6-4b38-b9f6-32f22f0167d6",
    "deepnote_cell_type": "text-cell-number",
    "formattedRanges": [],
    "is_collapsed": false,
    "number": 1,
    "style": "decimal",
    "tags": []
   },
   "source": [
    "1. Increased readability in your code"
   ]
  },
  {
   "cell_type": "markdown",
   "metadata": {
    "cell_id": "34ccac9c-9fed-4e05-a4ce-62117fa32b99",
    "deepnote_cell_type": "text-cell-number",
    "formattedRanges": [],
    "is_collapsed": false,
    "style": "decimal",
    "tags": []
   },
   "source": [
    "undefined. Transparency in your workflow"
   ]
  },
  {
   "cell_type": "markdown",
   "metadata": {
    "cell_id": "04ac5aff-b43d-4dfb-b0be-9009d0fbbe6f",
    "deepnote_cell_type": "text-cell-number",
    "formattedRanges": [],
    "is_collapsed": false,
    "style": "decimal",
    "tags": []
   },
   "source": [
    "undefined. Easier troubleshooting by pinpointing what steps failed "
   ]
  },
  {
   "cell_type": "markdown",
   "metadata": {
    "cell_id": "af8ec8e8-fb6e-456a-87f8-3eec48aae3a1",
    "deepnote_cell_type": "text-cell-p",
    "formattedRanges": [],
    "is_collapsed": false,
    "style": "decimal",
    "tags": []
   },
   "source": [
    "     - In addition, add conditions to your workflow to resolve or escalate."
   ]
  },
  {
   "cell_type": "markdown",
   "metadata": {
    "cell_id": "7fe3dbed-7764-4b93-bb31-6e797b20bdd4",
    "deepnote_cell_type": "text-cell-number",
    "formattedRanges": [],
    "is_collapsed": false,
    "number": 4,
    "style": "decimal",
    "tags": []
   },
   "source": [
    "4. Easier deployment of your models"
   ]
  },
  {
   "cell_type": "markdown",
   "metadata": {
    "cell_id": "9df6af8f-ab1b-4b14-b504-1b5023107fff",
    "deepnote_cell_type": "text-cell-p",
    "formattedRanges": [
     {
      "fromCodePoint": 39,
      "ranges": [],
      "toCodePoint": 52,
      "type": "link",
      "url": "https://scikit-learn.org/stable/modules/generated/sklearn.datasets.load_wine.html"
     },
     {
      "fromCodePoint": 64,
      "ranges": [],
      "toCodePoint": 67,
      "type": "link",
      "url": "https://archive.ics.uci.edu/ml/machine-learning-databases/wine/wine.data"
     },
     {
      "fromCodePoint": 89,
      "ranges": [],
      "toCodePoint": 111,
      "type": "link",
      "url": "https://github.com/godot107/public/tree/main/sklearn-pipeline-wine"
     }
    ],
    "is_collapsed": false,
    "tags": []
   },
   "source": [
    "Let's dive into the notebook using the [wine dataset](https://scikit-learn.org/stable/modules/generated/sklearn.datasets.load_wine.html) provided by [UCI](https://archive.ics.uci.edu/ml/machine-learning-databases/wine/wine.data). The notebook can be [downloaded/forked here](https://github.com/godot107/public/tree/main/sklearn-pipeline-wine)."
   ]
  },
  {
   "cell_type": "code",
   "execution_count": 1,
   "metadata": {
    "cell_id": "e8bda644f12947468555705f1a2c5ff5",
    "deepnote_cell_height": 210.5625,
    "deepnote_cell_type": "code",
    "deepnote_to_be_reexecuted": false,
    "execution_millis": 10252,
    "execution_start": 1670098953316,
    "source_hash": "80290403",
    "tags": []
   },
   "outputs": [
    {
     "name": "stdout",
     "output_type": "stream",
     "text": [
      "Collecting sklearn\n",
      "  Downloading sklearn-0.0.post1.tar.gz (3.6 kB)\n",
      "  Preparing metadata (setup.py) ... \u001b[?25ldone\n",
      "\u001b[?25hBuilding wheels for collected packages: sklearn\n",
      "  Building wheel for sklearn (setup.py) ... \u001b[?25ldone\n",
      "\u001b[?25h  Created wheel for sklearn: filename=sklearn-0.0.post1-py3-none-any.whl size=2344 sha256=2f6521dbd06d6f29664c0c3e1508f7d23b322f08318891dd1218b5a6a37449af\n",
      "  Stored in directory: /root/.cache/pip/wheels/f8/e0/3d/9d0c2020c44a519b9f02ab4fa6d2a4a996c98d79ab2f569fa1\n",
      "Successfully built sklearn\n",
      "Installing collected packages: sklearn\n",
      "Successfully installed sklearn-0.0.post1\n",
      "\u001b[33mWARNING: You are using pip version 22.0.4; however, version 22.3.1 is available.\n",
      "You should consider upgrading via the '/root/venv/bin/python -m pip install --upgrade pip' command.\u001b[0m\u001b[33m\n",
      "\u001b[0mCollecting watermark\n",
      "  Downloading watermark-2.3.1-py2.py3-none-any.whl (7.2 kB)\n",
      "Requirement already satisfied: ipython in /shared-libs/python3.9/py-core/lib/python3.9/site-packages (from watermark) (8.5.0)\n",
      "Requirement already satisfied: jedi>=0.16 in /shared-libs/python3.9/py-core/lib/python3.9/site-packages (from ipython->watermark) (0.17.2)\n",
      "Requirement already satisfied: decorator in /shared-libs/python3.9/py-core/lib/python3.9/site-packages (from ipython->watermark) (5.1.1)\n",
      "Requirement already satisfied: prompt-toolkit<3.1.0,>3.0.1 in /shared-libs/python3.9/py-core/lib/python3.9/site-packages (from ipython->watermark) (3.0.31)\n",
      "Requirement already satisfied: pygments>=2.4.0 in /shared-libs/python3.9/py-core/lib/python3.9/site-packages (from ipython->watermark) (2.13.0)\n",
      "Requirement already satisfied: traitlets>=5 in /shared-libs/python3.9/py-core/lib/python3.9/site-packages (from ipython->watermark) (5.5.0)\n",
      "Requirement already satisfied: matplotlib-inline in /shared-libs/python3.9/py-core/lib/python3.9/site-packages (from ipython->watermark) (0.1.6)\n",
      "Requirement already satisfied: pickleshare in /shared-libs/python3.9/py-core/lib/python3.9/site-packages (from ipython->watermark) (0.7.5)\n",
      "Requirement already satisfied: stack-data in /shared-libs/python3.9/py-core/lib/python3.9/site-packages (from ipython->watermark) (0.5.1)\n",
      "Requirement already satisfied: pexpect>4.3 in /shared-libs/python3.9/py-core/lib/python3.9/site-packages (from ipython->watermark) (4.8.0)\n",
      "Requirement already satisfied: backcall in /shared-libs/python3.9/py-core/lib/python3.9/site-packages (from ipython->watermark) (0.2.0)\n",
      "Requirement already satisfied: parso<0.8.0,>=0.7.0 in /shared-libs/python3.9/py-core/lib/python3.9/site-packages (from jedi>=0.16->ipython->watermark) (0.7.1)\n",
      "Requirement already satisfied: ptyprocess>=0.5 in /shared-libs/python3.9/py-core/lib/python3.9/site-packages (from pexpect>4.3->ipython->watermark) (0.7.0)\n",
      "Requirement already satisfied: wcwidth in /shared-libs/python3.9/py-core/lib/python3.9/site-packages (from prompt-toolkit<3.1.0,>3.0.1->ipython->watermark) (0.2.5)\n",
      "Requirement already satisfied: pure-eval in /shared-libs/python3.9/py-core/lib/python3.9/site-packages (from stack-data->ipython->watermark) (0.2.2)\n",
      "Requirement already satisfied: asttokens in /shared-libs/python3.9/py-core/lib/python3.9/site-packages (from stack-data->ipython->watermark) (2.0.8)\n",
      "Requirement already satisfied: executing in /shared-libs/python3.9/py-core/lib/python3.9/site-packages (from stack-data->ipython->watermark) (1.1.1)\n",
      "Requirement already satisfied: six in /shared-libs/python3.9/py-core/lib/python3.9/site-packages (from asttokens->stack-data->ipython->watermark) (1.16.0)\n",
      "Installing collected packages: watermark\n",
      "Successfully installed watermark-2.3.1\n",
      "\u001b[33mWARNING: You are using pip version 22.0.4; however, version 22.3.1 is available.\n",
      "You should consider upgrading via the '/root/venv/bin/python -m pip install --upgrade pip' command.\u001b[0m\u001b[33m\n",
      "\u001b[0m"
     ]
    }
   ],
   "source": [
    "!pip install sklearn\n",
    "!pip install watermark"
   ]
  },
  {
   "cell_type": "code",
   "execution_count": 2,
   "metadata": {
    "cell_id": "54d8b870d1c64fc784cc25b7f4408b34",
    "deepnote_cell_height": 346,
    "deepnote_cell_type": "code",
    "deepnote_to_be_reexecuted": false,
    "execution_millis": 3418,
    "execution_start": 1670098963570,
    "source_hash": "d0fee3a5",
    "tags": []
   },
   "outputs": [],
   "source": [
    "\n",
    "import pandas as pd \n",
    "import numpy as np \n",
    "import matplotlib.pyplot as plt\n",
    "import seaborn as sns\n",
    "import pprint\n",
    "import time \n",
    "import sklearn\n",
    "\n",
    "from sklearn.datasets import load_wine\n",
    "from sklearn.model_selection import train_test_split\n",
    "from sklearn.model_selection import GridSearchCV\n",
    "from sklearn.pipeline import Pipeline\n",
    "from sklearn.pipeline import make_pipeline\n",
    "from sklearn.preprocessing import StandardScaler\n",
    "from sklearn.linear_model import LogisticRegression"
   ]
  },
  {
   "cell_type": "code",
   "execution_count": 3,
   "metadata": {
    "cell_id": "420ed02a5f06412ab93ddbb310cfb5f1",
    "deepnote_cell_height": 546.9375,
    "deepnote_cell_type": "code",
    "deepnote_to_be_reexecuted": false,
    "execution_millis": 53,
    "execution_start": 1670098966992,
    "source_hash": "af4120bf",
    "tags": []
   },
   "outputs": [
    {
     "name": "stdout",
     "output_type": "stream",
     "text": [
      "Last updated: 2022-12-03T20:22:46.997805+00:00\n",
      "\n",
      "Python implementation: CPython\n",
      "Python version       : 3.9.13\n",
      "IPython version      : 8.5.0\n",
      "\n",
      "Compiler    : GCC 8.3.0\n",
      "OS          : Linux\n",
      "Release     : 5.4.209-116.367.amzn2.x86_64\n",
      "Machine     : x86_64\n",
      "Processor   : \n",
      "CPU cores   : 4\n",
      "Architecture: 64bit\n",
      "\n",
      "pandas    : 1.2.5\n",
      "psycopg2  : 2.9.4 (dt dec pq3 ext lo64)\n",
      "numpy     : 1.23.4\n",
      "sklearn   : 0.0.post1\n",
      "matplotlib: 3.6.0\n",
      "seaborn   : 0.12.1\n",
      "\n"
     ]
    }
   ],
   "source": [
    "%load_ext watermark\n",
    "%watermark\n",
    "%watermark --iversions"
   ]
  },
  {
   "cell_type": "code",
   "execution_count": 4,
   "metadata": {
    "cell_id": "99ce194cbcb849adb74fdb34614e0393",
    "deepnote_cell_height": 716,
    "deepnote_cell_type": "code",
    "deepnote_output_heights": [
     606
    ],
    "deepnote_to_be_reexecuted": false,
    "execution_millis": 47,
    "execution_start": 1670098967046,
    "source_hash": "8b012bf9",
    "tags": []
   },
   "outputs": [
    {
     "data": {
      "text/plain": [
       "{'data': array([[1.423e+01, 1.710e+00, 2.430e+00, ..., 1.040e+00, 3.920e+00,\n",
       "         1.065e+03],\n",
       "        [1.320e+01, 1.780e+00, 2.140e+00, ..., 1.050e+00, 3.400e+00,\n",
       "         1.050e+03],\n",
       "        [1.316e+01, 2.360e+00, 2.670e+00, ..., 1.030e+00, 3.170e+00,\n",
       "         1.185e+03],\n",
       "        ...,\n",
       "        [1.327e+01, 4.280e+00, 2.260e+00, ..., 5.900e-01, 1.560e+00,\n",
       "         8.350e+02],\n",
       "        [1.317e+01, 2.590e+00, 2.370e+00, ..., 6.000e-01, 1.620e+00,\n",
       "         8.400e+02],\n",
       "        [1.413e+01, 4.100e+00, 2.740e+00, ..., 6.100e-01, 1.600e+00,\n",
       "         5.600e+02]]),\n",
       " 'target': array([0, 0, 0, 0, 0, 0, 0, 0, 0, 0, 0, 0, 0, 0, 0, 0, 0, 0, 0, 0, 0, 0,\n",
       "        0, 0, 0, 0, 0, 0, 0, 0, 0, 0, 0, 0, 0, 0, 0, 0, 0, 0, 0, 0, 0, 0,\n",
       "        0, 0, 0, 0, 0, 0, 0, 0, 0, 0, 0, 0, 0, 0, 0, 1, 1, 1, 1, 1, 1, 1,\n",
       "        1, 1, 1, 1, 1, 1, 1, 1, 1, 1, 1, 1, 1, 1, 1, 1, 1, 1, 1, 1, 1, 1,\n",
       "        1, 1, 1, 1, 1, 1, 1, 1, 1, 1, 1, 1, 1, 1, 1, 1, 1, 1, 1, 1, 1, 1,\n",
       "        1, 1, 1, 1, 1, 1, 1, 1, 1, 1, 1, 1, 1, 1, 1, 1, 1, 1, 1, 1, 2, 2,\n",
       "        2, 2, 2, 2, 2, 2, 2, 2, 2, 2, 2, 2, 2, 2, 2, 2, 2, 2, 2, 2, 2, 2,\n",
       "        2, 2, 2, 2, 2, 2, 2, 2, 2, 2, 2, 2, 2, 2, 2, 2, 2, 2, 2, 2, 2, 2,\n",
       "        2, 2]),\n",
       " 'frame': None,\n",
       " 'target_names': array(['class_0', 'class_1', 'class_2'], dtype='<U7'),\n",
       " 'DESCR': '.. _wine_dataset:\\n\\nWine recognition dataset\\n------------------------\\n\\n**Data Set Characteristics:**\\n\\n    :Number of Instances: 178\\n    :Number of Attributes: 13 numeric, predictive attributes and the class\\n    :Attribute Information:\\n \\t\\t- Alcohol\\n \\t\\t- Malic acid\\n \\t\\t- Ash\\n\\t\\t- Alcalinity of ash  \\n \\t\\t- Magnesium\\n\\t\\t- Total phenols\\n \\t\\t- Flavanoids\\n \\t\\t- Nonflavanoid phenols\\n \\t\\t- Proanthocyanins\\n\\t\\t- Color intensity\\n \\t\\t- Hue\\n \\t\\t- OD280/OD315 of diluted wines\\n \\t\\t- Proline\\n\\n    - class:\\n            - class_0\\n            - class_1\\n            - class_2\\n\\t\\t\\n    :Summary Statistics:\\n    \\n    ============================= ==== ===== ======= =====\\n                                   Min   Max   Mean     SD\\n    ============================= ==== ===== ======= =====\\n    Alcohol:                      11.0  14.8    13.0   0.8\\n    Malic Acid:                   0.74  5.80    2.34  1.12\\n    Ash:                          1.36  3.23    2.36  0.27\\n    Alcalinity of Ash:            10.6  30.0    19.5   3.3\\n    Magnesium:                    70.0 162.0    99.7  14.3\\n    Total Phenols:                0.98  3.88    2.29  0.63\\n    Flavanoids:                   0.34  5.08    2.03  1.00\\n    Nonflavanoid Phenols:         0.13  0.66    0.36  0.12\\n    Proanthocyanins:              0.41  3.58    1.59  0.57\\n    Colour Intensity:              1.3  13.0     5.1   2.3\\n    Hue:                          0.48  1.71    0.96  0.23\\n    OD280/OD315 of diluted wines: 1.27  4.00    2.61  0.71\\n    Proline:                       278  1680     746   315\\n    ============================= ==== ===== ======= =====\\n\\n    :Missing Attribute Values: None\\n    :Class Distribution: class_0 (59), class_1 (71), class_2 (48)\\n    :Creator: R.A. Fisher\\n    :Donor: Michael Marshall (MARSHALL%PLU@io.arc.nasa.gov)\\n    :Date: July, 1988\\n\\nThis is a copy of UCI ML Wine recognition datasets.\\nhttps://archive.ics.uci.edu/ml/machine-learning-databases/wine/wine.data\\n\\nThe data is the results of a chemical analysis of wines grown in the same\\nregion in Italy by three different cultivators. There are thirteen different\\nmeasurements taken for different constituents found in the three types of\\nwine.\\n\\nOriginal Owners: \\n\\nForina, M. et al, PARVUS - \\nAn Extendible Package for Data Exploration, Classification and Correlation. \\nInstitute of Pharmaceutical and Food Analysis and Technologies,\\nVia Brigata Salerno, 16147 Genoa, Italy.\\n\\nCitation:\\n\\nLichman, M. (2013). UCI Machine Learning Repository\\n[https://archive.ics.uci.edu/ml]. Irvine, CA: University of California,\\nSchool of Information and Computer Science. \\n\\n.. topic:: References\\n\\n  (1) S. Aeberhard, D. Coomans and O. de Vel, \\n  Comparison of Classifiers in High Dimensional Settings, \\n  Tech. Rep. no. 92-02, (1992), Dept. of Computer Science and Dept. of  \\n  Mathematics and Statistics, James Cook University of North Queensland. \\n  (Also submitted to Technometrics). \\n\\n  The data was used with many others for comparing various \\n  classifiers. The classes are separable, though only RDA \\n  has achieved 100% correct classification. \\n  (RDA : 100%, QDA 99.4%, LDA 98.9%, 1NN 96.1% (z-transformed data)) \\n  (All results using the leave-one-out technique) \\n\\n  (2) S. Aeberhard, D. Coomans and O. de Vel, \\n  \"THE CLASSIFICATION PERFORMANCE OF RDA\" \\n  Tech. Rep. no. 92-01, (1992), Dept. of Computer Science and Dept. of \\n  Mathematics and Statistics, James Cook University of North Queensland. \\n  (Also submitted to Journal of Chemometrics).\\n',\n",
       " 'feature_names': ['alcohol',\n",
       "  'malic_acid',\n",
       "  'ash',\n",
       "  'alcalinity_of_ash',\n",
       "  'magnesium',\n",
       "  'total_phenols',\n",
       "  'flavanoids',\n",
       "  'nonflavanoid_phenols',\n",
       "  'proanthocyanins',\n",
       "  'color_intensity',\n",
       "  'hue',\n",
       "  'od280/od315_of_diluted_wines',\n",
       "  'proline']}"
      ]
     },
     "execution_count": 4,
     "metadata": {},
     "output_type": "execute_result"
    }
   ],
   "source": [
    "data = load_wine()\n",
    "data"
   ]
  },
  {
   "cell_type": "code",
   "execution_count": 5,
   "metadata": {
    "cell_id": "131a2bd886194272bdf1e8458c8e9dde",
    "deepnote_cell_height": 342.4375,
    "deepnote_cell_type": "code",
    "deepnote_output_heights": [
     250.4375
    ],
    "deepnote_to_be_reexecuted": false,
    "execution_millis": 2,
    "execution_start": 1670098967091,
    "source_hash": "5c80d1a2",
    "tags": []
   },
   "outputs": [
    {
     "data": {
      "text/plain": [
       "['alcohol',\n",
       " 'malic_acid',\n",
       " 'ash',\n",
       " 'alcalinity_of_ash',\n",
       " 'magnesium',\n",
       " 'total_phenols',\n",
       " 'flavanoids',\n",
       " 'nonflavanoid_phenols',\n",
       " 'proanthocyanins',\n",
       " 'color_intensity',\n",
       " 'hue',\n",
       " 'od280/od315_of_diluted_wines',\n",
       " 'proline']"
      ]
     },
     "execution_count": 5,
     "metadata": {},
     "output_type": "execute_result"
    }
   ],
   "source": [
    "data['feature_names']"
   ]
  },
  {
   "cell_type": "code",
   "execution_count": 6,
   "metadata": {
    "cell_id": "3160b3f7a9a24829bfda00de4334bca5",
    "deepnote_cell_height": 135,
    "deepnote_cell_type": "code",
    "deepnote_to_be_reexecuted": false,
    "execution_millis": 1,
    "execution_start": 1670098967091,
    "source_hash": "315ed622",
    "tags": []
   },
   "outputs": [],
   "source": [
    "# https://stackoverflow.com/questions/20763012/creating-a-pandas-dataframe-from-a-numpy-array-how-do-i-specify-the-index-colum\n",
    "\n",
    "\n",
    "winedf = pd.DataFrame(np.concatenate((data['data'],data['target'].reshape(-1,1)), axis = 1), columns = data['feature_names'] + ['target'])"
   ]
  },
  {
   "cell_type": "code",
   "execution_count": 7,
   "metadata": {
    "cell_id": "5a6d784e05624d97ad5088b9dae51652",
    "deepnote_cell_height": 407,
    "deepnote_cell_type": "code",
    "deepnote_to_be_reexecuted": false,
    "execution_millis": 60,
    "execution_start": 1670098967092,
    "source_hash": "77ea891b",
    "tags": []
   },
   "outputs": [
    {
     "data": {
      "application/vnd.deepnote.dataframe.v3+json": {
       "column_count": 14,
       "columns": [
        {
         "dtype": "float64",
         "name": "alcohol",
         "stats": {
          "histogram": [
           {
            "bin_end": 13.281,
            "bin_start": 13.16,
            "count": 3
           },
           {
            "bin_end": 13.402,
            "bin_start": 13.281,
            "count": 0
           },
           {
            "bin_end": 13.523,
            "bin_start": 13.402,
            "count": 0
           },
           {
            "bin_end": 13.644,
            "bin_start": 13.523,
            "count": 0
           },
           {
            "bin_end": 13.765,
            "bin_start": 13.644,
            "count": 0
           },
           {
            "bin_end": 13.886,
            "bin_start": 13.765,
            "count": 0
           },
           {
            "bin_end": 14.007,
            "bin_start": 13.886,
            "count": 0
           },
           {
            "bin_end": 14.128,
            "bin_start": 14.007,
            "count": 0
           },
           {
            "bin_end": 14.248999999999999,
            "bin_start": 14.128,
            "count": 1
           },
           {
            "bin_end": 14.37,
            "bin_start": 14.248999999999999,
            "count": 1
           }
          ],
          "max": "14.37",
          "min": "13.16",
          "nan_count": 0,
          "unique_count": 5
         }
        },
        {
         "dtype": "float64",
         "name": "malic_acid",
         "stats": {
          "histogram": [
           {
            "bin_end": 1.798,
            "bin_start": 1.71,
            "count": 2
           },
           {
            "bin_end": 1.886,
            "bin_start": 1.798,
            "count": 0
           },
           {
            "bin_end": 1.974,
            "bin_start": 1.886,
            "count": 1
           },
           {
            "bin_end": 2.062,
            "bin_start": 1.974,
            "count": 0
           },
           {
            "bin_end": 2.15,
            "bin_start": 2.062,
            "count": 0
           },
           {
            "bin_end": 2.238,
            "bin_start": 2.15,
            "count": 0
           },
           {
            "bin_end": 2.326,
            "bin_start": 2.238,
            "count": 0
           },
           {
            "bin_end": 2.4139999999999997,
            "bin_start": 2.326,
            "count": 1
           },
           {
            "bin_end": 2.502,
            "bin_start": 2.4139999999999997,
            "count": 0
           },
           {
            "bin_end": 2.59,
            "bin_start": 2.502,
            "count": 1
           }
          ],
          "max": "2.59",
          "min": "1.71",
          "nan_count": 0,
          "unique_count": 5
         }
        },
        {
         "dtype": "float64",
         "name": "ash",
         "stats": {
          "histogram": [
           {
            "bin_end": 2.213,
            "bin_start": 2.14,
            "count": 1
           },
           {
            "bin_end": 2.286,
            "bin_start": 2.213,
            "count": 0
           },
           {
            "bin_end": 2.359,
            "bin_start": 2.286,
            "count": 0
           },
           {
            "bin_end": 2.432,
            "bin_start": 2.359,
            "count": 1
           },
           {
            "bin_end": 2.505,
            "bin_start": 2.432,
            "count": 1
           },
           {
            "bin_end": 2.5780000000000003,
            "bin_start": 2.505,
            "count": 0
           },
           {
            "bin_end": 2.6510000000000002,
            "bin_start": 2.5780000000000003,
            "count": 0
           },
           {
            "bin_end": 2.724,
            "bin_start": 2.6510000000000002,
            "count": 1
           },
           {
            "bin_end": 2.797,
            "bin_start": 2.724,
            "count": 0
           },
           {
            "bin_end": 2.87,
            "bin_start": 2.797,
            "count": 1
           }
          ],
          "max": "2.87",
          "min": "2.14",
          "nan_count": 0,
          "unique_count": 5
         }
        },
        {
         "dtype": "float64",
         "name": "alcalinity_of_ash",
         "stats": {
          "histogram": [
           {
            "bin_end": 12.18,
            "bin_start": 11.2,
            "count": 1
           },
           {
            "bin_end": 13.16,
            "bin_start": 12.18,
            "count": 0
           },
           {
            "bin_end": 14.14,
            "bin_start": 13.16,
            "count": 0
           },
           {
            "bin_end": 15.12,
            "bin_start": 14.14,
            "count": 0
           },
           {
            "bin_end": 16.1,
            "bin_start": 15.12,
            "count": 1
           },
           {
            "bin_end": 17.08,
            "bin_start": 16.1,
            "count": 1
           },
           {
            "bin_end": 18.06,
            "bin_start": 17.08,
            "count": 0
           },
           {
            "bin_end": 19.04,
            "bin_start": 18.06,
            "count": 1
           },
           {
            "bin_end": 20.02,
            "bin_start": 19.04,
            "count": 0
           },
           {
            "bin_end": 21,
            "bin_start": 20.02,
            "count": 1
           }
          ],
          "max": "21.0",
          "min": "11.2",
          "nan_count": 0,
          "unique_count": 5
         }
        },
        {
         "dtype": "float64",
         "name": "magnesium",
         "stats": {
          "histogram": [
           {
            "bin_end": 102.7,
            "bin_start": 100,
            "count": 2
           },
           {
            "bin_end": 105.4,
            "bin_start": 102.7,
            "count": 0
           },
           {
            "bin_end": 108.1,
            "bin_start": 105.4,
            "count": 0
           },
           {
            "bin_end": 110.8,
            "bin_start": 108.1,
            "count": 0
           },
           {
            "bin_end": 113.5,
            "bin_start": 110.8,
            "count": 1
           },
           {
            "bin_end": 116.2,
            "bin_start": 113.5,
            "count": 0
           },
           {
            "bin_end": 118.9,
            "bin_start": 116.2,
            "count": 1
           },
           {
            "bin_end": 121.6,
            "bin_start": 118.9,
            "count": 0
           },
           {
            "bin_end": 124.3,
            "bin_start": 121.6,
            "count": 0
           },
           {
            "bin_end": 127,
            "bin_start": 124.3,
            "count": 1
           }
          ],
          "max": "127.0",
          "min": "100.0",
          "nan_count": 0,
          "unique_count": 5
         }
        },
        {
         "dtype": "float64",
         "name": "total_phenols",
         "stats": {
          "histogram": [
           {
            "bin_end": 2.77,
            "bin_start": 2.65,
            "count": 1
           },
           {
            "bin_end": 2.89,
            "bin_start": 2.77,
            "count": 3
           },
           {
            "bin_end": 3.01,
            "bin_start": 2.89,
            "count": 0
           },
           {
            "bin_end": 3.13,
            "bin_start": 3.01,
            "count": 0
           },
           {
            "bin_end": 3.25,
            "bin_start": 3.13,
            "count": 0
           },
           {
            "bin_end": 3.37,
            "bin_start": 3.25,
            "count": 0
           },
           {
            "bin_end": 3.49,
            "bin_start": 3.37,
            "count": 0
           },
           {
            "bin_end": 3.6100000000000003,
            "bin_start": 3.49,
            "count": 0
           },
           {
            "bin_end": 3.7300000000000004,
            "bin_start": 3.6100000000000003,
            "count": 0
           },
           {
            "bin_end": 3.85,
            "bin_start": 3.7300000000000004,
            "count": 1
           }
          ],
          "max": "3.85",
          "min": "2.65",
          "nan_count": 0,
          "unique_count": 3
         }
        },
        {
         "dtype": "float64",
         "name": "flavanoids",
         "stats": {
          "histogram": [
           {
            "bin_end": 2.77,
            "bin_start": 2.69,
            "count": 2
           },
           {
            "bin_end": 2.85,
            "bin_start": 2.77,
            "count": 0
           },
           {
            "bin_end": 2.93,
            "bin_start": 2.85,
            "count": 0
           },
           {
            "bin_end": 3.0100000000000002,
            "bin_start": 2.93,
            "count": 0
           },
           {
            "bin_end": 3.09,
            "bin_start": 3.0100000000000002,
            "count": 1
           },
           {
            "bin_end": 3.17,
            "bin_start": 3.09,
            "count": 0
           },
           {
            "bin_end": 3.25,
            "bin_start": 3.17,
            "count": 1
           },
           {
            "bin_end": 3.33,
            "bin_start": 3.25,
            "count": 0
           },
           {
            "bin_end": 3.41,
            "bin_start": 3.33,
            "count": 0
           },
           {
            "bin_end": 3.49,
            "bin_start": 3.41,
            "count": 1
           }
          ],
          "max": "3.49",
          "min": "2.69",
          "nan_count": 0,
          "unique_count": 5
         }
        },
        {
         "dtype": "float64",
         "name": "nonflavanoid_phenols",
         "stats": {
          "histogram": [
           {
            "bin_end": 0.255,
            "bin_start": 0.24,
            "count": 1
           },
           {
            "bin_end": 0.27,
            "bin_start": 0.255,
            "count": 1
           },
           {
            "bin_end": 0.28500000000000003,
            "bin_start": 0.27,
            "count": 1
           },
           {
            "bin_end": 0.3,
            "bin_start": 0.28500000000000003,
            "count": 0
           },
           {
            "bin_end": 0.315,
            "bin_start": 0.3,
            "count": 1
           },
           {
            "bin_end": 0.33,
            "bin_start": 0.315,
            "count": 0
           },
           {
            "bin_end": 0.34500000000000003,
            "bin_start": 0.33,
            "count": 0
           },
           {
            "bin_end": 0.36,
            "bin_start": 0.34500000000000003,
            "count": 0
           },
           {
            "bin_end": 0.375,
            "bin_start": 0.36,
            "count": 0
           },
           {
            "bin_end": 0.39,
            "bin_start": 0.375,
            "count": 1
           }
          ],
          "max": "0.39",
          "min": "0.24",
          "nan_count": 0,
          "unique_count": 5
         }
        },
        {
         "dtype": "float64",
         "name": "proanthocyanins",
         "stats": {
          "histogram": [
           {
            "bin_end": 1.433,
            "bin_start": 1.28,
            "count": 1
           },
           {
            "bin_end": 1.586,
            "bin_start": 1.433,
            "count": 0
           },
           {
            "bin_end": 1.7389999999999999,
            "bin_start": 1.586,
            "count": 0
           },
           {
            "bin_end": 1.892,
            "bin_start": 1.7389999999999999,
            "count": 1
           },
           {
            "bin_end": 2.045,
            "bin_start": 1.892,
            "count": 0
           },
           {
            "bin_end": 2.198,
            "bin_start": 2.045,
            "count": 1
           },
           {
            "bin_end": 2.351,
            "bin_start": 2.198,
            "count": 1
           },
           {
            "bin_end": 2.504,
            "bin_start": 2.351,
            "count": 0
           },
           {
            "bin_end": 2.657,
            "bin_start": 2.504,
            "count": 0
           },
           {
            "bin_end": 2.81,
            "bin_start": 2.657,
            "count": 1
           }
          ],
          "max": "2.81",
          "min": "1.28",
          "nan_count": 0,
          "unique_count": 5
         }
        },
        {
         "dtype": "float64",
         "name": "color_intensity",
         "stats": {
          "histogram": [
           {
            "bin_end": 4.668,
            "bin_start": 4.32,
            "count": 2
           },
           {
            "bin_end": 5.016,
            "bin_start": 4.668,
            "count": 0
           },
           {
            "bin_end": 5.364000000000001,
            "bin_start": 5.016,
            "count": 0
           },
           {
            "bin_end": 5.712,
            "bin_start": 5.364000000000001,
            "count": 2
           },
           {
            "bin_end": 6.0600000000000005,
            "bin_start": 5.712,
            "count": 0
           },
           {
            "bin_end": 6.408,
            "bin_start": 6.0600000000000005,
            "count": 0
           },
           {
            "bin_end": 6.756,
            "bin_start": 6.408,
            "count": 0
           },
           {
            "bin_end": 7.104,
            "bin_start": 6.756,
            "count": 0
           },
           {
            "bin_end": 7.452,
            "bin_start": 7.104,
            "count": 0
           },
           {
            "bin_end": 7.8,
            "bin_start": 7.452,
            "count": 1
           }
          ],
          "max": "7.8",
          "min": "4.32",
          "nan_count": 0,
          "unique_count": 5
         }
        },
        {
         "dtype": "float64",
         "name": "hue",
         "stats": {
          "histogram": [
           {
            "bin_end": 0.879,
            "bin_start": 0.86,
            "count": 1
           },
           {
            "bin_end": 0.898,
            "bin_start": 0.879,
            "count": 0
           },
           {
            "bin_end": 0.917,
            "bin_start": 0.898,
            "count": 0
           },
           {
            "bin_end": 0.936,
            "bin_start": 0.917,
            "count": 0
           },
           {
            "bin_end": 0.9550000000000001,
            "bin_start": 0.936,
            "count": 0
           },
           {
            "bin_end": 0.974,
            "bin_start": 0.9550000000000001,
            "count": 0
           },
           {
            "bin_end": 0.993,
            "bin_start": 0.974,
            "count": 0
           },
           {
            "bin_end": 1.012,
            "bin_start": 0.993,
            "count": 0
           },
           {
            "bin_end": 1.0310000000000001,
            "bin_start": 1.012,
            "count": 1
           },
           {
            "bin_end": 1.05,
            "bin_start": 1.0310000000000001,
            "count": 3
           }
          ],
          "max": "1.05",
          "min": "0.86",
          "nan_count": 0,
          "unique_count": 4
         }
        },
        {
         "dtype": "float64",
         "name": "od280/od315_of_diluted_wines",
         "stats": {
          "histogram": [
           {
            "bin_end": 3.029,
            "bin_start": 2.93,
            "count": 1
           },
           {
            "bin_end": 3.128,
            "bin_start": 3.029,
            "count": 0
           },
           {
            "bin_end": 3.2270000000000003,
            "bin_start": 3.128,
            "count": 1
           },
           {
            "bin_end": 3.326,
            "bin_start": 3.2270000000000003,
            "count": 0
           },
           {
            "bin_end": 3.425,
            "bin_start": 3.326,
            "count": 1
           },
           {
            "bin_end": 3.524,
            "bin_start": 3.425,
            "count": 1
           },
           {
            "bin_end": 3.623,
            "bin_start": 3.524,
            "count": 0
           },
           {
            "bin_end": 3.722,
            "bin_start": 3.623,
            "count": 0
           },
           {
            "bin_end": 3.8209999999999997,
            "bin_start": 3.722,
            "count": 0
           },
           {
            "bin_end": 3.92,
            "bin_start": 3.8209999999999997,
            "count": 1
           }
          ],
          "max": "3.92",
          "min": "2.93",
          "nan_count": 0,
          "unique_count": 5
         }
        },
        {
         "dtype": "float64",
         "name": "proline",
         "stats": {
          "histogram": [
           {
            "bin_end": 809.5,
            "bin_start": 735,
            "count": 1
           },
           {
            "bin_end": 884,
            "bin_start": 809.5,
            "count": 0
           },
           {
            "bin_end": 958.5,
            "bin_start": 884,
            "count": 0
           },
           {
            "bin_end": 1033,
            "bin_start": 958.5,
            "count": 0
           },
           {
            "bin_end": 1107.5,
            "bin_start": 1033,
            "count": 2
           },
           {
            "bin_end": 1182,
            "bin_start": 1107.5,
            "count": 0
           },
           {
            "bin_end": 1256.5,
            "bin_start": 1182,
            "count": 1
           },
           {
            "bin_end": 1331,
            "bin_start": 1256.5,
            "count": 0
           },
           {
            "bin_end": 1405.5,
            "bin_start": 1331,
            "count": 0
           },
           {
            "bin_end": 1480,
            "bin_start": 1405.5,
            "count": 1
           }
          ],
          "max": "1480.0",
          "min": "735.0",
          "nan_count": 0,
          "unique_count": 5
         }
        },
        {
         "dtype": "float64",
         "name": "target",
         "stats": {
          "histogram": [
           {
            "bin_end": -0.4,
            "bin_start": -0.5,
            "count": 0
           },
           {
            "bin_end": -0.3,
            "bin_start": -0.4,
            "count": 0
           },
           {
            "bin_end": -0.19999999999999996,
            "bin_start": -0.3,
            "count": 0
           },
           {
            "bin_end": -0.09999999999999998,
            "bin_start": -0.19999999999999996,
            "count": 0
           },
           {
            "bin_end": 0,
            "bin_start": -0.09999999999999998,
            "count": 0
           },
           {
            "bin_end": 0.10000000000000009,
            "bin_start": 0,
            "count": 5
           },
           {
            "bin_end": 0.20000000000000007,
            "bin_start": 0.10000000000000009,
            "count": 0
           },
           {
            "bin_end": 0.30000000000000004,
            "bin_start": 0.20000000000000007,
            "count": 0
           },
           {
            "bin_end": 0.4,
            "bin_start": 0.30000000000000004,
            "count": 0
           },
           {
            "bin_end": 0.5,
            "bin_start": 0.4,
            "count": 0
           }
          ],
          "max": "0.0",
          "min": "0.0",
          "nan_count": 0,
          "unique_count": 1
         }
        },
        {
         "dtype": "int64",
         "name": "_deepnote_index_column"
        }
       ],
       "row_count": 5,
       "rows": [
        {
         "_deepnote_index_column": "0",
         "alcalinity_of_ash": "15.6",
         "alcohol": "14.23",
         "ash": "2.43",
         "color_intensity": "5.64",
         "flavanoids": "3.06",
         "hue": "1.04",
         "magnesium": "127.0",
         "malic_acid": "1.71",
         "nonflavanoid_phenols": "0.28",
         "od280/od315_of_diluted_wines": "3.92",
         "proanthocyanins": "2.29",
         "proline": "1065.0",
         "target": "0.0",
         "total_phenols": "2.8"
        },
        {
         "_deepnote_index_column": "1",
         "alcalinity_of_ash": "11.2",
         "alcohol": "13.2",
         "ash": "2.14",
         "color_intensity": "4.38",
         "flavanoids": "2.76",
         "hue": "1.05",
         "magnesium": "100.0",
         "malic_acid": "1.78",
         "nonflavanoid_phenols": "0.26",
         "od280/od315_of_diluted_wines": "3.4",
         "proanthocyanins": "1.28",
         "proline": "1050.0",
         "target": "0.0",
         "total_phenols": "2.65"
        },
        {
         "_deepnote_index_column": "2",
         "alcalinity_of_ash": "18.6",
         "alcohol": "13.16",
         "ash": "2.67",
         "color_intensity": "5.68",
         "flavanoids": "3.24",
         "hue": "1.03",
         "magnesium": "101.0",
         "malic_acid": "2.36",
         "nonflavanoid_phenols": "0.3",
         "od280/od315_of_diluted_wines": "3.17",
         "proanthocyanins": "2.81",
         "proline": "1185.0",
         "target": "0.0",
         "total_phenols": "2.8"
        },
        {
         "_deepnote_index_column": "3",
         "alcalinity_of_ash": "16.8",
         "alcohol": "14.37",
         "ash": "2.5",
         "color_intensity": "7.8",
         "flavanoids": "3.49",
         "hue": "0.86",
         "magnesium": "113.0",
         "malic_acid": "1.95",
         "nonflavanoid_phenols": "0.24",
         "od280/od315_of_diluted_wines": "3.45",
         "proanthocyanins": "2.18",
         "proline": "1480.0",
         "target": "0.0",
         "total_phenols": "3.85"
        },
        {
         "_deepnote_index_column": "4",
         "alcalinity_of_ash": "21.0",
         "alcohol": "13.24",
         "ash": "2.87",
         "color_intensity": "4.32",
         "flavanoids": "2.69",
         "hue": "1.04",
         "magnesium": "118.0",
         "malic_acid": "2.59",
         "nonflavanoid_phenols": "0.39",
         "od280/od315_of_diluted_wines": "2.93",
         "proanthocyanins": "1.82",
         "proline": "735.0",
         "target": "0.0",
         "total_phenols": "2.8"
        }
       ]
      },
      "text/html": [
       "<div>\n",
       "<style scoped>\n",
       "    .dataframe tbody tr th:only-of-type {\n",
       "        vertical-align: middle;\n",
       "    }\n",
       "\n",
       "    .dataframe tbody tr th {\n",
       "        vertical-align: top;\n",
       "    }\n",
       "\n",
       "    .dataframe thead th {\n",
       "        text-align: right;\n",
       "    }\n",
       "</style>\n",
       "<table border=\"1\" class=\"dataframe\">\n",
       "  <thead>\n",
       "    <tr style=\"text-align: right;\">\n",
       "      <th></th>\n",
       "      <th>alcohol</th>\n",
       "      <th>malic_acid</th>\n",
       "      <th>ash</th>\n",
       "      <th>alcalinity_of_ash</th>\n",
       "      <th>magnesium</th>\n",
       "      <th>total_phenols</th>\n",
       "      <th>flavanoids</th>\n",
       "      <th>nonflavanoid_phenols</th>\n",
       "      <th>proanthocyanins</th>\n",
       "      <th>color_intensity</th>\n",
       "      <th>hue</th>\n",
       "      <th>od280/od315_of_diluted_wines</th>\n",
       "      <th>proline</th>\n",
       "      <th>target</th>\n",
       "    </tr>\n",
       "  </thead>\n",
       "  <tbody>\n",
       "    <tr>\n",
       "      <th>0</th>\n",
       "      <td>14.23</td>\n",
       "      <td>1.71</td>\n",
       "      <td>2.43</td>\n",
       "      <td>15.6</td>\n",
       "      <td>127.0</td>\n",
       "      <td>2.80</td>\n",
       "      <td>3.06</td>\n",
       "      <td>0.28</td>\n",
       "      <td>2.29</td>\n",
       "      <td>5.64</td>\n",
       "      <td>1.04</td>\n",
       "      <td>3.92</td>\n",
       "      <td>1065.0</td>\n",
       "      <td>0.0</td>\n",
       "    </tr>\n",
       "    <tr>\n",
       "      <th>1</th>\n",
       "      <td>13.20</td>\n",
       "      <td>1.78</td>\n",
       "      <td>2.14</td>\n",
       "      <td>11.2</td>\n",
       "      <td>100.0</td>\n",
       "      <td>2.65</td>\n",
       "      <td>2.76</td>\n",
       "      <td>0.26</td>\n",
       "      <td>1.28</td>\n",
       "      <td>4.38</td>\n",
       "      <td>1.05</td>\n",
       "      <td>3.40</td>\n",
       "      <td>1050.0</td>\n",
       "      <td>0.0</td>\n",
       "    </tr>\n",
       "    <tr>\n",
       "      <th>2</th>\n",
       "      <td>13.16</td>\n",
       "      <td>2.36</td>\n",
       "      <td>2.67</td>\n",
       "      <td>18.6</td>\n",
       "      <td>101.0</td>\n",
       "      <td>2.80</td>\n",
       "      <td>3.24</td>\n",
       "      <td>0.30</td>\n",
       "      <td>2.81</td>\n",
       "      <td>5.68</td>\n",
       "      <td>1.03</td>\n",
       "      <td>3.17</td>\n",
       "      <td>1185.0</td>\n",
       "      <td>0.0</td>\n",
       "    </tr>\n",
       "    <tr>\n",
       "      <th>3</th>\n",
       "      <td>14.37</td>\n",
       "      <td>1.95</td>\n",
       "      <td>2.50</td>\n",
       "      <td>16.8</td>\n",
       "      <td>113.0</td>\n",
       "      <td>3.85</td>\n",
       "      <td>3.49</td>\n",
       "      <td>0.24</td>\n",
       "      <td>2.18</td>\n",
       "      <td>7.80</td>\n",
       "      <td>0.86</td>\n",
       "      <td>3.45</td>\n",
       "      <td>1480.0</td>\n",
       "      <td>0.0</td>\n",
       "    </tr>\n",
       "    <tr>\n",
       "      <th>4</th>\n",
       "      <td>13.24</td>\n",
       "      <td>2.59</td>\n",
       "      <td>2.87</td>\n",
       "      <td>21.0</td>\n",
       "      <td>118.0</td>\n",
       "      <td>2.80</td>\n",
       "      <td>2.69</td>\n",
       "      <td>0.39</td>\n",
       "      <td>1.82</td>\n",
       "      <td>4.32</td>\n",
       "      <td>1.04</td>\n",
       "      <td>2.93</td>\n",
       "      <td>735.0</td>\n",
       "      <td>0.0</td>\n",
       "    </tr>\n",
       "  </tbody>\n",
       "</table>\n",
       "</div>"
      ],
      "text/plain": [
       "   alcohol  malic_acid   ash  alcalinity_of_ash  magnesium  total_phenols  \\\n",
       "0    14.23        1.71  2.43               15.6      127.0           2.80   \n",
       "1    13.20        1.78  2.14               11.2      100.0           2.65   \n",
       "2    13.16        2.36  2.67               18.6      101.0           2.80   \n",
       "3    14.37        1.95  2.50               16.8      113.0           3.85   \n",
       "4    13.24        2.59  2.87               21.0      118.0           2.80   \n",
       "\n",
       "   flavanoids  nonflavanoid_phenols  proanthocyanins  color_intensity   hue  \\\n",
       "0        3.06                  0.28             2.29             5.64  1.04   \n",
       "1        2.76                  0.26             1.28             4.38  1.05   \n",
       "2        3.24                  0.30             2.81             5.68  1.03   \n",
       "3        3.49                  0.24             2.18             7.80  0.86   \n",
       "4        2.69                  0.39             1.82             4.32  1.04   \n",
       "\n",
       "   od280/od315_of_diluted_wines  proline  target  \n",
       "0                          3.92   1065.0     0.0  \n",
       "1                          3.40   1050.0     0.0  \n",
       "2                          3.17   1185.0     0.0  \n",
       "3                          3.45   1480.0     0.0  \n",
       "4                          2.93    735.0     0.0  "
      ]
     },
     "execution_count": 7,
     "metadata": {},
     "output_type": "execute_result"
    }
   ],
   "source": [
    "winedf.head(5)"
   ]
  },
  {
   "cell_type": "markdown",
   "metadata": {
    "cell_id": "892e718ff9a24ea4a2ade15c411dd861",
    "deepnote_cell_type": "text-cell-p",
    "formattedRanges": [],
    "is_collapsed": false,
    "tags": []
   },
   "source": [
    "No missing data from winedf"
   ]
  },
  {
   "cell_type": "code",
   "execution_count": 8,
   "metadata": {
    "cell_id": "0450fa317e174e14bc15533bd4862da3",
    "deepnote_cell_height": 380.8125,
    "deepnote_cell_type": "code",
    "deepnote_output_heights": [
     288.8125
    ],
    "deepnote_to_be_reexecuted": false,
    "execution_millis": 2,
    "execution_start": 1670098967195,
    "source_hash": "7ecff2d0",
    "tags": []
   },
   "outputs": [
    {
     "data": {
      "text/plain": [
       "alcohol                         0\n",
       "malic_acid                      0\n",
       "ash                             0\n",
       "alcalinity_of_ash               0\n",
       "magnesium                       0\n",
       "total_phenols                   0\n",
       "flavanoids                      0\n",
       "nonflavanoid_phenols            0\n",
       "proanthocyanins                 0\n",
       "color_intensity                 0\n",
       "hue                             0\n",
       "od280/od315_of_diluted_wines    0\n",
       "proline                         0\n",
       "target                          0\n",
       "dtype: int64"
      ]
     },
     "execution_count": 8,
     "metadata": {},
     "output_type": "execute_result"
    }
   ],
   "source": [
    "winedf.isnull().sum()"
   ]
  },
  {
   "cell_type": "code",
   "execution_count": 9,
   "metadata": {
    "cell_id": "303197b75a83451b9ea6f97f962e6823",
    "deepnote_cell_height": 690,
    "deepnote_cell_type": "code",
    "deepnote_output_heights": [
     490
    ],
    "deepnote_to_be_reexecuted": false,
    "execution_millis": 619,
    "execution_start": 1670098967196,
    "source_hash": "5ecd86cf",
    "tags": []
   },
   "outputs": [
    {
     "data": {
      "image/png": "[encoded data removed]",
      "text/plain": [
       "<Figure size 640x480 with 2 Axes>"
      ]
     },
     "metadata": {
      "image/png": {
       "height": 489,
       "width": 657
      }
     },
     "output_type": "display_data"
    }
   ],
   "source": [
    "winecorr = winedf.corr()\n",
    "s=sns.heatmap(winecorr)\n",
    "\n",
    "s.set_yticklabels(s.get_yticklabels(),rotation=30,fontsize=7)\n",
    "s.set_xticklabels(s.get_xticklabels(),rotation=30,fontsize=7)\n",
    "\n",
    "plt.show()"
   ]
  },
  {
   "cell_type": "markdown",
   "metadata": {
    "cell_id": "6a85db5a92ba4ccc8aadda13ec61ec54",
    "deepnote_cell_type": "text-cell-h2",
    "formattedRanges": [],
    "is_collapsed": false,
    "tags": []
   },
   "source": [
    "## Feature Selection\n"
   ]
  },
  {
   "cell_type": "markdown",
   "metadata": {
    "cell_id": "a38f82a4ac1b4e8bbc7cd8f4cf610827",
    "deepnote_cell_type": "text-cell-p",
    "formattedRanges": [],
    "is_collapsed": false,
    "tags": []
   },
   "source": [
    "From the correlation plot, 'magnesium','total_phenols','od280/od315_of_diluted_wines','color_intensity' were selected features that correlate well with the target, but also not correlated with each other."
   ]
  },
  {
   "cell_type": "code",
   "execution_count": 10,
   "metadata": {
    "cell_id": "95f93a1229e1479f87550397cba8b4de",
    "deepnote_cell_height": 112,
    "deepnote_cell_type": "code",
    "deepnote_to_be_reexecuted": false,
    "execution_millis": 3,
    "execution_start": 1670098967816,
    "source_hash": "8a194b0d",
    "tags": []
   },
   "outputs": [],
   "source": [
    "X = winedf[['magnesium','total_phenols','od280/od315_of_diluted_wines','color_intensity']]\n",
    "\n",
    "y = winedf['target']"
   ]
  },
  {
   "cell_type": "markdown",
   "metadata": {
    "cell_id": "19d04a8670e74d58a3a7c1892ece7508",
    "deepnote_cell_type": "text-cell-h2",
    "formattedRanges": [],
    "is_collapsed": false,
    "tags": []
   },
   "source": [
    "## Build the pipeline object"
   ]
  },
  {
   "cell_type": "code",
   "execution_count": 11,
   "metadata": {
    "cell_id": "f4d83dba61404159bb9b282d06d0b0c0",
    "deepnote_cell_height": 94,
    "deepnote_cell_type": "code",
    "deepnote_to_be_reexecuted": false,
    "execution_millis": 3,
    "execution_start": 1670098967823,
    "source_hash": "8d48b82e",
    "tags": []
   },
   "outputs": [],
   "source": [
    "steps = [('scaler', StandardScaler()), ('lr', LogisticRegression(multi_class='ovr', solver='liblinear'))]\n",
    "pipeline = Pipeline(steps)"
   ]
  },
  {
   "cell_type": "code",
   "execution_count": 12,
   "metadata": {
    "cell_id": "749a4e7d198f41fb96f2e5bd10be3a52",
    "deepnote_cell_height": 76,
    "deepnote_cell_type": "code",
    "deepnote_to_be_reexecuted": false,
    "execution_millis": 1,
    "execution_start": 1670098967875,
    "source_hash": "67431bd1",
    "tags": []
   },
   "outputs": [],
   "source": [
    "parameters = {'lr__C':[0.001,0.1,10,100,10e5], 'lr__penalty':['l1','l2']}"
   ]
  },
  {
   "cell_type": "code",
   "execution_count": 13,
   "metadata": {
    "cell_id": "07f0f90f259d42b89f165a36844caebd",
    "deepnote_cell_height": 94,
    "deepnote_cell_type": "code",
    "deepnote_to_be_reexecuted": false,
    "execution_millis": 0,
    "execution_start": 1670098967876,
    "source_hash": "45c5de53",
    "tags": []
   },
   "outputs": [],
   "source": [
    "X_train, X_test, y_train, y_test = train_test_split(X,y,test_size=0.2, random_state=42)\n"
   ]
  },
  {
   "cell_type": "code",
   "execution_count": 14,
   "metadata": {
    "cell_id": "95418384671a4d1580ebe7c15d1c7186",
    "deepnote_cell_height": 272.703125,
    "deepnote_cell_type": "code",
    "deepnote_output_heights": [
     126.703125,
     126.703125
    ],
    "deepnote_to_be_reexecuted": false,
    "execution_millis": 384,
    "execution_start": 1670098967877,
    "source_hash": "eb09365b",
    "tags": []
   },
   "outputs": [
    {
     "data": {
      "text/html": [
       "<style>#sk-container-id-1 {color: black;background-color: white;}#sk-container-id-1 pre{padding: 0;}#sk-container-id-1 div.sk-toggleable {background-color: white;}#sk-container-id-1 label.sk-toggleable__label {cursor: pointer;display: block;width: 100%;margin-bottom: 0;padding: 0.3em;box-sizing: border-box;text-align: center;}#sk-container-id-1 label.sk-toggleable__label-arrow:before {content: \"▸\";float: left;margin-right: 0.25em;color: #696969;}#sk-container-id-1 label.sk-toggleable__label-arrow:hover:before {color: black;}#sk-container-id-1 div.sk-estimator:hover label.sk-toggleable__label-arrow:before {color: black;}#sk-container-id-1 div.sk-toggleable__content {max-height: 0;max-width: 0;overflow: hidden;text-align: left;background-color: #f0f8ff;}#sk-container-id-1 div.sk-toggleable__content pre {margin: 0.2em;color: black;border-radius: 0.25em;background-color: #f0f8ff;}#sk-container-id-1 input.sk-toggleable__control:checked~div.sk-toggleable__content {max-height: 200px;max-width: 100%;overflow: auto;}#sk-container-id-1 input.sk-toggleable__control:checked~label.sk-toggleable__label-arrow:before {content: \"▾\";}#sk-container-id-1 div.sk-estimator input.sk-toggleable__control:checked~label.sk-toggleable__label {background-color: #d4ebff;}#sk-container-id-1 div.sk-label input.sk-toggleable__control:checked~label.sk-toggleable__label {background-color: #d4ebff;}#sk-container-id-1 input.sk-hidden--visually {border: 0;clip: rect(1px 1px 1px 1px);clip: rect(1px, 1px, 1px, 1px);height: 1px;margin: -1px;overflow: hidden;padding: 0;position: absolute;width: 1px;}#sk-container-id-1 div.sk-estimator {font-family: monospace;background-color: #f0f8ff;border: 1px dotted black;border-radius: 0.25em;box-sizing: border-box;margin-bottom: 0.5em;}#sk-container-id-1 div.sk-estimator:hover {background-color: #d4ebff;}#sk-container-id-1 div.sk-parallel-item::after {content: \"\";width: 100%;border-bottom: 1px solid gray;flex-grow: 1;}#sk-container-id-1 div.sk-label:hover label.sk-toggleable__label {background-color: #d4ebff;}#sk-container-id-1 div.sk-serial::before {content: \"\";position: absolute;border-left: 1px solid gray;box-sizing: border-box;top: 0;bottom: 0;left: 50%;z-index: 0;}#sk-container-id-1 div.sk-serial {display: flex;flex-direction: column;align-items: center;background-color: white;padding-right: 0.2em;padding-left: 0.2em;position: relative;}#sk-container-id-1 div.sk-item {position: relative;z-index: 1;}#sk-container-id-1 div.sk-parallel {display: flex;align-items: stretch;justify-content: center;background-color: white;position: relative;}#sk-container-id-1 div.sk-item::before, #sk-container-id-1 div.sk-parallel-item::before {content: \"\";position: absolute;border-left: 1px solid gray;box-sizing: border-box;top: 0;bottom: 0;left: 50%;z-index: -1;}#sk-container-id-1 div.sk-parallel-item {display: flex;flex-direction: column;z-index: 1;position: relative;background-color: white;}#sk-container-id-1 div.sk-parallel-item:first-child::after {align-self: flex-end;width: 50%;}#sk-container-id-1 div.sk-parallel-item:last-child::after {align-self: flex-start;width: 50%;}#sk-container-id-1 div.sk-parallel-item:only-child::after {width: 0;}#sk-container-id-1 div.sk-dashed-wrapped {border: 1px dashed gray;margin: 0 0.4em 0.5em 0.4em;box-sizing: border-box;padding-bottom: 0.4em;background-color: white;}#sk-container-id-1 div.sk-label label {font-family: monospace;font-weight: bold;display: inline-block;line-height: 1.2em;}#sk-container-id-1 div.sk-label-container {text-align: center;}#sk-container-id-1 div.sk-container {/* jupyter's `normalize.less` sets `[hidden] { display: none; }` but bootstrap.min.css set `[hidden] { display: none !important; }` so we also need the `!important` here to be able to override the default hidden behavior on the sphinx rendered scikit-learn.org. See: https://github.com/scikit-learn/scikit-learn/issues/21755 */display: inline-block !important;position: relative;}#sk-container-id-1 div.sk-text-repr-fallback {display: none;}</style><div id=\"sk-container-id-1\" class=\"sk-top-container\"><div class=\"sk-text-repr-fallback\"><pre>GridSearchCV(estimator=Pipeline(steps=[(&#x27;scaler&#x27;, StandardScaler()),\n",
       "                                       (&#x27;lr&#x27;,\n",
       "                                        LogisticRegression(multi_class=&#x27;ovr&#x27;,\n",
       "                                                           solver=&#x27;liblinear&#x27;))]),\n",
       "             param_grid={&#x27;lr__C&#x27;: [0.001, 0.1, 10, 100, 1000000.0],\n",
       "                         &#x27;lr__penalty&#x27;: [&#x27;l1&#x27;, &#x27;l2&#x27;]})</pre><b>In a Jupyter environment, please rerun this cell to show the HTML representation or trust the notebook. <br />On GitHub, the HTML representation is unable to render, please try loading this page with nbviewer.org.</b></div><div class=\"sk-container\" hidden><div class=\"sk-item sk-dashed-wrapped\"><div class=\"sk-label-container\"><div class=\"sk-label sk-toggleable\"><input class=\"sk-toggleable__control sk-hidden--visually\" id=\"sk-estimator-id-1\" type=\"checkbox\" ><label for=\"sk-estimator-id-1\" class=\"sk-toggleable__label sk-toggleable__label-arrow\">GridSearchCV</label><div class=\"sk-toggleable__content\"><pre>GridSearchCV(estimator=Pipeline(steps=[(&#x27;scaler&#x27;, StandardScaler()),\n",
       "                                       (&#x27;lr&#x27;,\n",
       "                                        LogisticRegression(multi_class=&#x27;ovr&#x27;,\n",
       "                                                           solver=&#x27;liblinear&#x27;))]),\n",
       "             param_grid={&#x27;lr__C&#x27;: [0.001, 0.1, 10, 100, 1000000.0],\n",
       "                         &#x27;lr__penalty&#x27;: [&#x27;l1&#x27;, &#x27;l2&#x27;]})</pre></div></div></div><div class=\"sk-parallel\"><div class=\"sk-parallel-item\"><div class=\"sk-item\"><div class=\"sk-label-container\"><div class=\"sk-label sk-toggleable\"><input class=\"sk-toggleable__control sk-hidden--visually\" id=\"sk-estimator-id-2\" type=\"checkbox\" ><label for=\"sk-estimator-id-2\" class=\"sk-toggleable__label sk-toggleable__label-arrow\">estimator: Pipeline</label><div class=\"sk-toggleable__content\"><pre>Pipeline(steps=[(&#x27;scaler&#x27;, StandardScaler()),\n",
       "                (&#x27;lr&#x27;,\n",
       "                 LogisticRegression(multi_class=&#x27;ovr&#x27;, solver=&#x27;liblinear&#x27;))])</pre></div></div></div><div class=\"sk-serial\"><div class=\"sk-item\"><div class=\"sk-serial\"><div class=\"sk-item\"><div class=\"sk-estimator sk-toggleable\"><input class=\"sk-toggleable__control sk-hidden--visually\" id=\"sk-estimator-id-3\" type=\"checkbox\" ><label for=\"sk-estimator-id-3\" class=\"sk-toggleable__label sk-toggleable__label-arrow\">StandardScaler</label><div class=\"sk-toggleable__content\"><pre>StandardScaler()</pre></div></div></div><div class=\"sk-item\"><div class=\"sk-estimator sk-toggleable\"><input class=\"sk-toggleable__control sk-hidden--visually\" id=\"sk-estimator-id-4\" type=\"checkbox\" ><label for=\"sk-estimator-id-4\" class=\"sk-toggleable__label sk-toggleable__label-arrow\">LogisticRegression</label><div class=\"sk-toggleable__content\"><pre>LogisticRegression(multi_class=&#x27;ovr&#x27;, solver=&#x27;liblinear&#x27;)</pre></div></div></div></div></div></div></div></div></div></div></div></div>"
      ],
      "text/plain": [
       "GridSearchCV(estimator=Pipeline(steps=[('scaler', StandardScaler()),\n",
       "                                       ('lr',\n",
       "                                        LogisticRegression(multi_class='ovr',\n",
       "                                                           solver='liblinear'))]),\n",
       "             param_grid={'lr__C': [0.001, 0.1, 10, 100, 1000000.0],\n",
       "                         'lr__penalty': ['l1', 'l2']})"
      ]
     },
     "execution_count": 14,
     "metadata": {},
     "output_type": "execute_result"
    }
   ],
   "source": [
    "# default folds (cv) is 5\n",
    "grid = GridSearchCV(pipeline, param_grid=parameters)\n",
    "\n",
    "grid.fit(X_train, y_train)"
   ]
  },
  {
   "cell_type": "markdown",
   "metadata": {
    "cell_id": "db974bfc580344629a384d3e1aeff534",
    "deepnote_cell_type": "text-cell-h2",
    "formattedRanges": [],
    "is_collapsed": false,
    "tags": []
   },
   "source": [
    "## Making predictions with the test set"
   ]
  },
  {
   "cell_type": "code",
   "execution_count": 15,
   "metadata": {
    "cell_id": "43390657a7334f00bb5bfc6a831f24b6",
    "deepnote_cell_height": 150.5625,
    "deepnote_cell_type": "code",
    "deepnote_output_heights": [
     58.5625
    ],
    "deepnote_to_be_reexecuted": false,
    "execution_millis": 4,
    "execution_start": 1670098968265,
    "source_hash": "ed3a36fe",
    "tags": []
   },
   "outputs": [
    {
     "data": {
      "text/plain": [
       "array([0., 0., 2., 0., 0., 0., 1., 2., 1., 2., 0., 2., 1., 1., 0., 1., 1.,\n",
       "       1., 0., 1., 0., 0., 1., 2., 2., 2., 1., 1., 1., 0., 0., 1., 2., 0.,\n",
       "       0., 0.])"
      ]
     },
     "execution_count": 15,
     "metadata": {},
     "output_type": "execute_result"
    }
   ],
   "source": [
    "grid.predict(X_test)"
   ]
  },
  {
   "cell_type": "markdown",
   "metadata": {
    "cell_id": "e3edc2d3689146edaaf558b5bfdc1d0d",
    "deepnote_cell_type": "text-cell-p",
    "formattedRanges": [],
    "is_collapsed": false,
    "tags": []
   },
   "source": [
    "On an accuracy metric, the pipeline scores 92% accuracy. "
   ]
  },
  {
   "cell_type": "code",
   "execution_count": 16,
   "metadata": {
    "cell_id": "610fefe6ae3b4df0ace86b29d7768604",
    "deepnote_cell_height": 217.375,
    "deepnote_cell_type": "code",
    "deepnote_to_be_reexecuted": false,
    "execution_millis": 4,
    "execution_start": 1670098968272,
    "source_hash": "28e9ed89",
    "tags": []
   },
   "outputs": [
    {
     "name": "stdout",
     "output_type": "stream",
     "text": [
      "score = 0.92\n",
      "{'lr__C': 10, 'lr__penalty': 'l1'}\n"
     ]
    }
   ],
   "source": [
    "print(\"score = %3.2f\" %(grid.score(X_test,y_test)))\n",
    "\n",
    "pparam=pprint.PrettyPrinter(indent=2)\n",
    "\n",
    "print (grid.best_params_)\n",
    "endT = time.time()"
   ]
  },
  {
   "cell_type": "markdown",
   "metadata": {
    "cell_id": "3e09dd585643453bb2f178313c4a5c3c",
    "deepnote_cell_type": "text-cell-h2",
    "formattedRanges": [],
    "is_collapsed": false,
    "tags": []
   },
   "source": [
    "## Summary"
   ]
  },
  {
   "cell_type": "markdown",
   "metadata": {
    "cell_id": "887e9b5e-1fbb-41b8-bfd5-67b291da7e9f",
    "deepnote_cell_type": "text-cell-p",
    "formattedRanges": [],
    "is_collapsed": false,
    "tags": []
   },
   "source": [
    "We explored a simple pipeline with only two steps that include transformation and building the model. We were able to perform hyperparameter tuning within the pipeline and output a model that can generate predictions."
   ]
  },
  {
   "cell_type": "markdown",
   "metadata": {
    "cell_id": "a6ac798115b6461ab6a2d3b51d993999",
    "deepnote_cell_type": "text-cell-h2",
    "formattedRanges": [],
    "is_collapsed": false,
    "tags": []
   },
   "source": [
    "## Looking Ahead"
   ]
  },
  {
   "cell_type": "markdown",
   "metadata": {
    "cell_id": "1913bb972c3040d99cfd267a4d93d67d",
    "deepnote_cell_type": "text-cell-number",
    "formattedRanges": [
     {
      "fromCodePoint": 53,
      "ranges": [],
      "toCodePoint": 61,
      "type": "link",
      "url": "https://towardsdatascience.com/pipelines-custom-transformers-in-scikit-learn-the-step-by-step-guide-with-python-code-4a7d9b068156"
     },
     {
      "fromCodePoint": 61,
      "ranges": [],
      "toCodePoint": 61,
      "type": "link",
      "url": "https://towardsdatascience.com/pipelines-custom-transformers-in-scikit-learn-the-step-by-step-guide-with-python-code-4a7d9b068156"
     }
    ],
    "is_collapsed": false,
    "number": 1,
    "style": "decimal",
    "tags": []
   },
   "source": [
    "1. Wanting to use custom transformers, inspired by this article."
   ]
  },
  {
   "cell_type": "markdown",
   "metadata": {
    "cell_id": "2588a7cc-4510-4fd6-8818-cd5bbb2824f5",
    "deepnote_cell_type": "text-cell-number",
    "formattedRanges": [],
    "is_collapsed": false,
    "style": "decimal",
    "tags": []
   },
   "source": [
    "undefined. Add predictions within the pipeline"
   ]
  },
  {
   "cell_type": "markdown",
   "metadata": {
    "cell_id": "f7b5cb45-6346-498b-b95f-218f2724e773",
    "deepnote_cell_type": "text-cell-number",
    "formattedRanges": [],
    "is_collapsed": false,
    "style": "decimal",
    "tags": []
   },
   "source": [
    "undefined. Practice operationalizing and building a workflow around a pipeline  "
   ]
  },
  {
   "cell_type": "markdown",
   "metadata": {
    "cell_id": "22cced94-3ffd-4ffb-9231-6a8369f22539",
    "deepnote_cell_type": "text-cell-p",
    "formattedRanges": [],
    "is_collapsed": false,
    "style": "decimal",
    "tags": []
   },
   "source": [
    "     - for example, if an objective metric is less than a threshold, send a notification to the support team/machine learning engineer. "
   ]
  },
  {
   "cell_type": "markdown",
   "metadata": {
    "cell_id": "d4c0e053b6f748ee885ec579df0c9c66",
    "deepnote_cell_type": "text-cell-h2",
    "formattedRanges": [],
    "is_collapsed": false,
    "tags": []
   },
   "source": [
    "## Acknowledgment/Credit/References used"
   ]
  },
  {
   "cell_type": "markdown",
   "metadata": {
    "cell_id": "e605b1664adc47bdbea54d60f4cdf970",
    "deepnote_cell_type": "text-cell-bullet",
    "formattedRanges": [
     {
      "fromCodePoint": 0,
      "ranges": [],
      "toCodePoint": 94,
      "type": "link",
      "url": "https://www.kaggle.com/code/satishgunjal/multiclass-logistic-regression-using-sklearn/notebook"
     }
    ],
    "is_collapsed": false,
    "tags": []
   },
   "source": [
    "- https://www.kaggle.com/code/satishgunjal/multiclass-logistic-regression-using-sklearn/notebook"
   ]
  },
  {
   "cell_type": "markdown",
   "metadata": {
    "cell_id": "24940c35-c0b7-4ee9-b1af-f67be9ab7cd7",
    "deepnote_cell_type": "text-cell-bullet",
    "formattedRanges": [
     {
      "fromCodePoint": 0,
      "ranges": [],
      "toCodePoint": 0,
      "type": "link",
      "url": "https://www.kaggle.com/code/satishgunjal/multiclass-logistic-regression-using-sklearn/notebook"
     },
     {
      "fromCodePoint": 0,
      "ranges": [],
      "toCodePoint": 110,
      "type": "link",
      "url": "https://towardsdatascience.com/a-simple-example-of-pipeline-in-machine-learning-with-scikit-learn-e726ffbb6976"
     }
    ],
    "is_collapsed": false,
    "tags": []
   },
   "source": [
    "- https://towardsdatascience.com/a-simple-example-of-pipeline-in-machine-learning-with-scikit-learn-e726ffbb6976 "
   ]
  },
  {
   "cell_type": "markdown",
   "metadata": {
    "cell_id": "c7daf7cb-c012-4735-bb64-13f6af282922",
    "deepnote_cell_type": "text-cell-bullet",
    "formattedRanges": [
     {
      "fromCodePoint": 0,
      "ranges": [],
      "toCodePoint": 85,
      "type": "link",
      "url": "https://towardsdatascience.com/why-you-should-use-scikit-learn-pipelines-8754b4d1e375"
     }
    ],
    "is_collapsed": false,
    "tags": []
   },
   "source": [
    "- https://towardsdatascience.com/why-you-should-use-scikit-learn-pipelines-8754b4d1e375"
   ]
  },
  {
   "cell_type": "markdown",
   "metadata": {
    "cell_id": "98d4cdf3-b00b-42e4-8e6d-1493555b741c",
    "deepnote_cell_type": "text-cell-bullet",
    "formattedRanges": [
     {
      "fromCodePoint": 0,
      "ranges": [],
      "toCodePoint": 71,
      "type": "link",
      "url": "https://github.com/suvoooo/Machine_Learning/blob/master/pipelineWine.py"
     }
    ],
    "is_collapsed": false,
    "tags": []
   },
   "source": [
    "- https://github.com/suvoooo/Machine_Learning/blob/master/pipelineWine.py "
   ]
  },
  {
   "cell_type": "markdown",
   "metadata": {
    "created_in_deepnote_cell": true,
    "deepnote_cell_type": "markdown",
    "tags": []
   },
   "source": [
    "<a style='text-decoration:none;line-height:16px;display:flex;color:#5B5B62;padding:10px;justify-content:end;' href='https://deepnote.com?utm_source=created-in-deepnote-cell&projectId=7e45d157-6af1-4ba7-ab41-fd1508cbf2ab' target=\"_blank\">\n",
    "<img alt='Created in deepnote.com' style='display:inline;max-height:16px;margin:0px;margin-right:7.5px;' src='data:image/svg+xml;base64,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' > </img>\n",
    "Created in <span style='font-weight:600;margin-left:4px;'>Deepnote</span></a>"
   ]
  }
 ],
 "metadata": {
  "deepnote": {},
  "deepnote_execution_queue": [],
  "deepnote_notebook_id": "410b9542da344f0a91e1b3049fbaf99b",
  "kernelspec": {
   "display_name": "default:Python",
   "language": "python",
   "name": "conda-env-default-py"
  },
  "language_info": {
   "codemirror_mode": {
    "name": "ipython",
    "version": 3
   },
   "file_extension": ".py",
   "mimetype": "text/x-python",
   "name": "python",
   "nbconvert_exporter": "python",
   "pygments_lexer": "ipython3",
   "version": "3.9.7"
  }
 },
 "nbformat": 4,
 "nbformat_minor": 4
}
