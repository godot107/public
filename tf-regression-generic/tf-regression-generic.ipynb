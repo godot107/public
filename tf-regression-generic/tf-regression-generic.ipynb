{
 "cells": [
  {
   "cell_type": "markdown",
   "id": "c16d9f75-eff3-4c66-8e7c-369ba9603027",
   "metadata": {},
   "source": [
    "Perform Linear Regression on Synthetic Dataset with TensorFlow 2"
   ]
  },
  {
   "cell_type": "code",
   "execution_count": null,
   "id": "f9b74e86-0d6d-4b43-8d5b-631369c244df",
   "metadata": {},
   "outputs": [],
   "source": [
    "# !pip install --upgrade tensorflow sagemaker"
   ]
  },
  {
   "cell_type": "code",
   "execution_count": 68,
   "id": "409c1951-5fbd-4b0d-993e-44e6c295ee2d",
   "metadata": {},
   "outputs": [],
   "source": [
    "import tensorflow as tf\n",
    "import numpy as np\n",
    "import matplotlib.pyplot as plt\n",
    "import numpy as np\n",
    "from tensorflow import keras\n",
    "from tensorflow.keras import layers\n",
    "from sklearn.datasets import make_regression\n",
    "from sklearn.model_selection import train_test_split"
   ]
  },
  {
   "cell_type": "code",
   "execution_count": 72,
   "id": "c6ae7a14-9ac7-4f47-a1dd-6fc091157d0b",
   "metadata": {},
   "outputs": [
    {
     "name": "stdout",
     "output_type": "stream",
     "text": [
      "2.11.0\n"
     ]
    }
   ],
   "source": [
    "print(tf.__version__)"
   ]
  },
  {
   "cell_type": "code",
   "execution_count": 35,
   "id": "f88bbb8d-965f-4eaa-b19d-8ca7508537fe",
   "metadata": {},
   "outputs": [],
   "source": [
    "X, y = make_regression(n_samples = 10000, n_features = 10, n_targets = 1, random_state = 42)"
   ]
  },
  {
   "cell_type": "code",
   "execution_count": 44,
   "id": "5cfdbfd9-7da5-4af8-ac34-190dbcc40b15",
   "metadata": {},
   "outputs": [],
   "source": [
    "X_train, X_test, y_train, y_test = train_test_split( X, y, test_size=0.2, random_state=42)"
   ]
  },
  {
   "cell_type": "code",
   "execution_count": 51,
   "id": "ad07aae5-bc63-40dc-802b-69f8e06623ac",
   "metadata": {},
   "outputs": [],
   "source": [
    "feature_normalizer = tf.keras.layers.Normalization(axis=-1)\n",
    "feature_normalizer.adapt(np.array(X_train))"
   ]
  },
  {
   "cell_type": "code",
   "execution_count": 54,
   "id": "90224884-f014-46d0-8c4a-044983228b9a",
   "metadata": {},
   "outputs": [],
   "source": [
    "target_normalizer = layers.Normalization(input_shape=[1,], axis=None)\n",
    "target_normalizer.adapt(y_train)"
   ]
  },
  {
   "cell_type": "code",
   "execution_count": 45,
   "id": "61a6b342-d32d-4237-90cb-08b60c697927",
   "metadata": {},
   "outputs": [
    {
     "data": {
      "text/plain": [
       "(8000, 10)"
      ]
     },
     "execution_count": 45,
     "metadata": {},
     "output_type": "execute_result"
    }
   ],
   "source": [
    "X_train.shape"
   ]
  },
  {
   "cell_type": "code",
   "execution_count": 59,
   "id": "50ffa00e-7a55-488d-b257-242191933b18",
   "metadata": {},
   "outputs": [
    {
     "data": {
      "text/plain": [
       "(8000,)"
      ]
     },
     "execution_count": 59,
     "metadata": {},
     "output_type": "execute_result"
    }
   ],
   "source": [
    "y_train.shape"
   ]
  },
  {
   "cell_type": "code",
   "execution_count": 60,
   "id": "e3c092b3-acaa-4dd1-b863-9975b7f58518",
   "metadata": {},
   "outputs": [
    {
     "name": "stdout",
     "output_type": "stream",
     "text": [
      "Model: \"sequential_4\"\n",
      "_________________________________________________________________\n",
      " Layer (type)                Output Shape              Param #   \n",
      "=================================================================\n",
      " normalization_1 (Normalizat  (None, 10)               21        \n",
      " ion)                                                            \n",
      "                                                                 \n",
      " dense_6 (Dense)             (None, 128)               1408      \n",
      "                                                                 \n",
      " dropout_3 (Dropout)         (None, 128)               0         \n",
      "                                                                 \n",
      " normalization_2 (Normalizat  (None, 128)              3         \n",
      " ion)                                                            \n",
      "                                                                 \n",
      "=================================================================\n",
      "Total params: 1,432\n",
      "Trainable params: 1,408\n",
      "Non-trainable params: 24\n",
      "_________________________________________________________________\n"
     ]
    }
   ],
   "source": [
    "model = tf.keras.models.Sequential([\n",
    "  feature_normalizer,\n",
    "  tf.keras.layers.Dense(128, activation='relu'),\n",
    "  tf.keras.layers.Dropout(0.2),\n",
    "  target_normalizer\n",
    "])\n",
    "\n",
    "model.summary()"
   ]
  },
  {
   "cell_type": "code",
   "execution_count": 61,
   "id": "76eb4a5c-82cf-4d81-80d1-6cc7168c4e6d",
   "metadata": {},
   "outputs": [],
   "source": [
    "model.compile(\n",
    "    optimizer=tf.keras.optimizers.Adam(learning_rate=0.1),\n",
    "    loss='mean_absolute_error')"
   ]
  },
  {
   "cell_type": "code",
   "execution_count": 63,
   "id": "979ef075-9218-49b9-a9fa-47919eb78dca",
   "metadata": {},
   "outputs": [
    {
     "name": "stdout",
     "output_type": "stream",
     "text": [
      "Epoch 1/10\n",
      "200/200 [==============================] - 1s 3ms/step - loss: 126.4317 - val_loss: 127.3124\n",
      "Epoch 2/10\n",
      "200/200 [==============================] - 1s 3ms/step - loss: 126.2980 - val_loss: 127.1767\n",
      "Epoch 3/10\n",
      "200/200 [==============================] - 1s 4ms/step - loss: 126.1654 - val_loss: 127.0418\n",
      "Epoch 4/10\n",
      "200/200 [==============================] - 1s 3ms/step - loss: 126.0307 - val_loss: 126.9067\n",
      "Epoch 5/10\n",
      "200/200 [==============================] - 1s 3ms/step - loss: 125.8983 - val_loss: 126.7719\n",
      "Epoch 6/10\n",
      "200/200 [==============================] - 1s 3ms/step - loss: 125.7612 - val_loss: 126.6372\n",
      "Epoch 7/10\n",
      "200/200 [==============================] - 1s 3ms/step - loss: 125.6244 - val_loss: 126.5026\n",
      "Epoch 8/10\n",
      "200/200 [==============================] - 0s 2ms/step - loss: 125.4916 - val_loss: 126.3680\n",
      "Epoch 9/10\n",
      "200/200 [==============================] - 0s 2ms/step - loss: 125.3638 - val_loss: 126.2333\n",
      "Epoch 10/10\n",
      "200/200 [==============================] - 0s 2ms/step - loss: 125.2276 - val_loss: 126.0989\n",
      "CPU times: user 5.29 s, sys: 521 ms, total: 5.81 s\n",
      "Wall time: 5.93 s\n"
     ]
    }
   ],
   "source": [
    "%%time\n",
    "history = model.fit(\n",
    "    X_train,\n",
    "    y_train,\n",
    "    epochs=25,\n",
    "    # Suppress logging.\n",
    "    verbose=1,\n",
    "    # Calculate validation results on 20% of the training data.\n",
    "    validation_split = 0.2)"
   ]
  },
  {
   "cell_type": "code",
   "execution_count": 65,
   "id": "bc39bdfb-d26c-4234-9fba-72be56c1fade",
   "metadata": {},
   "outputs": [
    {
     "name": "stdout",
     "output_type": "stream",
     "text": [
      "63/63 [==============================] - 0s 2ms/step\n"
     ]
    },
    {
     "data": {
      "text/plain": [
       "array([[3.7526025e-03, 3.7526025e-03, 3.7526025e-03, ..., 3.7526025e-03,\n",
       "        3.7526025e-03, 3.7526025e-03],\n",
       "       [6.5327153e+00, 6.4722610e+00, 6.5286932e+00, ..., 6.5136304e+00,\n",
       "        6.5514741e+00, 6.5529180e+00],\n",
       "       [3.9886818e+00, 3.9748702e+00, 4.0253100e+00, ..., 3.9939623e+00,\n",
       "        3.9870596e+00, 3.9762535e+00],\n",
       "       ...,\n",
       "       [5.1597276e+00, 5.1822448e+00, 5.1542053e+00, ..., 5.1652160e+00,\n",
       "        5.1907139e+00, 5.1726756e+00],\n",
       "       [3.7526025e-03, 3.7526025e-03, 3.7526025e-03, ..., 3.7526025e-03,\n",
       "        3.7526025e-03, 3.7526025e-03],\n",
       "       [3.6248949e+00, 3.5987241e+00, 3.6329920e+00, ..., 3.6393919e+00,\n",
       "        3.6063802e+00, 3.5722787e+00]], dtype=float32)"
      ]
     },
     "execution_count": 65,
     "metadata": {},
     "output_type": "execute_result"
    }
   ],
   "source": [
    "model.predict(X_test)"
   ]
  },
  {
   "cell_type": "code",
   "execution_count": 70,
   "id": "2270e0cf-902c-4044-88b8-4c2e9bcea3b8",
   "metadata": {},
   "outputs": [
    {
     "data": {
      "image/png": "[encoded data removed]",
      "text/plain": [
       "<Figure size 432x288 with 1 Axes>"
      ]
     },
     "metadata": {
      "needs_background": "light"
     },
     "output_type": "display_data"
    }
   ],
   "source": [
    "def plot_loss(history):\n",
    "      plt.plot(history.history['loss'], label='loss')\n",
    "      plt.plot(history.history['val_loss'], label='val_loss')\n",
    "      plt.xlabel('Epoch')\n",
    "      plt.ylabel('Error [y-target]')\n",
    "      plt.legend()\n",
    "      plt.grid(True)\n",
    "\n",
    "plot_loss(history)"
   ]
  },
  {
   "cell_type": "code",
   "execution_count": 71,
   "id": "1fdab3af-56d6-4c42-ba7d-d18ba32d5b77",
   "metadata": {},
   "outputs": [
    {
     "data": {
      "text/plain": [
       "129.41114807128906"
      ]
     },
     "execution_count": 71,
     "metadata": {},
     "output_type": "execute_result"
    }
   ],
   "source": [
    "model.evaluate(X_test, y_test, verbose=0)"
   ]
  },
  {
   "cell_type": "markdown",
   "id": "4926581f-ebc1-4eee-9b04-6d9060d74bcf",
   "metadata": {},
   "source": [
    "Resources:\n",
    "\n",
    "- https://scikit-learn.org/stable/modules/generated/sklearn.datasets.make_regression.html\n",
    "- https://www.tensorflow.org/tutorials/keras/regression"
   ]
  }
 ],
 "metadata": {
  "kernelspec": {
   "display_name": "default:Python",
   "language": "python",
   "name": "conda-env-default-py"
  },
  "language_info": {
   "codemirror_mode": {
    "name": "ipython",
    "version": 3
   },
   "file_extension": ".py",
   "mimetype": "text/x-python",
   "name": "python",
   "nbconvert_exporter": "python",
   "pygments_lexer": "ipython3",
   "version": "3.9.7"
  }
 },
 "nbformat": 4,
 "nbformat_minor": 5
}
