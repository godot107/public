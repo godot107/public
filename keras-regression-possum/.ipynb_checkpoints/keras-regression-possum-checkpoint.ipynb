{
 "cells": [
  {
   "cell_type": "markdown",
   "id": "d501f501-548e-4115-9c0a-7a20b8413d72",
   "metadata": {},
   "source": [
    "## Motivation\n",
    "Practice Regression using DeepLearning Framework\n",
    "## Goal\n",
    "Predict Age of Possume based on measurements"
   ]
  },
  {
   "cell_type": "code",
   "execution_count": null,
   "id": "fcbad032-2d80-4da1-b1de-8eca65dcd973",
   "metadata": {
    "tags": []
   },
   "outputs": [
    {
     "name": "stdout",
     "output_type": "stream",
     "text": [
      "Requirement already satisfied: tensorflow in /home/studio-lab-user/.conda/envs/default/lib/python3.9/site-packages (2.11.0)\n",
      "Requirement already satisfied: sagemaker in /home/studio-lab-user/.conda/envs/default/lib/python3.9/site-packages (2.126.0)\n"
     ]
    }
   ],
   "source": [
    "!pip install --upgrade tensorflow sagemaker\n",
    "!pip install keras\n",
    "!pip install missingno"
   ]
  },
  {
   "cell_type": "code",
   "execution_count": null,
   "id": "30732d82-4559-48c2-9e39-0357a230ddfd",
   "metadata": {},
   "outputs": [],
   "source": [
    "import pandas as pd\n",
    "import numpy as np\n",
    "import matplotlib.pyplot as plt\n",
    "import tensorflow as tf\n",
    "from tensorflow import keras\n",
    "from tensorflow.keras import layers\n",
    "import seaborn as sns\n",
    "import missingno as msno"
   ]
  },
  {
   "cell_type": "code",
   "execution_count": null,
   "id": "0ccf1162-048e-41fe-ace9-bf6bf9503b33",
   "metadata": {},
   "outputs": [],
   "source": [
    "# Import Data:\n",
    "\n",
    "# Source: https://www.kaggle.com/datasets/abrambeyer/openintro-possum\n",
    "df = pd.read_csv('possum.csv')\n",
    "df.drop(['case','site','Pop'], inplace = True, axis = 1)"
   ]
  },
  {
   "cell_type": "code",
   "execution_count": null,
   "id": "a5b8ac80-2f15-40cd-bed7-73e0c595c17b",
   "metadata": {},
   "outputs": [],
   "source": [
    "df.shape"
   ]
  },
  {
   "cell_type": "code",
   "execution_count": null,
   "id": "9b3c7231-2818-4708-9e48-d29049769e08",
   "metadata": {},
   "outputs": [],
   "source": [
    "df.head()"
   ]
  },
  {
   "cell_type": "code",
   "execution_count": null,
   "id": "e5d18541-3294-45ba-a9f5-9b53c9011649",
   "metadata": {},
   "outputs": [],
   "source": [
    "msno.bar(df)"
   ]
  },
  {
   "cell_type": "code",
   "execution_count": null,
   "id": "3a1a1552-fef0-49df-b13b-da116adfe17b",
   "metadata": {},
   "outputs": [],
   "source": [
    "df.dropna(inplace = True)"
   ]
  },
  {
   "cell_type": "code",
   "execution_count": null,
   "id": "10cb7759-57a8-471c-98ac-a41ca68fbedf",
   "metadata": {},
   "outputs": [],
   "source": [
    "sns.heatmap(df.corr(), annot = True)"
   ]
  },
  {
   "cell_type": "code",
   "execution_count": null,
   "id": "28a04dff-3193-4568-9689-be8792ee9658",
   "metadata": {},
   "outputs": [],
   "source": [
    "sns.pairplot(df, hue=\"sex\")"
   ]
  },
  {
   "cell_type": "code",
   "execution_count": null,
   "id": "e8f12385-8f26-48ed-82b0-2332c4252ac1",
   "metadata": {},
   "outputs": [],
   "source": [
    "## Feature Engineering\n",
    "\n",
    "dataset = pd.get_dummies(df, columns=['sex'], prefix='', prefix_sep='')"
   ]
  },
  {
   "cell_type": "code",
   "execution_count": null,
   "id": "4f3276ac-2ffa-4577-8ac0-a631e0281094",
   "metadata": {},
   "outputs": [],
   "source": [
    "from sklearn.model_selection import train_test_split\n",
    "\n",
    "X_train, X_test, y_train, y_test = train_test_split(dataset.iloc[:,1:], dataset['age'], test_size=0.33, random_state=42)"
   ]
  },
  {
   "cell_type": "markdown",
   "id": "bf91e855-fe38-4be6-ba9b-c36abc6c5f4a",
   "metadata": {},
   "source": [
    "## Baseline Model"
   ]
  },
  {
   "cell_type": "code",
   "execution_count": null,
   "id": "3a0c8e91-3e08-43ab-b4b9-f246d7fe1e9f",
   "metadata": {},
   "outputs": [],
   "source": [
    "from sklearn.preprocessing import StandardScaler\n",
    "scaler = StandardScaler()\n",
    "X_train_scaled = scaler.fit_transform(X_train)\n",
    "X_test_scaled = scaler.transform(X_test)"
   ]
  },
  {
   "cell_type": "code",
   "execution_count": null,
   "id": "c11b4f62-0bbe-4249-b316-cc35a5a2edd7",
   "metadata": {},
   "outputs": [],
   "source": [
    "from sklearn.linear_model import LinearRegression\n",
    "reg = LinearRegression().fit(X_train_scaled, y_train)"
   ]
  },
  {
   "cell_type": "code",
   "execution_count": null,
   "id": "d7dde20c-9e74-4a9a-8402-e5f811b4d77e",
   "metadata": {},
   "outputs": [],
   "source": [
    "reg.score(X_train_scaled, y_train)"
   ]
  },
  {
   "cell_type": "code",
   "execution_count": null,
   "id": "a3fa3a6b-4a3b-4d36-a7a9-ef890cb1cf4b",
   "metadata": {},
   "outputs": [],
   "source": [
    "# Residual Analysis\n",
    "\n",
    "predictions = reg.predict(X_test_scaled)\n",
    "foo = np.concatenate((np.array(y_test - predictions).reshape(-1,1), predictions.reshape(-1,1)), axis = 1)\n",
    "foo2 = pd.DataFrame(foo, columns = ['residuals','predictions'])\n",
    "sns.regplot(foo2, y = 'residuals', x='predictions')"
   ]
  },
  {
   "cell_type": "markdown",
   "id": "67db79fc-ca27-4107-b72b-c2466f449881",
   "metadata": {},
   "source": [
    "## Artificual Neural Network"
   ]
  },
  {
   "cell_type": "code",
   "execution_count": null,
   "id": "ec8b8819-c0ac-4345-925c-268698505f97",
   "metadata": {},
   "outputs": [],
   "source": [
    "# Prepare Normalizer\n",
    "normalizer = tf.keras.layers.Normalization(axis=-1)\n",
    "normalizer.adapt(np.array(X_train))"
   ]
  },
  {
   "cell_type": "code",
   "execution_count": null,
   "id": "cdfe1075-9fbb-4857-bd8d-ce06144a73b1",
   "metadata": {},
   "outputs": [],
   "source": [
    "from tensorflow.keras import regularizers\n",
    "\n",
    "# Create the Model\n",
    "model = tf.keras.Sequential([\n",
    "    normalizer,\n",
    "    layers.Dense(8, activation='relu', kernel_regularizer=regularizers.L1(0.01)),\n",
    "    layers.Dropout(.2),\n",
    "    layers.Dense(8, activation='relu', kernel_regularizer=regularizers.L1(0.01)),\n",
    "    layers.Dropout(.2),\n",
    "    layers.Dense(units=1)\n",
    "])\n",
    "\n",
    "model.summary()"
   ]
  },
  {
   "cell_type": "code",
   "execution_count": null,
   "id": "e5c5f1a7-af36-43ef-91f0-20f227a3ac16",
   "metadata": {},
   "outputs": [],
   "source": [
    "# Compile the Model\n",
    "model.compile(\n",
    "    optimizer=tf.keras.optimizers.Adam(learning_rate=0.1),\n",
    "    loss='mean_absolute_error')"
   ]
  },
  {
   "cell_type": "code",
   "execution_count": null,
   "id": "e7028074-7e5e-4102-bebb-9a2206920bbd",
   "metadata": {},
   "outputs": [],
   "source": [
    "from keras.callbacks import EarlyStopping\n",
    "\n",
    "# patient early stopping\n",
    "es = EarlyStopping(monitor='val_loss', mode='min', verbose=1, patience=200)"
   ]
  },
  {
   "cell_type": "code",
   "execution_count": null,
   "id": "7eda0f3b-523b-4e2e-b1a3-b399e7802911",
   "metadata": {
    "tags": []
   },
   "outputs": [],
   "source": [
    "%%time\n",
    "history = model.fit(\n",
    "    X_train,\n",
    "    y_train,\n",
    "    epochs=25,\n",
    "    verbose = 0,\n",
    "    # Calculate validation results on 20% of the training data.\n",
    "    validation_split = 0.2,\n",
    "    callbacks = [es]\n",
    ")"
   ]
  },
  {
   "cell_type": "code",
   "execution_count": null,
   "id": "1442a397-ffda-46a8-9881-63e0329e532d",
   "metadata": {},
   "outputs": [],
   "source": [
    "def plot_loss(history):\n",
    "    plt.plot(history.history['loss'], label='loss')\n",
    "    plt.plot(history.history['val_loss'], label='val_loss')\n",
    "    plt.ylim([0, 10])\n",
    "    plt.xlabel('Epoch')\n",
    "    plt.ylabel('Error')\n",
    "    plt.legend()\n",
    "    plt.grid(True)\n",
    "\n",
    "plot_loss(history)"
   ]
  },
  {
   "cell_type": "code",
   "execution_count": null,
   "id": "786230c9-a324-41db-83b6-7dbb304b404d",
   "metadata": {},
   "outputs": [],
   "source": [
    "#model.predict(X_train[:10])"
   ]
  },
  {
   "cell_type": "markdown",
   "id": "c69434bb-187a-4589-9a27-364ffd483c5c",
   "metadata": {},
   "source": [
    "MSE between train and test sets are comparable."
   ]
  },
  {
   "cell_type": "code",
   "execution_count": null,
   "id": "13b9d7f7-1227-47cb-a302-c009c438ce40",
   "metadata": {},
   "outputs": [],
   "source": [
    "predictions = model.predict(X_test).reshape(-1,)"
   ]
  },
  {
   "cell_type": "code",
   "execution_count": null,
   "id": "8ab52add-6b50-4ef7-9960-6279f68741e9",
   "metadata": {},
   "outputs": [],
   "source": [
    "from sklearn.metrics import mean_absolute_error\n",
    "\n",
    "mean_absolute_error(y_train, model.predict(X_train).reshape(-1,))"
   ]
  },
  {
   "cell_type": "code",
   "execution_count": null,
   "id": "23d1878f-14b2-4fce-b12e-52fdaca705b1",
   "metadata": {},
   "outputs": [],
   "source": [
    "mean_absolute_error(y_test, predictions)"
   ]
  },
  {
   "cell_type": "code",
   "execution_count": null,
   "id": "cd1799d3-3356-4928-b26b-1409bee4d45e",
   "metadata": {},
   "outputs": [],
   "source": [
    "#foo = np.concatenate((np.array(y_test - predictions).reshape(-1,1), predictions.reshape(-1,1)), axis = 1)\n",
    "foo = np.concatenate((np.array(y_test - predictions).reshape(-1,1), predictions.reshape(-1,1)), axis = 1)"
   ]
  },
  {
   "cell_type": "code",
   "execution_count": null,
   "id": "be55eb85-a640-4139-a9ca-dd14297d1181",
   "metadata": {},
   "outputs": [],
   "source": [
    "foo2 = pd.DataFrame(foo, columns = ['residuals','predictions'])"
   ]
  },
  {
   "cell_type": "code",
   "execution_count": null,
   "id": "5786f7b6-b5dc-43e8-aaea-1a3e59899f22",
   "metadata": {},
   "outputs": [],
   "source": [
    "# https://stackoverflow.com/questions/62681388/residual-plot-for-residual-vs-predicted-value-in-python\n",
    "sns.regplot(foo2, y = 'residuals',x='predictions')"
   ]
  },
  {
   "cell_type": "code",
   "execution_count": null,
   "id": "b8d2d53f-fb74-4ccf-8eb0-ed53cb49674d",
   "metadata": {},
   "outputs": [],
   "source": [
    "# https://stackoverflow.com/questions/65699008/how-can-i-calculate-r-square-in-pandas-dataframe-elegantly\n",
    "\n",
    "from sklearn.metrics import r2_score\n",
    "r2_score(foo2['residuals'], foo2['predictions'])"
   ]
  },
  {
   "cell_type": "markdown",
   "id": "be7b4464-4099-4a47-9b39-75454e4e3933",
   "metadata": {},
   "source": [
    "Based on the correlation plot, we can rule out any modeling for age with the features given to us. The models produce poor results because these features have weak predictive power for age. "
   ]
  },
  {
   "cell_type": "markdown",
   "id": "5272ae73-753c-4670-8214-9a5180cd2799",
   "metadata": {},
   "source": [
    "Resources/References:\n",
    "- https://www.tensorflow.org/tutorials/keras/regression\n",
    "- https://www.kaggle.com/code/elisthefox/predicting-fuzzy-and-his-possum-friends"
   ]
  }
 ],
 "metadata": {
  "kernelspec": {
   "display_name": "default:Python",
   "language": "python",
   "name": "conda-env-default-py"
  },
  "language_info": {
   "codemirror_mode": {
    "name": "ipython",
    "version": 3
   },
   "file_extension": ".py",
   "mimetype": "text/x-python",
   "name": "python",
   "nbconvert_exporter": "python",
   "pygments_lexer": "ipython3",
   "version": "3.9.7"
  }
 },
 "nbformat": 4,
 "nbformat_minor": 5
}
