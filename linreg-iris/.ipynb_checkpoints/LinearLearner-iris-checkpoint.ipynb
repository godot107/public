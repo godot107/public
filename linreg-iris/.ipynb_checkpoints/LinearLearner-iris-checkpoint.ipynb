{
 "cells": [
  {
   "cell_type": "markdown",
   "id": "17c14083-c65d-429b-8050-1ed198bd4002",
   "metadata": {},
   "source": [
    "Goal: with Iris dataset, run a successful training job\n",
    "\n",
    "Flex Goal:\n",
    "1. train the job using pipemode."
   ]
  },
  {
   "cell_type": "markdown",
   "id": "a78e6a82-1ec8-4f63-9fc9-6495b2744baf",
   "metadata": {},
   "source": [
    "Research:\n",
    "\n",
    "Notes:\n",
    "1. Notebook adapted from LinearLearner QuickStart"
   ]
  },
  {
   "cell_type": "code",
   "execution_count": 2,
   "id": "f6d83c4f-2071-4ae4-be69-434cf403e7ca",
   "metadata": {},
   "outputs": [],
   "source": [
    "import os\n",
    "import boto3\n",
    "import re\n",
    "import sagemaker\n",
    "import pandas as pd\n",
    "from sklearn.model_selection import train_test_split"
   ]
  },
  {
   "cell_type": "code",
   "execution_count": 3,
   "id": "114ccc8c-69d6-42e9-9fa0-187688a6cbec",
   "metadata": {},
   "outputs": [],
   "source": [
    "# SageMaker Config.\n",
    "\n",
    "\n",
    "role = sagemaker.get_execution_role()\n",
    "region = boto3.Session().region_name\n",
    "bucket = sagemaker.Session().default_bucket()\n",
    "prefix = 'iris'\n",
    "\n"
   ]
  },
  {
   "cell_type": "code",
   "execution_count": 4,
   "id": "8ba3b6d6-8dd5-4cef-9127-7546ed06089d",
   "metadata": {},
   "outputs": [
    {
     "data": {
      "text/plain": [
       "'s3://sagemaker-us-east-1-258532878709/iris/Iris.csv'"
      ]
     },
     "execution_count": 4,
     "metadata": {},
     "output_type": "execute_result"
    }
   ],
   "source": [
    "iris_data = f\"s3://{bucket}/{prefix}/Iris.csv\"\n",
    "iris_data"
   ]
  },
  {
   "cell_type": "code",
   "execution_count": 5,
   "id": "555143cb-a3eb-4225-a1f5-c4056a832b5b",
   "metadata": {},
   "outputs": [],
   "source": [
    "# Removing header because that's the format sagemaker expects.\n",
    "# In sagemaker the target is the first column\n",
    "# Columns: Id\tSepalLengthCm\tSepalWidthCm\tPetalLengthCm\tPetalWidthCm\tSpecies\n",
    "\n",
    "iris_df = pd.read_csv(iris_data, header = None)\n",
    "\n",
    "# Prep data into S3\n",
    "shuffled = iris_df[1:].sample(frac=1, random_state=1).reset_index()\n",
    "shuffled = shuffled.iloc[2:,2:-1]\n",
    "\n",
    "train_df = shuffled[:110]\n",
    "test_df = shuffled[110:120]\n",
    "validation_df = shuffled[120:]\n"
   ]
  },
  {
   "cell_type": "code",
   "execution_count": 6,
   "id": "933ef89a-ca9b-494a-a37d-dba62eaadd81",
   "metadata": {},
   "outputs": [
    {
     "data": {
      "text/html": [
       "<div>\n",
       "<style scoped>\n",
       "    .dataframe tbody tr th:only-of-type {\n",
       "        vertical-align: middle;\n",
       "    }\n",
       "\n",
       "    .dataframe tbody tr th {\n",
       "        vertical-align: top;\n",
       "    }\n",
       "\n",
       "    .dataframe thead th {\n",
       "        text-align: right;\n",
       "    }\n",
       "</style>\n",
       "<table border=\"1\" class=\"dataframe\">\n",
       "  <thead>\n",
       "    <tr style=\"text-align: right;\">\n",
       "      <th></th>\n",
       "      <th>1</th>\n",
       "      <th>2</th>\n",
       "      <th>3</th>\n",
       "      <th>4</th>\n",
       "    </tr>\n",
       "  </thead>\n",
       "  <tbody>\n",
       "    <tr>\n",
       "      <th>2</th>\n",
       "      <td>6.6</td>\n",
       "      <td>3.0</td>\n",
       "      <td>4.4</td>\n",
       "      <td>1.4</td>\n",
       "    </tr>\n",
       "    <tr>\n",
       "      <th>3</th>\n",
       "      <td>5.4</td>\n",
       "      <td>3.9</td>\n",
       "      <td>1.3</td>\n",
       "      <td>0.4</td>\n",
       "    </tr>\n",
       "    <tr>\n",
       "      <th>4</th>\n",
       "      <td>7.9</td>\n",
       "      <td>3.8</td>\n",
       "      <td>6.4</td>\n",
       "      <td>2.0</td>\n",
       "    </tr>\n",
       "    <tr>\n",
       "      <th>5</th>\n",
       "      <td>6.3</td>\n",
       "      <td>3.3</td>\n",
       "      <td>4.7</td>\n",
       "      <td>1.6</td>\n",
       "    </tr>\n",
       "    <tr>\n",
       "      <th>6</th>\n",
       "      <td>6.9</td>\n",
       "      <td>3.1</td>\n",
       "      <td>5.1</td>\n",
       "      <td>2.3</td>\n",
       "    </tr>\n",
       "    <tr>\n",
       "      <th>...</th>\n",
       "      <td>...</td>\n",
       "      <td>...</td>\n",
       "      <td>...</td>\n",
       "      <td>...</td>\n",
       "    </tr>\n",
       "    <tr>\n",
       "      <th>145</th>\n",
       "      <td>6.3</td>\n",
       "      <td>2.8</td>\n",
       "      <td>5.1</td>\n",
       "      <td>1.5</td>\n",
       "    </tr>\n",
       "    <tr>\n",
       "      <th>146</th>\n",
       "      <td>6.4</td>\n",
       "      <td>3.1</td>\n",
       "      <td>5.5</td>\n",
       "      <td>1.8</td>\n",
       "    </tr>\n",
       "    <tr>\n",
       "      <th>147</th>\n",
       "      <td>6.3</td>\n",
       "      <td>2.5</td>\n",
       "      <td>4.9</td>\n",
       "      <td>1.5</td>\n",
       "    </tr>\n",
       "    <tr>\n",
       "      <th>148</th>\n",
       "      <td>6.7</td>\n",
       "      <td>3.1</td>\n",
       "      <td>5.6</td>\n",
       "      <td>2.4</td>\n",
       "    </tr>\n",
       "    <tr>\n",
       "      <th>149</th>\n",
       "      <td>4.9</td>\n",
       "      <td>3.1</td>\n",
       "      <td>1.5</td>\n",
       "      <td>0.1</td>\n",
       "    </tr>\n",
       "  </tbody>\n",
       "</table>\n",
       "<p>148 rows × 4 columns</p>\n",
       "</div>"
      ],
      "text/plain": [
       "       1    2    3    4\n",
       "2    6.6  3.0  4.4  1.4\n",
       "3    5.4  3.9  1.3  0.4\n",
       "4    7.9  3.8  6.4  2.0\n",
       "5    6.3  3.3  4.7  1.6\n",
       "6    6.9  3.1  5.1  2.3\n",
       "..   ...  ...  ...  ...\n",
       "145  6.3  2.8  5.1  1.5\n",
       "146  6.4  3.1  5.5  1.8\n",
       "147  6.3  2.5  4.9  1.5\n",
       "148  6.7  3.1  5.6  2.4\n",
       "149  4.9  3.1  1.5  0.1\n",
       "\n",
       "[148 rows x 4 columns]"
      ]
     },
     "execution_count": 6,
     "metadata": {},
     "output_type": "execute_result"
    }
   ],
   "source": [
    "shuffled "
   ]
  },
  {
   "cell_type": "code",
   "execution_count": 7,
   "id": "91cfbd44-cc99-4379-9d13-462ae210deff",
   "metadata": {},
   "outputs": [],
   "source": [
    "FILE_TRAIN = \"iris_train.csv\"\n",
    "FILE_TEST = \"iris_test.csv\"\n",
    "FILE_VALIDATION = \"iris_validation.csv\"\n",
    "\n",
    "# Create CSV files locally in SageMaker Instance/EFS\n",
    "train_df.to_csv(FILE_TRAIN, index = False)\n",
    "test_df.to_csv(FILE_TEST, index = False)\n",
    "validation_df.to_csv(FILE_VALIDATION, index = False)"
   ]
  },
  {
   "cell_type": "code",
   "execution_count": 8,
   "id": "23629547-32b4-4e6c-a6a5-a6c6ed083254",
   "metadata": {},
   "outputs": [],
   "source": [
    "# Load onto S3\n",
    "\n",
    "s3 = boto3.client(\"s3\")\n",
    "\n",
    "\n",
    "s3_train_data = f\"s3://{bucket}/{prefix}/train\"\n",
    "s3_validation_data = f\"s3://{bucket}/{prefix}/validation\"\n",
    "output_location = f\"s3://{bucket}/{prefix}/output\"\n",
    "\n",
    "\n",
    "s3.upload_file(FILE_TRAIN, bucket, f\"{prefix}/train/{FILE_TRAIN}\")\n",
    "s3.upload_file(FILE_TEST, bucket, f\"{prefix}/test/{FILE_TEST}\")\n",
    "s3.upload_file(FILE_VALIDATION, bucket, f\"{prefix}/validation/{FILE_VALIDATION}\")"
   ]
  },
  {
   "cell_type": "code",
   "execution_count": 9,
   "id": "077e14b7-b8ff-4521-bf45-41daa9a8149e",
   "metadata": {},
   "outputs": [],
   "source": [
    "\n",
    "# generating the session.s3_input() format for fit() accepted by the sdk\n",
    "train_data = sagemaker.inputs.TrainingInput(\n",
    "    s3_train_data,\n",
    "    distribution=\"FullyReplicated\",\n",
    "    content_type=\"text/csv\",\n",
    "    s3_data_type=\"S3Prefix\",\n",
    "    record_wrapping=None,\n",
    "    compression=None,\n",
    ")\n",
    "validation_data = sagemaker.inputs.TrainingInput(\n",
    "    s3_validation_data,\n",
    "    distribution=\"FullyReplicated\",\n",
    "    content_type=\"text/csv\",\n",
    "    s3_data_type=\"S3Prefix\",\n",
    "    record_wrapping=None,\n",
    "    compression=None,\n",
    ")"
   ]
  },
  {
   "cell_type": "markdown",
   "id": "e813f714-84f2-4d76-ae0c-2dff07830ca8",
   "metadata": {},
   "source": [
    "## Training the Linear Learner model\n"
   ]
  },
  {
   "cell_type": "code",
   "execution_count": 10,
   "id": "106e8fec-453a-403e-8775-dadfcf54a831",
   "metadata": {},
   "outputs": [
    {
     "name": "stdout",
     "output_type": "stream",
     "text": [
      "382416733822.dkr.ecr.us-east-1.amazonaws.com/linear-learner:1\n"
     ]
    }
   ],
   "source": [
    "# getting the linear learner image according to the region\n",
    "from sagemaker.image_uris import retrieve\n",
    "\n",
    "container = retrieve(\"linear-learner\", boto3.Session().region_name, version=\"1\")\n",
    "print(container)"
   ]
  },
  {
   "cell_type": "code",
   "execution_count": 11,
   "id": "85993084-67f0-452d-9afd-a0980ce6b482",
   "metadata": {},
   "outputs": [
    {
     "name": "stdout",
     "output_type": "stream",
     "text": [
      "Training job linear-learner-iris-regression-20221104-14-45-15\n",
      "CPU times: user 28.8 ms, sys: 116 µs, total: 29 ms\n",
      "Wall time: 28.4 ms\n"
     ]
    }
   ],
   "source": [
    "%%time\n",
    "import boto3\n",
    "import sagemaker\n",
    "from time import gmtime, strftime\n",
    "\n",
    "sess = sagemaker.Session()\n",
    "\n",
    "job_name = \"linear-learner-iris-regression-\" + strftime(\"%Y%m%d-%H-%M-%S\", gmtime())\n",
    "print(\"Training job\", job_name)\n",
    "\n",
    "linear = sagemaker.estimator.Estimator(\n",
    "    container,\n",
    "    role,\n",
    "    input_mode=\"File\",\n",
    "    instance_count=1,\n",
    "    instance_type=\"ml.m4.xlarge\",\n",
    "    output_path=output_location,\n",
    "    sagemaker_session=sess,\n",
    ")\n",
    "\n",
    "\n",
    "linear.set_hyperparameters(\n",
    "    feature_dim=3, # Make sure this accurate to the training data. Don't include the target in this count.  ## https://stackoverflow.com/questions/49303648/sagemaker-clienterror-rows-1-5000-have-more-fields-than-expected-size-3\n",
    "    epochs=5,\n",
    "    wd=0.01,\n",
    "    loss=\"absolute_loss\",\n",
    "    predictor_type=\"regressor\",\n",
    "    normalize_data=True,\n",
    "    optimizer=\"adam\",\n",
    "    mini_batch_size=25,\n",
    "    lr_scheduler_step=100,\n",
    "    lr_scheduler_factor=0.99,\n",
    "    lr_scheduler_minimum_lr=0.0001,\n",
    "    learning_rate=0.1,\n",
    ")"
   ]
  },
  {
   "cell_type": "code",
   "execution_count": null,
   "id": "4cc18d86-a4d7-4b57-ae7c-48733d4c1515",
   "metadata": {
    "tags": []
   },
   "outputs": [
    {
     "name": "stdout",
     "output_type": "stream",
     "text": [
      "2022-11-04 14:45:15 Starting - Starting the training job...\n",
      "2022-11-04 14:45:40 Starting - Preparing the instances for trainingProfilerReport-1667573115: InProgress\n",
      ".........\n",
      "2022-11-04 14:47:15 Downloading - Downloading input data\n",
      "2022-11-04 14:47:15 Training - Downloading the training image.........."
     ]
    }
   ],
   "source": [
    "%%time\n",
    "linear.fit(inputs={\"train\": train_data, \"validation\": validation_data}, job_name=job_name)"
   ]
  },
  {
   "cell_type": "markdown",
   "id": "f3039d5f-9d9d-40ee-b379-bd240ddc6eb0",
   "metadata": {},
   "source": []
  },
  {
   "cell_type": "code",
   "execution_count": null,
   "id": "77380094-10a0-41eb-91c6-c175eee30565",
   "metadata": {},
   "outputs": [],
   "source": []
  },
  {
   "cell_type": "code",
   "execution_count": null,
   "id": "d207caa8-f4fc-4067-992b-7a1cc142b0d1",
   "metadata": {},
   "outputs": [],
   "source": [
    "%%time\n",
    "# creating the endpoint out of the trained model\n",
    "linear_predictor = linear.deploy(initial_instance_count=1, instance_type=\"ml.c4.xlarge\")\n",
    "print(f\"\\ncreated endpoint: {linear_predictor.endpoint_name}\")"
   ]
  },
  {
   "cell_type": "code",
   "execution_count": null,
   "id": "05232a03-662f-4159-96f7-562e8dfe8876",
   "metadata": {},
   "outputs": [],
   "source": [
    "# configure the predictor to accept to serialize csv input and parse the reposne as json\n",
    "from sagemaker.serializers import CSVSerializer\n",
    "from sagemaker.deserializers import JSONDeserializer\n",
    "\n",
    "linear_predictor.serializer = CSVSerializer()\n",
    "linear_predictor.deserializer = JSONDeserializer()"
   ]
  },
  {
   "cell_type": "markdown",
   "id": "68b58906-9f56-497e-b7d1-f6237b1caca6",
   "metadata": {},
   "source": [
    "Inferences/Prediction"
   ]
  },
  {
   "cell_type": "code",
   "execution_count": null,
   "id": "74632d9b-209f-4b9c-a7a8-b8f8b7427167",
   "metadata": {},
   "outputs": [],
   "source": [
    "# getting testing sample from our test file\n",
    "import random \n",
    "test_data = [l for l in open(FILE_TEST, \"r\")]\n",
    "sample = random.choice(test_data).split(\",\")\n",
    "actual_age = sample[0]\n",
    "payload = sample[1:]  \n",
    "payload = \",\".join(map(str, payload))\n",
    "\n",
    "# Invoke the predicor and analyise the result\n",
    "result = linear_predictor.predict(payload)\n",
    "\n",
    "# extracting the prediction value\n",
    "result = round(float(result[\"predictions\"][0][\"score\"]), 2)\n"
   ]
  },
  {
   "cell_type": "code",
   "execution_count": null,
   "id": "646302c4-346d-4123-88a3-e779b52fa68e",
   "metadata": {},
   "outputs": [],
   "source": [
    "# Given SepalWidthCm, PetalLengthCm, and PetalWidthCm, the SepalLengthCm is: \n",
    "result"
   ]
  },
  {
   "cell_type": "markdown",
   "id": "4aff75ba-330a-48b0-9934-4caf50bf4e63",
   "metadata": {},
   "source": [
    "## Delete the Endpoint\n",
    "Having an endpoint running will incur some costs. Therefore as a clean-up job, we should delete the endpoint."
   ]
  },
  {
   "cell_type": "code",
   "execution_count": null,
   "id": "5fcbffa5-2e2f-4606-8946-0b7b72a79993",
   "metadata": {},
   "outputs": [],
   "source": [
    "sagemaker.Session().delete_endpoint(linear_predictor.endpoint_name)\n",
    "print(f\"deleted {linear_predictor.endpoint_name} successfully!\")"
   ]
  },
  {
   "cell_type": "code",
   "execution_count": null,
   "id": "04c271f7-0a57-492f-a110-b7f7cc877b80",
   "metadata": {},
   "outputs": [],
   "source": []
  }
 ],
 "metadata": {
  "instance_type": "ml.t3.medium",
  "kernelspec": {
   "display_name": "Python 3 (Data Science)",
   "language": "python",
   "name": "python3__SAGEMAKER_INTERNAL__arn:aws:sagemaker:us-east-1:081325390199:image/datascience-1.0"
  },
  "language_info": {
   "codemirror_mode": {
    "name": "ipython",
    "version": 3
   },
   "file_extension": ".py",
   "mimetype": "text/x-python",
   "name": "python",
   "nbconvert_exporter": "python",
   "pygments_lexer": "ipython3",
   "version": "3.7.10"
  }
 },
 "nbformat": 4,
 "nbformat_minor": 5
}
