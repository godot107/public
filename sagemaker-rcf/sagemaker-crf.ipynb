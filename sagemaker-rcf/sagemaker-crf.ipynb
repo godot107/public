{
 "cells": [
  {
   "cell_type": "markdown",
   "id": "f9370aec-08fb-404c-9757-440f45b27745",
   "metadata": {},
   "source": [
    "## Data Source:\n",
    "https://www.kaggle.com/datasets/boltzmannbrain/nab/data\n",
    "\n",
    "## Research and References\n",
    "\n",
    "1. SageMaker RCF documentation\n",
    "  - https://docs.aws.amazon.com/sagemaker/latest/dg/randomcutforest.html\n",
    "  - https://sagemaker-examples.readthedocs.io/en/latest/introduction_to_amazon_algorithms/random_cut_forest/random_cut_forest.html \n",
    "\n",
    "2. S3\n",
    "  - https://boto3.amazonaws.com/v1/documentation/api/latest/guide/s3-example-download-file.html\n",
    "  \n",
    "3. matplotlib\n",
    "  - https://stackoverflow.com/questions/12998430/how-to-remove-xticks-from-a-plot\n",
    "  \n",
    "## Notes:\n",
    "Univariate time series, Minnesota Taxi\n",
    "\n"
   ]
  },
  {
   "cell_type": "code",
   "execution_count": 40,
   "id": "d7f4d3c3-7a01-42dd-abae-986148a02710",
   "metadata": {
    "tags": []
   },
   "outputs": [],
   "source": [
    "# Import libraries\n",
    "\n",
    "import boto3\n",
    "import sagemaker\n",
    "import sagemaker.amazon.common as smac\n",
    "from sagemaker import RandomCutForest\n",
    "import matplotlib.pyplot as plt\n",
    "\n",
    "import os\n",
    "import numpy as np\n",
    "import pandas as pd"
   ]
  },
  {
   "cell_type": "code",
   "execution_count": 17,
   "id": "ec79a645-b224-4250-829a-2b7a7d47de47",
   "metadata": {
    "tags": []
   },
   "outputs": [
    {
     "name": "stdout",
     "output_type": "stream",
     "text": [
      "sagemaker.config INFO - Not applying SDK defaults from location: /etc/xdg/sagemaker/config.yaml\n",
      "sagemaker.config INFO - Not applying SDK defaults from location: /root/.config/sagemaker/config.yaml\n"
     ]
    }
   ],
   "source": [
    "execution_role = sagemaker.get_execution_role()\n",
    "region = boto3.Session().region_name"
   ]
  },
  {
   "cell_type": "code",
   "execution_count": 24,
   "id": "ab25b21a-cd52-4ec1-b9e2-b4842b4011ac",
   "metadata": {
    "tags": []
   },
   "outputs": [
    {
     "name": "stdout",
     "output_type": "stream",
     "text": [
      "sagemaker.config INFO - Not applying SDK defaults from location: /etc/xdg/sagemaker/config.yaml\n",
      "sagemaker.config INFO - Not applying SDK defaults from location: /root/.config/sagemaker/config.yaml\n"
     ]
    }
   ],
   "source": [
    "# Load data from S3:\n",
    "\n",
    "sm = sagemaker.Session()\n",
    "\n",
    "bucket = sm.default_bucket()\n",
    "prefix = 'numenta_anomaly_benchmark'\n",
    "key = \"realTraffic\"\n",
    "filename = 'occupancy_t4013.csv'"
   ]
  },
  {
   "cell_type": "code",
   "execution_count": 13,
   "id": "ffda04cc-e82f-425b-a963-a73fbe70a006",
   "metadata": {
    "tags": []
   },
   "outputs": [
    {
     "data": {
      "text/plain": [
       "'sagemaker-us-east-1-258532878709'"
      ]
     },
     "execution_count": 13,
     "metadata": {},
     "output_type": "execute_result"
    }
   ],
   "source": [
    "bucket"
   ]
  },
  {
   "cell_type": "code",
   "execution_count": 25,
   "id": "3fda419b-7a0f-4a48-b2eb-9d09a80f350a",
   "metadata": {
    "tags": []
   },
   "outputs": [],
   "source": [
    "# Download raw data from s3 bucket\n",
    "s3 = boto3.client(\"s3\")\n",
    "s3.download_file(bucket, f\"{prefix}/{key}/{key}/{filename}\", f\"./data/{filename}\")"
   ]
  },
  {
   "cell_type": "code",
   "execution_count": 27,
   "id": "298296f6-04b2-4269-b7a0-de6b8b440a78",
   "metadata": {
    "tags": []
   },
   "outputs": [],
   "source": [
    "taxi_df = pd.read_csv(f\"./data/{filename}\", delimiter=\",\")\n"
   ]
  },
  {
   "cell_type": "code",
   "execution_count": 28,
   "id": "8b59c3c5-e588-40b9-93ae-a9f192c98227",
   "metadata": {
    "tags": []
   },
   "outputs": [
    {
     "data": {
      "text/html": [
       "<div>\n",
       "<style scoped>\n",
       "    .dataframe tbody tr th:only-of-type {\n",
       "        vertical-align: middle;\n",
       "    }\n",
       "\n",
       "    .dataframe tbody tr th {\n",
       "        vertical-align: top;\n",
       "    }\n",
       "\n",
       "    .dataframe thead th {\n",
       "        text-align: right;\n",
       "    }\n",
       "</style>\n",
       "<table border=\"1\" class=\"dataframe\">\n",
       "  <thead>\n",
       "    <tr style=\"text-align: right;\">\n",
       "      <th></th>\n",
       "      <th>timestamp</th>\n",
       "      <th>value</th>\n",
       "    </tr>\n",
       "  </thead>\n",
       "  <tbody>\n",
       "    <tr>\n",
       "      <th>0</th>\n",
       "      <td>2015-09-01 11:30:00</td>\n",
       "      <td>13.56</td>\n",
       "    </tr>\n",
       "    <tr>\n",
       "      <th>1</th>\n",
       "      <td>2015-09-01 11:35:00</td>\n",
       "      <td>8.33</td>\n",
       "    </tr>\n",
       "    <tr>\n",
       "      <th>2</th>\n",
       "      <td>2015-09-01 11:40:00</td>\n",
       "      <td>11.78</td>\n",
       "    </tr>\n",
       "    <tr>\n",
       "      <th>3</th>\n",
       "      <td>2015-09-01 11:55:00</td>\n",
       "      <td>15.28</td>\n",
       "    </tr>\n",
       "    <tr>\n",
       "      <th>4</th>\n",
       "      <td>2015-09-01 12:00:00</td>\n",
       "      <td>10.06</td>\n",
       "    </tr>\n",
       "  </tbody>\n",
       "</table>\n",
       "</div>"
      ],
      "text/plain": [
       "             timestamp  value\n",
       "0  2015-09-01 11:30:00  13.56\n",
       "1  2015-09-01 11:35:00   8.33\n",
       "2  2015-09-01 11:40:00  11.78\n",
       "3  2015-09-01 11:55:00  15.28\n",
       "4  2015-09-01 12:00:00  10.06"
      ]
     },
     "execution_count": 28,
     "metadata": {},
     "output_type": "execute_result"
    }
   ],
   "source": [
    "taxi_df.head()"
   ]
  },
  {
   "cell_type": "code",
   "execution_count": 33,
   "id": "9cda9b7f-261d-40fa-a722-f994fdb05198",
   "metadata": {
    "tags": []
   },
   "outputs": [
    {
     "data": {
      "text/plain": [
       "count    2500.000000\n",
       "mean        7.242640\n",
       "std         4.372321\n",
       "min         0.000000\n",
       "25%         4.060000\n",
       "50%         6.830000\n",
       "75%         9.830000\n",
       "max        43.060000\n",
       "Name: value, dtype: float64"
      ]
     },
     "execution_count": 33,
     "metadata": {},
     "output_type": "execute_result"
    }
   ],
   "source": [
    "taxi_df['value'].describe()"
   ]
  },
  {
   "cell_type": "code",
   "execution_count": 35,
   "id": "0470b082-2d41-4c3f-a0bb-35354b27080f",
   "metadata": {
    "tags": []
   },
   "outputs": [
    {
     "data": {
      "image/png": "[encoded data removed]",
      "text/plain": [
       "<Figure size 640x480 with 1 Axes>"
      ]
     },
     "metadata": {},
     "output_type": "display_data"
    }
   ],
   "source": [
    "plt.plot(taxi_df['timestamp'] , taxi_df['value'])\n",
    "\n",
    "plt.tick_params(\n",
    "    axis='x',          # changes apply to the x-axis\n",
    "    which='both',      # both major and minor ticks are affected\n",
    "    bottom=False,      # ticks along the bottom edge are off\n",
    "    top=False,         # ticks along the top edge are off\n",
    "    labelbottom=False) # labels along the bottom edge are off"
   ]
  },
  {
   "cell_type": "code",
   "execution_count": 39,
   "id": "81c63924-b379-4af4-a202-227b84272077",
   "metadata": {
    "tags": []
   },
   "outputs": [
    {
     "data": {
      "text/plain": [
       "array([[13.56],\n",
       "       [ 8.33],\n",
       "       [11.78],\n",
       "       ...,\n",
       "       [10.  ],\n",
       "       [ 9.39],\n",
       "       [ 8.06]])"
      ]
     },
     "execution_count": 39,
     "metadata": {},
     "output_type": "execute_result"
    }
   ],
   "source": [
    "taxi_df['value'].to_numpy().reshape(-1, 1)"
   ]
  },
  {
   "cell_type": "code",
   "execution_count": 41,
   "id": "7578a2e1-ac08-46ea-bde8-71336a3d9fa2",
   "metadata": {
    "collapsed": true,
    "jupyter": {
     "outputs_hidden": true
    },
    "tags": []
   },
   "outputs": [
    {
     "name": "stdout",
     "output_type": "stream",
     "text": [
      "sagemaker.config INFO - Not applying SDK defaults from location: /etc/xdg/sagemaker/config.yaml\n",
      "sagemaker.config INFO - Not applying SDK defaults from location: /root/.config/sagemaker/config.yaml\n"
     ]
    },
    {
     "name": "stderr",
     "output_type": "stream",
     "text": [
      "INFO:sagemaker.image_uris:Same images used for training and inference. Defaulting to image scope: inference.\n",
      "INFO:sagemaker.image_uris:Ignoring unnecessary instance type: None.\n",
      "INFO:sagemaker:Creating training-job with name: randomcutforest-2024-02-25-05-11-39-755\n"
     ]
    },
    {
     "name": "stdout",
     "output_type": "stream",
     "text": [
      "2024-02-25 05:11:39 Starting - Starting the training job...\n",
      "2024-02-25 05:12:05 Starting - Preparing the instances for training......\n",
      "2024-02-25 05:13:00 Downloading - Downloading input data...\n",
      "2024-02-25 05:13:25 Downloading - Downloading the training image...............\n",
      "2024-02-25 05:15:46 Training - Training image download completed. Training in progress..\u001b[34mDocker entrypoint called with argument(s): train\u001b[0m\n",
      "\u001b[34mRunning default environment configuration script\u001b[0m\n",
      "\u001b[34m/opt/amazon/lib/python3.8/site-packages/mxnet/model.py:97: SyntaxWarning: \"is\" with a literal. Did you mean \"==\"?\n",
      "  if num_device is 1 and 'dist' not in kvstore:\u001b[0m\n",
      "\u001b[34m/opt/amazon/lib/python3.8/site-packages/scipy/optimize/_shgo.py:495: SyntaxWarning: \"is\" with a literal. Did you mean \"==\"?\n",
      "  if cons['type'] is 'ineq':\u001b[0m\n",
      "\u001b[34m/opt/amazon/lib/python3.8/site-packages/scipy/optimize/_shgo.py:743: SyntaxWarning: \"is not\" with a literal. Did you mean \"!=\"?\n",
      "  if len(self.X_min) is not 0:\u001b[0m\n",
      "\u001b[34m[02/25/2024 05:16:06 INFO 140204438370112] Reading default configuration from /opt/amazon/lib/python3.8/site-packages/algorithm/resources/default-conf.json: {'num_samples_per_tree': 256, 'num_trees': 100, 'force_dense': 'true', 'eval_metrics': ['accuracy', 'precision_recall_fscore'], 'epochs': 1, 'mini_batch_size': 1000, '_log_level': 'info', '_kvstore': 'dist_async', '_num_kv_servers': 'auto', '_num_gpus': 'auto', '_tuning_objective_metric': '', '_ftp_port': 8999}\u001b[0m\n",
      "\u001b[34m[02/25/2024 05:16:06 INFO 140204438370112] Merging with provided configuration from /opt/ml/input/config/hyperparameters.json: {'feature_dim': '1', 'mini_batch_size': '1000', 'num_samples_per_tree': '512', 'num_trees': '50'}\u001b[0m\n",
      "\u001b[34m[02/25/2024 05:16:06 INFO 140204438370112] Final configuration: {'num_samples_per_tree': '512', 'num_trees': '50', 'force_dense': 'true', 'eval_metrics': ['accuracy', 'precision_recall_fscore'], 'epochs': 1, 'mini_batch_size': '1000', '_log_level': 'info', '_kvstore': 'dist_async', '_num_kv_servers': 'auto', '_num_gpus': 'auto', '_tuning_objective_metric': '', '_ftp_port': 8999, 'feature_dim': '1'}\u001b[0m\n",
      "\u001b[34m[02/25/2024 05:16:06 WARNING 140204438370112] Loggers have already been setup.\u001b[0m\n",
      "\u001b[34m[02/25/2024 05:16:06 INFO 140204438370112] Launching parameter server for role scheduler\u001b[0m\n",
      "\u001b[34m[02/25/2024 05:16:06 INFO 140204438370112] {'ENVROOT': '/opt/amazon', 'PROTOCOL_BUFFERS_PYTHON_IMPLEMENTATION': 'cpp', 'HOSTNAME': 'ip-10-2-152-102.ec2.internal', 'TRAINING_JOB_NAME': 'randomcutforest-2024-02-25-05-11-39-755', 'NVIDIA_REQUIRE_CUDA': 'cuda>=9.0', 'TRAINING_JOB_ARN': 'arn:aws:sagemaker:us-east-1:258532878709:training-job/randomcutforest-2024-02-25-05-11-39-755', 'AWS_CONTAINER_CREDENTIALS_RELATIVE_URI': '/v2/credentials/proxy-87034ec68133f55b5a300fff5b0a280139d6ac44ace77744cae1990332c4be96-customer', 'CANONICAL_ENVROOT': '/opt/amazon', 'PYTHONUNBUFFERED': 'TRUE', 'NVIDIA_VISIBLE_DEVICES': 'all', 'LD_LIBRARY_PATH': '/opt/amazon/lib/python3.8/site-packages/cv2/../../../../lib:/usr/local/nvidia/lib64:/opt/amazon/lib', 'MXNET_KVSTORE_BIGARRAY_BOUND': '400000000', 'NVIDIA_DRIVER_CAPABILITIES': 'compute,utility', 'SAGEMAKER_MANAGED_WARMPOOL_CACHE_DIRECTORY': '/opt/ml/sagemaker/warmpoolcache', 'PATH': '/opt/amazon/bin:/usr/local/nvidia/bin:/usr/local/sbin:/usr/local/bin:/usr/sbin:/usr/bin:/sbin:/bin', 'PWD': '/', 'LANG': 'en_US.utf8', 'AWS_REGION': 'us-east-1', 'SAGEMAKER_METRICS_DIRECTORY': '/opt/ml/output/metrics/sagemaker', 'CUDA_VERSION': '11.1', 'HOME': '/root', 'SHLVL': '1', 'CUDA_COMPAT_NDRIVER_SUPPORTED_VERSION': '455.32.00', 'PROTOCOL_BUFFERS_PYTHON_IMPLEMENTATION_VERSION': '2', 'OMP_NUM_THREADS': '2', 'DMLC_INTERFACE': 'eth0', 'SAGEMAKER_HTTP_PORT': '8080', 'SAGEMAKER_DATA_PATH': '/opt/ml', 'KMP_DUPLICATE_LIB_OK': 'True', 'KMP_INIT_AT_FORK': 'FALSE'}\u001b[0m\n",
      "\u001b[34m[02/25/2024 05:16:06 INFO 140204438370112] envs={'ENVROOT': '/opt/amazon', 'PROTOCOL_BUFFERS_PYTHON_IMPLEMENTATION': 'cpp', 'HOSTNAME': 'ip-10-2-152-102.ec2.internal', 'TRAINING_JOB_NAME': 'randomcutforest-2024-02-25-05-11-39-755', 'NVIDIA_REQUIRE_CUDA': 'cuda>=9.0', 'TRAINING_JOB_ARN': 'arn:aws:sagemaker:us-east-1:258532878709:training-job/randomcutforest-2024-02-25-05-11-39-755', 'AWS_CONTAINER_CREDENTIALS_RELATIVE_URI': '/v2/credentials/proxy-87034ec68133f55b5a300fff5b0a280139d6ac44ace77744cae1990332c4be96-customer', 'CANONICAL_ENVROOT': '/opt/amazon', 'PYTHONUNBUFFERED': 'TRUE', 'NVIDIA_VISIBLE_DEVICES': 'all', 'LD_LIBRARY_PATH': '/opt/amazon/lib/python3.8/site-packages/cv2/../../../../lib:/usr/local/nvidia/lib64:/opt/amazon/lib', 'MXNET_KVSTORE_BIGARRAY_BOUND': '400000000', 'NVIDIA_DRIVER_CAPABILITIES': 'compute,utility', 'SAGEMAKER_MANAGED_WARMPOOL_CACHE_DIRECTORY': '/opt/ml/sagemaker/warmpoolcache', 'PATH': '/opt/amazon/bin:/usr/local/nvidia/bin:/usr/local/sbin:/usr/local/bin:/usr/sbin:/usr/bin:/sbin:/bin', 'PWD': '/', 'LANG': 'en_US.utf8', 'AWS_REGION': 'us-east-1', 'SAGEMAKER_METRICS_DIRECTORY': '/opt/ml/output/metrics/sagemaker', 'CUDA_VERSION': '11.1', 'HOME': '/root', 'SHLVL': '1', 'CUDA_COMPAT_NDRIVER_SUPPORTED_VERSION': '455.32.00', 'PROTOCOL_BUFFERS_PYTHON_IMPLEMENTATION_VERSION': '2', 'OMP_NUM_THREADS': '2', 'DMLC_INTERFACE': 'eth0', 'SAGEMAKER_HTTP_PORT': '8080', 'SAGEMAKER_DATA_PATH': '/opt/ml', 'KMP_DUPLICATE_LIB_OK': 'True', 'KMP_INIT_AT_FORK': 'FALSE', 'DMLC_ROLE': 'scheduler', 'DMLC_PS_ROOT_URI': '10.2.152.102', 'DMLC_PS_ROOT_PORT': '9000', 'DMLC_NUM_SERVER': '1', 'DMLC_NUM_WORKER': '1'}\u001b[0m\n",
      "\u001b[34m[02/25/2024 05:16:06 INFO 140204438370112] Launching parameter server for role server\u001b[0m\n",
      "\u001b[34m[02/25/2024 05:16:06 INFO 140204438370112] {'ENVROOT': '/opt/amazon', 'PROTOCOL_BUFFERS_PYTHON_IMPLEMENTATION': 'cpp', 'HOSTNAME': 'ip-10-2-152-102.ec2.internal', 'TRAINING_JOB_NAME': 'randomcutforest-2024-02-25-05-11-39-755', 'NVIDIA_REQUIRE_CUDA': 'cuda>=9.0', 'TRAINING_JOB_ARN': 'arn:aws:sagemaker:us-east-1:258532878709:training-job/randomcutforest-2024-02-25-05-11-39-755', 'AWS_CONTAINER_CREDENTIALS_RELATIVE_URI': '/v2/credentials/proxy-87034ec68133f55b5a300fff5b0a280139d6ac44ace77744cae1990332c4be96-customer', 'CANONICAL_ENVROOT': '/opt/amazon', 'PYTHONUNBUFFERED': 'TRUE', 'NVIDIA_VISIBLE_DEVICES': 'all', 'LD_LIBRARY_PATH': '/opt/amazon/lib/python3.8/site-packages/cv2/../../../../lib:/usr/local/nvidia/lib64:/opt/amazon/lib', 'MXNET_KVSTORE_BIGARRAY_BOUND': '400000000', 'NVIDIA_DRIVER_CAPABILITIES': 'compute,utility', 'SAGEMAKER_MANAGED_WARMPOOL_CACHE_DIRECTORY': '/opt/ml/sagemaker/warmpoolcache', 'PATH': '/opt/amazon/bin:/usr/local/nvidia/bin:/usr/local/sbin:/usr/local/bin:/usr/sbin:/usr/bin:/sbin:/bin', 'PWD': '/', 'LANG': 'en_US.utf8', 'AWS_REGION': 'us-east-1', 'SAGEMAKER_METRICS_DIRECTORY': '/opt/ml/output/metrics/sagemaker', 'CUDA_VERSION': '11.1', 'HOME': '/root', 'SHLVL': '1', 'CUDA_COMPAT_NDRIVER_SUPPORTED_VERSION': '455.32.00', 'PROTOCOL_BUFFERS_PYTHON_IMPLEMENTATION_VERSION': '2', 'OMP_NUM_THREADS': '2', 'DMLC_INTERFACE': 'eth0', 'SAGEMAKER_HTTP_PORT': '8080', 'SAGEMAKER_DATA_PATH': '/opt/ml', 'KMP_DUPLICATE_LIB_OK': 'True', 'KMP_INIT_AT_FORK': 'FALSE'}\u001b[0m\n",
      "\u001b[34m[02/25/2024 05:16:06 INFO 140204438370112] envs={'ENVROOT': '/opt/amazon', 'PROTOCOL_BUFFERS_PYTHON_IMPLEMENTATION': 'cpp', 'HOSTNAME': 'ip-10-2-152-102.ec2.internal', 'TRAINING_JOB_NAME': 'randomcutforest-2024-02-25-05-11-39-755', 'NVIDIA_REQUIRE_CUDA': 'cuda>=9.0', 'TRAINING_JOB_ARN': 'arn:aws:sagemaker:us-east-1:258532878709:training-job/randomcutforest-2024-02-25-05-11-39-755', 'AWS_CONTAINER_CREDENTIALS_RELATIVE_URI': '/v2/credentials/proxy-87034ec68133f55b5a300fff5b0a280139d6ac44ace77744cae1990332c4be96-customer', 'CANONICAL_ENVROOT': '/opt/amazon', 'PYTHONUNBUFFERED': 'TRUE', 'NVIDIA_VISIBLE_DEVICES': 'all', 'LD_LIBRARY_PATH': '/opt/amazon/lib/python3.8/site-packages/cv2/../../../../lib:/usr/local/nvidia/lib64:/opt/amazon/lib', 'MXNET_KVSTORE_BIGARRAY_BOUND': '400000000', 'NVIDIA_DRIVER_CAPABILITIES': 'compute,utility', 'SAGEMAKER_MANAGED_WARMPOOL_CACHE_DIRECTORY': '/opt/ml/sagemaker/warmpoolcache', 'PATH': '/opt/amazon/bin:/usr/local/nvidia/bin:/usr/local/sbin:/usr/local/bin:/usr/sbin:/usr/bin:/sbin:/bin', 'PWD': '/', 'LANG': 'en_US.utf8', 'AWS_REGION': 'us-east-1', 'SAGEMAKER_METRICS_DIRECTORY': '/opt/ml/output/metrics/sagemaker', 'CUDA_VERSION': '11.1', 'HOME': '/root', 'SHLVL': '1', 'CUDA_COMPAT_NDRIVER_SUPPORTED_VERSION': '455.32.00', 'PROTOCOL_BUFFERS_PYTHON_IMPLEMENTATION_VERSION': '2', 'OMP_NUM_THREADS': '2', 'DMLC_INTERFACE': 'eth0', 'SAGEMAKER_HTTP_PORT': '8080', 'SAGEMAKER_DATA_PATH': '/opt/ml', 'KMP_DUPLICATE_LIB_OK': 'True', 'KMP_INIT_AT_FORK': 'FALSE', 'DMLC_ROLE': 'server', 'DMLC_PS_ROOT_URI': '10.2.152.102', 'DMLC_PS_ROOT_PORT': '9000', 'DMLC_NUM_SERVER': '1', 'DMLC_NUM_WORKER': '1'}\u001b[0m\n",
      "\u001b[34m[02/25/2024 05:16:06 INFO 140204438370112] Environment: {'ENVROOT': '/opt/amazon', 'PROTOCOL_BUFFERS_PYTHON_IMPLEMENTATION': 'cpp', 'HOSTNAME': 'ip-10-2-152-102.ec2.internal', 'TRAINING_JOB_NAME': 'randomcutforest-2024-02-25-05-11-39-755', 'NVIDIA_REQUIRE_CUDA': 'cuda>=9.0', 'TRAINING_JOB_ARN': 'arn:aws:sagemaker:us-east-1:258532878709:training-job/randomcutforest-2024-02-25-05-11-39-755', 'AWS_CONTAINER_CREDENTIALS_RELATIVE_URI': '/v2/credentials/proxy-87034ec68133f55b5a300fff5b0a280139d6ac44ace77744cae1990332c4be96-customer', 'CANONICAL_ENVROOT': '/opt/amazon', 'PYTHONUNBUFFERED': 'TRUE', 'NVIDIA_VISIBLE_DEVICES': 'all', 'LD_LIBRARY_PATH': '/opt/amazon/lib/python3.8/site-packages/cv2/../../../../lib:/usr/local/nvidia/lib64:/opt/amazon/lib', 'MXNET_KVSTORE_BIGARRAY_BOUND': '400000000', 'NVIDIA_DRIVER_CAPABILITIES': 'compute,utility', 'SAGEMAKER_MANAGED_WARMPOOL_CACHE_DIRECTORY': '/opt/ml/sagemaker/warmpoolcache', 'PATH': '/opt/amazon/bin:/usr/local/nvidia/bin:/usr/local/sbin:/usr/local/bin:/usr/sbin:/usr/bin:/sbin:/bin', 'PWD': '/', 'LANG': 'en_US.utf8', 'AWS_REGION': 'us-east-1', 'SAGEMAKER_METRICS_DIRECTORY': '/opt/ml/output/metrics/sagemaker', 'CUDA_VERSION': '11.1', 'HOME': '/root', 'SHLVL': '1', 'CUDA_COMPAT_NDRIVER_SUPPORTED_VERSION': '455.32.00', 'PROTOCOL_BUFFERS_PYTHON_IMPLEMENTATION_VERSION': '2', 'OMP_NUM_THREADS': '2', 'DMLC_INTERFACE': 'eth0', 'SAGEMAKER_HTTP_PORT': '8080', 'SAGEMAKER_DATA_PATH': '/opt/ml', 'KMP_DUPLICATE_LIB_OK': 'True', 'KMP_INIT_AT_FORK': 'FALSE', 'DMLC_ROLE': 'worker', 'DMLC_PS_ROOT_URI': '10.2.152.102', 'DMLC_PS_ROOT_PORT': '9000', 'DMLC_NUM_SERVER': '1', 'DMLC_NUM_WORKER': '1'}\u001b[0m\n",
      "\u001b[34mProcess 35 is a shell:scheduler.\u001b[0m\n",
      "\u001b[34mProcess 44 is a shell:server.\u001b[0m\n",
      "\u001b[34mProcess 8 is a worker.\u001b[0m\n",
      "\u001b[34m[02/25/2024 05:16:06 INFO 140204438370112] Using default worker.\u001b[0m\n",
      "\u001b[34m[02/25/2024 05:16:06 INFO 140204438370112] Loaded iterator creator application/x-recordio-protobuf for content type ('application/x-recordio-protobuf', '1.0')\u001b[0m\n",
      "\u001b[34m[02/25/2024 05:16:06 INFO 140204438370112] Checkpoint loading and saving are disabled.\u001b[0m\n",
      "\u001b[34m[02/25/2024 05:16:06 INFO 140204438370112] Verifying hyperparamemters...\u001b[0m\n",
      "\u001b[34m[02/25/2024 05:16:06 INFO 140204438370112] Hyperparameters are correct.\u001b[0m\n",
      "\u001b[34m[02/25/2024 05:16:06 INFO 140204438370112] Validating that feature_dim agrees with dimensions in training data...\u001b[0m\n",
      "\u001b[34m[02/25/2024 05:16:06 INFO 140204438370112] feature_dim is correct.\u001b[0m\n",
      "\u001b[34m[02/25/2024 05:16:06 INFO 140204438370112] Validating memory limits...\u001b[0m\n",
      "\u001b[34m[02/25/2024 05:16:06 INFO 140204438370112] Available memory in bytes: 15400865792\u001b[0m\n",
      "\u001b[34m[02/25/2024 05:16:06 INFO 140204438370112] Estimated sample size in bytes: 409600\u001b[0m\n",
      "\u001b[34m[02/25/2024 05:16:06 INFO 140204438370112] Estimated memory needed to build the forest in bytes: 1024000\u001b[0m\n",
      "\u001b[34m[02/25/2024 05:16:06 INFO 140204438370112] Memory limits validated.\u001b[0m\n",
      "\u001b[34m[02/25/2024 05:16:06 INFO 140204438370112] Starting cluster sharing facilities...\u001b[0m\n",
      "\u001b[34m[02/25/2024 05:16:06 INFO 140201613584128] concurrency model: async\u001b[0m\n",
      "\u001b[34m[02/25/2024 05:16:06 INFO 140201613584128] masquerade (NAT) address: None\u001b[0m\n",
      "\u001b[34m[02/25/2024 05:16:06 INFO 140201613584128] passive ports: None\u001b[0m\n",
      "\u001b[34m[02/25/2024 05:16:06 INFO 140201613584128] >>> starting FTP server on 0.0.0.0:8999, pid=8 <<<\u001b[0m\n",
      "\u001b[34m[02/25/2024 05:16:06 INFO 140204438370112] Create Store: dist_async\u001b[0m\n",
      "\u001b[34m[02/25/2024 05:16:07 INFO 140204438370112] Cluster sharing facilities started.\u001b[0m\n",
      "\u001b[34m[02/25/2024 05:16:07 INFO 140204438370112] Verifying all workers are accessible...\u001b[0m\n",
      "\u001b[34m[02/25/2024 05:16:07 INFO 140204438370112] All workers accessible.\u001b[0m\n",
      "\u001b[34m[02/25/2024 05:16:07 INFO 140204438370112] Initializing Sampler...\u001b[0m\n",
      "\u001b[34m[02/25/2024 05:16:07 INFO 140204438370112] Sampler correctly initialized.\u001b[0m\n",
      "\u001b[34m#metrics {\"StartTime\": 1708838166.6784875, \"EndTime\": 1708838167.9917972, \"Dimensions\": {\"Algorithm\": \"RandomCutForest\", \"Host\": \"algo-1\", \"Operation\": \"training\"}, \"Metrics\": {\"initialize.time\": {\"sum\": 1310.2610111236572, \"count\": 1, \"min\": 1310.2610111236572, \"max\": 1310.2610111236572}}}\u001b[0m\n",
      "\u001b[34m#metrics {\"StartTime\": 1708838167.992012, \"EndTime\": 1708838167.9920619, \"Dimensions\": {\"Algorithm\": \"RandomCutForest\", \"Host\": \"algo-1\", \"Operation\": \"training\", \"Meta\": \"init_train_data_iter\"}, \"Metrics\": {\"Total Records Seen\": {\"sum\": 0.0, \"count\": 1, \"min\": 0, \"max\": 0}, \"Total Batches Seen\": {\"sum\": 0.0, \"count\": 1, \"min\": 0, \"max\": 0}, \"Max Records Seen Between Resets\": {\"sum\": 0.0, \"count\": 1, \"min\": 0, \"max\": 0}, \"Max Batches Seen Between Resets\": {\"sum\": 0.0, \"count\": 1, \"min\": 0, \"max\": 0}, \"Reset Count\": {\"sum\": 0.0, \"count\": 1, \"min\": 0, \"max\": 0}, \"Number of Records Since Last Reset\": {\"sum\": 0.0, \"count\": 1, \"min\": 0, \"max\": 0}, \"Number of Batches Since Last Reset\": {\"sum\": 0.0, \"count\": 1, \"min\": 0, \"max\": 0}}}\u001b[0m\n",
      "\u001b[34m[2024-02-25 05:16:07.992] [tensorio] [info] epoch_stats={\"data_pipeline\": \"/opt/ml/input/data/train\", \"epoch\": 0, \"duration\": 1313, \"num_examples\": 1, \"num_bytes\": 32000}\u001b[0m\n",
      "\u001b[34m[02/25/2024 05:16:07 INFO 140204438370112] Sampling training data...\u001b[0m\n",
      "\u001b[34m[2024-02-25 05:16:08.005] [tensorio] [info] epoch_stats={\"data_pipeline\": \"/opt/ml/input/data/train\", \"epoch\": 1, \"duration\": 12, \"num_examples\": 3, \"num_bytes\": 80000}\u001b[0m\n",
      "\u001b[34m[02/25/2024 05:16:08 INFO 140204438370112] Sampling training data completed.\u001b[0m\n",
      "\u001b[34m#metrics {\"StartTime\": 1708838167.9919486, \"EndTime\": 1708838168.006786, \"Dimensions\": {\"Algorithm\": \"RandomCutForest\", \"Host\": \"algo-1\", \"Operation\": \"training\"}, \"Metrics\": {\"epochs\": {\"sum\": 1.0, \"count\": 1, \"min\": 1, \"max\": 1}, \"update.time\": {\"sum\": 14.354944229125977, \"count\": 1, \"min\": 14.354944229125977, \"max\": 14.354944229125977}}}\u001b[0m\n",
      "\u001b[34m[02/25/2024 05:16:08 INFO 140204438370112] Early stop condition met. Stopping training.\u001b[0m\n",
      "\u001b[34m[02/25/2024 05:16:08 INFO 140204438370112] #progress_metric: host=algo-1, completed 100 % epochs\u001b[0m\n",
      "\u001b[34m#metrics {\"StartTime\": 1708838167.9924018, \"EndTime\": 1708838168.0071228, \"Dimensions\": {\"Algorithm\": \"RandomCutForest\", \"Host\": \"algo-1\", \"Operation\": \"training\", \"epoch\": 0, \"Meta\": \"training_data_iter\"}, \"Metrics\": {\"Total Records Seen\": {\"sum\": 2500.0, \"count\": 1, \"min\": 2500, \"max\": 2500}, \"Total Batches Seen\": {\"sum\": 3.0, \"count\": 1, \"min\": 3, \"max\": 3}, \"Max Records Seen Between Resets\": {\"sum\": 2500.0, \"count\": 1, \"min\": 2500, \"max\": 2500}, \"Max Batches Seen Between Resets\": {\"sum\": 3.0, \"count\": 1, \"min\": 3, \"max\": 3}, \"Reset Count\": {\"sum\": 1.0, \"count\": 1, \"min\": 1, \"max\": 1}, \"Number of Records Since Last Reset\": {\"sum\": 2500.0, \"count\": 1, \"min\": 2500, \"max\": 2500}, \"Number of Batches Since Last Reset\": {\"sum\": 3.0, \"count\": 1, \"min\": 3, \"max\": 3}}}\u001b[0m\n",
      "\u001b[34m[02/25/2024 05:16:08 INFO 140204438370112] #throughput_metric: host=algo-1, train throughput=168383.72970629326 records/second\u001b[0m\n",
      "\u001b[34m[02/25/2024 05:16:08 INFO 140204438370112] Master node: building Random Cut Forest...\u001b[0m\n",
      "\u001b[34m[02/25/2024 05:16:08 INFO 140204438370112] Gathering samples...\u001b[0m\n",
      "\u001b[34m[02/25/2024 05:16:08 INFO 140204438370112] 2500 samples gathered\u001b[0m\n",
      "\u001b[34m[02/25/2024 05:16:08 INFO 140204438370112] Building Random Cut Forest...\u001b[0m\n",
      "\u001b[34m[02/25/2024 05:16:08 INFO 140204438370112] Random Cut Forest built: \u001b[0m\n",
      "\u001b[34mForestInfo{num_trees: 50, num_samples_in_forest: 2500, num_samples_per_tree: 50, sample_dim: 1, shingle_size: 1, trees_num_nodes: [91, 93, 89, 85, 93, 81, 97, 87, 83, 87, 85, 89, 85, 87, 91, 89, 91, 83, 83, 83, 83, 87, 91, 95, 85, 83, 89, 89, 71, 83, 79, 83, 75, 95, 89, 93, 85, 87, 89, 91, 89, 81, 97, 97, 89, 89, 69, 89, 99, 87, ], trees_depth: [11, 11, 12, 12, 11, 10, 11, 9, 12, 12, 11, 12, 11, 14, 11, 13, 10, 11, 14, 14, 13, 11, 13, 15, 12, 12, 11, 12, 11, 11, 11, 16, 11, 9, 10, 16, 13, 10, 12, 11, 12, 10, 12, 12, 11, 12, 9, 12, 12, 9, ], max_num_nodes: 99, min_num_nodes: 69, avg_num_nodes: 87, max_tree_depth: 16, min_tree_depth: 9, avg_tree_depth: 11, mem_size: 453888}\u001b[0m\n",
      "\u001b[34m#metrics {\"StartTime\": 1708838168.0068774, \"EndTime\": 1708838168.0118778, \"Dimensions\": {\"Algorithm\": \"RandomCutForest\", \"Host\": \"algo-1\", \"Operation\": \"training\"}, \"Metrics\": {\"fit_model.time\": {\"sum\": 2.2220611572265625, \"count\": 1, \"min\": 2.2220611572265625, \"max\": 2.2220611572265625}, \"model.bytes\": {\"sum\": 453888.0, \"count\": 1, \"min\": 453888, \"max\": 453888}, \"finalize.time\": {\"sum\": 4.443883895874023, \"count\": 1, \"min\": 4.443883895874023, \"max\": 4.443883895874023}}}\u001b[0m\n",
      "\u001b[34m[02/25/2024 05:16:08 INFO 140204438370112] Master node: Serializing the RandomCutForest model\u001b[0m\n",
      "\u001b[34m#metrics {\"StartTime\": 1708838168.0119627, \"EndTime\": 1708838168.017471, \"Dimensions\": {\"Algorithm\": \"RandomCutForest\", \"Host\": \"algo-1\", \"Operation\": \"training\"}, \"Metrics\": {\"serialize_model.time\": {\"sum\": 5.463361740112305, \"count\": 1, \"min\": 5.463361740112305, \"max\": 5.463361740112305}}}\u001b[0m\n",
      "\u001b[34m[02/25/2024 05:16:08 INFO 140204438370112] Test data is not provided.\u001b[0m\n",
      "\u001b[34m#metrics {\"StartTime\": 1708838168.0175676, \"EndTime\": 1708838168.0182335, \"Dimensions\": {\"Algorithm\": \"RandomCutForest\", \"Host\": \"algo-1\", \"Operation\": \"training\"}, \"Metrics\": {\"setuptime\": {\"sum\": 25.899171829223633, \"count\": 1, \"min\": 25.899171829223633, \"max\": 25.899171829223633}, \"totaltime\": {\"sum\": 1373.1145858764648, \"count\": 1, \"min\": 1373.1145858764648, \"max\": 1373.1145858764648}}}\u001b[0m\n",
      "\n",
      "2024-02-25 05:16:27 Uploading - Uploading generated training model\n",
      "2024-02-25 05:16:27 Completed - Training job completed\n",
      "Training seconds: 207\n",
      "Billable seconds: 207\n"
     ]
    }
   ],
   "source": [
    "## Create Estimaator\n",
    "\n",
    "rcf = RandomCutForest(\n",
    "    role=execution_role,\n",
    "    instance_count=1,\n",
    "    instance_type=\"ml.m4.xlarge\",\n",
    "    data_location=f\"s3://{bucket}/{prefix}/\",\n",
    "    output_path=f\"s3://{bucket}/{prefix}/output\",\n",
    "    num_samples_per_tree=512,\n",
    "    num_trees=50,\n",
    ")\n",
    "\n"
   ]
  },
  {
   "cell_type": "markdown",
   "id": "89d182e2-ae7b-444f-bf24-79e3da26b92a",
   "metadata": {},
   "source": [
    "Train Estimator"
   ]
  },
  {
   "cell_type": "code",
   "execution_count": null,
   "id": "4291a574-4267-4cca-93c9-d1de5a4448d6",
   "metadata": {},
   "outputs": [],
   "source": [
    "# automatically upload the training data to S3 and run the training job\n",
    "rcf.fit(rcf.record_set(taxi_df['value'].to_numpy().reshape(-1, 1)))"
   ]
  },
  {
   "cell_type": "markdown",
   "id": "41751bfa-e783-4029-b46a-2804ad3276d2",
   "metadata": {},
   "source": [
    "Run Inferences"
   ]
  },
  {
   "cell_type": "code",
   "execution_count": 42,
   "id": "d7e6356a-f7c2-4d03-8806-74ff75ff3821",
   "metadata": {
    "tags": []
   },
   "outputs": [
    {
     "name": "stderr",
     "output_type": "stream",
     "text": [
      "INFO:sagemaker.image_uris:Same images used for training and inference. Defaulting to image scope: inference.\n",
      "INFO:sagemaker.image_uris:Ignoring unnecessary instance type: None.\n",
      "INFO:sagemaker:Creating model with name: randomcutforest-2024-02-25-05-17-27-560\n",
      "INFO:sagemaker:Creating endpoint-config with name randomcutforest-2024-02-25-05-17-27-560\n",
      "INFO:sagemaker:Creating endpoint with name randomcutforest-2024-02-25-05-17-27-560\n"
     ]
    },
    {
     "name": "stdout",
     "output_type": "stream",
     "text": [
      "---------!"
     ]
    }
   ],
   "source": [
    "rcf_inference = rcf.deploy(initial_instance_count=1, instance_type=\"ml.m4.xlarge\")\n"
   ]
  },
  {
   "cell_type": "code",
   "execution_count": 50,
   "id": "883d6f95-f5aa-44ff-a4fb-a95bbeb9bfe0",
   "metadata": {
    "tags": []
   },
   "outputs": [],
   "source": [
    "from sagemaker.serializers import CSVSerializer\n",
    "from sagemaker.deserializers import JSONDeserializer\n",
    "\n",
    "rcf_inference.serializer = CSVSerializer()\n",
    "rcf_inference.deserializer = JSONDeserializer()\n",
    "\n"
   ]
  },
  {
   "cell_type": "code",
   "execution_count": 51,
   "id": "43d2c908-2bd8-4058-bd17-a92a26a0fc01",
   "metadata": {
    "tags": []
   },
   "outputs": [
    {
     "name": "stdout",
     "output_type": "stream",
     "text": [
      "[[13.56]\n",
      " [ 8.33]\n",
      " [11.78]\n",
      " [15.28]\n",
      " [10.06]\n",
      " [ 7.44]]\n"
     ]
    }
   ],
   "source": [
    "taxi_data_numpy = taxi_df['value'].to_numpy().reshape(-1, 1)\n",
    "print(taxi_data_numpy[:6])\n",
    "\n",
    "results = rcf_inference.predict(\n",
    "    taxi_data_numpy[:6], initial_args={\"ContentType\": \"text/csv\", \"Accept\": \"application/json\"}\n",
    ")"
   ]
  },
  {
   "cell_type": "code",
   "execution_count": 52,
   "id": "663fe64d-7a49-40cd-98ee-34753e4ed0be",
   "metadata": {
    "tags": []
   },
   "outputs": [
    {
     "data": {
      "text/html": [
       "<div>\n",
       "<style scoped>\n",
       "    .dataframe tbody tr th:only-of-type {\n",
       "        vertical-align: middle;\n",
       "    }\n",
       "\n",
       "    .dataframe tbody tr th {\n",
       "        vertical-align: top;\n",
       "    }\n",
       "\n",
       "    .dataframe thead th {\n",
       "        text-align: right;\n",
       "    }\n",
       "</style>\n",
       "<table border=\"1\" class=\"dataframe\">\n",
       "  <thead>\n",
       "    <tr style=\"text-align: right;\">\n",
       "      <th></th>\n",
       "      <th>timestamp</th>\n",
       "      <th>value</th>\n",
       "      <th>score</th>\n",
       "    </tr>\n",
       "  </thead>\n",
       "  <tbody>\n",
       "    <tr>\n",
       "      <th>0</th>\n",
       "      <td>2015-09-01 11:30:00</td>\n",
       "      <td>13.56</td>\n",
       "      <td>1.648728</td>\n",
       "    </tr>\n",
       "    <tr>\n",
       "      <th>1</th>\n",
       "      <td>2015-09-01 11:35:00</td>\n",
       "      <td>8.33</td>\n",
       "      <td>0.961835</td>\n",
       "    </tr>\n",
       "    <tr>\n",
       "      <th>2</th>\n",
       "      <td>2015-09-01 11:40:00</td>\n",
       "      <td>11.78</td>\n",
       "      <td>1.319500</td>\n",
       "    </tr>\n",
       "    <tr>\n",
       "      <th>3</th>\n",
       "      <td>2015-09-01 11:55:00</td>\n",
       "      <td>15.28</td>\n",
       "      <td>1.995558</td>\n",
       "    </tr>\n",
       "    <tr>\n",
       "      <th>4</th>\n",
       "      <td>2015-09-01 12:00:00</td>\n",
       "      <td>10.06</td>\n",
       "      <td>1.129532</td>\n",
       "    </tr>\n",
       "  </tbody>\n",
       "</table>\n",
       "</div>"
      ],
      "text/plain": [
       "             timestamp  value     score\n",
       "0  2015-09-01 11:30:00  13.56  1.648728\n",
       "1  2015-09-01 11:35:00   8.33  0.961835\n",
       "2  2015-09-01 11:40:00  11.78  1.319500\n",
       "3  2015-09-01 11:55:00  15.28  1.995558\n",
       "4  2015-09-01 12:00:00  10.06  1.129532"
      ]
     },
     "execution_count": 52,
     "metadata": {},
     "output_type": "execute_result"
    }
   ],
   "source": [
    "results = rcf_inference.predict(taxi_data_numpy)\n",
    "scores = [datum[\"score\"] for datum in results[\"scores\"]]\n",
    "\n",
    "# add scores to taxi data frame and print first few values\n",
    "taxi_df[\"score\"] = pd.Series(scores, index=taxi_df.index)\n",
    "taxi_df.head()"
   ]
  },
  {
   "cell_type": "code",
   "execution_count": 53,
   "id": "dde42e61-2549-4280-9bb1-ebd83d501f62",
   "metadata": {
    "tags": []
   },
   "outputs": [
    {
     "data": {
      "image/png": "[encoded data removed]",
      "text/plain": [
       "<Figure size 1000x480 with 2 Axes>"
      ]
     },
     "metadata": {},
     "output_type": "display_data"
    }
   ],
   "source": [
    "fig, ax1 = plt.subplots()\n",
    "ax2 = ax1.twinx()\n",
    "\n",
    "#\n",
    "# *Try this out* - change `start` and `end` to zoom in on the\n",
    "# anomaly found earlier in this notebook\n",
    "#\n",
    "start, end = 0, len(taxi_df)\n",
    "\n",
    "taxi_data_subset = taxi_df[start:end]\n",
    "\n",
    "ax1.plot(taxi_data_subset[\"value\"], color=\"C0\", alpha=0.8)\n",
    "ax2.plot(taxi_data_subset[\"score\"], color=\"C1\")\n",
    "\n",
    "ax1.grid(which=\"major\", axis=\"both\")\n",
    "\n",
    "ax1.set_ylabel(\"Taxi Occupancy\", color=\"C0\")\n",
    "ax2.set_ylabel(\"Anomaly Score\", color=\"C1\")\n",
    "\n",
    "ax1.tick_params(\"y\", colors=\"C0\")\n",
    "ax2.tick_params(\"y\", colors=\"C1\")\n",
    "\n",
    "#ax1.set_ylim(0, 40000)\n",
    "ax2.set_ylim(min(scores), 1.4 * max(scores))\n",
    "fig.set_figwidth(10)"
   ]
  },
  {
   "cell_type": "code",
   "execution_count": 54,
   "id": "8b30cb51-8dcc-4113-99e7-6ab4de18a429",
   "metadata": {
    "collapsed": true,
    "jupyter": {
     "outputs_hidden": true
    },
    "tags": []
   },
   "outputs": [
    {
     "data": {
      "text/html": [
       "<div>\n",
       "<style scoped>\n",
       "    .dataframe tbody tr th:only-of-type {\n",
       "        vertical-align: middle;\n",
       "    }\n",
       "\n",
       "    .dataframe tbody tr th {\n",
       "        vertical-align: top;\n",
       "    }\n",
       "\n",
       "    .dataframe thead th {\n",
       "        text-align: right;\n",
       "    }\n",
       "</style>\n",
       "<table border=\"1\" class=\"dataframe\">\n",
       "  <thead>\n",
       "    <tr style=\"text-align: right;\">\n",
       "      <th></th>\n",
       "      <th>timestamp</th>\n",
       "      <th>value</th>\n",
       "      <th>score</th>\n",
       "    </tr>\n",
       "  </thead>\n",
       "  <tbody>\n",
       "    <tr>\n",
       "      <th>25</th>\n",
       "      <td>2015-09-01 14:10:00</td>\n",
       "      <td>25.89</td>\n",
       "      <td>3.648110</td>\n",
       "    </tr>\n",
       "    <tr>\n",
       "      <th>33</th>\n",
       "      <td>2015-09-01 15:05:00</td>\n",
       "      <td>24.72</td>\n",
       "      <td>3.567207</td>\n",
       "    </tr>\n",
       "    <tr>\n",
       "      <th>53</th>\n",
       "      <td>2015-09-01 17:15:00</td>\n",
       "      <td>21.33</td>\n",
       "      <td>3.166853</td>\n",
       "    </tr>\n",
       "    <tr>\n",
       "      <th>54</th>\n",
       "      <td>2015-09-01 17:20:00</td>\n",
       "      <td>21.61</td>\n",
       "      <td>3.201439</td>\n",
       "    </tr>\n",
       "    <tr>\n",
       "      <th>136</th>\n",
       "      <td>2015-09-02 06:45:00</td>\n",
       "      <td>21.72</td>\n",
       "      <td>3.220076</td>\n",
       "    </tr>\n",
       "    <tr>\n",
       "      <th>140</th>\n",
       "      <td>2015-09-02 07:05:00</td>\n",
       "      <td>25.61</td>\n",
       "      <td>3.620404</td>\n",
       "    </tr>\n",
       "    <tr>\n",
       "      <th>141</th>\n",
       "      <td>2015-09-02 07:10:00</td>\n",
       "      <td>25.78</td>\n",
       "      <td>3.632654</td>\n",
       "    </tr>\n",
       "    <tr>\n",
       "      <th>151</th>\n",
       "      <td>2015-09-02 08:00:00</td>\n",
       "      <td>19.56</td>\n",
       "      <td>2.905986</td>\n",
       "    </tr>\n",
       "    <tr>\n",
       "      <th>152</th>\n",
       "      <td>2015-09-02 08:05:00</td>\n",
       "      <td>18.00</td>\n",
       "      <td>2.635870</td>\n",
       "    </tr>\n",
       "    <tr>\n",
       "      <th>157</th>\n",
       "      <td>2015-09-02 08:30:00</td>\n",
       "      <td>21.22</td>\n",
       "      <td>3.155144</td>\n",
       "    </tr>\n",
       "    <tr>\n",
       "      <th>158</th>\n",
       "      <td>2015-09-02 08:35:00</td>\n",
       "      <td>17.39</td>\n",
       "      <td>2.508643</td>\n",
       "    </tr>\n",
       "    <tr>\n",
       "      <th>160</th>\n",
       "      <td>2015-09-02 08:45:00</td>\n",
       "      <td>18.83</td>\n",
       "      <td>2.789688</td>\n",
       "    </tr>\n",
       "    <tr>\n",
       "      <th>162</th>\n",
       "      <td>2015-09-02 08:55:00</td>\n",
       "      <td>18.61</td>\n",
       "      <td>2.744168</td>\n",
       "    </tr>\n",
       "    <tr>\n",
       "      <th>165</th>\n",
       "      <td>2015-09-02 09:10:00</td>\n",
       "      <td>20.17</td>\n",
       "      <td>3.008898</td>\n",
       "    </tr>\n",
       "    <tr>\n",
       "      <th>166</th>\n",
       "      <td>2015-09-02 09:15:00</td>\n",
       "      <td>21.56</td>\n",
       "      <td>3.194011</td>\n",
       "    </tr>\n",
       "    <tr>\n",
       "      <th>186</th>\n",
       "      <td>2015-09-02 11:15:00</td>\n",
       "      <td>18.33</td>\n",
       "      <td>2.696182</td>\n",
       "    </tr>\n",
       "    <tr>\n",
       "      <th>206</th>\n",
       "      <td>2015-09-02 13:15:00</td>\n",
       "      <td>17.61</td>\n",
       "      <td>2.547007</td>\n",
       "    </tr>\n",
       "    <tr>\n",
       "      <th>244</th>\n",
       "      <td>2015-09-02 16:40:00</td>\n",
       "      <td>17.72</td>\n",
       "      <td>2.568662</td>\n",
       "    </tr>\n",
       "    <tr>\n",
       "      <th>252</th>\n",
       "      <td>2015-09-02 17:20:00</td>\n",
       "      <td>18.50</td>\n",
       "      <td>2.737120</td>\n",
       "    </tr>\n",
       "    <tr>\n",
       "      <th>347</th>\n",
       "      <td>2015-09-03 08:06:00</td>\n",
       "      <td>17.61</td>\n",
       "      <td>2.547007</td>\n",
       "    </tr>\n",
       "    <tr>\n",
       "      <th>355</th>\n",
       "      <td>2015-09-03 09:16:00</td>\n",
       "      <td>18.50</td>\n",
       "      <td>2.737120</td>\n",
       "    </tr>\n",
       "    <tr>\n",
       "      <th>364</th>\n",
       "      <td>2015-09-03 10:06:00</td>\n",
       "      <td>17.28</td>\n",
       "      <td>2.491409</td>\n",
       "    </tr>\n",
       "    <tr>\n",
       "      <th>903</th>\n",
       "      <td>2015-09-10 08:43:00</td>\n",
       "      <td>17.78</td>\n",
       "      <td>2.586255</td>\n",
       "    </tr>\n",
       "    <tr>\n",
       "      <th>983</th>\n",
       "      <td>2015-09-10 16:27:00</td>\n",
       "      <td>17.22</td>\n",
       "      <td>2.480434</td>\n",
       "    </tr>\n",
       "    <tr>\n",
       "      <th>1688</th>\n",
       "      <td>2015-09-14 08:08:00</td>\n",
       "      <td>20.72</td>\n",
       "      <td>3.099298</td>\n",
       "    </tr>\n",
       "    <tr>\n",
       "      <th>1689</th>\n",
       "      <td>2015-09-14 08:13:00</td>\n",
       "      <td>18.61</td>\n",
       "      <td>2.744168</td>\n",
       "    </tr>\n",
       "    <tr>\n",
       "      <th>1760</th>\n",
       "      <td>2015-09-14 14:40:00</td>\n",
       "      <td>17.33</td>\n",
       "      <td>2.500384</td>\n",
       "    </tr>\n",
       "    <tr>\n",
       "      <th>2147</th>\n",
       "      <td>2015-09-16 07:59:00</td>\n",
       "      <td>32.17</td>\n",
       "      <td>4.062792</td>\n",
       "    </tr>\n",
       "    <tr>\n",
       "      <th>2148</th>\n",
       "      <td>2015-09-16 08:04:00</td>\n",
       "      <td>26.00</td>\n",
       "      <td>3.679447</td>\n",
       "    </tr>\n",
       "    <tr>\n",
       "      <th>2149</th>\n",
       "      <td>2015-09-16 08:09:00</td>\n",
       "      <td>38.83</td>\n",
       "      <td>4.348976</td>\n",
       "    </tr>\n",
       "    <tr>\n",
       "      <th>2151</th>\n",
       "      <td>2015-09-16 08:19:00</td>\n",
       "      <td>38.28</td>\n",
       "      <td>4.329347</td>\n",
       "    </tr>\n",
       "    <tr>\n",
       "      <th>2152</th>\n",
       "      <td>2015-09-16 08:24:00</td>\n",
       "      <td>33.50</td>\n",
       "      <td>4.131488</td>\n",
       "    </tr>\n",
       "    <tr>\n",
       "      <th>2153</th>\n",
       "      <td>2015-09-16 08:29:00</td>\n",
       "      <td>22.50</td>\n",
       "      <td>3.343751</td>\n",
       "    </tr>\n",
       "    <tr>\n",
       "      <th>2154</th>\n",
       "      <td>2015-09-16 08:34:00</td>\n",
       "      <td>27.17</td>\n",
       "      <td>3.756549</td>\n",
       "    </tr>\n",
       "    <tr>\n",
       "      <th>2155</th>\n",
       "      <td>2015-09-16 08:39:00</td>\n",
       "      <td>29.94</td>\n",
       "      <td>3.942790</td>\n",
       "    </tr>\n",
       "    <tr>\n",
       "      <th>2156</th>\n",
       "      <td>2015-09-16 08:44:00</td>\n",
       "      <td>27.83</td>\n",
       "      <td>3.808183</td>\n",
       "    </tr>\n",
       "    <tr>\n",
       "      <th>2255</th>\n",
       "      <td>2015-09-16 17:00:00</td>\n",
       "      <td>19.00</td>\n",
       "      <td>2.839089</td>\n",
       "    </tr>\n",
       "    <tr>\n",
       "      <th>2391</th>\n",
       "      <td>2015-09-17 07:25:00</td>\n",
       "      <td>17.39</td>\n",
       "      <td>2.508643</td>\n",
       "    </tr>\n",
       "    <tr>\n",
       "      <th>2396</th>\n",
       "      <td>2015-09-17 07:50:00</td>\n",
       "      <td>19.00</td>\n",
       "      <td>2.839089</td>\n",
       "    </tr>\n",
       "    <tr>\n",
       "      <th>2397</th>\n",
       "      <td>2015-09-17 07:55:00</td>\n",
       "      <td>43.06</td>\n",
       "      <td>4.496185</td>\n",
       "    </tr>\n",
       "    <tr>\n",
       "      <th>2398</th>\n",
       "      <td>2015-09-17 08:00:00</td>\n",
       "      <td>36.33</td>\n",
       "      <td>4.256183</td>\n",
       "    </tr>\n",
       "    <tr>\n",
       "      <th>2400</th>\n",
       "      <td>2015-09-17 08:10:00</td>\n",
       "      <td>26.61</td>\n",
       "      <td>3.713635</td>\n",
       "    </tr>\n",
       "    <tr>\n",
       "      <th>2401</th>\n",
       "      <td>2015-09-17 08:15:00</td>\n",
       "      <td>22.11</td>\n",
       "      <td>3.275697</td>\n",
       "    </tr>\n",
       "    <tr>\n",
       "      <th>2403</th>\n",
       "      <td>2015-09-17 08:25:00</td>\n",
       "      <td>20.56</td>\n",
       "      <td>3.080352</td>\n",
       "    </tr>\n",
       "  </tbody>\n",
       "</table>\n",
       "</div>"
      ],
      "text/plain": [
       "                timestamp  value     score\n",
       "25    2015-09-01 14:10:00  25.89  3.648110\n",
       "33    2015-09-01 15:05:00  24.72  3.567207\n",
       "53    2015-09-01 17:15:00  21.33  3.166853\n",
       "54    2015-09-01 17:20:00  21.61  3.201439\n",
       "136   2015-09-02 06:45:00  21.72  3.220076\n",
       "140   2015-09-02 07:05:00  25.61  3.620404\n",
       "141   2015-09-02 07:10:00  25.78  3.632654\n",
       "151   2015-09-02 08:00:00  19.56  2.905986\n",
       "152   2015-09-02 08:05:00  18.00  2.635870\n",
       "157   2015-09-02 08:30:00  21.22  3.155144\n",
       "158   2015-09-02 08:35:00  17.39  2.508643\n",
       "160   2015-09-02 08:45:00  18.83  2.789688\n",
       "162   2015-09-02 08:55:00  18.61  2.744168\n",
       "165   2015-09-02 09:10:00  20.17  3.008898\n",
       "166   2015-09-02 09:15:00  21.56  3.194011\n",
       "186   2015-09-02 11:15:00  18.33  2.696182\n",
       "206   2015-09-02 13:15:00  17.61  2.547007\n",
       "244   2015-09-02 16:40:00  17.72  2.568662\n",
       "252   2015-09-02 17:20:00  18.50  2.737120\n",
       "347   2015-09-03 08:06:00  17.61  2.547007\n",
       "355   2015-09-03 09:16:00  18.50  2.737120\n",
       "364   2015-09-03 10:06:00  17.28  2.491409\n",
       "903   2015-09-10 08:43:00  17.78  2.586255\n",
       "983   2015-09-10 16:27:00  17.22  2.480434\n",
       "1688  2015-09-14 08:08:00  20.72  3.099298\n",
       "1689  2015-09-14 08:13:00  18.61  2.744168\n",
       "1760  2015-09-14 14:40:00  17.33  2.500384\n",
       "2147  2015-09-16 07:59:00  32.17  4.062792\n",
       "2148  2015-09-16 08:04:00  26.00  3.679447\n",
       "2149  2015-09-16 08:09:00  38.83  4.348976\n",
       "2151  2015-09-16 08:19:00  38.28  4.329347\n",
       "2152  2015-09-16 08:24:00  33.50  4.131488\n",
       "2153  2015-09-16 08:29:00  22.50  3.343751\n",
       "2154  2015-09-16 08:34:00  27.17  3.756549\n",
       "2155  2015-09-16 08:39:00  29.94  3.942790\n",
       "2156  2015-09-16 08:44:00  27.83  3.808183\n",
       "2255  2015-09-16 17:00:00  19.00  2.839089\n",
       "2391  2015-09-17 07:25:00  17.39  2.508643\n",
       "2396  2015-09-17 07:50:00  19.00  2.839089\n",
       "2397  2015-09-17 07:55:00  43.06  4.496185\n",
       "2398  2015-09-17 08:00:00  36.33  4.256183\n",
       "2400  2015-09-17 08:10:00  26.61  3.713635\n",
       "2401  2015-09-17 08:15:00  22.11  3.275697\n",
       "2403  2015-09-17 08:25:00  20.56  3.080352"
      ]
     },
     "execution_count": 54,
     "metadata": {},
     "output_type": "execute_result"
    }
   ],
   "source": [
    "score_mean = taxi_df[\"score\"].mean()\n",
    "score_std = taxi_df[\"score\"].std()\n",
    "score_cutoff = score_mean + 3 * score_std\n",
    "\n",
    "anomalies = taxi_data_subset[taxi_data_subset[\"score\"] > score_cutoff]\n",
    "anomalies"
   ]
  },
  {
   "cell_type": "markdown",
   "id": "a2b3213e-5f21-426e-9d2e-7ba6b13c066a",
   "metadata": {},
   "source": [
    "# Delete Endpoint"
   ]
  },
  {
   "cell_type": "code",
   "execution_count": 55,
   "id": "28bb572e-32ba-47de-9c27-1307530e56ec",
   "metadata": {
    "tags": []
   },
   "outputs": [
    {
     "name": "stdout",
     "output_type": "stream",
     "text": [
      "sagemaker.config INFO - Not applying SDK defaults from location: /etc/xdg/sagemaker/config.yaml\n",
      "sagemaker.config INFO - Not applying SDK defaults from location: /root/.config/sagemaker/config.yaml\n"
     ]
    },
    {
     "name": "stderr",
     "output_type": "stream",
     "text": [
      "WARNING:sagemaker.deprecations:The endpoint attribute has been renamed in sagemaker>=2.\n",
      "See: https://sagemaker.readthedocs.io/en/stable/v2.html for details.\n",
      "INFO:sagemaker:Deleting endpoint with name: randomcutforest-2024-02-25-05-17-27-560\n"
     ]
    }
   ],
   "source": [
    "sagemaker.Session().delete_endpoint(rcf_inference.endpoint)"
   ]
  }
 ],
 "metadata": {
  "availableInstances": [
   {
    "_defaultOrder": 0,
    "_isFastLaunch": true,
    "category": "General purpose",
    "gpuNum": 0,
    "hideHardwareSpecs": false,
    "memoryGiB": 4,
    "name": "ml.t3.medium",
    "vcpuNum": 2
   },
   {
    "_defaultOrder": 1,
    "_isFastLaunch": false,
    "category": "General purpose",
    "gpuNum": 0,
    "hideHardwareSpecs": false,
    "memoryGiB": 8,
    "name": "ml.t3.large",
    "vcpuNum": 2
   },
   {
    "_defaultOrder": 2,
    "_isFastLaunch": false,
    "category": "General purpose",
    "gpuNum": 0,
    "hideHardwareSpecs": false,
    "memoryGiB": 16,
    "name": "ml.t3.xlarge",
    "vcpuNum": 4
   },
   {
    "_defaultOrder": 3,
    "_isFastLaunch": false,
    "category": "General purpose",
    "gpuNum": 0,
    "hideHardwareSpecs": false,
    "memoryGiB": 32,
    "name": "ml.t3.2xlarge",
    "vcpuNum": 8
   },
   {
    "_defaultOrder": 4,
    "_isFastLaunch": true,
    "category": "General purpose",
    "gpuNum": 0,
    "hideHardwareSpecs": false,
    "memoryGiB": 8,
    "name": "ml.m5.large",
    "vcpuNum": 2
   },
   {
    "_defaultOrder": 5,
    "_isFastLaunch": false,
    "category": "General purpose",
    "gpuNum": 0,
    "hideHardwareSpecs": false,
    "memoryGiB": 16,
    "name": "ml.m5.xlarge",
    "vcpuNum": 4
   },
   {
    "_defaultOrder": 6,
    "_isFastLaunch": false,
    "category": "General purpose",
    "gpuNum": 0,
    "hideHardwareSpecs": false,
    "memoryGiB": 32,
    "name": "ml.m5.2xlarge",
    "vcpuNum": 8
   },
   {
    "_defaultOrder": 7,
    "_isFastLaunch": false,
    "category": "General purpose",
    "gpuNum": 0,
    "hideHardwareSpecs": false,
    "memoryGiB": 64,
    "name": "ml.m5.4xlarge",
    "vcpuNum": 16
   },
   {
    "_defaultOrder": 8,
    "_isFastLaunch": false,
    "category": "General purpose",
    "gpuNum": 0,
    "hideHardwareSpecs": false,
    "memoryGiB": 128,
    "name": "ml.m5.8xlarge",
    "vcpuNum": 32
   },
   {
    "_defaultOrder": 9,
    "_isFastLaunch": false,
    "category": "General purpose",
    "gpuNum": 0,
    "hideHardwareSpecs": false,
    "memoryGiB": 192,
    "name": "ml.m5.12xlarge",
    "vcpuNum": 48
   },
   {
    "_defaultOrder": 10,
    "_isFastLaunch": false,
    "category": "General purpose",
    "gpuNum": 0,
    "hideHardwareSpecs": false,
    "memoryGiB": 256,
    "name": "ml.m5.16xlarge",
    "vcpuNum": 64
   },
   {
    "_defaultOrder": 11,
    "_isFastLaunch": false,
    "category": "General purpose",
    "gpuNum": 0,
    "hideHardwareSpecs": false,
    "memoryGiB": 384,
    "name": "ml.m5.24xlarge",
    "vcpuNum": 96
   },
   {
    "_defaultOrder": 12,
    "_isFastLaunch": false,
    "category": "General purpose",
    "gpuNum": 0,
    "hideHardwareSpecs": false,
    "memoryGiB": 8,
    "name": "ml.m5d.large",
    "vcpuNum": 2
   },
   {
    "_defaultOrder": 13,
    "_isFastLaunch": false,
    "category": "General purpose",
    "gpuNum": 0,
    "hideHardwareSpecs": false,
    "memoryGiB": 16,
    "name": "ml.m5d.xlarge",
    "vcpuNum": 4
   },
   {
    "_defaultOrder": 14,
    "_isFastLaunch": false,
    "category": "General purpose",
    "gpuNum": 0,
    "hideHardwareSpecs": false,
    "memoryGiB": 32,
    "name": "ml.m5d.2xlarge",
    "vcpuNum": 8
   },
   {
    "_defaultOrder": 15,
    "_isFastLaunch": false,
    "category": "General purpose",
    "gpuNum": 0,
    "hideHardwareSpecs": false,
    "memoryGiB": 64,
    "name": "ml.m5d.4xlarge",
    "vcpuNum": 16
   },
   {
    "_defaultOrder": 16,
    "_isFastLaunch": false,
    "category": "General purpose",
    "gpuNum": 0,
    "hideHardwareSpecs": false,
    "memoryGiB": 128,
    "name": "ml.m5d.8xlarge",
    "vcpuNum": 32
   },
   {
    "_defaultOrder": 17,
    "_isFastLaunch": false,
    "category": "General purpose",
    "gpuNum": 0,
    "hideHardwareSpecs": false,
    "memoryGiB": 192,
    "name": "ml.m5d.12xlarge",
    "vcpuNum": 48
   },
   {
    "_defaultOrder": 18,
    "_isFastLaunch": false,
    "category": "General purpose",
    "gpuNum": 0,
    "hideHardwareSpecs": false,
    "memoryGiB": 256,
    "name": "ml.m5d.16xlarge",
    "vcpuNum": 64
   },
   {
    "_defaultOrder": 19,
    "_isFastLaunch": false,
    "category": "General purpose",
    "gpuNum": 0,
    "hideHardwareSpecs": false,
    "memoryGiB": 384,
    "name": "ml.m5d.24xlarge",
    "vcpuNum": 96
   },
   {
    "_defaultOrder": 20,
    "_isFastLaunch": false,
    "category": "General purpose",
    "gpuNum": 0,
    "hideHardwareSpecs": true,
    "memoryGiB": 0,
    "name": "ml.geospatial.interactive",
    "supportedImageNames": [
     "sagemaker-geospatial-v1-0"
    ],
    "vcpuNum": 0
   },
   {
    "_defaultOrder": 21,
    "_isFastLaunch": true,
    "category": "Compute optimized",
    "gpuNum": 0,
    "hideHardwareSpecs": false,
    "memoryGiB": 4,
    "name": "ml.c5.large",
    "vcpuNum": 2
   },
   {
    "_defaultOrder": 22,
    "_isFastLaunch": false,
    "category": "Compute optimized",
    "gpuNum": 0,
    "hideHardwareSpecs": false,
    "memoryGiB": 8,
    "name": "ml.c5.xlarge",
    "vcpuNum": 4
   },
   {
    "_defaultOrder": 23,
    "_isFastLaunch": false,
    "category": "Compute optimized",
    "gpuNum": 0,
    "hideHardwareSpecs": false,
    "memoryGiB": 16,
    "name": "ml.c5.2xlarge",
    "vcpuNum": 8
   },
   {
    "_defaultOrder": 24,
    "_isFastLaunch": false,
    "category": "Compute optimized",
    "gpuNum": 0,
    "hideHardwareSpecs": false,
    "memoryGiB": 32,
    "name": "ml.c5.4xlarge",
    "vcpuNum": 16
   },
   {
    "_defaultOrder": 25,
    "_isFastLaunch": false,
    "category": "Compute optimized",
    "gpuNum": 0,
    "hideHardwareSpecs": false,
    "memoryGiB": 72,
    "name": "ml.c5.9xlarge",
    "vcpuNum": 36
   },
   {
    "_defaultOrder": 26,
    "_isFastLaunch": false,
    "category": "Compute optimized",
    "gpuNum": 0,
    "hideHardwareSpecs": false,
    "memoryGiB": 96,
    "name": "ml.c5.12xlarge",
    "vcpuNum": 48
   },
   {
    "_defaultOrder": 27,
    "_isFastLaunch": false,
    "category": "Compute optimized",
    "gpuNum": 0,
    "hideHardwareSpecs": false,
    "memoryGiB": 144,
    "name": "ml.c5.18xlarge",
    "vcpuNum": 72
   },
   {
    "_defaultOrder": 28,
    "_isFastLaunch": false,
    "category": "Compute optimized",
    "gpuNum": 0,
    "hideHardwareSpecs": false,
    "memoryGiB": 192,
    "name": "ml.c5.24xlarge",
    "vcpuNum": 96
   },
   {
    "_defaultOrder": 29,
    "_isFastLaunch": true,
    "category": "Accelerated computing",
    "gpuNum": 1,
    "hideHardwareSpecs": false,
    "memoryGiB": 16,
    "name": "ml.g4dn.xlarge",
    "vcpuNum": 4
   },
   {
    "_defaultOrder": 30,
    "_isFastLaunch": false,
    "category": "Accelerated computing",
    "gpuNum": 1,
    "hideHardwareSpecs": false,
    "memoryGiB": 32,
    "name": "ml.g4dn.2xlarge",
    "vcpuNum": 8
   },
   {
    "_defaultOrder": 31,
    "_isFastLaunch": false,
    "category": "Accelerated computing",
    "gpuNum": 1,
    "hideHardwareSpecs": false,
    "memoryGiB": 64,
    "name": "ml.g4dn.4xlarge",
    "vcpuNum": 16
   },
   {
    "_defaultOrder": 32,
    "_isFastLaunch": false,
    "category": "Accelerated computing",
    "gpuNum": 1,
    "hideHardwareSpecs": false,
    "memoryGiB": 128,
    "name": "ml.g4dn.8xlarge",
    "vcpuNum": 32
   },
   {
    "_defaultOrder": 33,
    "_isFastLaunch": false,
    "category": "Accelerated computing",
    "gpuNum": 4,
    "hideHardwareSpecs": false,
    "memoryGiB": 192,
    "name": "ml.g4dn.12xlarge",
    "vcpuNum": 48
   },
   {
    "_defaultOrder": 34,
    "_isFastLaunch": false,
    "category": "Accelerated computing",
    "gpuNum": 1,
    "hideHardwareSpecs": false,
    "memoryGiB": 256,
    "name": "ml.g4dn.16xlarge",
    "vcpuNum": 64
   },
   {
    "_defaultOrder": 35,
    "_isFastLaunch": false,
    "category": "Accelerated computing",
    "gpuNum": 1,
    "hideHardwareSpecs": false,
    "memoryGiB": 61,
    "name": "ml.p3.2xlarge",
    "vcpuNum": 8
   },
   {
    "_defaultOrder": 36,
    "_isFastLaunch": false,
    "category": "Accelerated computing",
    "gpuNum": 4,
    "hideHardwareSpecs": false,
    "memoryGiB": 244,
    "name": "ml.p3.8xlarge",
    "vcpuNum": 32
   },
   {
    "_defaultOrder": 37,
    "_isFastLaunch": false,
    "category": "Accelerated computing",
    "gpuNum": 8,
    "hideHardwareSpecs": false,
    "memoryGiB": 488,
    "name": "ml.p3.16xlarge",
    "vcpuNum": 64
   },
   {
    "_defaultOrder": 38,
    "_isFastLaunch": false,
    "category": "Accelerated computing",
    "gpuNum": 8,
    "hideHardwareSpecs": false,
    "memoryGiB": 768,
    "name": "ml.p3dn.24xlarge",
    "vcpuNum": 96
   },
   {
    "_defaultOrder": 39,
    "_isFastLaunch": false,
    "category": "Memory Optimized",
    "gpuNum": 0,
    "hideHardwareSpecs": false,
    "memoryGiB": 16,
    "name": "ml.r5.large",
    "vcpuNum": 2
   },
   {
    "_defaultOrder": 40,
    "_isFastLaunch": false,
    "category": "Memory Optimized",
    "gpuNum": 0,
    "hideHardwareSpecs": false,
    "memoryGiB": 32,
    "name": "ml.r5.xlarge",
    "vcpuNum": 4
   },
   {
    "_defaultOrder": 41,
    "_isFastLaunch": false,
    "category": "Memory Optimized",
    "gpuNum": 0,
    "hideHardwareSpecs": false,
    "memoryGiB": 64,
    "name": "ml.r5.2xlarge",
    "vcpuNum": 8
   },
   {
    "_defaultOrder": 42,
    "_isFastLaunch": false,
    "category": "Memory Optimized",
    "gpuNum": 0,
    "hideHardwareSpecs": false,
    "memoryGiB": 128,
    "name": "ml.r5.4xlarge",
    "vcpuNum": 16
   },
   {
    "_defaultOrder": 43,
    "_isFastLaunch": false,
    "category": "Memory Optimized",
    "gpuNum": 0,
    "hideHardwareSpecs": false,
    "memoryGiB": 256,
    "name": "ml.r5.8xlarge",
    "vcpuNum": 32
   },
   {
    "_defaultOrder": 44,
    "_isFastLaunch": false,
    "category": "Memory Optimized",
    "gpuNum": 0,
    "hideHardwareSpecs": false,
    "memoryGiB": 384,
    "name": "ml.r5.12xlarge",
    "vcpuNum": 48
   },
   {
    "_defaultOrder": 45,
    "_isFastLaunch": false,
    "category": "Memory Optimized",
    "gpuNum": 0,
    "hideHardwareSpecs": false,
    "memoryGiB": 512,
    "name": "ml.r5.16xlarge",
    "vcpuNum": 64
   },
   {
    "_defaultOrder": 46,
    "_isFastLaunch": false,
    "category": "Memory Optimized",
    "gpuNum": 0,
    "hideHardwareSpecs": false,
    "memoryGiB": 768,
    "name": "ml.r5.24xlarge",
    "vcpuNum": 96
   },
   {
    "_defaultOrder": 47,
    "_isFastLaunch": false,
    "category": "Accelerated computing",
    "gpuNum": 1,
    "hideHardwareSpecs": false,
    "memoryGiB": 16,
    "name": "ml.g5.xlarge",
    "vcpuNum": 4
   },
   {
    "_defaultOrder": 48,
    "_isFastLaunch": false,
    "category": "Accelerated computing",
    "gpuNum": 1,
    "hideHardwareSpecs": false,
    "memoryGiB": 32,
    "name": "ml.g5.2xlarge",
    "vcpuNum": 8
   },
   {
    "_defaultOrder": 49,
    "_isFastLaunch": false,
    "category": "Accelerated computing",
    "gpuNum": 1,
    "hideHardwareSpecs": false,
    "memoryGiB": 64,
    "name": "ml.g5.4xlarge",
    "vcpuNum": 16
   },
   {
    "_defaultOrder": 50,
    "_isFastLaunch": false,
    "category": "Accelerated computing",
    "gpuNum": 1,
    "hideHardwareSpecs": false,
    "memoryGiB": 128,
    "name": "ml.g5.8xlarge",
    "vcpuNum": 32
   },
   {
    "_defaultOrder": 51,
    "_isFastLaunch": false,
    "category": "Accelerated computing",
    "gpuNum": 1,
    "hideHardwareSpecs": false,
    "memoryGiB": 256,
    "name": "ml.g5.16xlarge",
    "vcpuNum": 64
   },
   {
    "_defaultOrder": 52,
    "_isFastLaunch": false,
    "category": "Accelerated computing",
    "gpuNum": 4,
    "hideHardwareSpecs": false,
    "memoryGiB": 192,
    "name": "ml.g5.12xlarge",
    "vcpuNum": 48
   },
   {
    "_defaultOrder": 53,
    "_isFastLaunch": false,
    "category": "Accelerated computing",
    "gpuNum": 4,
    "hideHardwareSpecs": false,
    "memoryGiB": 384,
    "name": "ml.g5.24xlarge",
    "vcpuNum": 96
   },
   {
    "_defaultOrder": 54,
    "_isFastLaunch": false,
    "category": "Accelerated computing",
    "gpuNum": 8,
    "hideHardwareSpecs": false,
    "memoryGiB": 768,
    "name": "ml.g5.48xlarge",
    "vcpuNum": 192
   },
   {
    "_defaultOrder": 55,
    "_isFastLaunch": false,
    "category": "Accelerated computing",
    "gpuNum": 8,
    "hideHardwareSpecs": false,
    "memoryGiB": 1152,
    "name": "ml.p4d.24xlarge",
    "vcpuNum": 96
   },
   {
    "_defaultOrder": 56,
    "_isFastLaunch": false,
    "category": "Accelerated computing",
    "gpuNum": 8,
    "hideHardwareSpecs": false,
    "memoryGiB": 1152,
    "name": "ml.p4de.24xlarge",
    "vcpuNum": 96
   },
   {
    "_defaultOrder": 57,
    "_isFastLaunch": false,
    "category": "Accelerated computing",
    "gpuNum": 0,
    "hideHardwareSpecs": false,
    "memoryGiB": 32,
    "name": "ml.trn1.2xlarge",
    "vcpuNum": 8
   },
   {
    "_defaultOrder": 58,
    "_isFastLaunch": false,
    "category": "Accelerated computing",
    "gpuNum": 0,
    "hideHardwareSpecs": false,
    "memoryGiB": 512,
    "name": "ml.trn1.32xlarge",
    "vcpuNum": 128
   },
   {
    "_defaultOrder": 59,
    "_isFastLaunch": false,
    "category": "Accelerated computing",
    "gpuNum": 0,
    "hideHardwareSpecs": false,
    "memoryGiB": 512,
    "name": "ml.trn1n.32xlarge",
    "vcpuNum": 128
   }
  ],
  "instance_type": "ml.t3.medium",
  "kernelspec": {
   "display_name": "Python 3 (Data Science 3.0)",
   "language": "python",
   "name": "python3__SAGEMAKER_INTERNAL__arn:aws:sagemaker:us-east-1:081325390199:image/sagemaker-data-science-310-v1"
  },
  "language_info": {
   "codemirror_mode": {
    "name": "ipython",
    "version": 3
   },
   "file_extension": ".py",
   "mimetype": "text/x-python",
   "name": "python",
   "nbconvert_exporter": "python",
   "pygments_lexer": "ipython3",
   "version": "3.10.6"
  }
 },
 "nbformat": 4,
 "nbformat_minor": 5
}
