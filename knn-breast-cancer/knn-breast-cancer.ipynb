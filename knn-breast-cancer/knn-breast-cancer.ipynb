{
 "cells": [
  {
   "cell_type": "markdown",
   "id": "37832527-c529-41de-bd9b-b16f35bd998a",
   "metadata": {},
   "source": [
    "## Using AWS Sagemaker K-NN to predict Breast Cancer"
   ]
  },
  {
   "cell_type": "markdown",
   "id": "e9f107b5-5484-46d4-9107-55d14c8f8ab0",
   "metadata": {},
   "source": [
    "## Motivation:\n",
    "\n",
    "When starting out with machine learning, K-nearest neighbors is among the first algorithms to study because of its understandable concept. I chose breast cancer as a dataset because it is well documented and available. It is commonly used a toy data set for regression and classification.  Data source from UCI Machine Learning can be found in their __[repository](https://archive.ics.uci.edu/ml/datasets/breast+cancer)__. The contents were adapted after studying [AWS built-in kNN notebook](https://github.com/aws/amazon-sagemaker-examples/blob/main/introduction_to_amazon_algorithms/k_nearest_neighbors_covtype/k_nearest_neighbors_covtype.ipynb ). \n",
    "\n",
    "## Goal: Successfully run k-NN Algorithm with SageMaker"
   ]
  },
  {
   "cell_type": "markdown",
   "id": "62331a1c-c128-4af3-86ba-af45e1ef4e5f",
   "metadata": {},
   "source": [
    "## Objective:\n",
    "\n",
    "1. Down-select Features\n",
    "2. Create kNN model\n",
    "3. Use protobuf\n",
    "4. Create SageMaker estimator\n",
    "5. Make Predictions\n"
   ]
  },
  {
   "cell_type": "markdown",
   "id": "d699ed45-93a2-4d03-9db7-9dd17f52d727",
   "metadata": {},
   "source": [
    "## Intuition: K-nearest neighbors\n",
    "\n",
    "Conceptually, k-NN algorithm plots points on a graph. It keeps track of the class or in our case, if a patient has breast cancer or not. When a new point/sample/patient is provided, their features or measurements are plot and depending on the closest points, a class is assigned.  A picture is worth a thousand words, right? \n",
    "\n",
    "<img src=\"https://upload.wikimedia.org/wikipedia/commons/thumb/e/e7/KnnClassification.svg/330px-KnnClassification.svg.png\" alt=\"k-NN\" />\n",
    "Image Source: https://en.wikipedia.org/wiki/K-nearest_neighbors_algorithm\n",
    "\n",
    "Let's say the red triangles are patients that we know do NOT have breast cancer and the blue square represent patients who are confirmed to have breast cancer. If the green circle is a new point or patient introduced, we measure its distance its closest neighbors. Now depending on how we set it up, determines how we decide the new point. If tell the algorithm that green circle depends on its closest TWO neighbors, then we will assign it as a red triangle or 'no breast cancer'.  If we decide to accept 5 closest neighbors, then the green circle would be assigned as a blue circle and classified as having breast cancer. \n"
   ]
  },
  {
   "cell_type": "code",
   "execution_count": 2,
   "id": "7a1a4b8b-4cdd-4dd3-a167-88a5061648e2",
   "metadata": {},
   "outputs": [],
   "source": [
    "# Import Libraries\n",
    "\n",
    "import boto3\n",
    "import sagemaker\n",
    "import sagemaker.amazon.common as smac\n",
    "import io\n",
    "import os\n",
    "import numpy as np\n",
    "import pandas as pd\n",
    "from sklearn.model_selection import train_test_split\n",
    "from sklearn import preprocessing"
   ]
  },
  {
   "cell_type": "code",
   "execution_count": 3,
   "id": "325ee7b8-7e13-48e5-98b0-2ae25063956f",
   "metadata": {},
   "outputs": [],
   "source": [
    "sm = sagemaker.Session()\n",
    "\n",
    "bucket = sm.default_bucket()\n",
    "prefix = 'breast-cancer'\n",
    "key = \"breast-cancer\""
   ]
  },
  {
   "cell_type": "code",
   "execution_count": 23,
   "id": "0b010691-d423-4bf7-a5ac-8f92d3539d45",
   "metadata": {},
   "outputs": [],
   "source": [
    "# Download raw data from s3 bucket\n",
    "s3 = boto3.client(\"s3\")\n",
    "s3.download_file(bucket, f\"{prefix}/{key}\", f\"{key}.csv\")"
   ]
  },
  {
   "cell_type": "code",
   "execution_count": 4,
   "id": "6d576c2e-cc68-46b4-b6e8-81433199cedf",
   "metadata": {
    "tags": []
   },
   "outputs": [],
   "source": [
    "# if want to read over network, need allow permissions\n",
    "#pd.read_csv('s3://sagemaker-us-east-1-258532878709/breast-cancer/breast-cancer.csv')\n",
    "\n",
    "# if want to read from sagemaker instance locally\n",
    "bc_df = pd.read_csv('breast-cancer.csv')\n",
    "\n",
    "features = bc_df.iloc[:,2:6]\n",
    "target = bc_df['diagnosis']\n"
   ]
  },
  {
   "cell_type": "code",
   "execution_count": 40,
   "id": "c6a881d7-af0e-41ad-9098-82f694f019a6",
   "metadata": {},
   "outputs": [
    {
     "data": {
      "text/html": [
       "<div>\n",
       "<style scoped>\n",
       "    .dataframe tbody tr th:only-of-type {\n",
       "        vertical-align: middle;\n",
       "    }\n",
       "\n",
       "    .dataframe tbody tr th {\n",
       "        vertical-align: top;\n",
       "    }\n",
       "\n",
       "    .dataframe thead th {\n",
       "        text-align: right;\n",
       "    }\n",
       "</style>\n",
       "<table border=\"1\" class=\"dataframe\">\n",
       "  <thead>\n",
       "    <tr style=\"text-align: right;\">\n",
       "      <th></th>\n",
       "      <th>radius_mean</th>\n",
       "      <th>texture_mean</th>\n",
       "      <th>perimeter_mean</th>\n",
       "      <th>area_mean</th>\n",
       "    </tr>\n",
       "  </thead>\n",
       "  <tbody>\n",
       "    <tr>\n",
       "      <th>0</th>\n",
       "      <td>17.99</td>\n",
       "      <td>10.38</td>\n",
       "      <td>122.80</td>\n",
       "      <td>1001.0</td>\n",
       "    </tr>\n",
       "    <tr>\n",
       "      <th>1</th>\n",
       "      <td>20.57</td>\n",
       "      <td>17.77</td>\n",
       "      <td>132.90</td>\n",
       "      <td>1326.0</td>\n",
       "    </tr>\n",
       "    <tr>\n",
       "      <th>2</th>\n",
       "      <td>19.69</td>\n",
       "      <td>21.25</td>\n",
       "      <td>130.00</td>\n",
       "      <td>1203.0</td>\n",
       "    </tr>\n",
       "    <tr>\n",
       "      <th>3</th>\n",
       "      <td>11.42</td>\n",
       "      <td>20.38</td>\n",
       "      <td>77.58</td>\n",
       "      <td>386.1</td>\n",
       "    </tr>\n",
       "    <tr>\n",
       "      <th>4</th>\n",
       "      <td>20.29</td>\n",
       "      <td>14.34</td>\n",
       "      <td>135.10</td>\n",
       "      <td>1297.0</td>\n",
       "    </tr>\n",
       "    <tr>\n",
       "      <th>...</th>\n",
       "      <td>...</td>\n",
       "      <td>...</td>\n",
       "      <td>...</td>\n",
       "      <td>...</td>\n",
       "    </tr>\n",
       "    <tr>\n",
       "      <th>564</th>\n",
       "      <td>21.56</td>\n",
       "      <td>22.39</td>\n",
       "      <td>142.00</td>\n",
       "      <td>1479.0</td>\n",
       "    </tr>\n",
       "    <tr>\n",
       "      <th>565</th>\n",
       "      <td>20.13</td>\n",
       "      <td>28.25</td>\n",
       "      <td>131.20</td>\n",
       "      <td>1261.0</td>\n",
       "    </tr>\n",
       "    <tr>\n",
       "      <th>566</th>\n",
       "      <td>16.60</td>\n",
       "      <td>28.08</td>\n",
       "      <td>108.30</td>\n",
       "      <td>858.1</td>\n",
       "    </tr>\n",
       "    <tr>\n",
       "      <th>567</th>\n",
       "      <td>20.60</td>\n",
       "      <td>29.33</td>\n",
       "      <td>140.10</td>\n",
       "      <td>1265.0</td>\n",
       "    </tr>\n",
       "    <tr>\n",
       "      <th>568</th>\n",
       "      <td>7.76</td>\n",
       "      <td>24.54</td>\n",
       "      <td>47.92</td>\n",
       "      <td>181.0</td>\n",
       "    </tr>\n",
       "  </tbody>\n",
       "</table>\n",
       "<p>569 rows × 4 columns</p>\n",
       "</div>"
      ],
      "text/plain": [
       "     radius_mean  texture_mean  perimeter_mean  area_mean\n",
       "0          17.99         10.38          122.80     1001.0\n",
       "1          20.57         17.77          132.90     1326.0\n",
       "2          19.69         21.25          130.00     1203.0\n",
       "3          11.42         20.38           77.58      386.1\n",
       "4          20.29         14.34          135.10     1297.0\n",
       "..           ...           ...             ...        ...\n",
       "564        21.56         22.39          142.00     1479.0\n",
       "565        20.13         28.25          131.20     1261.0\n",
       "566        16.60         28.08          108.30      858.1\n",
       "567        20.60         29.33          140.10     1265.0\n",
       "568         7.76         24.54           47.92      181.0\n",
       "\n",
       "[569 rows x 4 columns]"
      ]
     },
     "execution_count": 40,
     "metadata": {},
     "output_type": "execute_result"
    }
   ],
   "source": [
    "features "
   ]
  },
  {
   "cell_type": "code",
   "execution_count": 6,
   "id": "a720f7f9-660a-4769-b6b4-5f874bf401cd",
   "metadata": {},
   "outputs": [],
   "source": [
    "# Feature Engineering/Pre-processing\n",
    "\n",
    "le = preprocessing.LabelEncoder()\n",
    "le.fit(['M','B'])\n",
    "\n",
    "target = le.transform(target)      "
   ]
  },
  {
   "cell_type": "code",
   "execution_count": 7,
   "id": "dff3f040-85db-4cd1-9e09-6250327151ed",
   "metadata": {},
   "outputs": [],
   "source": [
    "# Split data into train and test sets\n",
    "X_train, X_test, y_train, y_test = train_test_split(features, target, test_size=0.33, random_state=42)"
   ]
  },
  {
   "cell_type": "code",
   "execution_count": 31,
   "id": "162b9b4e-06d2-43d5-a584-560c4a5f022c",
   "metadata": {
    "tags": []
   },
   "outputs": [
    {
     "data": {
      "text/plain": [
       "array([0, 1, 1, 0, 0, 1, 1, 1, 0, 0, 0, 1, 0, 1, 0, 1, 0, 0, 0, 1, 1, 0,\n",
       "       1, 0, 0, 0, 0, 0, 0, 1, 0, 0, 0, 0, 0, 0, 1, 0, 1, 0, 0, 1, 0, 0,\n",
       "       0, 0, 0, 0, 0, 0, 1, 1, 0, 0, 0, 0, 0, 1, 1, 0, 0, 1, 1, 0, 0, 0,\n",
       "       1, 1, 0, 0, 1, 1, 0, 1, 0, 0, 0, 1, 0, 0, 1, 0, 1, 1, 1, 1, 1, 1,\n",
       "       0, 0, 0, 0, 0, 0, 0, 0, 1, 1, 0, 1, 1, 0, 1, 1, 0, 0, 0, 1, 0, 0,\n",
       "       1, 0, 0, 1, 0, 1, 0, 0, 0, 1, 0, 0, 0, 1, 0, 1, 1, 0, 0, 1, 1, 1,\n",
       "       0, 0, 0, 1, 0, 0, 0, 1, 0, 1, 0, 0, 1, 0, 1, 1, 1, 0, 1, 0, 0, 0,\n",
       "       0, 1, 1, 0, 0, 0, 0, 0, 0, 0, 1, 0, 0, 0, 0, 1, 0, 0, 0, 0, 0, 0,\n",
       "       1, 0, 0, 0, 0, 0, 0, 1, 1, 1, 0, 0])"
      ]
     },
     "execution_count": 31,
     "metadata": {},
     "output_type": "execute_result"
    }
   ],
   "source": [
    "y_test"
   ]
  },
  {
   "cell_type": "code",
   "execution_count": 8,
   "id": "aafb45ce-e7fa-4eb9-a312-896cd3a09d9a",
   "metadata": {},
   "outputs": [
    {
     "data": {
      "text/plain": [
       "(569, 4)"
      ]
     },
     "execution_count": 8,
     "metadata": {},
     "output_type": "execute_result"
    }
   ],
   "source": [
    "features.shape"
   ]
  },
  {
   "cell_type": "markdown",
   "id": "91b96ee3-d76f-498d-9a53-2f77ea38575d",
   "metadata": {},
   "source": [
    "## Create protobuf\n",
    "\n",
    "The Protocol buffers or 'protobuf' is a data format designed by google. It is intended to be inter-operable, serialized, and lightweight. We perform operations to both training and test set. \n",
    "\n",
    "See: https://developers.google.com/protocol-buffers"
   ]
  },
  {
   "cell_type": "code",
   "execution_count": 37,
   "id": "0bf67c21-22d2-41cb-83c9-39760947a272",
   "metadata": {
    "tags": []
   },
   "outputs": [
    {
     "data": {
      "text/plain": [
       "0"
      ]
     },
     "execution_count": 37,
     "metadata": {},
     "output_type": "execute_result"
    }
   ],
   "source": [
    "# Create protobuf for training\n",
    "#x = X_train.to_numpy()\n",
    "\n",
    "buf = io.BytesIO()\n",
    "smac.write_numpy_to_dense_tensor(buf, X_train.to_numpy(), y_train)\n",
    "buf.seek(0)"
   ]
  },
  {
   "cell_type": "code",
   "execution_count": 38,
   "id": "2650b9d2-a3d4-4909-9494-66a402fdeb34",
   "metadata": {
    "tags": []
   },
   "outputs": [
    {
     "name": "stdout",
     "output_type": "stream",
     "text": [
      "uploaded training data location: s3://sagemaker-us-east-1-258532878709/breast-cancer/train/breast-cancer\n"
     ]
    }
   ],
   "source": [
    "# Load to s3\n",
    "\n",
    "boto3.resource(\"s3\").Bucket(bucket).Object(os.path.join(prefix, \"train\", key)).upload_fileobj(buf)\n",
    "s3_train_data = f\"s3://{bucket}/{prefix}/train/{key}\"\n",
    "print(f\"uploaded training data location: {s3_train_data}\")\n",
    "\n"
   ]
  },
  {
   "cell_type": "code",
   "execution_count": 39,
   "id": "2f2b118b-ab73-4ab0-898a-fce74be9afa9",
   "metadata": {},
   "outputs": [
    {
     "name": "stdout",
     "output_type": "stream",
     "text": [
      "uploaded training data location: s3://sagemaker-us-east-1-258532878709/breast-cancer/test/breast-cancer\n"
     ]
    }
   ],
   "source": [
    "# Create protobuf for testing\n",
    "\n",
    "buf = io.BytesIO()\n",
    "smac.write_numpy_to_dense_tensor(buf, X_test.to_numpy(), y_test)\n",
    "buf.seek(0)\n",
    "\n",
    "boto3.resource(\"s3\").Bucket(bucket).Object(os.path.join(prefix, \"test\", key)).upload_fileobj(buf)\n",
    "s3_test_data = f\"s3://{bucket}/{prefix}/test/{key}\"\n",
    "print(f\"uploaded training data location: {s3_test_data}\")\n"
   ]
  },
  {
   "cell_type": "markdown",
   "id": "534c1368-0c4f-4168-be89-32980694060e",
   "metadata": {},
   "source": [
    "## Hyperparameters\n",
    "\n",
    "Hyperparameters are the settings used to run a model. Some parameters affect how conservative the predictions are.  A conservative model can be generalizable to the wild/unseen data and less likely to overfit to the training data set. Hyperparameters are specific to the algorithm. In this use case, we will define feature_dim, k, sample size, and predictor type. \n",
    "\n",
    "Specifics to the hypermeters can be found in the AWS kNN documentation: https://docs.aws.amazon.com/sagemaker/latest/dg/kNN_hyperparameters.html"
   ]
  },
  {
   "cell_type": "code",
   "execution_count": 41,
   "id": "1efd8fb9-cb9e-4046-b6c5-f330269a902e",
   "metadata": {},
   "outputs": [],
   "source": [
    "import matplotlib.pyplot as plt\n",
    "\n",
    "import sagemaker\n",
    "from sagemaker import get_execution_role\n",
    "from sagemaker.serializers import CSVSerializer\n",
    "from sagemaker.deserializers import JSONDeserializer\n",
    "\n",
    "from sagemaker.amazon.amazon_estimator import get_image_uri\n",
    "\n",
    "\n",
    "def trained_estimator_from_hyperparams(s3_train_data, hyperparams, output_path, s3_test_data=None):\n",
    "    \"\"\"\n",
    "    Create an Estimator from the given hyperparams, fit to training data,\n",
    "    and return a deployed predictor\n",
    "\n",
    "    \"\"\"\n",
    "    # set up the estimator\n",
    "    knn = sagemaker.estimator.Estimator(\n",
    "        get_image_uri(boto3.Session().region_name, \"knn\"),\n",
    "        get_execution_role(),\n",
    "        instance_count=1,\n",
    "        instance_type=\"ml.m5.2xlarge\",\n",
    "        output_path=output_path,\n",
    "        sagemaker_session=sagemaker.Session(),\n",
    "    )\n",
    "    knn.set_hyperparameters(**hyperparams)\n",
    "\n",
    "    # train a model. fit_input contains the locations of the train and test data\n",
    "    fit_input = {\"train\": s3_train_data}\n",
    "    if s3_test_data is not None:\n",
    "        fit_input[\"test\"] = s3_test_data\n",
    "    knn.fit(fit_input)\n",
    "    return knn"
   ]
  },
  {
   "attachments": {
    "c1d61cc2-a851-4956-9371-7abdf32bc1c1.png": {
     "image/png": "[encoded data removed]"
    }
   },
   "cell_type": "markdown",
   "id": "52c2fd46-926e-4e97-8235-aa935fcbea99",
   "metadata": {},
   "source": [
    "## Run the Training Job\n",
    "\n",
    "Progress can be checked through the prompt below and you can check via SageMaker console under Training/Training Jobs. The SageMaker SDK offer APIs where you can programmatically  request the status of the training job. See: https://docs.aws.amazon.com/sagemaker/latest/APIReference/API_DescribeTrainingJob.html\n",
    "\n",
    "[image.png](attachment:c1d61cc2-a851-4956-9371-7abdf32bc1c1.png)"
   ]
  },
  {
   "cell_type": "code",
   "execution_count": 42,
   "id": "2f5ff0e4-3b68-4f67-a03a-7b934bdd53e9",
   "metadata": {
    "collapsed": true,
    "jupyter": {
     "outputs_hidden": true
    },
    "tags": []
   },
   "outputs": [
    {
     "name": "stderr",
     "output_type": "stream",
     "text": [
      "The method get_image_uri has been renamed in sagemaker>=2.\n",
      "See: https://sagemaker.readthedocs.io/en/stable/v2.html for details.\n",
      "Defaulting to the only supported framework/algorithm version: 1. Ignoring framework/algorithm version: 1.\n"
     ]
    },
    {
     "name": "stdout",
     "output_type": "stream",
     "text": [
      "2022-09-13 19:02:28 Starting - Starting the training job...\n",
      "2022-09-13 19:02:54 Starting - Preparing the instances for trainingProfilerReport-1663095748: InProgress\n",
      "......\n",
      "2022-09-13 19:03:55 Downloading - Downloading input data...\n",
      "2022-09-13 19:04:14 Training - Downloading the training image..................\n",
      "2022-09-13 19:07:26 Training - Training image download completed. Training in progress..\u001b[34mDocker entrypoint called with argument(s): train\u001b[0m\n",
      "\u001b[34mRunning default environment configuration script\u001b[0m\n",
      "\u001b[34m[09/13/2022 19:07:28 INFO 140118698051392] Reading default configuration from /opt/amazon/lib/python3.7/site-packages/algorithm/resources/default-conf.json: {'_kvstore': 'dist_async', '_log_level': 'info', '_num_gpus': 'auto', '_num_kv_servers': '1', '_tuning_objective_metric': '', '_faiss_index_nprobe': '5', 'epochs': '1', 'feature_dim': 'auto', 'faiss_index_ivf_nlists': 'auto', 'index_metric': 'L2', 'index_type': 'faiss.Flat', 'mini_batch_size': '5000', '_enable_profiler': 'false'}\u001b[0m\n",
      "\u001b[34m[09/13/2022 19:07:28 INFO 140118698051392] Merging with provided configuration from /opt/ml/input/config/hyperparameters.json: {'feature_dim': '4', 'k': '2', 'predictor_type': 'classifier', 'sample_size': '100'}\u001b[0m\n",
      "\u001b[34m[09/13/2022 19:07:28 INFO 140118698051392] Final configuration: {'_kvstore': 'dist_async', '_log_level': 'info', '_num_gpus': 'auto', '_num_kv_servers': '1', '_tuning_objective_metric': '', '_faiss_index_nprobe': '5', 'epochs': '1', 'feature_dim': '4', 'faiss_index_ivf_nlists': 'auto', 'index_metric': 'L2', 'index_type': 'faiss.Flat', 'mini_batch_size': '5000', '_enable_profiler': 'false', 'k': '2', 'predictor_type': 'classifier', 'sample_size': '100'}\u001b[0m\n",
      "\u001b[34m[09/13/2022 19:07:33 WARNING 140118698051392] Loggers have already been setup.\u001b[0m\n",
      "\u001b[34m[09/13/2022 19:07:33 INFO 140118698051392] Final configuration: {'_kvstore': 'dist_async', '_log_level': 'info', '_num_gpus': 'auto', '_num_kv_servers': '1', '_tuning_objective_metric': '', '_faiss_index_nprobe': '5', 'epochs': '1', 'feature_dim': '4', 'faiss_index_ivf_nlists': 'auto', 'index_metric': 'L2', 'index_type': 'faiss.Flat', 'mini_batch_size': '5000', '_enable_profiler': 'false', 'k': '2', 'predictor_type': 'classifier', 'sample_size': '100'}\u001b[0m\n",
      "\u001b[34m[09/13/2022 19:07:33 WARNING 140118698051392] Loggers have already been setup.\u001b[0m\n",
      "\u001b[34m[09/13/2022 19:07:33 INFO 140118698051392] Launching parameter server for role scheduler\u001b[0m\n",
      "\u001b[34m[09/13/2022 19:07:33 INFO 140118698051392] {'ENVROOT': '/opt/amazon', 'PROTOCOL_BUFFERS_PYTHON_IMPLEMENTATION': 'cpp', 'HOSTNAME': 'ip-10-2-221-233.ec2.internal', 'TRAINING_JOB_NAME': 'knn-2022-09-13-19-02-28-047', 'NVIDIA_REQUIRE_CUDA': 'cuda>=9.0', 'TRAINING_JOB_ARN': 'arn:aws:sagemaker:us-east-1:258532878709:training-job/knn-2022-09-13-19-02-28-047', 'AWS_CONTAINER_CREDENTIALS_RELATIVE_URI': '/v2/credentials/proxy-571fdd14b99054b19bebfedcda3eb4e5033019e55d85d2671e7feb18fdf74413-customer', 'CANONICAL_ENVROOT': '/opt/amazon', 'PYTHONUNBUFFERED': 'TRUE', 'NVIDIA_VISIBLE_DEVICES': 'all', 'LD_LIBRARY_PATH': '/opt/amazon/lib/python3.7/site-packages/cv2/../../../../lib:/usr/local/nvidia/lib64:/opt/amazon/lib', 'NVIDIA_DRIVER_CAPABILITIES': 'compute,utility', 'PATH': '/opt/amazon/bin:/usr/local/nvidia/bin:/usr/local/sbin:/usr/local/bin:/usr/sbin:/usr/bin:/sbin:/bin', 'PWD': '/', 'LANG': 'en_US.utf8', 'AWS_REGION': 'us-east-1', 'SAGEMAKER_METRICS_DIRECTORY': '/opt/ml/output/metrics/sagemaker', 'HOME': '/root', 'SHLVL': '1', 'PROTOCOL_BUFFERS_PYTHON_IMPLEMENTATION_VERSION': '2', 'OMP_NUM_THREADS': '4', 'DMLC_INTERFACE': 'eth0', 'SAGEMAKER_HTTP_PORT': '8080', 'SAGEMAKER_DATA_PATH': '/opt/ml', 'KMP_DUPLICATE_LIB_OK': 'True', 'KMP_INIT_AT_FORK': 'FALSE'}\u001b[0m\n",
      "\u001b[34m[09/13/2022 19:07:33 INFO 140118698051392] envs={'ENVROOT': '/opt/amazon', 'PROTOCOL_BUFFERS_PYTHON_IMPLEMENTATION': 'cpp', 'HOSTNAME': 'ip-10-2-221-233.ec2.internal', 'TRAINING_JOB_NAME': 'knn-2022-09-13-19-02-28-047', 'NVIDIA_REQUIRE_CUDA': 'cuda>=9.0', 'TRAINING_JOB_ARN': 'arn:aws:sagemaker:us-east-1:258532878709:training-job/knn-2022-09-13-19-02-28-047', 'AWS_CONTAINER_CREDENTIALS_RELATIVE_URI': '/v2/credentials/proxy-571fdd14b99054b19bebfedcda3eb4e5033019e55d85d2671e7feb18fdf74413-customer', 'CANONICAL_ENVROOT': '/opt/amazon', 'PYTHONUNBUFFERED': 'TRUE', 'NVIDIA_VISIBLE_DEVICES': 'all', 'LD_LIBRARY_PATH': '/opt/amazon/lib/python3.7/site-packages/cv2/../../../../lib:/usr/local/nvidia/lib64:/opt/amazon/lib', 'NVIDIA_DRIVER_CAPABILITIES': 'compute,utility', 'PATH': '/opt/amazon/bin:/usr/local/nvidia/bin:/usr/local/sbin:/usr/local/bin:/usr/sbin:/usr/bin:/sbin:/bin', 'PWD': '/', 'LANG': 'en_US.utf8', 'AWS_REGION': 'us-east-1', 'SAGEMAKER_METRICS_DIRECTORY': '/opt/ml/output/metrics/sagemaker', 'HOME': '/root', 'SHLVL': '1', 'PROTOCOL_BUFFERS_PYTHON_IMPLEMENTATION_VERSION': '2', 'OMP_NUM_THREADS': '4', 'DMLC_INTERFACE': 'eth0', 'SAGEMAKER_HTTP_PORT': '8080', 'SAGEMAKER_DATA_PATH': '/opt/ml', 'KMP_DUPLICATE_LIB_OK': 'True', 'KMP_INIT_AT_FORK': 'FALSE', 'DMLC_ROLE': 'scheduler', 'DMLC_PS_ROOT_URI': '10.2.221.233', 'DMLC_PS_ROOT_PORT': '9000', 'DMLC_NUM_SERVER': '1', 'DMLC_NUM_WORKER': '1'}\u001b[0m\n",
      "\u001b[34m[09/13/2022 19:07:33 INFO 140118698051392] Launching parameter server for role server\u001b[0m\n",
      "\u001b[34m[09/13/2022 19:07:33 INFO 140118698051392] {'ENVROOT': '/opt/amazon', 'PROTOCOL_BUFFERS_PYTHON_IMPLEMENTATION': 'cpp', 'HOSTNAME': 'ip-10-2-221-233.ec2.internal', 'TRAINING_JOB_NAME': 'knn-2022-09-13-19-02-28-047', 'NVIDIA_REQUIRE_CUDA': 'cuda>=9.0', 'TRAINING_JOB_ARN': 'arn:aws:sagemaker:us-east-1:258532878709:training-job/knn-2022-09-13-19-02-28-047', 'AWS_CONTAINER_CREDENTIALS_RELATIVE_URI': '/v2/credentials/proxy-571fdd14b99054b19bebfedcda3eb4e5033019e55d85d2671e7feb18fdf74413-customer', 'CANONICAL_ENVROOT': '/opt/amazon', 'PYTHONUNBUFFERED': 'TRUE', 'NVIDIA_VISIBLE_DEVICES': 'all', 'LD_LIBRARY_PATH': '/opt/amazon/lib/python3.7/site-packages/cv2/../../../../lib:/usr/local/nvidia/lib64:/opt/amazon/lib', 'NVIDIA_DRIVER_CAPABILITIES': 'compute,utility', 'PATH': '/opt/amazon/bin:/usr/local/nvidia/bin:/usr/local/sbin:/usr/local/bin:/usr/sbin:/usr/bin:/sbin:/bin', 'PWD': '/', 'LANG': 'en_US.utf8', 'AWS_REGION': 'us-east-1', 'SAGEMAKER_METRICS_DIRECTORY': '/opt/ml/output/metrics/sagemaker', 'HOME': '/root', 'SHLVL': '1', 'PROTOCOL_BUFFERS_PYTHON_IMPLEMENTATION_VERSION': '2', 'OMP_NUM_THREADS': '4', 'DMLC_INTERFACE': 'eth0', 'SAGEMAKER_HTTP_PORT': '8080', 'SAGEMAKER_DATA_PATH': '/opt/ml', 'KMP_DUPLICATE_LIB_OK': 'True', 'KMP_INIT_AT_FORK': 'FALSE'}\u001b[0m\n",
      "\u001b[34m[09/13/2022 19:07:33 INFO 140118698051392] envs={'ENVROOT': '/opt/amazon', 'PROTOCOL_BUFFERS_PYTHON_IMPLEMENTATION': 'cpp', 'HOSTNAME': 'ip-10-2-221-233.ec2.internal', 'TRAINING_JOB_NAME': 'knn-2022-09-13-19-02-28-047', 'NVIDIA_REQUIRE_CUDA': 'cuda>=9.0', 'TRAINING_JOB_ARN': 'arn:aws:sagemaker:us-east-1:258532878709:training-job/knn-2022-09-13-19-02-28-047', 'AWS_CONTAINER_CREDENTIALS_RELATIVE_URI': '/v2/credentials/proxy-571fdd14b99054b19bebfedcda3eb4e5033019e55d85d2671e7feb18fdf74413-customer', 'CANONICAL_ENVROOT': '/opt/amazon', 'PYTHONUNBUFFERED': 'TRUE', 'NVIDIA_VISIBLE_DEVICES': 'all', 'LD_LIBRARY_PATH': '/opt/amazon/lib/python3.7/site-packages/cv2/../../../../lib:/usr/local/nvidia/lib64:/opt/amazon/lib', 'NVIDIA_DRIVER_CAPABILITIES': 'compute,utility', 'PATH': '/opt/amazon/bin:/usr/local/nvidia/bin:/usr/local/sbin:/usr/local/bin:/usr/sbin:/usr/bin:/sbin:/bin', 'PWD': '/', 'LANG': 'en_US.utf8', 'AWS_REGION': 'us-east-1', 'SAGEMAKER_METRICS_DIRECTORY': '/opt/ml/output/metrics/sagemaker', 'HOME': '/root', 'SHLVL': '1', 'PROTOCOL_BUFFERS_PYTHON_IMPLEMENTATION_VERSION': '2', 'OMP_NUM_THREADS': '4', 'DMLC_INTERFACE': 'eth0', 'SAGEMAKER_HTTP_PORT': '8080', 'SAGEMAKER_DATA_PATH': '/opt/ml', 'KMP_DUPLICATE_LIB_OK': 'True', 'KMP_INIT_AT_FORK': 'FALSE', 'DMLC_ROLE': 'server', 'DMLC_PS_ROOT_URI': '10.2.221.233', 'DMLC_PS_ROOT_PORT': '9000', 'DMLC_NUM_SERVER': '1', 'DMLC_NUM_WORKER': '1'}\u001b[0m\n",
      "\u001b[34m[09/13/2022 19:07:33 INFO 140118698051392] Environment: {'ENVROOT': '/opt/amazon', 'PROTOCOL_BUFFERS_PYTHON_IMPLEMENTATION': 'cpp', 'HOSTNAME': 'ip-10-2-221-233.ec2.internal', 'TRAINING_JOB_NAME': 'knn-2022-09-13-19-02-28-047', 'NVIDIA_REQUIRE_CUDA': 'cuda>=9.0', 'TRAINING_JOB_ARN': 'arn:aws:sagemaker:us-east-1:258532878709:training-job/knn-2022-09-13-19-02-28-047', 'AWS_CONTAINER_CREDENTIALS_RELATIVE_URI': '/v2/credentials/proxy-571fdd14b99054b19bebfedcda3eb4e5033019e55d85d2671e7feb18fdf74413-customer', 'CANONICAL_ENVROOT': '/opt/amazon', 'PYTHONUNBUFFERED': 'TRUE', 'NVIDIA_VISIBLE_DEVICES': 'all', 'LD_LIBRARY_PATH': '/opt/amazon/lib/python3.7/site-packages/cv2/../../../../lib:/usr/local/nvidia/lib64:/opt/amazon/lib', 'NVIDIA_DRIVER_CAPABILITIES': 'compute,utility', 'PATH': '/opt/amazon/bin:/usr/local/nvidia/bin:/usr/local/sbin:/usr/local/bin:/usr/sbin:/usr/bin:/sbin:/bin', 'PWD': '/', 'LANG': 'en_US.utf8', 'AWS_REGION': 'us-east-1', 'SAGEMAKER_METRICS_DIRECTORY': '/opt/ml/output/metrics/sagemaker', 'HOME': '/root', 'SHLVL': '1', 'PROTOCOL_BUFFERS_PYTHON_IMPLEMENTATION_VERSION': '2', 'OMP_NUM_THREADS': '4', 'DMLC_INTERFACE': 'eth0', 'SAGEMAKER_HTTP_PORT': '8080', 'SAGEMAKER_DATA_PATH': '/opt/ml', 'KMP_DUPLICATE_LIB_OK': 'True', 'KMP_INIT_AT_FORK': 'FALSE', 'DMLC_ROLE': 'worker', 'DMLC_PS_ROOT_URI': '10.2.221.233', 'DMLC_PS_ROOT_PORT': '9000', 'DMLC_NUM_SERVER': '1', 'DMLC_NUM_WORKER': '1'}\u001b[0m\n",
      "\u001b[34mProcess 39 is a shell:scheduler.\u001b[0m\n",
      "\u001b[34mProcess 49 is a shell:server.\u001b[0m\n",
      "\u001b[34mProcess 1 is a worker.\u001b[0m\n",
      "\u001b[34m[09/13/2022 19:07:33 INFO 140118698051392] Using default worker.\u001b[0m\n",
      "\u001b[34m[09/13/2022 19:07:33 INFO 140118698051392] Loading faiss with AVX2 support.\u001b[0m\n",
      "\u001b[34m[09/13/2022 19:07:33 INFO 140118698051392] Successfully loaded faiss with AVX2 support.\u001b[0m\n",
      "\u001b[34m[09/13/2022 19:07:34 INFO 140118698051392] Checkpoint loading and saving are disabled.\u001b[0m\n",
      "\u001b[34m[2022-09-13 19:07:34.208] [tensorio] [warning] TensorIO is already initialized; ignoring the initialization routine.\u001b[0m\n",
      "\u001b[34m[09/13/2022 19:07:34 INFO 140118698051392] nvidia-smi: took 0.033 seconds to run.\u001b[0m\n",
      "\u001b[34m[09/13/2022 19:07:34 INFO 140118698051392] nvidia-smi identified 0 GPUs.\u001b[0m\n",
      "\u001b[34m[09/13/2022 19:07:34 INFO 140118698051392] Create Store: dist_async\u001b[0m\n",
      "\u001b[34m[19:07:34] ../src/base.cc:47: Please install cuda driver for GPU use.  No cuda driver detected.\u001b[0m\n",
      "\u001b[34m[19:07:34] ../src/base.cc:47: Please install cuda driver for GPU use.  No cuda driver detected.\u001b[0m\n",
      "\u001b[34m[19:07:34] ../src/base.cc:47: Please install cuda driver for GPU use.  No cuda driver detected.\u001b[0m\n",
      "\u001b[34m[09/13/2022 19:07:35 ERROR 140118698051392] nvidia-smi: failed to run (127): b'/bin/sh: nvidia-smi: command not found'/\u001b[0m\n",
      "\u001b[34m[09/13/2022 19:07:35 WARNING 140118698051392] Could not determine free memory in MB for GPU device with ID (0).\u001b[0m\n",
      "\u001b[34m[09/13/2022 19:07:35 INFO 140118698051392] Using per-worker sample size = 100 (Available virtual memory = 31594434560 bytes, GPU free memory = 0 bytes, number of workers = 1). If an out-of-memory error occurs, choose a larger instance type, use dimension reduction, decrease sample_size, and/or decrease mini_batch_size.\u001b[0m\n",
      "\u001b[34m#metrics {\"StartTime\": 1663096055.0320153, \"EndTime\": 1663096055.0320594, \"Dimensions\": {\"Algorithm\": \"AWS/KNN\", \"Host\": \"algo-1\", \"Operation\": \"training\", \"Meta\": \"init_train_data_iter\"}, \"Metrics\": {\"Total Records Seen\": {\"sum\": 0.0, \"count\": 1, \"min\": 0, \"max\": 0}, \"Total Batches Seen\": {\"sum\": 0.0, \"count\": 1, \"min\": 0, \"max\": 0}, \"Max Records Seen Between Resets\": {\"sum\": 0.0, \"count\": 1, \"min\": 0, \"max\": 0}, \"Max Batches Seen Between Resets\": {\"sum\": 0.0, \"count\": 1, \"min\": 0, \"max\": 0}, \"Reset Count\": {\"sum\": 0.0, \"count\": 1, \"min\": 0, \"max\": 0}, \"Number of Records Since Last Reset\": {\"sum\": 0.0, \"count\": 1, \"min\": 0, \"max\": 0}, \"Number of Batches Since Last Reset\": {\"sum\": 0.0, \"count\": 1, \"min\": 0, \"max\": 0}}}\u001b[0m\n",
      "\u001b[34m[2022-09-13 19:07:35.032] [tensorio] [info] epoch_stats={\"data_pipeline\": \"/opt/ml/input/data/train\", \"epoch\": 0, \"duration\": 824, \"num_examples\": 1, \"num_bytes\": 28956}\u001b[0m\n",
      "\u001b[34m[2022-09-13 19:07:35.215] [tensorio] [info] epoch_stats={\"data_pipeline\": \"/opt/ml/input/data/train\", \"epoch\": 1, \"duration\": 183, \"num_examples\": 1, \"num_bytes\": 28956}\u001b[0m\n",
      "\u001b[34m[09/13/2022 19:07:35 INFO 140118698051392] #progress_metric: host=algo-1, completed 100.0 % of epochs\u001b[0m\n",
      "\u001b[34m#metrics {\"StartTime\": 1663096055.0324945, \"EndTime\": 1663096055.2163274, \"Dimensions\": {\"Algorithm\": \"AWS/KNN\", \"Host\": \"algo-1\", \"Operation\": \"training\", \"epoch\": 0, \"Meta\": \"training_data_iter\"}, \"Metrics\": {\"Total Records Seen\": {\"sum\": 381.0, \"count\": 1, \"min\": 381, \"max\": 381}, \"Total Batches Seen\": {\"sum\": 1.0, \"count\": 1, \"min\": 1, \"max\": 1}, \"Max Records Seen Between Resets\": {\"sum\": 381.0, \"count\": 1, \"min\": 381, \"max\": 381}, \"Max Batches Seen Between Resets\": {\"sum\": 1.0, \"count\": 1, \"min\": 1, \"max\": 1}, \"Reset Count\": {\"sum\": 1.0, \"count\": 1, \"min\": 1, \"max\": 1}, \"Number of Records Since Last Reset\": {\"sum\": 381.0, \"count\": 1, \"min\": 381, \"max\": 381}, \"Number of Batches Since Last Reset\": {\"sum\": 1.0, \"count\": 1, \"min\": 1, \"max\": 1}}}\u001b[0m\n",
      "\u001b[34m[09/13/2022 19:07:35 INFO 140118698051392] #throughput_metric: host=algo-1, train throughput=2071.2129123068967 records/second\u001b[0m\n",
      "\u001b[34m[09/13/2022 19:07:35 INFO 140118698051392] Using in-memory reservoir sample from master machine...\u001b[0m\n",
      "\u001b[34m[09/13/2022 19:07:35 INFO 140118698051392] ...Got reservoir sample from algo-1: data=(100, 4), labels=(100,), NaNs=0\u001b[0m\n",
      "\u001b[34m[09/13/2022 19:07:35 INFO 140118698051392] Training index...\u001b[0m\n",
      "\u001b[34m[09/13/2022 19:07:35 INFO 140118698051392] ...Finished training index in 0 second(s)\u001b[0m\n",
      "\u001b[34m[09/13/2022 19:07:35 INFO 140118698051392] Adding data to index...\u001b[0m\n",
      "\u001b[34m[09/13/2022 19:07:35 INFO 140118698051392] ...Finished adding data to index in 0 second(s)\u001b[0m\n",
      "\u001b[34m#metrics {\"StartTime\": 1663096054.2070098, \"EndTime\": 1663096055.246356, \"Dimensions\": {\"Algorithm\": \"AWS/KNN\", \"Host\": \"algo-1\", \"Operation\": \"training\"}, \"Metrics\": {\"initialize.time\": {\"sum\": 822.5429058074951, \"count\": 1, \"min\": 822.5429058074951, \"max\": 822.5429058074951}, \"epochs\": {\"sum\": 1.0, \"count\": 1, \"min\": 1, \"max\": 1}, \"update.time\": {\"sum\": 183.52580070495605, \"count\": 1, \"min\": 183.52580070495605, \"max\": 183.52580070495605}, \"finalize.time\": {\"sum\": 21.660804748535156, \"count\": 1, \"min\": 21.660804748535156, \"max\": 21.660804748535156}, \"model.serialize.time\": {\"sum\": 8.006811141967773, \"count\": 1, \"min\": 8.006811141967773, \"max\": 8.006811141967773}}}\u001b[0m\n",
      "\u001b[34m[09/13/2022 19:07:35 INFO 140118698051392] Searching index...\u001b[0m\n",
      "\u001b[34m[09/13/2022 19:07:35 INFO 140118698051392] ...Done searching index in 0 second(s)\u001b[0m\n",
      "\u001b[34m[2022-09-13 19:07:35.286] [tensorio] [info] epoch_stats={\"data_pipeline\": \"/opt/ml/input/data/test\", \"epoch\": 0, \"duration\": 1077, \"num_examples\": 1, \"num_bytes\": 14288}\u001b[0m\n",
      "\u001b[34m#metrics {\"StartTime\": 1663096055.2469914, \"EndTime\": 1663096055.2884953, \"Dimensions\": {\"Algorithm\": \"AWS/KNN\", \"Host\": \"algo-1\", \"Operation\": \"training\", \"Meta\": \"test_data_iter\"}, \"Metrics\": {\"Total Records Seen\": {\"sum\": 188.0, \"count\": 1, \"min\": 188, \"max\": 188}, \"Total Batches Seen\": {\"sum\": 1.0, \"count\": 1, \"min\": 1, \"max\": 1}, \"Max Records Seen Between Resets\": {\"sum\": 188.0, \"count\": 1, \"min\": 188, \"max\": 188}, \"Max Batches Seen Between Resets\": {\"sum\": 1.0, \"count\": 1, \"min\": 1, \"max\": 1}, \"Reset Count\": {\"sum\": 0.0, \"count\": 1, \"min\": 0, \"max\": 0}, \"Number of Records Since Last Reset\": {\"sum\": 188.0, \"count\": 1, \"min\": 188, \"max\": 188}, \"Number of Batches Since Last Reset\": {\"sum\": 1.0, \"count\": 1, \"min\": 1, \"max\": 1}}}\u001b[0m\n",
      "\u001b[34m[09/13/2022 19:07:35 INFO 140118698051392] #test_score (algo-1) : ('accuracy', 0.8829787234042553)\u001b[0m\n",
      "\u001b[34m[09/13/2022 19:07:35 INFO 140118698051392] #test_score (algo-1) : ('binary_f_1.000', 0.8166666666666667)\u001b[0m\n",
      "\u001b[34m[09/13/2022 19:07:35 INFO 140118698051392] #test_score (algo-1) : ('roc_auc_score', 0.8491427161712102)\u001b[0m\n",
      "\u001b[34m[09/13/2022 19:07:35 INFO 140118698051392] #quality_metric: host=algo-1, test accuracy <score>=0.8829787234042553\u001b[0m\n",
      "\u001b[34m[09/13/2022 19:07:35 INFO 140118698051392] #quality_metric: host=algo-1, test binary_f_1.000 <score>=0.8166666666666667\u001b[0m\n",
      "\u001b[34m[09/13/2022 19:07:35 INFO 140118698051392] #quality_metric: host=algo-1, test roc_auc_score <score>=0.8491427161712102\u001b[0m\n",
      "\u001b[34m#metrics {\"StartTime\": 1663096055.2464716, \"EndTime\": 1663096055.289173, \"Dimensions\": {\"Algorithm\": \"AWS/KNN\", \"Host\": \"algo-1\", \"Operation\": \"training\"}, \"Metrics\": {\"setuptime\": {\"sum\": 19.176483154296875, \"count\": 1, \"min\": 19.176483154296875, \"max\": 19.176483154296875}, \"totaltime\": {\"sum\": 1722.5465774536133, \"count\": 1, \"min\": 1722.5465774536133, \"max\": 1722.5465774536133}}}\u001b[0m\n",
      "\n",
      "2022-09-13 19:07:55 Uploading - Uploading generated training model\n",
      "2022-09-13 19:07:55 Completed - Training job completed\n",
      "Training seconds: 237\n",
      "Billable seconds: 237\n"
     ]
    }
   ],
   "source": [
    "hyperparams = {\"feature_dim\": 4, \"k\": 2, \"sample_size\": 100, \"predictor_type\": \"classifier\"}\n",
    "output_path = f\"s3://{bucket}/{prefix}/default_example/output\"\n",
    "knn_estimator = trained_estimator_from_hyperparams(\n",
    "    s3_train_data, hyperparams, output_path, s3_test_data=s3_test_data\n",
    ")"
   ]
  },
  {
   "cell_type": "markdown",
   "id": "6d0afd53-fda4-459c-acbb-29b5b6980c6a",
   "metadata": {},
   "source": [
    "## Create Endpoint\n",
    "\n",
    "An Endpoint is an instance that host the k-NN created from the training. We define the size of the instance and request the instance via deploy method.  Once it is created, we can send 'inferences' or 'predictions' to the instance and we will get response back depending on how it is configured. In this case, we'll receive text/csv back. But we can consider other options such as json. \n",
    "\n",
    "See https://docs.aws.amazon.com/general/latest/gr/rande.html and https://docs.aws.amazon.com/general/latest/gr/sagemaker.html"
   ]
  },
  {
   "cell_type": "code",
   "execution_count": 43,
   "id": "6b88b397-070c-4115-9901-ff540d6ac883",
   "metadata": {},
   "outputs": [
    {
     "name": "stdout",
     "output_type": "stream",
     "text": [
      "setting up the endpoint..\n"
     ]
    }
   ],
   "source": [
    "import time\n",
    "\n",
    "instance_type = \"ml.m4.xlarge\"\n",
    "model_name = \"knn_%s\" % instance_type\n",
    "endpoint_name = \"knn-ml-m4-xlarge-%s\" % (str(time.time()).replace(\".\", \"-\"))\n",
    "print(\"setting up the endpoint..\")"
   ]
  },
  {
   "cell_type": "code",
   "execution_count": 44,
   "id": "03bb395c-3256-435a-804a-16651d99704b",
   "metadata": {},
   "outputs": [
    {
     "name": "stdout",
     "output_type": "stream",
     "text": [
      "-------------!"
     ]
    }
   ],
   "source": [
    "predictor = knn_estimator.deploy( initial_instance_count = 1 , instance_type = instance_type, endpoint_name = endpoint_name)\n",
    "\n",
    "predictor.serializer = CSVSerializer()\n",
    "predictor.deserializer = JSONDeserializer()\n",
    "\n"
   ]
  },
  {
   "cell_type": "markdown",
   "id": "02e4e9e5-3f56-4989-aa85-28d1a10784d7",
   "metadata": {},
   "source": [
    "## Make Inferences"
   ]
  },
  {
   "cell_type": "code",
   "execution_count": 49,
   "id": "05fc347b-7302-4ec4-8523-27ba7777575e",
   "metadata": {},
   "outputs": [],
   "source": [
    "# Single Prediction:\n",
    "single_pred = X_test.to_numpy()[0]\n",
    "result = predictor.predict(single_pred, initial_args={\"ContentType\": \"text/csv\"})\n",
    "result"
   ]
  },
  {
   "cell_type": "code",
   "execution_count": 57,
   "id": "ebf574be-ba82-467b-8b48-4093274a1c64",
   "metadata": {},
   "outputs": [],
   "source": [
    "# Test on entire set\n",
    "\n",
    "all_results = predictor.predict(X_test.to_numpy(), initial_args={\"ContentType\": \"text/csv\"})\n"
   ]
  },
  {
   "cell_type": "code",
   "execution_count": 8,
   "id": "775ee293-5f6b-4fd5-aba3-0e1cee6c6587",
   "metadata": {},
   "outputs": [
    {
     "data": {
      "text/html": [
       "<div>\n",
       "<style scoped>\n",
       "    .dataframe tbody tr th:only-of-type {\n",
       "        vertical-align: middle;\n",
       "    }\n",
       "\n",
       "    .dataframe tbody tr th {\n",
       "        vertical-align: top;\n",
       "    }\n",
       "\n",
       "    .dataframe thead th {\n",
       "        text-align: right;\n",
       "    }\n",
       "</style>\n",
       "<table border=\"1\" class=\"dataframe\">\n",
       "  <thead>\n",
       "    <tr style=\"text-align: right;\">\n",
       "      <th></th>\n",
       "      <th>radius_mean</th>\n",
       "      <th>texture_mean</th>\n",
       "      <th>perimeter_mean</th>\n",
       "      <th>area_mean</th>\n",
       "    </tr>\n",
       "  </thead>\n",
       "  <tbody>\n",
       "    <tr>\n",
       "      <th>204</th>\n",
       "      <td>12.47</td>\n",
       "      <td>18.60</td>\n",
       "      <td>81.09</td>\n",
       "      <td>481.9</td>\n",
       "    </tr>\n",
       "    <tr>\n",
       "      <th>70</th>\n",
       "      <td>18.94</td>\n",
       "      <td>21.31</td>\n",
       "      <td>123.60</td>\n",
       "      <td>1130.0</td>\n",
       "    </tr>\n",
       "    <tr>\n",
       "      <th>131</th>\n",
       "      <td>15.46</td>\n",
       "      <td>19.48</td>\n",
       "      <td>101.70</td>\n",
       "      <td>748.9</td>\n",
       "    </tr>\n",
       "    <tr>\n",
       "      <th>431</th>\n",
       "      <td>12.40</td>\n",
       "      <td>17.68</td>\n",
       "      <td>81.47</td>\n",
       "      <td>467.8</td>\n",
       "    </tr>\n",
       "    <tr>\n",
       "      <th>540</th>\n",
       "      <td>11.54</td>\n",
       "      <td>14.44</td>\n",
       "      <td>74.65</td>\n",
       "      <td>402.9</td>\n",
       "    </tr>\n",
       "    <tr>\n",
       "      <th>...</th>\n",
       "      <td>...</td>\n",
       "      <td>...</td>\n",
       "      <td>...</td>\n",
       "      <td>...</td>\n",
       "    </tr>\n",
       "    <tr>\n",
       "      <th>141</th>\n",
       "      <td>16.11</td>\n",
       "      <td>18.05</td>\n",
       "      <td>105.10</td>\n",
       "      <td>813.0</td>\n",
       "    </tr>\n",
       "    <tr>\n",
       "      <th>498</th>\n",
       "      <td>18.49</td>\n",
       "      <td>17.52</td>\n",
       "      <td>121.30</td>\n",
       "      <td>1068.0</td>\n",
       "    </tr>\n",
       "    <tr>\n",
       "      <th>7</th>\n",
       "      <td>13.71</td>\n",
       "      <td>20.83</td>\n",
       "      <td>90.20</td>\n",
       "      <td>577.9</td>\n",
       "    </tr>\n",
       "    <tr>\n",
       "      <th>541</th>\n",
       "      <td>14.47</td>\n",
       "      <td>24.99</td>\n",
       "      <td>95.81</td>\n",
       "      <td>656.4</td>\n",
       "    </tr>\n",
       "    <tr>\n",
       "      <th>19</th>\n",
       "      <td>13.54</td>\n",
       "      <td>14.36</td>\n",
       "      <td>87.46</td>\n",
       "      <td>566.3</td>\n",
       "    </tr>\n",
       "  </tbody>\n",
       "</table>\n",
       "<p>188 rows × 4 columns</p>\n",
       "</div>"
      ],
      "text/plain": [
       "     radius_mean  texture_mean  perimeter_mean  area_mean\n",
       "204        12.47         18.60           81.09      481.9\n",
       "70         18.94         21.31          123.60     1130.0\n",
       "131        15.46         19.48          101.70      748.9\n",
       "431        12.40         17.68           81.47      467.8\n",
       "540        11.54         14.44           74.65      402.9\n",
       "..           ...           ...             ...        ...\n",
       "141        16.11         18.05          105.10      813.0\n",
       "498        18.49         17.52          121.30     1068.0\n",
       "7          13.71         20.83           90.20      577.9\n",
       "541        14.47         24.99           95.81      656.4\n",
       "19         13.54         14.36           87.46      566.3\n",
       "\n",
       "[188 rows x 4 columns]"
      ]
     },
     "execution_count": 8,
     "metadata": {},
     "output_type": "execute_result"
    }
   ],
   "source": [
    "# Given these features\n",
    "X_test"
   ]
  },
  {
   "cell_type": "code",
   "execution_count": null,
   "id": "b36ba566-f454-4edb-b0b1-fb1c87b70080",
   "metadata": {},
   "outputs": [],
   "source": [
    "# these are the predicted diagnostics."
   ]
  },
  {
   "cell_type": "code",
   "execution_count": 58,
   "id": "da91aaa3-7a6b-44dd-887e-5af1551011d6",
   "metadata": {
    "collapsed": true,
    "jupyter": {
     "outputs_hidden": true
    },
    "tags": []
   },
   "outputs": [
    {
     "data": {
      "text/plain": [
       "{'predictions': [{'predicted_label': 0.0},\n",
       "  {'predicted_label': 1.0},\n",
       "  {'predicted_label': 1.0},\n",
       "  {'predicted_label': 0.0},\n",
       "  {'predicted_label': 0.0},\n",
       "  {'predicted_label': 1.0},\n",
       "  {'predicted_label': 1.0},\n",
       "  {'predicted_label': 1.0},\n",
       "  {'predicted_label': 0.0},\n",
       "  {'predicted_label': 0.0},\n",
       "  {'predicted_label': 0.0},\n",
       "  {'predicted_label': 1.0},\n",
       "  {'predicted_label': 0.0},\n",
       "  {'predicted_label': 0.0},\n",
       "  {'predicted_label': 0.0},\n",
       "  {'predicted_label': 1.0},\n",
       "  {'predicted_label': 0.0},\n",
       "  {'predicted_label': 0.0},\n",
       "  {'predicted_label': 0.0},\n",
       "  {'predicted_label': 1.0},\n",
       "  {'predicted_label': 0.0},\n",
       "  {'predicted_label': 0.0},\n",
       "  {'predicted_label': 1.0},\n",
       "  {'predicted_label': 0.0},\n",
       "  {'predicted_label': 0.0},\n",
       "  {'predicted_label': 0.0},\n",
       "  {'predicted_label': 0.0},\n",
       "  {'predicted_label': 0.0},\n",
       "  {'predicted_label': 0.0},\n",
       "  {'predicted_label': 1.0},\n",
       "  {'predicted_label': 0.0},\n",
       "  {'predicted_label': 0.0},\n",
       "  {'predicted_label': 0.0},\n",
       "  {'predicted_label': 0.0},\n",
       "  {'predicted_label': 0.0},\n",
       "  {'predicted_label': 0.0},\n",
       "  {'predicted_label': 0.0},\n",
       "  {'predicted_label': 0.0},\n",
       "  {'predicted_label': 1.0},\n",
       "  {'predicted_label': 0.0},\n",
       "  {'predicted_label': 0.0},\n",
       "  {'predicted_label': 1.0},\n",
       "  {'predicted_label': 0.0},\n",
       "  {'predicted_label': 0.0},\n",
       "  {'predicted_label': 0.0},\n",
       "  {'predicted_label': 0.0},\n",
       "  {'predicted_label': 0.0},\n",
       "  {'predicted_label': 0.0},\n",
       "  {'predicted_label': 0.0},\n",
       "  {'predicted_label': 0.0},\n",
       "  {'predicted_label': 1.0},\n",
       "  {'predicted_label': 1.0},\n",
       "  {'predicted_label': 0.0},\n",
       "  {'predicted_label': 0.0},\n",
       "  {'predicted_label': 0.0},\n",
       "  {'predicted_label': 0.0},\n",
       "  {'predicted_label': 0.0},\n",
       "  {'predicted_label': 1.0},\n",
       "  {'predicted_label': 0.0},\n",
       "  {'predicted_label': 0.0},\n",
       "  {'predicted_label': 0.0},\n",
       "  {'predicted_label': 1.0},\n",
       "  {'predicted_label': 1.0},\n",
       "  {'predicted_label': 1.0},\n",
       "  {'predicted_label': 0.0},\n",
       "  {'predicted_label': 0.0},\n",
       "  {'predicted_label': 0.0},\n",
       "  {'predicted_label': 1.0},\n",
       "  {'predicted_label': 0.0},\n",
       "  {'predicted_label': 0.0},\n",
       "  {'predicted_label': 0.0},\n",
       "  {'predicted_label': 0.0},\n",
       "  {'predicted_label': 0.0},\n",
       "  {'predicted_label': 0.0},\n",
       "  {'predicted_label': 0.0},\n",
       "  {'predicted_label': 0.0},\n",
       "  {'predicted_label': 0.0},\n",
       "  {'predicted_label': 0.0},\n",
       "  {'predicted_label': 0.0},\n",
       "  {'predicted_label': 0.0},\n",
       "  {'predicted_label': 1.0},\n",
       "  {'predicted_label': 0.0},\n",
       "  {'predicted_label': 1.0},\n",
       "  {'predicted_label': 1.0},\n",
       "  {'predicted_label': 1.0},\n",
       "  {'predicted_label': 1.0},\n",
       "  {'predicted_label': 0.0},\n",
       "  {'predicted_label': 1.0},\n",
       "  {'predicted_label': 0.0},\n",
       "  {'predicted_label': 0.0},\n",
       "  {'predicted_label': 0.0},\n",
       "  {'predicted_label': 0.0},\n",
       "  {'predicted_label': 0.0},\n",
       "  {'predicted_label': 0.0},\n",
       "  {'predicted_label': 0.0},\n",
       "  {'predicted_label': 0.0},\n",
       "  {'predicted_label': 1.0},\n",
       "  {'predicted_label': 0.0},\n",
       "  {'predicted_label': 0.0},\n",
       "  {'predicted_label': 1.0},\n",
       "  {'predicted_label': 0.0},\n",
       "  {'predicted_label': 0.0},\n",
       "  {'predicted_label': 1.0},\n",
       "  {'predicted_label': 1.0},\n",
       "  {'predicted_label': 0.0},\n",
       "  {'predicted_label': 0.0},\n",
       "  {'predicted_label': 0.0},\n",
       "  {'predicted_label': 1.0},\n",
       "  {'predicted_label': 0.0},\n",
       "  {'predicted_label': 0.0},\n",
       "  {'predicted_label': 0.0},\n",
       "  {'predicted_label': 0.0},\n",
       "  {'predicted_label': 1.0},\n",
       "  {'predicted_label': 1.0},\n",
       "  {'predicted_label': 0.0},\n",
       "  {'predicted_label': 1.0},\n",
       "  {'predicted_label': 0.0},\n",
       "  {'predicted_label': 0.0},\n",
       "  {'predicted_label': 0.0},\n",
       "  {'predicted_label': 0.0},\n",
       "  {'predicted_label': 1.0},\n",
       "  {'predicted_label': 0.0},\n",
       "  {'predicted_label': 0.0},\n",
       "  {'predicted_label': 1.0},\n",
       "  {'predicted_label': 0.0},\n",
       "  {'predicted_label': 1.0},\n",
       "  {'predicted_label': 0.0},\n",
       "  {'predicted_label': 0.0},\n",
       "  {'predicted_label': 0.0},\n",
       "  {'predicted_label': 1.0},\n",
       "  {'predicted_label': 1.0},\n",
       "  {'predicted_label': 1.0},\n",
       "  {'predicted_label': 0.0},\n",
       "  {'predicted_label': 0.0},\n",
       "  {'predicted_label': 1.0},\n",
       "  {'predicted_label': 1.0},\n",
       "  {'predicted_label': 0.0},\n",
       "  {'predicted_label': 0.0},\n",
       "  {'predicted_label': 0.0},\n",
       "  {'predicted_label': 1.0},\n",
       "  {'predicted_label': 0.0},\n",
       "  {'predicted_label': 1.0},\n",
       "  {'predicted_label': 0.0},\n",
       "  {'predicted_label': 0.0},\n",
       "  {'predicted_label': 0.0},\n",
       "  {'predicted_label': 0.0},\n",
       "  {'predicted_label': 1.0},\n",
       "  {'predicted_label': 1.0},\n",
       "  {'predicted_label': 1.0},\n",
       "  {'predicted_label': 0.0},\n",
       "  {'predicted_label': 1.0},\n",
       "  {'predicted_label': 0.0},\n",
       "  {'predicted_label': 0.0},\n",
       "  {'predicted_label': 0.0},\n",
       "  {'predicted_label': 0.0},\n",
       "  {'predicted_label': 1.0},\n",
       "  {'predicted_label': 1.0},\n",
       "  {'predicted_label': 0.0},\n",
       "  {'predicted_label': 0.0},\n",
       "  {'predicted_label': 0.0},\n",
       "  {'predicted_label': 0.0},\n",
       "  {'predicted_label': 0.0},\n",
       "  {'predicted_label': 0.0},\n",
       "  {'predicted_label': 0.0},\n",
       "  {'predicted_label': 1.0},\n",
       "  {'predicted_label': 0.0},\n",
       "  {'predicted_label': 0.0},\n",
       "  {'predicted_label': 0.0},\n",
       "  {'predicted_label': 0.0},\n",
       "  {'predicted_label': 0.0},\n",
       "  {'predicted_label': 0.0},\n",
       "  {'predicted_label': 0.0},\n",
       "  {'predicted_label': 0.0},\n",
       "  {'predicted_label': 0.0},\n",
       "  {'predicted_label': 0.0},\n",
       "  {'predicted_label': 0.0},\n",
       "  {'predicted_label': 1.0},\n",
       "  {'predicted_label': 0.0},\n",
       "  {'predicted_label': 0.0},\n",
       "  {'predicted_label': 0.0},\n",
       "  {'predicted_label': 0.0},\n",
       "  {'predicted_label': 0.0},\n",
       "  {'predicted_label': 0.0},\n",
       "  {'predicted_label': 0.0},\n",
       "  {'predicted_label': 1.0},\n",
       "  {'predicted_label': 1.0},\n",
       "  {'predicted_label': 0.0},\n",
       "  {'predicted_label': 0.0}]}"
      ]
     },
     "execution_count": 58,
     "metadata": {},
     "output_type": "execute_result"
    }
   ],
   "source": [
    "all_results[:10]"
   ]
  },
  {
   "cell_type": "code",
   "execution_count": 59,
   "id": "07d710a1-317c-43af-943a-861a7defdc48",
   "metadata": {},
   "outputs": [],
   "source": [
    "cur_predictions = np.array(\n",
    "        [all_results[\"predictions\"][i][\"predicted_label\"] for i in range(len(all_results[\"predictions\"]))]\n",
    "    )\n",
    "\n",
    "# these are the predicted results in another format\n",
    "cur_predictions"
   ]
  },
  {
   "cell_type": "markdown",
   "id": "8db92d7d-8ef1-4914-85f0-5e946946bf67",
   "metadata": {},
   "source": [
    "## Evaluate the results\n",
    "\n",
    "There are various objective metrics to evaluate the performance of our model.  Accuracy is the commonly understood, but there are other metrics such as recall and precision. If we want to minimize type I errors, then we would want to use precision as an objective metric.  If we want to minimize type II errors, then we want to optimize our model to maximize recall. \n",
    "\n",
    "When comparing the model's prediction against the hold-out test set, the model is accurate 88% of the time."
   ]
  },
  {
   "cell_type": "code",
   "execution_count": 65,
   "id": "b03a02a1-ebf9-44c9-b2d2-166f28f321b7",
   "metadata": {},
   "outputs": [],
   "source": [
    "num_correct = sum(cur_predictions == y_test)\n",
    "accuracy = num_correct / float(len(y_test))"
   ]
  },
  {
   "cell_type": "code",
   "execution_count": 66,
   "id": "95c36046-7237-461e-9434-7282d3c85c7f",
   "metadata": {},
   "outputs": [
    {
     "data": {
      "text/plain": [
       "166"
      ]
     },
     "execution_count": 66,
     "metadata": {},
     "output_type": "execute_result"
    }
   ],
   "source": [
    "num_correct"
   ]
  },
  {
   "cell_type": "code",
   "execution_count": 67,
   "id": "de935f09-1cb0-4ca1-8962-8cc88ab7a1d0",
   "metadata": {},
   "outputs": [
    {
     "data": {
      "text/plain": [
       "0.8829787234042553"
      ]
     },
     "execution_count": 67,
     "metadata": {},
     "output_type": "execute_result"
    }
   ],
   "source": [
    "accuracy "
   ]
  },
  {
   "cell_type": "markdown",
   "id": "4cb361d7-9ad9-407c-a7ee-816f444487db",
   "metadata": {},
   "source": [
    "Once we're done making predictions, we must delete our endpoint. Otherwise, AWS will continue to charge us for using their resources. "
   ]
  },
  {
   "cell_type": "code",
   "execution_count": 68,
   "id": "ac91d521-a784-435f-a683-19ea172c5ea1",
   "metadata": {},
   "outputs": [
    {
     "name": "stdout",
     "output_type": "stream",
     "text": [
      "Deleted knn-ml-m4-xlarge-1663096097-5858493\n"
     ]
    }
   ],
   "source": [
    "def delete_endpoint(predictor):\n",
    "    try:\n",
    "        boto3.client(\"sagemaker\").delete_endpoint(EndpointName=predictor.endpoint_name)\n",
    "        print(f\"Deleted {predictor.endpoint_name}\")\n",
    "    except:\n",
    "        print(f\"Already deleted: {predictor.endpoint_name}\")\n",
    "\n",
    "\n",
    "delete_endpoint(predictor)"
   ]
  },
  {
   "cell_type": "markdown",
   "id": "062e37f2-843a-4308-830d-9fbd64b3babe",
   "metadata": {},
   "source": [
    "## Take Aways\n",
    "\n",
    "I acknowledge there's much to refine in this notebook and they are referenced in the 'looking ahead' portion. The goal is to run k-NN from start to finish in AWS SageMaker. \n",
    "\n",
    "Concepts like protobuf is new to me. However, its capabilities allow a scalable deployment for machine learning applications which coincides with cost-savings when operating. \n",
    "\n",
    "Aside from learning the concept of k-NN and its inputs and parameters, I also had to learn navigating through AWS SageMaker. It is recommended to pursue [AWS Certified Cloud Practitioner](https://aws.amazon.com/certification/certified-cloud-practitioner/) and/or [AWS Certified Solutions Architect - Associate](https://aws.amazon.com/certification/certified-solutions-architect-associate/) to get a basic understanding of terminology and public cloud technology and capabilities.  I know folks may be concerned about vendor-locked in, but the good news is that concepts and technology are similar in the market. I intend to branch out to Azure and GCP, but I would like to expert to at least one first. \n",
    "\n",
    "\n",
    "## Looking ahead: In future versions of this project, I would like to add the following. Open to suggestions.\n",
    "\n",
    "1. Hyperparameter tuning\n",
    "2. k-folds in the training data\n",
    "3. Normalizing the feature set\n",
    "   - in this way, each feature contributes equally. This makes our model more accurate because k-NN is sensitive to distance. \n",
    "4. Visualize distributions among the features\n",
    "5. Evaluate the model with other metrics such as AUC and ROC."
   ]
  },
  {
   "cell_type": "markdown",
   "id": "acc61252-4daf-44fe-a490-72e5e6887658",
   "metadata": {},
   "source": [
    "References:\n",
    "\n",
    "https://docs.aws.amazon.com/sagemaker/latest/dg/kNN_hyperparameters.html\n",
    "\n",
    "https://www.coursera.org/learn/siads542/lecture/MwsUM/k-nearest-neighbors-classification\n"
   ]
  }
 ],
 "metadata": {
  "instance_type": "ml.t3.medium",
  "kernelspec": {
   "display_name": "Python 3 (Data Science)",
   "language": "python",
   "name": "python3__SAGEMAKER_INTERNAL__arn:aws:sagemaker:us-east-1:081325390199:image/datascience-1.0"
  },
  "language_info": {
   "codemirror_mode": {
    "name": "ipython",
    "version": 3
   },
   "file_extension": ".py",
   "mimetype": "text/x-python",
   "name": "python",
   "nbconvert_exporter": "python",
   "pygments_lexer": "ipython3",
   "version": "3.7.10"
  }
 },
 "nbformat": 4,
 "nbformat_minor": 5
}
