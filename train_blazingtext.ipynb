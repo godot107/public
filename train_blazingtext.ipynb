{
 "cells": [
  {
   "cell_type": "code",
   "execution_count": 1,
   "metadata": {},
   "outputs": [],
   "source": [
    "import sagemaker\n",
    "from sagemaker import get_execution_role\n",
    "import json\n",
    "import boto3\n",
    "\n",
    "sess = sagemaker.Session()\n",
    "role = get_execution_role()\n",
    "\n",
    "bucket = \"mastering-ml-aws\"\n",
    "\n",
    "prefix = \"chapter2/blazingtext\"\n"
   ]
  },
  {
   "cell_type": "code",
   "execution_count": 3,
   "metadata": {},
   "outputs": [],
   "source": [
    "from os.path import expanduser\n",
    "\n",
    "SRC_PATH = expanduser(\"~\") + '/SageMaker/mastering-ml-on-aws/chapter2/'\n",
    "\n",
    "with open(SRC_PATH + 'dem.txt', 'r') as file:\n",
    "    dem_text = [\"__label__0 \" + line.strip('\\n') for line in file]\n",
    "\n",
    "with open(SRC_PATH + 'gop.txt', 'r') as file:\n",
    "    gop_text = [\"__label__1 \" + line.strip('\\n') for line in file]\n",
    "    \n",
    "corpus = dem_text + gop_text\n",
    "    \n",
    "from sklearn.model_selection import train_test_split\n",
    "corpus_train, corpus_test = train_test_split(corpus, test_size=0.25, random_state=42)    "
   ]
  },
  {
   "cell_type": "code",
   "execution_count": 7,
   "metadata": {},
   "outputs": [],
   "source": [
    "corpus_train_txt = \"\\n\".join(corpus_train)\n",
    "corpus_test_txt = \"\\n\".join(corpus_test)\n",
    "with open('tweets.train', 'w') as file:\n",
    "    file.write(corpus_train_txt)    \n",
    "with open('tweets.test', 'w') as file:\n",
    "    file.write(corpus_test_txt)    \n"
   ]
  },
  {
   "cell_type": "code",
   "execution_count": 8,
   "metadata": {},
   "outputs": [
    {
     "name": "stdout",
     "output_type": "stream",
     "text": [
      "__label__1 “We are forever grateful for your service.” -@FLOTUS https://t.co/22vFTZguAQ\n",
      "__label__0 RT @CecileRichards: When your strategy relies on fewer people being able to vote, you’re on the wrong side of history. https://t.co/ncthe2W…\n",
      "__label__0 RT @AFLCIO: Scott Walker. Forever a national disg\n"
     ]
    }
   ],
   "source": [
    "print(corpus_train_txt[:300])"
   ]
  },
  {
   "cell_type": "code",
   "execution_count": 10,
   "metadata": {},
   "outputs": [],
   "source": [
    "\n",
    "train_path = prefix + '/train'\n",
    "validation_path = prefix + '/validation'\n",
    "\n",
    "sess.upload_data(path='tweets.train', bucket=bucket, key_prefix=train_path)\n",
    "sess.upload_data(path='tweets.test', bucket=bucket, key_prefix=validation_path)\n",
    "\n",
    "s3_train_data = 's3://{}/{}'.format(bucket, train_path)\n",
    "s3_validation_data = 's3://{}/{}'.format(bucket, validation_path)"
   ]
  },
  {
   "cell_type": "code",
   "execution_count": 11,
   "metadata": {},
   "outputs": [
    {
     "name": "stderr",
     "output_type": "stream",
     "text": [
      "The method get_image_uri has been renamed in sagemaker>=2.\n",
      "See: https://sagemaker.readthedocs.io/en/stable/v2.html for details.\n",
      "Defaulting to the only supported framework/algorithm version: 1. Ignoring framework/algorithm version: latest.\n"
     ]
    }
   ],
   "source": [
    "container = sagemaker.amazon.amazon_estimator.get_image_uri('us-east-1', \"blazingtext\", \"latest\")\n",
    "\n",
    "s3_output_location = 's3://{}/{}/output'.format(bucket, prefix)\n"
   ]
  },
  {
   "cell_type": "code",
   "execution_count": 12,
   "metadata": {},
   "outputs": [
    {
     "name": "stderr",
     "output_type": "stream",
     "text": [
      "train_instance_count has been renamed in sagemaker>=2.\n",
      "See: https://sagemaker.readthedocs.io/en/stable/v2.html for details.\n",
      "train_instance_type has been renamed in sagemaker>=2.\n",
      "See: https://sagemaker.readthedocs.io/en/stable/v2.html for details.\n",
      "train_max_run has been renamed in sagemaker>=2.\n",
      "See: https://sagemaker.readthedocs.io/en/stable/v2.html for details.\n",
      "train_volume_size has been renamed in sagemaker>=2.\n",
      "See: https://sagemaker.readthedocs.io/en/stable/v2.html for details.\n"
     ]
    }
   ],
   "source": [
    "bt_model = sagemaker.estimator.Estimator(container,\n",
    "                                         role, \n",
    "                                         train_instance_count=1, \n",
    "                                         train_instance_type='ml.c4.4xlarge',\n",
    "                                         train_volume_size = 30,\n",
    "                                         train_max_run = 360000,\n",
    "                                         input_mode= 'File',\n",
    "                                         output_path=s3_output_location,\n",
    "                                         sagemaker_session=sess)"
   ]
  },
  {
   "cell_type": "code",
   "execution_count": 13,
   "metadata": {},
   "outputs": [
    {
     "name": "stderr",
     "output_type": "stream",
     "text": [
      "The class sagemaker.session.s3_input has been renamed in sagemaker>=2.\n",
      "See: https://sagemaker.readthedocs.io/en/stable/v2.html for details.\n",
      "The class sagemaker.session.s3_input has been renamed in sagemaker>=2.\n",
      "See: https://sagemaker.readthedocs.io/en/stable/v2.html for details.\n"
     ]
    }
   ],
   "source": [
    "bt_model.set_hyperparameters(mode=\"supervised\",\n",
    "                            epochs=10,\n",
    "                            min_count=3,\n",
    "                            learning_rate=0.05,\n",
    "                            early_stopping=False,\n",
    "                            patience=5,\n",
    "                            min_epochs=5,\n",
    "                            word_ngrams=2)\n",
    "\n",
    "train_data = sagemaker.session.s3_input(s3_train_data, distribution='FullyReplicated', \n",
    "                        content_type='text/plain', s3_data_type='S3Prefix')\n",
    "validation_data = sagemaker.session.s3_input(s3_validation_data, distribution='FullyReplicated', \n",
    "                             content_type='text/plain', s3_data_type='S3Prefix')\n",
    "data_channels = {'train': train_data, 'validation': validation_data}"
   ]
  },
  {
   "cell_type": "code",
   "execution_count": 15,
   "metadata": {},
   "outputs": [
    {
     "name": "stdout",
     "output_type": "stream",
     "text": [
      "2022-02-26 20:01:49 Starting - Starting the training job...\n",
      "2022-02-26 20:02:17 Starting - Preparing the instances for trainingProfilerReport-1645905709: InProgress\n",
      "......\n",
      "2022-02-26 20:03:15 Downloading - Downloading input data...\n",
      "2022-02-26 20:03:43 Training - Training image download completed. Training in progress..\u001b[34mArguments: train\u001b[0m\n",
      "\u001b[34m[02/26/2022 20:03:45 WARNING 140133551605120] Loggers have already been setup.\u001b[0m\n",
      "\u001b[34m[02/26/2022 20:03:45 WARNING 140133551605120] Loggers have already been setup.\u001b[0m\n",
      "\u001b[34m[02/26/2022 20:03:45 INFO 140133551605120] nvidia-smi took: 0.025173664093017578 secs to identify 0 gpus\u001b[0m\n",
      "\u001b[34m[02/26/2022 20:03:45 INFO 140133551605120] Running single machine CPU BlazingText training using supervised mode.\u001b[0m\n",
      "\u001b[34mNumber of CPU sockets found in instance is  1\u001b[0m\n",
      "\u001b[34m[02/26/2022 20:03:45 INFO 140133551605120] Processing /opt/ml/input/data/train/tweets.train . File size: 0.04697608947753906 MB\u001b[0m\n",
      "\u001b[34m[02/26/2022 20:03:45 INFO 140133551605120] Processing /opt/ml/input/data/validation/tweets.test . File size: 0.015285491943359375 MB\u001b[0m\n",
      "\u001b[34mRead 0M words\u001b[0m\n",
      "\u001b[34mNumber of words:  407\u001b[0m\n",
      "\u001b[34m##### Alpha: -0.0002  Progress: 100.46%  Million Words/sec: 0.72 #####\u001b[0m\n",
      "\u001b[34m##### Alpha: 0.0000  Progress: 100.00%  Million Words/sec: 0.72 #####\u001b[0m\n",
      "\u001b[34mTraining finished.\u001b[0m\n",
      "\u001b[34mAverage throughput in Million words/sec: 0.72\u001b[0m\n",
      "\u001b[34mTotal training time in seconds: 0.10\u001b[0m\n",
      "\u001b[34m#train_accuracy: 0.7633\u001b[0m\n",
      "\u001b[34mNumber of train examples: 300\u001b[0m\n",
      "\u001b[34m#validation_accuracy: 0.64\u001b[0m\n",
      "\u001b[34mNumber of validation examples: 100\u001b[0m\n",
      "\n",
      "2022-02-26 20:04:15 Uploading - Uploading generated training model\n",
      "2022-02-26 20:05:35 Completed - Training job completed\n",
      "Training seconds: 137\n",
      "Billable seconds: 137\n"
     ]
    }
   ],
   "source": [
    "bt_model.fit(inputs=data_channels, logs=True)\n"
   ]
  },
  {
   "cell_type": "code",
   "execution_count": 16,
   "metadata": {},
   "outputs": [
    {
     "name": "stdout",
     "output_type": "stream",
     "text": [
      "------!"
     ]
    }
   ],
   "source": [
    "predictor = bt_model.deploy(initial_instance_count = 1,instance_type = 'ml.m4.xlarge')\n"
   ]
  },
  {
   "cell_type": "code",
   "execution_count": 17,
   "metadata": {},
   "outputs": [
    {
     "name": "stdout",
     "output_type": "stream",
     "text": [
      "2022-02-26 20:05:22  739923033 chapter2/blazingtext/output/blazingtext-2022-02-26-20-01-49-653/output/model.tar.gz\n",
      "2022-02-26 20:05:28          0 chapter2/blazingtext/output/blazingtext-2022-02-26-20-01-49-653/profiler-output/framework/training_job_end.ts\n",
      "2022-02-26 20:04:00     457692 chapter2/blazingtext/output/blazingtext-2022-02-26-20-01-49-653/profiler-output/system/incremental/2022022620/1645905780.algo-1.json\n",
      "2022-02-26 20:05:28          0 chapter2/blazingtext/output/blazingtext-2022-02-26-20-01-49-653/profiler-output/system/training_job_end.ts\n",
      "2022-02-26 19:56:19      49258 chapter2/blazingtext/train/tweets.train\n",
      "2022-02-26 19:56:19      16028 chapter2/blazingtext/validation/tweets.test\n"
     ]
    }
   ],
   "source": [
    "!aws s3 ls --recursive s3://mastering-ml-aws/chapter2/blazingtext"
   ]
  },
  {
   "cell_type": "code",
   "execution_count": 23,
   "metadata": {},
   "outputs": [
    {
     "data": {
      "text/plain": [
       "'{\"instances\": [\"\\\\u201cI want to shine a spotlight on the organizations and programs that support children.\\\\u201d -@FLOTUS https://t.co/hvJJQKu01q\", \"\\\\u201cThis new deal will be the most modern, up-to-date, and balanced trade agreement in the history of our country, with the most advanced protections for workers ever developed.\\\\u201d \\\\u2013 President @realDonaldTrump\", \"RT @SenSchumer: I want to be crystal clear on this: A Trump temper tantrum and his more than 20 shutdown threats are not going to change an\\\\u2026\", \"\\\\\"We\\\\u2019re respected again.\\\\\" -@realDonaldTrump https://t.co/qqVXlMKeRf\", \"These disgraceful power grabs have to stop. The people made their voices heard, and Republicans have a duty to listen. https://t.co/laW8sltk9K\", \"Climate change is real. We must act now and protect the world we leave to future generations. https://t.co/6exHaRW9iO\", \"\\\\u201cLet future generations understand the burden and the blessings of freedom. Let them say we stood where duty required us to stand.\\\\u201d -President George H.W. Bush   #Remembering41\", \"RT @TomPerez: Senate Republicans just confirmed a climate denier to regulate our energy grid. Bernard McNamee\\'s industry ties and outright\\\\u2026\", \"Today, First Lady Melania Trump helped sort and box toys for the Marine Corps Reserve Toys for Tots at a military base in Washington, D.C. https://t.co/9CQ9qk4KdG\", \"Democrats won every statewide election in Wisconsin, and now the GOP is attempting to strip away their constitutional powers. This is unacceptable. https://t.co/qtzq6rattd\", \"Democrats delivered two strong, bipartisan options to keep the government open. If Trump rejects these offers, he will be to blame for a shutdown. #TrumpShutdown https://t.co/kLUxP0c6r8\", \"\\\\u201cJob well done, George H.W. Bush.\\\\u201d -President George W. Bush https://t.co/MjjswQvYnr\", \"RT @TomPerez: Republican lawmakers have been engaged in a cynical and hypocritical power grab to overrule the will of the voters.   We cann\\\\u2026\", \"Hoy es el \\\\u00faltimo d\\\\u00eda para dejar un comentario en oposici\\\\u00f3n a la propuesta de carga p\\\\u00fablica al gobierno federal. Si quieres dejar un comentario visita: https://t.co/L5tb2O5klM.\", \"RT @FlaDems: Meet the three Orlando-area women who flipped Florida House seats blue - @AnnaForFlorida, @electgeraldine, @joyforfl \\\\u2611\\\\ufe0f\\\\u2611\\\\ufe0f\\\\u2611\\\\ufe0f ht\\\\u2026\", \"Republicans care more about clinging to power than respecting the will of the people. This is a disgrace to our democracy.  https://t.co/ceNIt8vNwc\", \"\\\\u201cI think what\\'s happening is, right now, the Democrats in the House are being held hostage by the extreme radicals on the left. This isn\\'t mainstream.\\\\u201d -@SteveScalise https://t.co/hL8MSvChnv\", \"RT @TheBushCenter: Statement by President George W. Bush on the death of his father, President George H.W. Bush https://t.co/wDD0vnlN8U htt\\\\u2026\", \"\\\\u201cThe President is committed to protecting every single American citizen.\\\\u201d -@PressSec https://t.co/diXzsxCAlE\", \"RT @realDonaldTrump: Just signed one of the most important, and largest, Trade Deals in U.S. and World History. The United States, Mexico a\\\\u2026\", \"Don\\'t know what to get for the special Democrats in your life? We\\'ve got you covered! Go to https://t.co/Vpj2TFefjU &amp; find the perfect union-printed, American-made gift for your loved ones this holiday season.   Order by Dec. 11, we guarantee you\\'ll get your order by Dec. 24. https://t.co/rEggGrrhkt\", \"This cannot be who we are as a country. We need to find out what happened and ensure it never happens again. https://t.co/RiY7sjMfJK\", \"\\\\u201cIn short, this is a model agreement that changes the trade landscape forever and this is an agreement that first and foremost benefits working people.\\\\u201d -@realDonaldTrump https://t.co/XjhjRycSlI\", \"\\\\u201cThis Hanukkah, my family and I are enjoying immense peace of mind from knowing that Donald Trump sits in the White House.\\\\u201d \\\\u2013 @michaelglassner  https://t.co/ZBAfxmycXF\", \"This ruling is the culmination of Republicans\\\\u2019 concerted efforts to dismantle the Affordable Care Act. https://t.co/Z27YLMk6x2\", \"With nearly 100 campaign appearances during the 2018 election cycle, the Trump family delivered big for GOP candidates across the country.    #MAGA https://t.co/Al3dSmhdlu\", \"Let\\'s go vote, Georgia! https://t.co/W6HPXvv2RS\", \"RT @realDonaldTrump: I am pleased to announce that Mick Mulvaney, Director of the Office of Management &amp; Budget, will be named Acting White\\\\u2026\", \"RT @FLOTUS: We are off to visit some of our brave men &amp; women in uniform today &amp; thank them for their service.  I\\\\u2019ll be visiting Joint Base\\\\u2026\", \"Last month, Americans across the country elected Democrats who stand for their values. Now, Republicans want to attack our democracy and take their constitutional powers away. https://t.co/4xy7c6T8cC\", \".@realDonaldTrump \\\\u2014 and America \\\\u2014 is winning on trade! https://t.co/PfFyLfQmgP\", \"RT @IlhanMN: The people in this caravan are humans.   Our political divides stop some from seeing that. Stop people from seeing their own f\\\\u2026\", \"\\\\u201cThe President is fighting to do what the American people want, which is secure the border, build the wall, and keep our country safe.\\\\u201d -@SenTedCruz https://t.co/FwWjdgi6Uw\", \"RT @CNN: Republican lawmakers are engaged in \\\\\"a profoundly troubling assault on the very foundations of our democracy,\\\\\" writes @TomPerez fo\\\\u2026\", \"RT @Paduch: Thank you Don!  I\\\\u2019m honored to be back of the campaign for @realDonaldTrump . #MAGA https://t.co/nbdAjLtqRf\", \"Don\\'t wait. #GetCovered today. https://t.co/ZL9f9NB8gM\", \"RT @WisDems: \\\\u201cHello, my name is ________.  I\\\\u2019m urging you to oppose any legislation that limits the powers of Governor-elect Evers, restric\\\\u2026\", \"RT @GOPChairwoman: Socialists never talk about how to pay for their plans because it\\'d expose how radical they are.  The only fact she gets\\\\u2026\", \"RT @JessicaPost: .@TheDLCC 2017-2018:  393 state leg seats flipped 8 new Dem Majorities 7 new Dem trifectas 2,911 Democrats elected 1,173 D\\\\u2026\", \"Your vote made this happen. https://t.co/He7IpZxP7l\", \"George H.W. Bush: patriot, public servant, and President of the United States.    Rest in Peace, 41. https://t.co/lU0I3MXR6V\", \"Must read \\\\ud83d\\\\udcd6: \\\\u201cTrump is not willing to put his money where his mouth is\\\\u2026 Basically, since he\\\\u2019s been in office, it has been an assault on good-paying jobs. What he\\\\u2019s doing is not translating into anything good for middle-class America.\\\\u201d https://t.co/zuGHZFw4qv\", \"RT @WhipHoyer: Once again, wage growth failed to break out, making it even harder for these hard working Americans to make ends meet, save\\\\u2026\", \"1\\\\u20e3 day left to #GetCovered.   RT to get your friends and family insured. Go to https://t.co/ip6DFYGvx9 by December 15. https://t.co/oyWixLBPwW\", \"Thousands of families across the country would suffer under new rules proposed by the Trump administration.  https://t.co/lg1NfQ9tAv\", \"\\\\u201cWe want to make sure we can secure America\\'s border. President @realDonaldTrump has laid out a very concrete plan that makes a lot of sense to get this done.\\\\u201d -@SteveScalise https://t.co/86DuRvojDd\", \"Congratulations to @CheriBustos! \\\\ud83c\\\\udf89 Your fearless leadership will help elect even more Democrats in the coming election cycle. https://t.co/N0TDBu2AS8\", \"RT @SenSchumer: Thomas Farr has spent his long legal career working against the rights of citizens to vote and the right of workers to orga\\\\u2026\", \"RT @HouseDemocrats: Charlotte Daniel Rachel Olivia Josephine Ana Dylan Dawn Madeleine Catherine Chase Jesse James Grace Anne Emilie Jack No\\\\u2026\", \"It\\'s never too early to make a plan! \\\\ud83d\\\\uddf3 https://t.co/t3sQvXdFUw\", \"Your vote helped make history! \\\\ud83d\\\\ude0ehttps://t.co/pAq2NrWyT4\", \"\\\\\"Our glory, George, was to have had you as our president and as such a friend.\\\\\" -Former Secretary of State James Baker  #Remembering41\", \"Georgia! There\\\\u2019s still time to get out and vote in the Secretary of State Runoff Election.   Find your polling location here \\\\u27a1\\\\ufe0f https://t.co/Vmxvee25ce\", \"Tenemos que detener los ataques de este gobierno contra las comunidades inmigrantes. Los dem\\\\u00f3cratas se oponen a la propuesta de carga p\\\\u00fablica. https://t.co/ETSD3mr3x4\", \"RT @realDonaldTrump: President George H.W. Bush led a long, successful and beautiful life.  Whenever I was with him I saw his absolute joy\\\\u2026\", \"The #TrumpShutdown would hurt the economy and force hundreds of thousands of federal employees to work without pay or be furloughed right before the holidays. https://t.co/NVnacCscW4\", \".@GOPChairwoman joined @RepSeanDuffy for this week\\\\u2019s \\\\u201cPlaidcast\\\\u201d podcast! \\\\u2b07\\\\ufe0f  https://t.co/D4Xy0pbcr9\", \"Thomas Farr has a long history of working against voting rights and workers\\\\u2019 rights. Democrats stand united in opposition, and currently need just one Republican \\\\u201cno\\\\u201d vote to defeat this nomination. https://t.co/H2MA55FZBx\", \"Americans deserve clean air and clean water. https://t.co/0LvxsRPomG\", \"*mic drop* \\\\ud83d\\\\ude0e https://t.co/htT8TFrPvB\", \"RT @RepKatieHill: First tweet on this account is a big one \\\\u2013 I got to deliver the first Dem Weekly Address of the 116th Congress. Our fresh\\\\u2026\", \"RT @GOPChairwoman: .@realDonaldTrump couldn\\\\u2019t have picked a more qualified nominee for attorney general than William Barr.   Just ask the D\\\\u2026\", \"RT @SenThomTillis: Inspiring farewell speech by @senorrinhatch today as he nears the end of his great service to our country. He is truly a\\\\u2026\", \"The Trump administration\\\\u2019s xenophobic policies are hurting innocent people every day. https://t.co/b9cvSyI8K7\", \"Big congrats to @FrankScottJr on becoming Little Rock\\\\u2019s first popularly elected  Black mayor\\\\ud83d\\\\udcaa\\\\ud83c\\\\udfff https://t.co/vPg4RcHDrm\", \"RT @amyklobuchar: I\\\\u2019ve worked in the past to end government shutdowns because they hurt people and cost our country greatly. It\\\\u2019s reckless\\\\u2026\", \"\\\\u201cWhen President George Herbert Walker Bush left office, he left America and the world more peaceful, prosperous, and secure.\\\\u201d -@VP https://t.co/1auQkdT9zB\", \"\\\\u201cThe President\\\\u2019s first and primary duty is to keep the American citizens safe, and he\\\\u2019s trying to do that here.\\\\u201d\\\\u2014@KellyannePolls https://t.co/bhhs3djWHv\", \"\\\\u201cGenerally speaking, we are in a booming economy.\\\\u201d -@kayleighmcenany https://t.co/1bUiI4LCRI\", \"RT @PPact: TODAY is the LAST today to submit a comment opposing the Trump administration\\'s cruel \\\\\"public charge\\\\\" rule, which would force im\\\\u2026\", \"\\\\u201cHe possessed the classic virtues of our civilization and of his faith, the same virtues that express what is really best about this country.\\\\u201d -Former Secretary of State James Baker https://t.co/NrKpf94mNh\", \"Georgia, today is your last day to early vote!  We can\\\\u2019t afford to sit this one out. \\\\ud83d\\\\uddf3 https://t.co/7yV9TkHWUB\", \"Republicans will truly stop at nothing to take away health care from millions of Americans across the country. We need to elect more Democrats to fight back against this assault on quality, affordable care. https://t.co/DGZtzW6r20\", \"Democrats are fighting to protect voting rights for all Americans. https://t.co/2g0iPZN7D9\", \"\\\\u201cThe United States is an extraordinarily generous nation, but this administration will no longer use taxpayer dollars to support governments that consistently fail to address trafficking.\\\\u201d - @IvankaTrump  https://t.co/2VKtzbDiYL\", \"\\\\u201cI wanted to come and visit military families and also the servicemen and women\\\\u2026 it\\'s very important to show them that the President and I and the country\\\\u2014 we are behind them.\\\\u201d -@FLOTUS https://t.co/YKduCGJsYw\", \"RT @SenateGOP: Let\\\\u2019s listen to @SenSchumer\\\\u2019s original take on border security.   We want to know why he\\\\u2019s now playing politics with the saf\\\\u2026\", \"\\\\u201cNot only did he truly exemplify what America is and is fondly remembered by Americans, but he is also fondly remembered by our international community.\\\\u201d -@SenJoniErnst https://t.co/wri4lfC33F\", \"Trump prometi\\\\u00f3 a los votantes en su campa\\\\u00f1a que \\\\\"no perder\\\\u00e1n ninguna planta\\\\\" si fuera elegido. Ahora, GM intenta cerrar plantas en Michigan, Ohio y Maryland, con un recorte de miles de empleos. https://t.co/fjUhIxGb9i\", \"America is WINNING again! https://t.co/rJxyZnhrHf\", \"This 7-year-old girl deserved so much better. We have to find out what went wrong and ensure that nothing like this ever happens again. https://t.co/kN77AXpVPJ\", \"\\\\ud83d\\\\udea8TODAY is your last day to get covered. Here\\'s what we do:   \\\\ud83d\\\\udde3RT to spread the word. \\\\ud83d\\\\udc6fHelp our friends and family get covered.  \\\\ud83d\\\\udcbbGo to https://t.co/ip6DFYGvx9 and sign up right now. https://t.co/sgbssmnE1E\", \"\\\\u201cHere at the White House, we are focused on policy results, we\\\\u2019re focused on President Trump\\'s victories and his commitment to help the American people.\\\\u201d -@mercedesschlapp https://t.co/93ZAfckokf\", \"\\\\u201cIt\\\\u2019s a win-win situation.\\\\u201d -@SecretaryCarson on Opportunity Zones https://t.co/KHHYkYuXOR\", \"RT @SecPompeo: On this #HumanRightsDay, spare a moment to remember the innocent Americans held hostage by #Iran, and their families. The re\\\\u2026\", \"RT @DrLeanaWen: It takes all of us joining together to fight the unconscionable #PublicCharge rule, which is harmful &amp; unjust. I\\\\u2019m here as\\\\u2026\", \"RT to thank @senorrinhatch for 42 years of strong conservative leadership in the Senate! https://t.co/VnkvuNOsf8\", \"\\\\u201cOn behalf of a grateful nation, I just want to say that we thank you, we salute you, and we stand with you 100%.\\\\u201d-@realDonaldTrump https://t.co/AHKqNpr2Rn\", \"How many times do we have to say it? The American people deserve access to quality, affordable health care.  https://t.co/JrD5WG5Llz\", \"La administraci\\\\u00f3n Trump est\\\\u00e1 considerando cobrar a los inmigrantes una tarifa para solicitar la protecci\\\\u00f3n de asilo en los Estados Unidos. Esto es otro intento para poner un fin a nuestra responsabilidad humanitaria con el resto del mundo. https://t.co/LJLC1ee4NF\", \"Thank you for all your hard work and dedication to the RNC, @Paduch.   We look forward to the @realDonaldTrump-endorsed candidate, Tommy Hick\\\\u2019s bid for RNC co-chair! https://t.co/Xm4N3RwWYr\", \"\\\\u201cGeorge H.W. Bush was such a warm and gentle man\\\\u2026 It\\'s great to celebrate a wonderful life.\\\\u201d -@SteveScalise https://t.co/znjvbOqmHx\", \"RT @HealthCareGov: Can you spot the deadline for Open Enrollment? Shop for 2019 Marketplace plans now before you miss it. https://t.co/6gSc\\\\u2026\", \"\\\\u201cJared has been indispensable to this process in navigating through a complex set of relationships and issues.\\\\u201d -Marc H. Morial, president of the National Urban League https://t.co/ynJWJ3tBd1\", \"La administraci\\\\u00f3n Trump ha demostrado que no hay l\\\\u00edmites para la implementaci\\\\u00f3n de su agenda anti-inmigrante. Estos no son los valores de nuestra naci\\\\u00f3n. https://t.co/SCPQMcgOqr\", \"Making our coal industry great again! https://t.co/kTDEC1sM3t\", \"RT @VP: Karen and I were saddened to learn of the passing of President George H.W. Bush and we send our deepest sympathies to the entire Bu\\\\u2026\", \"RT @realDonaldTrump: Statement from President Donald J. Trump and First Lady Melania Trump on the Passing of Former President George H.W. B\\\\u2026\", \"Americans are WINNING again thanks to President @realDonaldTrump\\\\u2019s economy! https://t.co/YEQPUZ8dkR\", \"The open enrollment deadline is just around the corner! It\\'s quick &amp; easy to find a plan that\\'s right for you. Take a few minutes to head over to https://t.co/cUaYP7TbZj and check out all of the coverage options. https://t.co/lOcDNedpM8\"]}'"
      ]
     },
     "execution_count": 23,
     "metadata": {},
     "output_type": "execute_result"
    }
   ],
   "source": [
    "json.dumps(payload)"
   ]
  },
  {
   "cell_type": "code",
   "execution_count": 21,
   "metadata": {},
   "outputs": [
    {
     "ename": "ModelError",
     "evalue": "An error occurred (ModelError) when calling the InvokeEndpoint operation: Received client error (415) from primary with message \"content-type application/octet-stream not supported\". See https://us-east-1.console.aws.amazon.com/cloudwatch/home?region=us-east-1#logEventViewer:group=/aws/sagemaker/Endpoints/blazingtext-2022-02-26-20-07-57-303 in account 258532878709 for more information.",
     "output_type": "error",
     "traceback": [
      "\u001b[0;31m---------------------------------------------------------------------------\u001b[0m",
      "\u001b[0;31mModelError\u001b[0m                                Traceback (most recent call last)",
      "\u001b[0;32m<ipython-input-21-7fcf8145f5dc>\u001b[0m in \u001b[0;36m<module>\u001b[0;34m\u001b[0m\n\u001b[1;32m      3\u001b[0m \u001b[0mpayload\u001b[0m \u001b[0;34m=\u001b[0m \u001b[0;34m{\u001b[0m\u001b[0;34m\"instances\"\u001b[0m \u001b[0;34m:\u001b[0m \u001b[0mcorpus_test_no_labels\u001b[0m\u001b[0;34m}\u001b[0m\u001b[0;34m\u001b[0m\u001b[0;34m\u001b[0m\u001b[0m\n\u001b[1;32m      4\u001b[0m \u001b[0;34m\u001b[0m\u001b[0m\n\u001b[0;32m----> 5\u001b[0;31m \u001b[0mresponse\u001b[0m \u001b[0;34m=\u001b[0m \u001b[0mpredictor\u001b[0m\u001b[0;34m.\u001b[0m\u001b[0mpredict\u001b[0m\u001b[0;34m(\u001b[0m\u001b[0mjson\u001b[0m\u001b[0;34m.\u001b[0m\u001b[0mdumps\u001b[0m\u001b[0;34m(\u001b[0m\u001b[0mpayload\u001b[0m\u001b[0;34m)\u001b[0m\u001b[0;34m)\u001b[0m\u001b[0;34m\u001b[0m\u001b[0;34m\u001b[0m\u001b[0m\n\u001b[0m\u001b[1;32m      6\u001b[0m \u001b[0;34m\u001b[0m\u001b[0m\n\u001b[1;32m      7\u001b[0m \u001b[0mpredictions\u001b[0m \u001b[0;34m=\u001b[0m \u001b[0mjson\u001b[0m\u001b[0;34m.\u001b[0m\u001b[0mloads\u001b[0m\u001b[0;34m(\u001b[0m\u001b[0mresponse\u001b[0m\u001b[0;34m)\u001b[0m\u001b[0;34m\u001b[0m\u001b[0;34m\u001b[0m\u001b[0m\n",
      "\u001b[0;32m~/anaconda3/envs/python3/lib/python3.6/site-packages/sagemaker/predictor.py\u001b[0m in \u001b[0;36mpredict\u001b[0;34m(self, data, initial_args, target_model, target_variant, inference_id)\u001b[0m\n\u001b[1;32m    159\u001b[0m             \u001b[0mdata\u001b[0m\u001b[0;34m,\u001b[0m \u001b[0minitial_args\u001b[0m\u001b[0;34m,\u001b[0m \u001b[0mtarget_model\u001b[0m\u001b[0;34m,\u001b[0m \u001b[0mtarget_variant\u001b[0m\u001b[0;34m,\u001b[0m \u001b[0minference_id\u001b[0m\u001b[0;34m\u001b[0m\u001b[0;34m\u001b[0m\u001b[0m\n\u001b[1;32m    160\u001b[0m         )\n\u001b[0;32m--> 161\u001b[0;31m         \u001b[0mresponse\u001b[0m \u001b[0;34m=\u001b[0m \u001b[0mself\u001b[0m\u001b[0;34m.\u001b[0m\u001b[0msagemaker_session\u001b[0m\u001b[0;34m.\u001b[0m\u001b[0msagemaker_runtime_client\u001b[0m\u001b[0;34m.\u001b[0m\u001b[0minvoke_endpoint\u001b[0m\u001b[0;34m(\u001b[0m\u001b[0;34m**\u001b[0m\u001b[0mrequest_args\u001b[0m\u001b[0;34m)\u001b[0m\u001b[0;34m\u001b[0m\u001b[0;34m\u001b[0m\u001b[0m\n\u001b[0m\u001b[1;32m    162\u001b[0m         \u001b[0;32mreturn\u001b[0m \u001b[0mself\u001b[0m\u001b[0;34m.\u001b[0m\u001b[0m_handle_response\u001b[0m\u001b[0;34m(\u001b[0m\u001b[0mresponse\u001b[0m\u001b[0;34m)\u001b[0m\u001b[0;34m\u001b[0m\u001b[0;34m\u001b[0m\u001b[0m\n\u001b[1;32m    163\u001b[0m \u001b[0;34m\u001b[0m\u001b[0m\n",
      "\u001b[0;32m~/anaconda3/envs/python3/lib/python3.6/site-packages/botocore/client.py\u001b[0m in \u001b[0;36m_api_call\u001b[0;34m(self, *args, **kwargs)\u001b[0m\n\u001b[1;32m    389\u001b[0m                     \"%s() only accepts keyword arguments.\" % py_operation_name)\n\u001b[1;32m    390\u001b[0m             \u001b[0;31m# The \"self\" in this scope is referring to the BaseClient.\u001b[0m\u001b[0;34m\u001b[0m\u001b[0;34m\u001b[0m\u001b[0;34m\u001b[0m\u001b[0m\n\u001b[0;32m--> 391\u001b[0;31m             \u001b[0;32mreturn\u001b[0m \u001b[0mself\u001b[0m\u001b[0;34m.\u001b[0m\u001b[0m_make_api_call\u001b[0m\u001b[0;34m(\u001b[0m\u001b[0moperation_name\u001b[0m\u001b[0;34m,\u001b[0m \u001b[0mkwargs\u001b[0m\u001b[0;34m)\u001b[0m\u001b[0;34m\u001b[0m\u001b[0;34m\u001b[0m\u001b[0m\n\u001b[0m\u001b[1;32m    392\u001b[0m \u001b[0;34m\u001b[0m\u001b[0m\n\u001b[1;32m    393\u001b[0m         \u001b[0m_api_call\u001b[0m\u001b[0;34m.\u001b[0m\u001b[0m__name__\u001b[0m \u001b[0;34m=\u001b[0m \u001b[0mstr\u001b[0m\u001b[0;34m(\u001b[0m\u001b[0mpy_operation_name\u001b[0m\u001b[0;34m)\u001b[0m\u001b[0;34m\u001b[0m\u001b[0;34m\u001b[0m\u001b[0m\n",
      "\u001b[0;32m~/anaconda3/envs/python3/lib/python3.6/site-packages/botocore/client.py\u001b[0m in \u001b[0;36m_make_api_call\u001b[0;34m(self, operation_name, api_params)\u001b[0m\n\u001b[1;32m    717\u001b[0m             \u001b[0merror_code\u001b[0m \u001b[0;34m=\u001b[0m \u001b[0mparsed_response\u001b[0m\u001b[0;34m.\u001b[0m\u001b[0mget\u001b[0m\u001b[0;34m(\u001b[0m\u001b[0;34m\"Error\"\u001b[0m\u001b[0;34m,\u001b[0m \u001b[0;34m{\u001b[0m\u001b[0;34m}\u001b[0m\u001b[0;34m)\u001b[0m\u001b[0;34m.\u001b[0m\u001b[0mget\u001b[0m\u001b[0;34m(\u001b[0m\u001b[0;34m\"Code\"\u001b[0m\u001b[0;34m)\u001b[0m\u001b[0;34m\u001b[0m\u001b[0;34m\u001b[0m\u001b[0m\n\u001b[1;32m    718\u001b[0m             \u001b[0merror_class\u001b[0m \u001b[0;34m=\u001b[0m \u001b[0mself\u001b[0m\u001b[0;34m.\u001b[0m\u001b[0mexceptions\u001b[0m\u001b[0;34m.\u001b[0m\u001b[0mfrom_code\u001b[0m\u001b[0;34m(\u001b[0m\u001b[0merror_code\u001b[0m\u001b[0;34m)\u001b[0m\u001b[0;34m\u001b[0m\u001b[0;34m\u001b[0m\u001b[0m\n\u001b[0;32m--> 719\u001b[0;31m             \u001b[0;32mraise\u001b[0m \u001b[0merror_class\u001b[0m\u001b[0;34m(\u001b[0m\u001b[0mparsed_response\u001b[0m\u001b[0;34m,\u001b[0m \u001b[0moperation_name\u001b[0m\u001b[0;34m)\u001b[0m\u001b[0;34m\u001b[0m\u001b[0;34m\u001b[0m\u001b[0m\n\u001b[0m\u001b[1;32m    720\u001b[0m         \u001b[0;32melse\u001b[0m\u001b[0;34m:\u001b[0m\u001b[0;34m\u001b[0m\u001b[0;34m\u001b[0m\u001b[0m\n\u001b[1;32m    721\u001b[0m             \u001b[0;32mreturn\u001b[0m \u001b[0mparsed_response\u001b[0m\u001b[0;34m\u001b[0m\u001b[0;34m\u001b[0m\u001b[0m\n",
      "\u001b[0;31mModelError\u001b[0m: An error occurred (ModelError) when calling the InvokeEndpoint operation: Received client error (415) from primary with message \"content-type application/octet-stream not supported\". See https://us-east-1.console.aws.amazon.com/cloudwatch/home?region=us-east-1#logEventViewer:group=/aws/sagemaker/Endpoints/blazingtext-2022-02-26-20-07-57-303 in account 258532878709 for more information."
     ]
    }
   ],
   "source": [
    "corpus_test_no_labels = [x[11:] for x in corpus_test]\n",
    "\n",
    "payload = {\"instances\" : corpus_test_no_labels}\n",
    "\n",
    "response = predictor.predict(json.dumps(payload))\n",
    "\n",
    "predictions = json.loads(response)\n",
    "print(json.dumps(predictions, indent=2))"
   ]
  },
  {
   "cell_type": "code",
   "execution_count": 24,
   "metadata": {},
   "outputs": [
    {
     "ename": "NameError",
     "evalue": "name 'predictions' is not defined",
     "output_type": "error",
     "traceback": [
      "\u001b[0;31m---------------------------------------------------------------------------\u001b[0m",
      "\u001b[0;31mNameError\u001b[0m                                 Traceback (most recent call last)",
      "\u001b[0;32m<ipython-input-24-dea2a1e156eb>\u001b[0m in \u001b[0;36m<module>\u001b[0;34m\u001b[0m\n\u001b[0;32m----> 1\u001b[0;31m \u001b[0mpredicted_labels\u001b[0m \u001b[0;34m=\u001b[0m \u001b[0;34m[\u001b[0m\u001b[0mprediction\u001b[0m\u001b[0;34m[\u001b[0m\u001b[0;34m'label'\u001b[0m\u001b[0;34m]\u001b[0m\u001b[0;34m[\u001b[0m\u001b[0;36m0\u001b[0m\u001b[0;34m]\u001b[0m \u001b[0;32mfor\u001b[0m \u001b[0mprediction\u001b[0m \u001b[0;32min\u001b[0m \u001b[0mpredictions\u001b[0m\u001b[0;34m]\u001b[0m\u001b[0;34m\u001b[0m\u001b[0;34m\u001b[0m\u001b[0m\n\u001b[0m",
      "\u001b[0;31mNameError\u001b[0m: name 'predictions' is not defined"
     ]
    }
   ],
   "source": [
    "predicted_labels = [prediction['label'][0] for prediction in predictions]\n"
   ]
  },
  {
   "cell_type": "code",
   "execution_count": 17,
   "metadata": {},
   "outputs": [
    {
     "data": {
      "text/plain": [
       "['__label__1', '__label__1', '__label__1', '__label__1']"
      ]
     },
     "execution_count": 17,
     "metadata": {},
     "output_type": "execute_result"
    }
   ],
   "source": [
    "predicted_labels[:4]"
   ]
  },
  {
   "cell_type": "code",
   "execution_count": 18,
   "metadata": {},
   "outputs": [
    {
     "data": {
      "text/plain": [
       "['__label__1', '__label__1', '__label__0', '__label__1']"
      ]
     },
     "execution_count": 18,
     "metadata": {},
     "output_type": "execute_result"
    }
   ],
   "source": [
    "actual_labels = [x[:10] for x in corpus_test]\n",
    "actual_labels[:4]"
   ]
  },
  {
   "cell_type": "code",
   "execution_count": 19,
   "metadata": {},
   "outputs": [
    {
     "data": {
      "text/plain": [
       "[True, True, False, True]"
      ]
     },
     "execution_count": 19,
     "metadata": {},
     "output_type": "execute_result"
    }
   ],
   "source": [
    "matches = [(actual_label == predicted_label) for (actual_label, predicted_label) in zip(actual_labels, predicted_labels)]\n",
    "matches[:4]"
   ]
  },
  {
   "cell_type": "code",
   "execution_count": 20,
   "metadata": {},
   "outputs": [
    {
     "data": {
      "text/plain": [
       "0.62"
      ]
     },
     "execution_count": 20,
     "metadata": {},
     "output_type": "execute_result"
    }
   ],
   "source": [
    "matches.count(True) / len(matches)"
   ]
  },
  {
   "cell_type": "code",
   "execution_count": null,
   "metadata": {},
   "outputs": [],
   "source": []
  }
 ],
 "metadata": {
  "kernelspec": {
   "display_name": "default:Python",
   "language": "python",
   "name": "conda-env-default-py"
  },
  "language_info": {
   "codemirror_mode": {
    "name": "ipython",
    "version": 3
   },
   "file_extension": ".py",
   "mimetype": "text/x-python",
   "name": "python",
   "nbconvert_exporter": "python",
   "pygments_lexer": "ipython3",
   "version": "3.9.7"
  }
 },
 "nbformat": 4,
 "nbformat_minor": 4
}
